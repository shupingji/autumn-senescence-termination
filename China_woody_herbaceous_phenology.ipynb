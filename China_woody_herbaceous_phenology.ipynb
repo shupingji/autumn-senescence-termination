{
 "cells": [
  {
   "cell_type": "code",
   "execution_count": 1,
   "metadata": {
    "collapsed": true
   },
   "outputs": [],
   "source": [
    "import pandas as pd\n",
    "import numpy as np\n",
    "import re"
   ]
  },
  {
   "cell_type": "markdown",
   "source": [
    "#1 数据处理"
   ],
   "metadata": {
    "collapsed": false,
    "pycharm": {
     "name": "#%% md\n"
    }
   }
  },
  {
   "cell_type": "code",
   "execution_count": 26,
   "outputs": [],
   "source": [
    "woody_phen_file = '/data/shuping/data/china_phenology/xls_data_clean/data/woody_phenology.xls'\n",
    "herb_phen_file = '/data/shuping/data/china_phenology/xls_data_clean/data/herb_phenology.xls'"
   ],
   "metadata": {
    "collapsed": false,
    "pycharm": {
     "name": "#%%\n"
    }
   }
  },
  {
   "cell_type": "code",
   "execution_count": 27,
   "outputs": [
    {
     "data": {
      "text/plain": "       year     site species  sos  eos\n0      1981  50639.0    加拿大杨  123  272\n1      1981  50928.0      旱柳  118  258\n2      1981  50928.0    加拿大杨  127  258\n3      1981  50928.0      山榆  132  258\n4      1981  50928.0      山楂  120  258\n...     ...      ...     ...  ...  ...\n24527  2011      NaN      银杏  101  290\n24528  2011      NaN       橙   80  NaN\n24529  2011      NaN      刺槐   65  NaN\n24530  2011      NaN      柑橘   71  277\n24531  2011      NaN      桑树   72  NaN\n\n[24532 rows x 5 columns]",
      "text/html": "<div>\n<style scoped>\n    .dataframe tbody tr th:only-of-type {\n        vertical-align: middle;\n    }\n\n    .dataframe tbody tr th {\n        vertical-align: top;\n    }\n\n    .dataframe thead th {\n        text-align: right;\n    }\n</style>\n<table border=\"1\" class=\"dataframe\">\n  <thead>\n    <tr style=\"text-align: right;\">\n      <th></th>\n      <th>year</th>\n      <th>site</th>\n      <th>species</th>\n      <th>sos</th>\n      <th>eos</th>\n    </tr>\n  </thead>\n  <tbody>\n    <tr>\n      <th>0</th>\n      <td>1981</td>\n      <td>50639.0</td>\n      <td>加拿大杨</td>\n      <td>123</td>\n      <td>272</td>\n    </tr>\n    <tr>\n      <th>1</th>\n      <td>1981</td>\n      <td>50928.0</td>\n      <td>旱柳</td>\n      <td>118</td>\n      <td>258</td>\n    </tr>\n    <tr>\n      <th>2</th>\n      <td>1981</td>\n      <td>50928.0</td>\n      <td>加拿大杨</td>\n      <td>127</td>\n      <td>258</td>\n    </tr>\n    <tr>\n      <th>3</th>\n      <td>1981</td>\n      <td>50928.0</td>\n      <td>山榆</td>\n      <td>132</td>\n      <td>258</td>\n    </tr>\n    <tr>\n      <th>4</th>\n      <td>1981</td>\n      <td>50928.0</td>\n      <td>山楂</td>\n      <td>120</td>\n      <td>258</td>\n    </tr>\n    <tr>\n      <th>...</th>\n      <td>...</td>\n      <td>...</td>\n      <td>...</td>\n      <td>...</td>\n      <td>...</td>\n    </tr>\n    <tr>\n      <th>24527</th>\n      <td>2011</td>\n      <td>NaN</td>\n      <td>银杏</td>\n      <td>101</td>\n      <td>290</td>\n    </tr>\n    <tr>\n      <th>24528</th>\n      <td>2011</td>\n      <td>NaN</td>\n      <td>橙</td>\n      <td>80</td>\n      <td>NaN</td>\n    </tr>\n    <tr>\n      <th>24529</th>\n      <td>2011</td>\n      <td>NaN</td>\n      <td>刺槐</td>\n      <td>65</td>\n      <td>NaN</td>\n    </tr>\n    <tr>\n      <th>24530</th>\n      <td>2011</td>\n      <td>NaN</td>\n      <td>柑橘</td>\n      <td>71</td>\n      <td>277</td>\n    </tr>\n    <tr>\n      <th>24531</th>\n      <td>2011</td>\n      <td>NaN</td>\n      <td>桑树</td>\n      <td>72</td>\n      <td>NaN</td>\n    </tr>\n  </tbody>\n</table>\n<p>24532 rows × 5 columns</p>\n</div>"
     },
     "execution_count": 27,
     "metadata": {},
     "output_type": "execute_result"
    }
   ],
   "source": [
    "woody_ds = pd.read_excel(woody_phen_file)\n",
    "woody_ds.columns = ['year','site','species','sos','eos']\n",
    "woody_ds"
   ],
   "metadata": {
    "collapsed": false,
    "pycharm": {
     "name": "#%%\n"
    }
   }
  },
  {
   "cell_type": "code",
   "execution_count": 28,
   "outputs": [
    {
     "data": {
      "text/plain": "       year     site species  sos  eos\n0      1981  50639.0    加拿大杨  123  272\n1      1981  50928.0      旱柳  118  258\n2      1981  50928.0    加拿大杨  127  258\n3      1981  50928.0      山榆  132  258\n4      1981  50928.0      山楂  120  258\n...     ...      ...     ...  ...  ...\n23544  2007  58433.0      楝树   91  276\n23545  2008  58433.0      楝树   98  297\n23546  2009  58433.0      楝树  105  295\n23547  2010  58433.0      楝树  105  302\n23548  2011  58433.0      楝树  106  305\n\n[17319 rows x 5 columns]",
      "text/html": "<div>\n<style scoped>\n    .dataframe tbody tr th:only-of-type {\n        vertical-align: middle;\n    }\n\n    .dataframe tbody tr th {\n        vertical-align: top;\n    }\n\n    .dataframe thead th {\n        text-align: right;\n    }\n</style>\n<table border=\"1\" class=\"dataframe\">\n  <thead>\n    <tr style=\"text-align: right;\">\n      <th></th>\n      <th>year</th>\n      <th>site</th>\n      <th>species</th>\n      <th>sos</th>\n      <th>eos</th>\n    </tr>\n  </thead>\n  <tbody>\n    <tr>\n      <th>0</th>\n      <td>1981</td>\n      <td>50639.0</td>\n      <td>加拿大杨</td>\n      <td>123</td>\n      <td>272</td>\n    </tr>\n    <tr>\n      <th>1</th>\n      <td>1981</td>\n      <td>50928.0</td>\n      <td>旱柳</td>\n      <td>118</td>\n      <td>258</td>\n    </tr>\n    <tr>\n      <th>2</th>\n      <td>1981</td>\n      <td>50928.0</td>\n      <td>加拿大杨</td>\n      <td>127</td>\n      <td>258</td>\n    </tr>\n    <tr>\n      <th>3</th>\n      <td>1981</td>\n      <td>50928.0</td>\n      <td>山榆</td>\n      <td>132</td>\n      <td>258</td>\n    </tr>\n    <tr>\n      <th>4</th>\n      <td>1981</td>\n      <td>50928.0</td>\n      <td>山楂</td>\n      <td>120</td>\n      <td>258</td>\n    </tr>\n    <tr>\n      <th>...</th>\n      <td>...</td>\n      <td>...</td>\n      <td>...</td>\n      <td>...</td>\n      <td>...</td>\n    </tr>\n    <tr>\n      <th>23544</th>\n      <td>2007</td>\n      <td>58433.0</td>\n      <td>楝树</td>\n      <td>91</td>\n      <td>276</td>\n    </tr>\n    <tr>\n      <th>23545</th>\n      <td>2008</td>\n      <td>58433.0</td>\n      <td>楝树</td>\n      <td>98</td>\n      <td>297</td>\n    </tr>\n    <tr>\n      <th>23546</th>\n      <td>2009</td>\n      <td>58433.0</td>\n      <td>楝树</td>\n      <td>105</td>\n      <td>295</td>\n    </tr>\n    <tr>\n      <th>23547</th>\n      <td>2010</td>\n      <td>58433.0</td>\n      <td>楝树</td>\n      <td>105</td>\n      <td>302</td>\n    </tr>\n    <tr>\n      <th>23548</th>\n      <td>2011</td>\n      <td>58433.0</td>\n      <td>楝树</td>\n      <td>106</td>\n      <td>305</td>\n    </tr>\n  </tbody>\n</table>\n<p>17319 rows × 5 columns</p>\n</div>"
     },
     "execution_count": 28,
     "metadata": {},
     "output_type": "execute_result"
    }
   ],
   "source": [
    "woody_ds = woody_ds.dropna()\n",
    "woody_ds"
   ],
   "metadata": {
    "collapsed": false,
    "pycharm": {
     "name": "#%%\n"
    }
   }
  },
  {
   "cell_type": "code",
   "execution_count": 29,
   "outputs": [
    {
     "name": "stderr",
     "output_type": "stream",
     "text": [
      "/home/sdu-w-001/anaconda3/envs/jsp_gdal/lib/python3.7/site-packages/ipykernel_launcher.py:6: SettingWithCopyWarning: \n",
      "A value is trying to be set on a copy of a slice from a DataFrame.\n",
      "Try using .loc[row_indexer,col_indexer] = value instead\n",
      "\n",
      "See the caveats in the documentation: https://pandas.pydata.org/pandas-docs/stable/user_guide/indexing.html#returning-a-view-versus-a-copy\n",
      "  \n",
      "/home/sdu-w-001/anaconda3/envs/jsp_gdal/lib/python3.7/site-packages/ipykernel_launcher.py:7: SettingWithCopyWarning: \n",
      "A value is trying to be set on a copy of a slice from a DataFrame.\n",
      "Try using .loc[row_indexer,col_indexer] = value instead\n",
      "\n",
      "See the caveats in the documentation: https://pandas.pydata.org/pandas-docs/stable/user_guide/indexing.html#returning-a-view-versus-a-copy\n",
      "  import sys\n"
     ]
    },
    {
     "data": {
      "text/plain": "       year     site species    sos    eos\n0      1981  50639.0    加拿大杨  123.0  272.0\n1      1981  50928.0      旱柳  118.0  258.0\n2      1981  50928.0    加拿大杨  127.0  258.0\n3      1981  50928.0      山榆  132.0  258.0\n4      1981  50928.0      山楂  120.0  258.0\n...     ...      ...     ...    ...    ...\n23544  2007  58433.0      楝树   91.0  276.0\n23545  2008  58433.0      楝树   98.0  297.0\n23546  2009  58433.0      楝树  105.0  295.0\n23547  2010  58433.0      楝树  105.0  302.0\n23548  2011  58433.0      楝树  106.0  305.0\n\n[17319 rows x 5 columns]",
      "text/html": "<div>\n<style scoped>\n    .dataframe tbody tr th:only-of-type {\n        vertical-align: middle;\n    }\n\n    .dataframe tbody tr th {\n        vertical-align: top;\n    }\n\n    .dataframe thead th {\n        text-align: right;\n    }\n</style>\n<table border=\"1\" class=\"dataframe\">\n  <thead>\n    <tr style=\"text-align: right;\">\n      <th></th>\n      <th>year</th>\n      <th>site</th>\n      <th>species</th>\n      <th>sos</th>\n      <th>eos</th>\n    </tr>\n  </thead>\n  <tbody>\n    <tr>\n      <th>0</th>\n      <td>1981</td>\n      <td>50639.0</td>\n      <td>加拿大杨</td>\n      <td>123.0</td>\n      <td>272.0</td>\n    </tr>\n    <tr>\n      <th>1</th>\n      <td>1981</td>\n      <td>50928.0</td>\n      <td>旱柳</td>\n      <td>118.0</td>\n      <td>258.0</td>\n    </tr>\n    <tr>\n      <th>2</th>\n      <td>1981</td>\n      <td>50928.0</td>\n      <td>加拿大杨</td>\n      <td>127.0</td>\n      <td>258.0</td>\n    </tr>\n    <tr>\n      <th>3</th>\n      <td>1981</td>\n      <td>50928.0</td>\n      <td>山榆</td>\n      <td>132.0</td>\n      <td>258.0</td>\n    </tr>\n    <tr>\n      <th>4</th>\n      <td>1981</td>\n      <td>50928.0</td>\n      <td>山楂</td>\n      <td>120.0</td>\n      <td>258.0</td>\n    </tr>\n    <tr>\n      <th>...</th>\n      <td>...</td>\n      <td>...</td>\n      <td>...</td>\n      <td>...</td>\n      <td>...</td>\n    </tr>\n    <tr>\n      <th>23544</th>\n      <td>2007</td>\n      <td>58433.0</td>\n      <td>楝树</td>\n      <td>91.0</td>\n      <td>276.0</td>\n    </tr>\n    <tr>\n      <th>23545</th>\n      <td>2008</td>\n      <td>58433.0</td>\n      <td>楝树</td>\n      <td>98.0</td>\n      <td>297.0</td>\n    </tr>\n    <tr>\n      <th>23546</th>\n      <td>2009</td>\n      <td>58433.0</td>\n      <td>楝树</td>\n      <td>105.0</td>\n      <td>295.0</td>\n    </tr>\n    <tr>\n      <th>23547</th>\n      <td>2010</td>\n      <td>58433.0</td>\n      <td>楝树</td>\n      <td>105.0</td>\n      <td>302.0</td>\n    </tr>\n    <tr>\n      <th>23548</th>\n      <td>2011</td>\n      <td>58433.0</td>\n      <td>楝树</td>\n      <td>106.0</td>\n      <td>305.0</td>\n    </tr>\n  </tbody>\n</table>\n<p>17319 rows × 5 columns</p>\n</div>"
     },
     "execution_count": 29,
     "metadata": {},
     "output_type": "execute_result"
    }
   ],
   "source": [
    "woody_ds_sos= woody_ds['sos'].apply(lambda x: x if re.search(\"^\\d+$\", str(x)) else np.nan)\n",
    "woody_ds_eos= woody_ds['eos'].apply(lambda x: x if re.search(\"^\\d+$\", str(x)) else np.nan)\n",
    "# print(woody_ds_sos[3])\n",
    "woody_ds_sos_df = pd.DataFrame(woody_ds_sos)\n",
    "woody_ds_eos_df = pd.DataFrame(woody_ds_eos)\n",
    "woody_ds['sos'] = woody_ds_sos_df['sos']\n",
    "woody_ds['eos'] = woody_ds_eos_df['eos']\n",
    "woody_ds"
   ],
   "metadata": {
    "collapsed": false,
    "pycharm": {
     "name": "#%%\n"
    }
   }
  },
  {
   "cell_type": "code",
   "execution_count": 30,
   "outputs": [
    {
     "data": {
      "text/plain": "       year     site species    sos    eos\n0      1981  50639.0    加拿大杨  123.0  272.0\n1      1981  50928.0      旱柳  118.0  258.0\n2      1981  50928.0    加拿大杨  127.0  258.0\n3      1981  50928.0      山榆  132.0  258.0\n4      1981  50928.0      山楂  120.0  258.0\n...     ...      ...     ...    ...    ...\n23544  2007  58433.0      楝树   91.0  276.0\n23545  2008  58433.0      楝树   98.0  297.0\n23546  2009  58433.0      楝树  105.0  295.0\n23547  2010  58433.0      楝树  105.0  302.0\n23548  2011  58433.0      楝树  106.0  305.0\n\n[17301 rows x 5 columns]",
      "text/html": "<div>\n<style scoped>\n    .dataframe tbody tr th:only-of-type {\n        vertical-align: middle;\n    }\n\n    .dataframe tbody tr th {\n        vertical-align: top;\n    }\n\n    .dataframe thead th {\n        text-align: right;\n    }\n</style>\n<table border=\"1\" class=\"dataframe\">\n  <thead>\n    <tr style=\"text-align: right;\">\n      <th></th>\n      <th>year</th>\n      <th>site</th>\n      <th>species</th>\n      <th>sos</th>\n      <th>eos</th>\n    </tr>\n  </thead>\n  <tbody>\n    <tr>\n      <th>0</th>\n      <td>1981</td>\n      <td>50639.0</td>\n      <td>加拿大杨</td>\n      <td>123.0</td>\n      <td>272.0</td>\n    </tr>\n    <tr>\n      <th>1</th>\n      <td>1981</td>\n      <td>50928.0</td>\n      <td>旱柳</td>\n      <td>118.0</td>\n      <td>258.0</td>\n    </tr>\n    <tr>\n      <th>2</th>\n      <td>1981</td>\n      <td>50928.0</td>\n      <td>加拿大杨</td>\n      <td>127.0</td>\n      <td>258.0</td>\n    </tr>\n    <tr>\n      <th>3</th>\n      <td>1981</td>\n      <td>50928.0</td>\n      <td>山榆</td>\n      <td>132.0</td>\n      <td>258.0</td>\n    </tr>\n    <tr>\n      <th>4</th>\n      <td>1981</td>\n      <td>50928.0</td>\n      <td>山楂</td>\n      <td>120.0</td>\n      <td>258.0</td>\n    </tr>\n    <tr>\n      <th>...</th>\n      <td>...</td>\n      <td>...</td>\n      <td>...</td>\n      <td>...</td>\n      <td>...</td>\n    </tr>\n    <tr>\n      <th>23544</th>\n      <td>2007</td>\n      <td>58433.0</td>\n      <td>楝树</td>\n      <td>91.0</td>\n      <td>276.0</td>\n    </tr>\n    <tr>\n      <th>23545</th>\n      <td>2008</td>\n      <td>58433.0</td>\n      <td>楝树</td>\n      <td>98.0</td>\n      <td>297.0</td>\n    </tr>\n    <tr>\n      <th>23546</th>\n      <td>2009</td>\n      <td>58433.0</td>\n      <td>楝树</td>\n      <td>105.0</td>\n      <td>295.0</td>\n    </tr>\n    <tr>\n      <th>23547</th>\n      <td>2010</td>\n      <td>58433.0</td>\n      <td>楝树</td>\n      <td>105.0</td>\n      <td>302.0</td>\n    </tr>\n    <tr>\n      <th>23548</th>\n      <td>2011</td>\n      <td>58433.0</td>\n      <td>楝树</td>\n      <td>106.0</td>\n      <td>305.0</td>\n    </tr>\n  </tbody>\n</table>\n<p>17301 rows × 5 columns</p>\n</div>"
     },
     "execution_count": 30,
     "metadata": {},
     "output_type": "execute_result"
    }
   ],
   "source": [
    "woody_ds = woody_ds.dropna()\n",
    "woody_ds.to_csv('/data/shuping/data/china_phenology/xls_data_clean/woody_phenology_clean.csv')\n",
    "woody_ds"
   ],
   "metadata": {
    "collapsed": false,
    "pycharm": {
     "name": "#%%\n"
    }
   }
  },
  {
   "cell_type": "code",
   "execution_count": 13,
   "outputs": [
    {
     "data": {
      "text/plain": "       year   site  species    sos    eos\n0      1990  50353        7  127.0  257.0\n1      1991  50353        7  123.0  256.0\n2      1992  50353        7  125.0  255.0\n3      1993  50353        7  122.0  252.0\n4      1994  50353        7  127.0  257.0\n...     ...    ...      ...    ...    ...\n10975  2010  54326        7   92.0  300.0\n10976  2011  54326        7  103.0  287.0\n10977  1984  54326        7   92.0  295.0\n10978  1985  54326        7   95.0  290.0\n10979  1986  54326        7   94.0  298.0\n\n[10980 rows x 5 columns]",
      "text/html": "<div>\n<style scoped>\n    .dataframe tbody tr th:only-of-type {\n        vertical-align: middle;\n    }\n\n    .dataframe tbody tr th {\n        vertical-align: top;\n    }\n\n    .dataframe thead th {\n        text-align: right;\n    }\n</style>\n<table border=\"1\" class=\"dataframe\">\n  <thead>\n    <tr style=\"text-align: right;\">\n      <th></th>\n      <th>year</th>\n      <th>site</th>\n      <th>species</th>\n      <th>sos</th>\n      <th>eos</th>\n    </tr>\n  </thead>\n  <tbody>\n    <tr>\n      <th>0</th>\n      <td>1990</td>\n      <td>50353</td>\n      <td>7</td>\n      <td>127.0</td>\n      <td>257.0</td>\n    </tr>\n    <tr>\n      <th>1</th>\n      <td>1991</td>\n      <td>50353</td>\n      <td>7</td>\n      <td>123.0</td>\n      <td>256.0</td>\n    </tr>\n    <tr>\n      <th>2</th>\n      <td>1992</td>\n      <td>50353</td>\n      <td>7</td>\n      <td>125.0</td>\n      <td>255.0</td>\n    </tr>\n    <tr>\n      <th>3</th>\n      <td>1993</td>\n      <td>50353</td>\n      <td>7</td>\n      <td>122.0</td>\n      <td>252.0</td>\n    </tr>\n    <tr>\n      <th>4</th>\n      <td>1994</td>\n      <td>50353</td>\n      <td>7</td>\n      <td>127.0</td>\n      <td>257.0</td>\n    </tr>\n    <tr>\n      <th>...</th>\n      <td>...</td>\n      <td>...</td>\n      <td>...</td>\n      <td>...</td>\n      <td>...</td>\n    </tr>\n    <tr>\n      <th>10975</th>\n      <td>2010</td>\n      <td>54326</td>\n      <td>7</td>\n      <td>92.0</td>\n      <td>300.0</td>\n    </tr>\n    <tr>\n      <th>10976</th>\n      <td>2011</td>\n      <td>54326</td>\n      <td>7</td>\n      <td>103.0</td>\n      <td>287.0</td>\n    </tr>\n    <tr>\n      <th>10977</th>\n      <td>1984</td>\n      <td>54326</td>\n      <td>7</td>\n      <td>92.0</td>\n      <td>295.0</td>\n    </tr>\n    <tr>\n      <th>10978</th>\n      <td>1985</td>\n      <td>54326</td>\n      <td>7</td>\n      <td>95.0</td>\n      <td>290.0</td>\n    </tr>\n    <tr>\n      <th>10979</th>\n      <td>1986</td>\n      <td>54326</td>\n      <td>7</td>\n      <td>94.0</td>\n      <td>298.0</td>\n    </tr>\n  </tbody>\n</table>\n<p>10980 rows × 5 columns</p>\n</div>"
     },
     "execution_count": 13,
     "metadata": {},
     "output_type": "execute_result"
    }
   ],
   "source": [
    "herb_ds = pd.read_excel(herb_phen_file)\n",
    "herb_ds.columns = ['year','site','species','sos','eos']\n",
    "herb_ds"
   ],
   "metadata": {
    "collapsed": false,
    "pycharm": {
     "name": "#%%\n"
    }
   }
  },
  {
   "cell_type": "code",
   "execution_count": 15,
   "outputs": [
    {
     "data": {
      "text/plain": "       year   site  species    sos    eos\n0      1990  50353        7  127.0  257.0\n1      1991  50353        7  123.0  256.0\n2      1992  50353        7  125.0  255.0\n3      1993  50353        7  122.0  252.0\n4      1994  50353        7  127.0  257.0\n...     ...    ...      ...    ...    ...\n10975  2010  54326        7   92.0  300.0\n10976  2011  54326        7  103.0  287.0\n10977  1984  54326        7   92.0  295.0\n10978  1985  54326        7   95.0  290.0\n10979  1986  54326        7   94.0  298.0\n\n[10731 rows x 5 columns]",
      "text/html": "<div>\n<style scoped>\n    .dataframe tbody tr th:only-of-type {\n        vertical-align: middle;\n    }\n\n    .dataframe tbody tr th {\n        vertical-align: top;\n    }\n\n    .dataframe thead th {\n        text-align: right;\n    }\n</style>\n<table border=\"1\" class=\"dataframe\">\n  <thead>\n    <tr style=\"text-align: right;\">\n      <th></th>\n      <th>year</th>\n      <th>site</th>\n      <th>species</th>\n      <th>sos</th>\n      <th>eos</th>\n    </tr>\n  </thead>\n  <tbody>\n    <tr>\n      <th>0</th>\n      <td>1990</td>\n      <td>50353</td>\n      <td>7</td>\n      <td>127.0</td>\n      <td>257.0</td>\n    </tr>\n    <tr>\n      <th>1</th>\n      <td>1991</td>\n      <td>50353</td>\n      <td>7</td>\n      <td>123.0</td>\n      <td>256.0</td>\n    </tr>\n    <tr>\n      <th>2</th>\n      <td>1992</td>\n      <td>50353</td>\n      <td>7</td>\n      <td>125.0</td>\n      <td>255.0</td>\n    </tr>\n    <tr>\n      <th>3</th>\n      <td>1993</td>\n      <td>50353</td>\n      <td>7</td>\n      <td>122.0</td>\n      <td>252.0</td>\n    </tr>\n    <tr>\n      <th>4</th>\n      <td>1994</td>\n      <td>50353</td>\n      <td>7</td>\n      <td>127.0</td>\n      <td>257.0</td>\n    </tr>\n    <tr>\n      <th>...</th>\n      <td>...</td>\n      <td>...</td>\n      <td>...</td>\n      <td>...</td>\n      <td>...</td>\n    </tr>\n    <tr>\n      <th>10975</th>\n      <td>2010</td>\n      <td>54326</td>\n      <td>7</td>\n      <td>92.0</td>\n      <td>300.0</td>\n    </tr>\n    <tr>\n      <th>10976</th>\n      <td>2011</td>\n      <td>54326</td>\n      <td>7</td>\n      <td>103.0</td>\n      <td>287.0</td>\n    </tr>\n    <tr>\n      <th>10977</th>\n      <td>1984</td>\n      <td>54326</td>\n      <td>7</td>\n      <td>92.0</td>\n      <td>295.0</td>\n    </tr>\n    <tr>\n      <th>10978</th>\n      <td>1985</td>\n      <td>54326</td>\n      <td>7</td>\n      <td>95.0</td>\n      <td>290.0</td>\n    </tr>\n    <tr>\n      <th>10979</th>\n      <td>1986</td>\n      <td>54326</td>\n      <td>7</td>\n      <td>94.0</td>\n      <td>298.0</td>\n    </tr>\n  </tbody>\n</table>\n<p>10731 rows × 5 columns</p>\n</div>"
     },
     "execution_count": 15,
     "metadata": {},
     "output_type": "execute_result"
    }
   ],
   "source": [
    "herb_ds = herb_ds.dropna()\n",
    "herb_ds.to_csv('/data/shuping/data/china_phenology/xls_data_clean/herb_phenology_clean.csv')\n",
    "herb_ds"
   ],
   "metadata": {
    "collapsed": false,
    "pycharm": {
     "name": "#%%\n"
    }
   }
  },
  {
   "cell_type": "markdown",
   "source": [
    "#2 简单相关"
   ],
   "metadata": {
    "collapsed": false,
    "pycharm": {
     "name": "#%% md\n"
    }
   }
  },
  {
   "cell_type": "code",
   "execution_count": 62,
   "outputs": [],
   "source": [
    "from scipy import stats"
   ],
   "metadata": {
    "collapsed": false,
    "pycharm": {
     "name": "#%%\n"
    }
   }
  },
  {
   "cell_type": "markdown",
   "source": [
    "## 6-year"
   ],
   "metadata": {
    "collapsed": false,
    "pycharm": {
     "name": "#%% md\n"
    }
   }
  },
  {
   "cell_type": "code",
   "execution_count": 151,
   "outputs": [
    {
     "data": {
      "text/plain": "       site species   spear_r  spear_p_value    pear_r  pear_p_value\n0     50639    加拿大杨 -0.011099       0.969961 -0.209057      0.473202\n1     50639     沙果树  0.392157       0.207370  0.403688      0.193131\n2     50639      榆树  0.361422       0.090172  0.084195      0.702501\n3     50639     紫丁香  0.704648       0.034039  0.687576      0.040674\n4     50639      杏树 -0.019703       0.966558 -0.412568      0.357656\n...     ...     ...       ...            ...       ...           ...\n1053  58433      刺槐  0.230048       0.221341  0.228891      0.223737\n1054  58433      楝树  0.314914       0.090075  0.267172      0.153501\n1055  53923      白梨  0.294993       0.152276  0.284689      0.167800\n1056  53923      苹果  0.195733       0.348413  0.115147      0.583631\n1057  53923     小叶杨  0.470156       0.066102  0.420133      0.105183\n\n[1058 rows x 6 columns]",
      "text/html": "<div>\n<style scoped>\n    .dataframe tbody tr th:only-of-type {\n        vertical-align: middle;\n    }\n\n    .dataframe tbody tr th {\n        vertical-align: top;\n    }\n\n    .dataframe thead th {\n        text-align: right;\n    }\n</style>\n<table border=\"1\" class=\"dataframe\">\n  <thead>\n    <tr style=\"text-align: right;\">\n      <th></th>\n      <th>site</th>\n      <th>species</th>\n      <th>spear_r</th>\n      <th>spear_p_value</th>\n      <th>pear_r</th>\n      <th>pear_p_value</th>\n    </tr>\n  </thead>\n  <tbody>\n    <tr>\n      <th>0</th>\n      <td>50639</td>\n      <td>加拿大杨</td>\n      <td>-0.011099</td>\n      <td>0.969961</td>\n      <td>-0.209057</td>\n      <td>0.473202</td>\n    </tr>\n    <tr>\n      <th>1</th>\n      <td>50639</td>\n      <td>沙果树</td>\n      <td>0.392157</td>\n      <td>0.207370</td>\n      <td>0.403688</td>\n      <td>0.193131</td>\n    </tr>\n    <tr>\n      <th>2</th>\n      <td>50639</td>\n      <td>榆树</td>\n      <td>0.361422</td>\n      <td>0.090172</td>\n      <td>0.084195</td>\n      <td>0.702501</td>\n    </tr>\n    <tr>\n      <th>3</th>\n      <td>50639</td>\n      <td>紫丁香</td>\n      <td>0.704648</td>\n      <td>0.034039</td>\n      <td>0.687576</td>\n      <td>0.040674</td>\n    </tr>\n    <tr>\n      <th>4</th>\n      <td>50639</td>\n      <td>杏树</td>\n      <td>-0.019703</td>\n      <td>0.966558</td>\n      <td>-0.412568</td>\n      <td>0.357656</td>\n    </tr>\n    <tr>\n      <th>...</th>\n      <td>...</td>\n      <td>...</td>\n      <td>...</td>\n      <td>...</td>\n      <td>...</td>\n      <td>...</td>\n    </tr>\n    <tr>\n      <th>1053</th>\n      <td>58433</td>\n      <td>刺槐</td>\n      <td>0.230048</td>\n      <td>0.221341</td>\n      <td>0.228891</td>\n      <td>0.223737</td>\n    </tr>\n    <tr>\n      <th>1054</th>\n      <td>58433</td>\n      <td>楝树</td>\n      <td>0.314914</td>\n      <td>0.090075</td>\n      <td>0.267172</td>\n      <td>0.153501</td>\n    </tr>\n    <tr>\n      <th>1055</th>\n      <td>53923</td>\n      <td>白梨</td>\n      <td>0.294993</td>\n      <td>0.152276</td>\n      <td>0.284689</td>\n      <td>0.167800</td>\n    </tr>\n    <tr>\n      <th>1056</th>\n      <td>53923</td>\n      <td>苹果</td>\n      <td>0.195733</td>\n      <td>0.348413</td>\n      <td>0.115147</td>\n      <td>0.583631</td>\n    </tr>\n    <tr>\n      <th>1057</th>\n      <td>53923</td>\n      <td>小叶杨</td>\n      <td>0.470156</td>\n      <td>0.066102</td>\n      <td>0.420133</td>\n      <td>0.105183</td>\n    </tr>\n  </tbody>\n</table>\n<p>1058 rows × 6 columns</p>\n</div>"
     },
     "execution_count": 151,
     "metadata": {},
     "output_type": "execute_result"
    }
   ],
   "source": [
    "all_site_number = woody_ds['site'].nunique()#返回不同值的数值\n",
    "all_site = woody_ds['site'].unique()#返回对应列的不同值\n",
    "corr_woody = pd.DataFrame(columns=['site', 'species', 'spear_r', 'spear_p_value', 'pear_r', 'pear_p_value'])\n",
    "for i in range(len(all_site)):\n",
    "    single_site = woody_ds[woody_ds.site == all_site[i]]\n",
    "    species = single_site['species'].unique()\n",
    "    for j in range(len(species)):\n",
    "        site_species = single_site[single_site.species == species[j]]\n",
    "        a = int(site_species.shape[0])\n",
    "        if a >= 6:\n",
    "            r0, p0 = stats.spearmanr(site_species['sos'], site_species['eos'])\n",
    "            r1, p1 = stats.pearsonr(site_species['sos'], site_species['eos'])\n",
    "            corr_woody = corr_woody.append(pd.DataFrame({'site':[int(all_site[i])],'species':[species[j]],'spear_r':[r0],\n",
    "                                                       'spear_p_value':[p0],'pear_r':[r1],'pear_p_value':[p1]}), ignore_index=True)\n",
    "corr_woody.to_csv('/data/shuping/data/china_phenology/6year/6_year_corr_woody.csv', encoding='utf_8_sig')\n",
    "corr_woody"
   ],
   "metadata": {
    "collapsed": false,
    "pycharm": {
     "name": "#%%\n"
    }
   }
  },
  {
   "cell_type": "code",
   "execution_count": 68,
   "outputs": [
    {
     "data": {
      "text/plain": "      site species   spear_r  spear_p_value    pear_r  pear_p_value\n0    50353       7 -0.177562       0.429214 -0.175998      0.433356\n1    50425       7  0.645943       0.000487  0.368548      0.069860\n2    50425      33  0.702653       0.001658  0.724295      0.001009\n3    50425      36  0.427411       0.026167  0.031154      0.877408\n4    50425      37  0.636364       0.124400  0.783068      0.037310\n..     ...     ...       ...            ...       ...           ...\n496  58319      36 -0.420638       0.032374 -0.332623      0.096854\n497  58346       7 -0.448041       0.124685 -0.791207      0.001275\n498  58346      45  0.587115       0.010417  0.688381      0.001586\n499  57476      36  0.056867       0.853602 -0.429367      0.143147\n500  54326       7 -0.082569       0.809284  0.044240      0.897235\n\n[501 rows x 6 columns]",
      "text/html": "<div>\n<style scoped>\n    .dataframe tbody tr th:only-of-type {\n        vertical-align: middle;\n    }\n\n    .dataframe tbody tr th {\n        vertical-align: top;\n    }\n\n    .dataframe thead th {\n        text-align: right;\n    }\n</style>\n<table border=\"1\" class=\"dataframe\">\n  <thead>\n    <tr style=\"text-align: right;\">\n      <th></th>\n      <th>site</th>\n      <th>species</th>\n      <th>spear_r</th>\n      <th>spear_p_value</th>\n      <th>pear_r</th>\n      <th>pear_p_value</th>\n    </tr>\n  </thead>\n  <tbody>\n    <tr>\n      <th>0</th>\n      <td>50353</td>\n      <td>7</td>\n      <td>-0.177562</td>\n      <td>0.429214</td>\n      <td>-0.175998</td>\n      <td>0.433356</td>\n    </tr>\n    <tr>\n      <th>1</th>\n      <td>50425</td>\n      <td>7</td>\n      <td>0.645943</td>\n      <td>0.000487</td>\n      <td>0.368548</td>\n      <td>0.069860</td>\n    </tr>\n    <tr>\n      <th>2</th>\n      <td>50425</td>\n      <td>33</td>\n      <td>0.702653</td>\n      <td>0.001658</td>\n      <td>0.724295</td>\n      <td>0.001009</td>\n    </tr>\n    <tr>\n      <th>3</th>\n      <td>50425</td>\n      <td>36</td>\n      <td>0.427411</td>\n      <td>0.026167</td>\n      <td>0.031154</td>\n      <td>0.877408</td>\n    </tr>\n    <tr>\n      <th>4</th>\n      <td>50425</td>\n      <td>37</td>\n      <td>0.636364</td>\n      <td>0.124400</td>\n      <td>0.783068</td>\n      <td>0.037310</td>\n    </tr>\n    <tr>\n      <th>...</th>\n      <td>...</td>\n      <td>...</td>\n      <td>...</td>\n      <td>...</td>\n      <td>...</td>\n      <td>...</td>\n    </tr>\n    <tr>\n      <th>496</th>\n      <td>58319</td>\n      <td>36</td>\n      <td>-0.420638</td>\n      <td>0.032374</td>\n      <td>-0.332623</td>\n      <td>0.096854</td>\n    </tr>\n    <tr>\n      <th>497</th>\n      <td>58346</td>\n      <td>7</td>\n      <td>-0.448041</td>\n      <td>0.124685</td>\n      <td>-0.791207</td>\n      <td>0.001275</td>\n    </tr>\n    <tr>\n      <th>498</th>\n      <td>58346</td>\n      <td>45</td>\n      <td>0.587115</td>\n      <td>0.010417</td>\n      <td>0.688381</td>\n      <td>0.001586</td>\n    </tr>\n    <tr>\n      <th>499</th>\n      <td>57476</td>\n      <td>36</td>\n      <td>0.056867</td>\n      <td>0.853602</td>\n      <td>-0.429367</td>\n      <td>0.143147</td>\n    </tr>\n    <tr>\n      <th>500</th>\n      <td>54326</td>\n      <td>7</td>\n      <td>-0.082569</td>\n      <td>0.809284</td>\n      <td>0.044240</td>\n      <td>0.897235</td>\n    </tr>\n  </tbody>\n</table>\n<p>501 rows × 6 columns</p>\n</div>"
     },
     "execution_count": 68,
     "metadata": {},
     "output_type": "execute_result"
    }
   ],
   "source": [
    "all_site_number = herb_ds['site'].nunique()#返回不同值的数值\n",
    "all_site = herb_ds['site'].unique()#返回对应列的不同值\n",
    "corr_herb = pd.DataFrame(columns=['site', 'species', 'spear_r', 'spear_p_value', 'pear_r', 'pear_p_value'])\n",
    "for i in range(len(all_site)):\n",
    "    single_site = herb_ds[herb_ds.site == all_site[i]]\n",
    "    species = single_site['species'].unique()\n",
    "    for j in range(len(species)):\n",
    "        site_species = single_site[single_site.species == species[j]]\n",
    "        a = site_species.shape[0]\n",
    "        if a >=6:\n",
    "            r0, p0 = stats.spearmanr(site_species['sos'], site_species['eos'])\n",
    "            r1, p1 = stats.pearsonr(site_species['sos'], site_species['eos'])\n",
    "            corr_herb = corr_herb.append(pd.DataFrame({'site':[all_site[i]],'species':[species[j]],'spear_r':[r0],\n",
    "                                                       'spear_p_value':[p0],'pear_r':[r1],'pear_p_value':[p1]}),ignore_index=True)\n",
    "corr_herb.to_csv('/data/shuping/data/china_phenology/6year/6_year_corr_herb.csv')\n",
    "corr_herb"
   ],
   "metadata": {
    "collapsed": false,
    "pycharm": {
     "name": "#%%\n"
    }
   }
  },
  {
   "cell_type": "markdown",
   "source": [
    "## 15-year"
   ],
   "metadata": {
    "collapsed": false,
    "pycharm": {
     "name": "#%% md\n"
    }
   }
  },
  {
   "cell_type": "code",
   "execution_count": 153,
   "outputs": [
    {
     "data": {
      "text/plain": "      site species   spear_r  spear_p_value    pear_r  pear_p_value\n0    50639      榆树  0.361422       0.090172  0.084195      0.702501\n1    50928      旱柳  0.037883       0.881367  0.303483      0.220853\n2    50928    加拿大杨  0.218343       0.384072  0.460650      0.054374\n3    50928     小叶杨  0.445946       0.063611  0.425605      0.078253\n4    50936     紫丁香  0.532343       0.033772  0.402034      0.122667\n..     ...     ...       ...            ...       ...           ...\n495  58433      刺槐  0.230048       0.221341  0.228891      0.223737\n496  58433      楝树  0.314914       0.090075  0.267172      0.153501\n497  53923      白梨  0.294993       0.152276  0.284689      0.167800\n498  53923      苹果  0.195733       0.348413  0.115147      0.583631\n499  53923     小叶杨  0.470156       0.066102  0.420133      0.105183\n\n[500 rows x 6 columns]",
      "text/html": "<div>\n<style scoped>\n    .dataframe tbody tr th:only-of-type {\n        vertical-align: middle;\n    }\n\n    .dataframe tbody tr th {\n        vertical-align: top;\n    }\n\n    .dataframe thead th {\n        text-align: right;\n    }\n</style>\n<table border=\"1\" class=\"dataframe\">\n  <thead>\n    <tr style=\"text-align: right;\">\n      <th></th>\n      <th>site</th>\n      <th>species</th>\n      <th>spear_r</th>\n      <th>spear_p_value</th>\n      <th>pear_r</th>\n      <th>pear_p_value</th>\n    </tr>\n  </thead>\n  <tbody>\n    <tr>\n      <th>0</th>\n      <td>50639</td>\n      <td>榆树</td>\n      <td>0.361422</td>\n      <td>0.090172</td>\n      <td>0.084195</td>\n      <td>0.702501</td>\n    </tr>\n    <tr>\n      <th>1</th>\n      <td>50928</td>\n      <td>旱柳</td>\n      <td>0.037883</td>\n      <td>0.881367</td>\n      <td>0.303483</td>\n      <td>0.220853</td>\n    </tr>\n    <tr>\n      <th>2</th>\n      <td>50928</td>\n      <td>加拿大杨</td>\n      <td>0.218343</td>\n      <td>0.384072</td>\n      <td>0.460650</td>\n      <td>0.054374</td>\n    </tr>\n    <tr>\n      <th>3</th>\n      <td>50928</td>\n      <td>小叶杨</td>\n      <td>0.445946</td>\n      <td>0.063611</td>\n      <td>0.425605</td>\n      <td>0.078253</td>\n    </tr>\n    <tr>\n      <th>4</th>\n      <td>50936</td>\n      <td>紫丁香</td>\n      <td>0.532343</td>\n      <td>0.033772</td>\n      <td>0.402034</td>\n      <td>0.122667</td>\n    </tr>\n    <tr>\n      <th>...</th>\n      <td>...</td>\n      <td>...</td>\n      <td>...</td>\n      <td>...</td>\n      <td>...</td>\n      <td>...</td>\n    </tr>\n    <tr>\n      <th>495</th>\n      <td>58433</td>\n      <td>刺槐</td>\n      <td>0.230048</td>\n      <td>0.221341</td>\n      <td>0.228891</td>\n      <td>0.223737</td>\n    </tr>\n    <tr>\n      <th>496</th>\n      <td>58433</td>\n      <td>楝树</td>\n      <td>0.314914</td>\n      <td>0.090075</td>\n      <td>0.267172</td>\n      <td>0.153501</td>\n    </tr>\n    <tr>\n      <th>497</th>\n      <td>53923</td>\n      <td>白梨</td>\n      <td>0.294993</td>\n      <td>0.152276</td>\n      <td>0.284689</td>\n      <td>0.167800</td>\n    </tr>\n    <tr>\n      <th>498</th>\n      <td>53923</td>\n      <td>苹果</td>\n      <td>0.195733</td>\n      <td>0.348413</td>\n      <td>0.115147</td>\n      <td>0.583631</td>\n    </tr>\n    <tr>\n      <th>499</th>\n      <td>53923</td>\n      <td>小叶杨</td>\n      <td>0.470156</td>\n      <td>0.066102</td>\n      <td>0.420133</td>\n      <td>0.105183</td>\n    </tr>\n  </tbody>\n</table>\n<p>500 rows × 6 columns</p>\n</div>"
     },
     "execution_count": 153,
     "metadata": {},
     "output_type": "execute_result"
    }
   ],
   "source": [
    "all_site_number = woody_ds['site'].nunique()#返回不同值的数值\n",
    "all_site = woody_ds['site'].unique()#返回对应列的不同值\n",
    "corr_woody = pd.DataFrame(columns=['site', 'species', 'spear_r', 'spear_p_value', 'pear_r', 'pear_p_value'])\n",
    "for i in range(len(all_site)):\n",
    "    single_site = woody_ds[woody_ds.site == all_site[i]]\n",
    "    species = single_site['species'].unique()\n",
    "    for j in range(len(species)):\n",
    "        site_species = single_site[single_site.species == species[j]]\n",
    "        a = int(site_species.shape[0])\n",
    "        if a >= 15:\n",
    "            r0, p0 = stats.spearmanr(site_species['sos'], site_species['eos'])\n",
    "            r1, p1 = stats.pearsonr(site_species['sos'], site_species['eos'])\n",
    "            corr_woody = corr_woody.append(pd.DataFrame({'site':[int(all_site[i])],'species':[species[j]],'spear_r':[r0],\n",
    "                                                       'spear_p_value':[p0],'pear_r':[r1],'pear_p_value':[p1]}), ignore_index=True)\n",
    "corr_woody.to_csv('/data/shuping/data/china_phenology/15year/15_year_corr_woody.csv', encoding='utf_8_sig')\n",
    "corr_woody"
   ],
   "metadata": {
    "collapsed": false,
    "pycharm": {
     "name": "#%%\n"
    }
   }
  },
  {
   "cell_type": "code",
   "execution_count": 179,
   "outputs": [
    {
     "data": {
      "text/plain": "      site species   spear_r  spear_p_value    pear_r  pear_p_value\n0    50639      榆树  0.361422       0.090172  0.084195      0.702501\n1    50928      旱柳 -0.120222       0.645800  0.143572      0.582503\n2    50928    加拿大杨  0.102294       0.696041  0.345838      0.173919\n3    50928     小叶杨  0.363412       0.151621  0.289513      0.259691\n4    50936     紫丁香  0.485127       0.066805  0.307049      0.265626\n..     ...     ...       ...            ...       ...           ...\n488  58433      刺槐  0.230048       0.221341  0.228891      0.223737\n489  58433      楝树  0.314914       0.090075  0.267172      0.153501\n490  53923      白梨  0.294993       0.152276  0.284689      0.167800\n491  53923      苹果  0.195733       0.348413  0.115147      0.583631\n492  53923     小叶杨  0.470156       0.066102  0.420133      0.105183\n\n[493 rows x 6 columns]",
      "text/html": "<div>\n<style scoped>\n    .dataframe tbody tr th:only-of-type {\n        vertical-align: middle;\n    }\n\n    .dataframe tbody tr th {\n        vertical-align: top;\n    }\n\n    .dataframe thead th {\n        text-align: right;\n    }\n</style>\n<table border=\"1\" class=\"dataframe\">\n  <thead>\n    <tr style=\"text-align: right;\">\n      <th></th>\n      <th>site</th>\n      <th>species</th>\n      <th>spear_r</th>\n      <th>spear_p_value</th>\n      <th>pear_r</th>\n      <th>pear_p_value</th>\n    </tr>\n  </thead>\n  <tbody>\n    <tr>\n      <th>0</th>\n      <td>50639</td>\n      <td>榆树</td>\n      <td>0.361422</td>\n      <td>0.090172</td>\n      <td>0.084195</td>\n      <td>0.702501</td>\n    </tr>\n    <tr>\n      <th>1</th>\n      <td>50928</td>\n      <td>旱柳</td>\n      <td>-0.120222</td>\n      <td>0.645800</td>\n      <td>0.143572</td>\n      <td>0.582503</td>\n    </tr>\n    <tr>\n      <th>2</th>\n      <td>50928</td>\n      <td>加拿大杨</td>\n      <td>0.102294</td>\n      <td>0.696041</td>\n      <td>0.345838</td>\n      <td>0.173919</td>\n    </tr>\n    <tr>\n      <th>3</th>\n      <td>50928</td>\n      <td>小叶杨</td>\n      <td>0.363412</td>\n      <td>0.151621</td>\n      <td>0.289513</td>\n      <td>0.259691</td>\n    </tr>\n    <tr>\n      <th>4</th>\n      <td>50936</td>\n      <td>紫丁香</td>\n      <td>0.485127</td>\n      <td>0.066805</td>\n      <td>0.307049</td>\n      <td>0.265626</td>\n    </tr>\n    <tr>\n      <th>...</th>\n      <td>...</td>\n      <td>...</td>\n      <td>...</td>\n      <td>...</td>\n      <td>...</td>\n      <td>...</td>\n    </tr>\n    <tr>\n      <th>488</th>\n      <td>58433</td>\n      <td>刺槐</td>\n      <td>0.230048</td>\n      <td>0.221341</td>\n      <td>0.228891</td>\n      <td>0.223737</td>\n    </tr>\n    <tr>\n      <th>489</th>\n      <td>58433</td>\n      <td>楝树</td>\n      <td>0.314914</td>\n      <td>0.090075</td>\n      <td>0.267172</td>\n      <td>0.153501</td>\n    </tr>\n    <tr>\n      <th>490</th>\n      <td>53923</td>\n      <td>白梨</td>\n      <td>0.294993</td>\n      <td>0.152276</td>\n      <td>0.284689</td>\n      <td>0.167800</td>\n    </tr>\n    <tr>\n      <th>491</th>\n      <td>53923</td>\n      <td>苹果</td>\n      <td>0.195733</td>\n      <td>0.348413</td>\n      <td>0.115147</td>\n      <td>0.583631</td>\n    </tr>\n    <tr>\n      <th>492</th>\n      <td>53923</td>\n      <td>小叶杨</td>\n      <td>0.470156</td>\n      <td>0.066102</td>\n      <td>0.420133</td>\n      <td>0.105183</td>\n    </tr>\n  </tbody>\n</table>\n<p>493 rows × 6 columns</p>\n</div>"
     },
     "execution_count": 179,
     "metadata": {},
     "output_type": "execute_result"
    }
   ],
   "source": [
    "##1982-2014\n",
    "all_site = woody_ds['site'].unique()#返回对应列的不同值\n",
    "corr_woody = pd.DataFrame(columns=['site', 'species', 'spear_r', 'spear_p_value', 'pear_r', 'pear_p_value'])\n",
    "for i in range(len(all_site)):\n",
    "    single_site = woody_ds[woody_ds.site == all_site[i]]\n",
    "    species = single_site['species'].unique()\n",
    "    for j in range(len(species)):\n",
    "        site_species = single_site[single_site.species == species[j]]\n",
    "        site_species = site_species[site_species['year'] > 1981]\n",
    "        site_species = site_species[site_species['year'] < 2015]\n",
    "        site_species = site_species.reset_index(drop=True)\n",
    "        a = site_species.shape[0]\n",
    "        if a >= 15:\n",
    "            r0, p0 = stats.spearmanr(site_species['sos'], site_species['eos'])\n",
    "            r1, p1 = stats.pearsonr(site_species['sos'], site_species['eos'])\n",
    "            corr_woody = corr_woody.append(pd.DataFrame({'site':[int(all_site[i])],'species':[species[j]],'spear_r':[r0],\n",
    "                                                       'spear_p_value':[p0],'pear_r':[r1],'pear_p_value':[p1]}), ignore_index=True)\n",
    "corr_woody.to_csv('/data/shuping/data/china_phenology/1982_2014/15year/15_year_corr_woody.csv', encoding='utf_8_sig')\n",
    "corr_woody"
   ],
   "metadata": {
    "collapsed": false,
    "pycharm": {
     "name": "#%%\n"
    }
   }
  },
  {
   "cell_type": "code",
   "execution_count": 148,
   "outputs": [
    {
     "data": {
      "text/plain": "      site species   spear_r  spear_p_value    pear_r  pear_p_value\n0    50353       7 -0.177562       0.429214 -0.175998      0.433356\n1    50425       7  0.645943       0.000487  0.368548      0.069860\n2    50425      33  0.702653       0.001658  0.724295      0.001009\n3    50425      36  0.427411       0.026167  0.031154      0.877408\n4    50425      42  0.126914       0.511792  0.114486      0.554282\n..     ...     ...       ...            ...       ...           ...\n396  58208      32 -0.174801       0.373644 -0.174762      0.373753\n397  58269      32 -0.192325       0.367937 -0.178913      0.402884\n398  58319       7  0.523883       0.006016  0.502160      0.008946\n399  58319      36 -0.420638       0.032374 -0.332623      0.096854\n400  58346      45  0.587115       0.010417  0.688381      0.001586\n\n[401 rows x 6 columns]",
      "text/html": "<div>\n<style scoped>\n    .dataframe tbody tr th:only-of-type {\n        vertical-align: middle;\n    }\n\n    .dataframe tbody tr th {\n        vertical-align: top;\n    }\n\n    .dataframe thead th {\n        text-align: right;\n    }\n</style>\n<table border=\"1\" class=\"dataframe\">\n  <thead>\n    <tr style=\"text-align: right;\">\n      <th></th>\n      <th>site</th>\n      <th>species</th>\n      <th>spear_r</th>\n      <th>spear_p_value</th>\n      <th>pear_r</th>\n      <th>pear_p_value</th>\n    </tr>\n  </thead>\n  <tbody>\n    <tr>\n      <th>0</th>\n      <td>50353</td>\n      <td>7</td>\n      <td>-0.177562</td>\n      <td>0.429214</td>\n      <td>-0.175998</td>\n      <td>0.433356</td>\n    </tr>\n    <tr>\n      <th>1</th>\n      <td>50425</td>\n      <td>7</td>\n      <td>0.645943</td>\n      <td>0.000487</td>\n      <td>0.368548</td>\n      <td>0.069860</td>\n    </tr>\n    <tr>\n      <th>2</th>\n      <td>50425</td>\n      <td>33</td>\n      <td>0.702653</td>\n      <td>0.001658</td>\n      <td>0.724295</td>\n      <td>0.001009</td>\n    </tr>\n    <tr>\n      <th>3</th>\n      <td>50425</td>\n      <td>36</td>\n      <td>0.427411</td>\n      <td>0.026167</td>\n      <td>0.031154</td>\n      <td>0.877408</td>\n    </tr>\n    <tr>\n      <th>4</th>\n      <td>50425</td>\n      <td>42</td>\n      <td>0.126914</td>\n      <td>0.511792</td>\n      <td>0.114486</td>\n      <td>0.554282</td>\n    </tr>\n    <tr>\n      <th>...</th>\n      <td>...</td>\n      <td>...</td>\n      <td>...</td>\n      <td>...</td>\n      <td>...</td>\n      <td>...</td>\n    </tr>\n    <tr>\n      <th>396</th>\n      <td>58208</td>\n      <td>32</td>\n      <td>-0.174801</td>\n      <td>0.373644</td>\n      <td>-0.174762</td>\n      <td>0.373753</td>\n    </tr>\n    <tr>\n      <th>397</th>\n      <td>58269</td>\n      <td>32</td>\n      <td>-0.192325</td>\n      <td>0.367937</td>\n      <td>-0.178913</td>\n      <td>0.402884</td>\n    </tr>\n    <tr>\n      <th>398</th>\n      <td>58319</td>\n      <td>7</td>\n      <td>0.523883</td>\n      <td>0.006016</td>\n      <td>0.502160</td>\n      <td>0.008946</td>\n    </tr>\n    <tr>\n      <th>399</th>\n      <td>58319</td>\n      <td>36</td>\n      <td>-0.420638</td>\n      <td>0.032374</td>\n      <td>-0.332623</td>\n      <td>0.096854</td>\n    </tr>\n    <tr>\n      <th>400</th>\n      <td>58346</td>\n      <td>45</td>\n      <td>0.587115</td>\n      <td>0.010417</td>\n      <td>0.688381</td>\n      <td>0.001586</td>\n    </tr>\n  </tbody>\n</table>\n<p>401 rows × 6 columns</p>\n</div>"
     },
     "execution_count": 148,
     "metadata": {},
     "output_type": "execute_result"
    }
   ],
   "source": [
    "all_site_number = herb_ds['site'].nunique()#返回不同值的数值\n",
    "all_site = herb_ds['site'].unique()#返回对应列的不同值\n",
    "corr_herb = pd.DataFrame(columns=['site', 'species', 'spear_r', 'spear_p_value', 'pear_r', 'pear_p_value'])\n",
    "for i in range(len(all_site)):\n",
    "    single_site = herb_ds[herb_ds.site == all_site[i]]\n",
    "    species = single_site['species'].unique()\n",
    "    for j in range(len(species)):\n",
    "        site_species = single_site[single_site.species == species[j]]\n",
    "        a = site_species.shape[0]\n",
    "        if a >=15:\n",
    "            r0, p0 = stats.spearmanr(site_species['sos'], site_species['eos'])\n",
    "            r1, p1 = stats.pearsonr(site_species['sos'], site_species['eos'])\n",
    "            corr_herb = corr_herb.append(pd.DataFrame({'site':[all_site[i]],'species':[species[j]],'spear_r':[r0],\n",
    "                                                       'spear_p_value':[p0],'pear_r':[r1],'pear_p_value':[p1]}),ignore_index=True)\n",
    "corr_herb.to_csv('/data/shuping/data/china_phenology/15year/15_year_corr_herb.csv')\n",
    "corr_herb"
   ],
   "metadata": {
    "collapsed": false,
    "pycharm": {
     "name": "#%%\n"
    }
   }
  },
  {
   "cell_type": "code",
   "execution_count": 178,
   "outputs": [
    {
     "data": {
      "text/plain": "      site species   spear_r  spear_p_value    pear_r  pear_p_value\n0    50353       7 -0.177562       0.429214 -0.175998      0.433356\n1    50425       7  0.645943       0.000487  0.368548      0.069860\n2    50425      33  0.702653       0.001658  0.724295      0.001009\n3    50425      36  0.427411       0.026167  0.031154      0.877408\n4    50425      42  0.126914       0.511792  0.114486      0.554282\n..     ...     ...       ...            ...       ...           ...\n396  58208      32 -0.174801       0.373644 -0.174762      0.373753\n397  58269      32 -0.192325       0.367937 -0.178913      0.402884\n398  58319       7  0.523883       0.006016  0.502160      0.008946\n399  58319      36 -0.420638       0.032374 -0.332623      0.096854\n400  58346      45  0.587115       0.010417  0.688381      0.001586\n\n[401 rows x 6 columns]",
      "text/html": "<div>\n<style scoped>\n    .dataframe tbody tr th:only-of-type {\n        vertical-align: middle;\n    }\n\n    .dataframe tbody tr th {\n        vertical-align: top;\n    }\n\n    .dataframe thead th {\n        text-align: right;\n    }\n</style>\n<table border=\"1\" class=\"dataframe\">\n  <thead>\n    <tr style=\"text-align: right;\">\n      <th></th>\n      <th>site</th>\n      <th>species</th>\n      <th>spear_r</th>\n      <th>spear_p_value</th>\n      <th>pear_r</th>\n      <th>pear_p_value</th>\n    </tr>\n  </thead>\n  <tbody>\n    <tr>\n      <th>0</th>\n      <td>50353</td>\n      <td>7</td>\n      <td>-0.177562</td>\n      <td>0.429214</td>\n      <td>-0.175998</td>\n      <td>0.433356</td>\n    </tr>\n    <tr>\n      <th>1</th>\n      <td>50425</td>\n      <td>7</td>\n      <td>0.645943</td>\n      <td>0.000487</td>\n      <td>0.368548</td>\n      <td>0.069860</td>\n    </tr>\n    <tr>\n      <th>2</th>\n      <td>50425</td>\n      <td>33</td>\n      <td>0.702653</td>\n      <td>0.001658</td>\n      <td>0.724295</td>\n      <td>0.001009</td>\n    </tr>\n    <tr>\n      <th>3</th>\n      <td>50425</td>\n      <td>36</td>\n      <td>0.427411</td>\n      <td>0.026167</td>\n      <td>0.031154</td>\n      <td>0.877408</td>\n    </tr>\n    <tr>\n      <th>4</th>\n      <td>50425</td>\n      <td>42</td>\n      <td>0.126914</td>\n      <td>0.511792</td>\n      <td>0.114486</td>\n      <td>0.554282</td>\n    </tr>\n    <tr>\n      <th>...</th>\n      <td>...</td>\n      <td>...</td>\n      <td>...</td>\n      <td>...</td>\n      <td>...</td>\n      <td>...</td>\n    </tr>\n    <tr>\n      <th>396</th>\n      <td>58208</td>\n      <td>32</td>\n      <td>-0.174801</td>\n      <td>0.373644</td>\n      <td>-0.174762</td>\n      <td>0.373753</td>\n    </tr>\n    <tr>\n      <th>397</th>\n      <td>58269</td>\n      <td>32</td>\n      <td>-0.192325</td>\n      <td>0.367937</td>\n      <td>-0.178913</td>\n      <td>0.402884</td>\n    </tr>\n    <tr>\n      <th>398</th>\n      <td>58319</td>\n      <td>7</td>\n      <td>0.523883</td>\n      <td>0.006016</td>\n      <td>0.502160</td>\n      <td>0.008946</td>\n    </tr>\n    <tr>\n      <th>399</th>\n      <td>58319</td>\n      <td>36</td>\n      <td>-0.420638</td>\n      <td>0.032374</td>\n      <td>-0.332623</td>\n      <td>0.096854</td>\n    </tr>\n    <tr>\n      <th>400</th>\n      <td>58346</td>\n      <td>45</td>\n      <td>0.587115</td>\n      <td>0.010417</td>\n      <td>0.688381</td>\n      <td>0.001586</td>\n    </tr>\n  </tbody>\n</table>\n<p>401 rows × 6 columns</p>\n</div>"
     },
     "execution_count": 178,
     "metadata": {},
     "output_type": "execute_result"
    }
   ],
   "source": [
    "##1982-2014\n",
    "all_site = herb_ds['site'].unique()#返回对应列的不同值\n",
    "corr_herb = pd.DataFrame(columns=['site', 'species', 'spear_r', 'spear_p_value', 'pear_r', 'pear_p_value'])\n",
    "for i in range(len(all_site)):\n",
    "    single_site = herb_ds[herb_ds.site == all_site[i]]\n",
    "    species = single_site['species'].unique()\n",
    "    for j in range(len(species)):\n",
    "        site_species = single_site[single_site.species == species[j]]\n",
    "        site_species = site_species[site_species['year'] > 1981]\n",
    "        site_species = site_species[site_species['year'] < 2015]\n",
    "        site_species = site_species.reset_index(drop=True)\n",
    "        a = site_species.shape[0]\n",
    "        if a >= 15:\n",
    "            r0, p0 = stats.spearmanr(site_species['sos'], site_species['eos'])\n",
    "            r1, p1 = stats.pearsonr(site_species['sos'], site_species['eos'])\n",
    "            corr_herb = corr_herb.append(pd.DataFrame({'site':[int(all_site[i])],'species':[species[j]],'spear_r':[r0],\n",
    "                                                       'spear_p_value':[p0],'pear_r':[r1],'pear_p_value':[p1]}), ignore_index=True)\n",
    "\n",
    "corr_herb.to_csv('/data/shuping/data/china_phenology/1982_2014/15year/15_year_corr_herb.csv', encoding='utf_8_sig')\n",
    "corr_herb"
   ],
   "metadata": {
    "collapsed": false,
    "pycharm": {
     "name": "#%%\n"
    }
   }
  },
  {
   "cell_type": "markdown",
   "source": [
    "##20-year"
   ],
   "metadata": {
    "collapsed": false,
    "pycharm": {
     "name": "#%% md\n"
    }
   }
  },
  {
   "cell_type": "code",
   "execution_count": 156,
   "outputs": [
    {
     "data": {
      "text/plain": "      site species   spear_r  spear_p_value    pear_r  pear_p_value\n0    50639      榆树  0.361422       0.090172  0.084195      0.702501\n1    51076      沙枣 -0.015944       0.942438 -0.073426      0.739171\n2    51076      榆树  0.325745       0.120341  0.426725      0.037567\n3    51133      柳树 -0.089996       0.675800 -0.097681      0.649773\n4    51133      杨树  0.315058       0.125026  0.259325      0.210646\n..     ...     ...       ...            ...       ...           ...\n288  58319     悬铃木  0.073214       0.722261 -0.051632      0.802207\n289  58433      刺槐  0.230048       0.221341  0.228891      0.223737\n290  58433      楝树  0.314914       0.090075  0.267172      0.153501\n291  53923      白梨  0.294993       0.152276  0.284689      0.167800\n292  53923      苹果  0.195733       0.348413  0.115147      0.583631\n\n[293 rows x 6 columns]",
      "text/html": "<div>\n<style scoped>\n    .dataframe tbody tr th:only-of-type {\n        vertical-align: middle;\n    }\n\n    .dataframe tbody tr th {\n        vertical-align: top;\n    }\n\n    .dataframe thead th {\n        text-align: right;\n    }\n</style>\n<table border=\"1\" class=\"dataframe\">\n  <thead>\n    <tr style=\"text-align: right;\">\n      <th></th>\n      <th>site</th>\n      <th>species</th>\n      <th>spear_r</th>\n      <th>spear_p_value</th>\n      <th>pear_r</th>\n      <th>pear_p_value</th>\n    </tr>\n  </thead>\n  <tbody>\n    <tr>\n      <th>0</th>\n      <td>50639</td>\n      <td>榆树</td>\n      <td>0.361422</td>\n      <td>0.090172</td>\n      <td>0.084195</td>\n      <td>0.702501</td>\n    </tr>\n    <tr>\n      <th>1</th>\n      <td>51076</td>\n      <td>沙枣</td>\n      <td>-0.015944</td>\n      <td>0.942438</td>\n      <td>-0.073426</td>\n      <td>0.739171</td>\n    </tr>\n    <tr>\n      <th>2</th>\n      <td>51076</td>\n      <td>榆树</td>\n      <td>0.325745</td>\n      <td>0.120341</td>\n      <td>0.426725</td>\n      <td>0.037567</td>\n    </tr>\n    <tr>\n      <th>3</th>\n      <td>51133</td>\n      <td>柳树</td>\n      <td>-0.089996</td>\n      <td>0.675800</td>\n      <td>-0.097681</td>\n      <td>0.649773</td>\n    </tr>\n    <tr>\n      <th>4</th>\n      <td>51133</td>\n      <td>杨树</td>\n      <td>0.315058</td>\n      <td>0.125026</td>\n      <td>0.259325</td>\n      <td>0.210646</td>\n    </tr>\n    <tr>\n      <th>...</th>\n      <td>...</td>\n      <td>...</td>\n      <td>...</td>\n      <td>...</td>\n      <td>...</td>\n      <td>...</td>\n    </tr>\n    <tr>\n      <th>288</th>\n      <td>58319</td>\n      <td>悬铃木</td>\n      <td>0.073214</td>\n      <td>0.722261</td>\n      <td>-0.051632</td>\n      <td>0.802207</td>\n    </tr>\n    <tr>\n      <th>289</th>\n      <td>58433</td>\n      <td>刺槐</td>\n      <td>0.230048</td>\n      <td>0.221341</td>\n      <td>0.228891</td>\n      <td>0.223737</td>\n    </tr>\n    <tr>\n      <th>290</th>\n      <td>58433</td>\n      <td>楝树</td>\n      <td>0.314914</td>\n      <td>0.090075</td>\n      <td>0.267172</td>\n      <td>0.153501</td>\n    </tr>\n    <tr>\n      <th>291</th>\n      <td>53923</td>\n      <td>白梨</td>\n      <td>0.294993</td>\n      <td>0.152276</td>\n      <td>0.284689</td>\n      <td>0.167800</td>\n    </tr>\n    <tr>\n      <th>292</th>\n      <td>53923</td>\n      <td>苹果</td>\n      <td>0.195733</td>\n      <td>0.348413</td>\n      <td>0.115147</td>\n      <td>0.583631</td>\n    </tr>\n  </tbody>\n</table>\n<p>293 rows × 6 columns</p>\n</div>"
     },
     "execution_count": 156,
     "metadata": {},
     "output_type": "execute_result"
    }
   ],
   "source": [
    "all_site_number = woody_ds['site'].nunique()#返回不同值的数值\n",
    "all_site = woody_ds['site'].unique()#返回对应列的不同值\n",
    "corr_woody = pd.DataFrame(columns=['site', 'species', 'spear_r', 'spear_p_value', 'pear_r', 'pear_p_value'])\n",
    "for i in range(len(all_site)):\n",
    "    single_site = woody_ds[woody_ds.site == all_site[i]]\n",
    "    species = single_site['species'].unique()\n",
    "    for j in range(len(species)):\n",
    "        site_species = single_site[single_site.species == species[j]]\n",
    "        a = int(site_species.shape[0])\n",
    "        if a >= 20:\n",
    "            r0, p0 = stats.spearmanr(site_species['sos'], site_species['eos'])\n",
    "            r1, p1 = stats.pearsonr(site_species['sos'], site_species['eos'])\n",
    "            corr_woody = corr_woody.append(pd.DataFrame({'site':[int(all_site[i])],'species':[species[j]],'spear_r':[r0],\n",
    "                                                       'spear_p_value':[p0],'pear_r':[r1],'pear_p_value':[p1]}), ignore_index=True)\n",
    "corr_woody.to_csv('/data/shuping/data/china_phenology/20year/20_year_corr_woody.csv', encoding='utf_8_sig')\n",
    "corr_woody"
   ],
   "metadata": {
    "collapsed": false,
    "pycharm": {
     "name": "#%%\n"
    }
   }
  },
  {
   "cell_type": "code",
   "execution_count": 157,
   "outputs": [
    {
     "data": {
      "text/plain": "      site species   spear_r  spear_p_value    pear_r  pear_p_value\n0    50353       7 -0.177562       0.429214 -0.175998      0.433356\n1    50425       7  0.645943       0.000487  0.368548      0.069860\n2    50425      36  0.427411       0.026167  0.031154      0.877408\n3    50425      42  0.126914       0.511792  0.114486      0.554282\n4    50425      48 -0.133623       0.489540 -0.127836      0.508704\n..     ...     ...       ...            ...       ...           ...\n310  58208       7 -0.238422       0.181489 -0.158676      0.377787\n311  58208      32 -0.174801       0.373644 -0.174762      0.373753\n312  58269      32 -0.192325       0.367937 -0.178913      0.402884\n313  58319       7  0.523883       0.006016  0.502160      0.008946\n314  58319      36 -0.420638       0.032374 -0.332623      0.096854\n\n[315 rows x 6 columns]",
      "text/html": "<div>\n<style scoped>\n    .dataframe tbody tr th:only-of-type {\n        vertical-align: middle;\n    }\n\n    .dataframe tbody tr th {\n        vertical-align: top;\n    }\n\n    .dataframe thead th {\n        text-align: right;\n    }\n</style>\n<table border=\"1\" class=\"dataframe\">\n  <thead>\n    <tr style=\"text-align: right;\">\n      <th></th>\n      <th>site</th>\n      <th>species</th>\n      <th>spear_r</th>\n      <th>spear_p_value</th>\n      <th>pear_r</th>\n      <th>pear_p_value</th>\n    </tr>\n  </thead>\n  <tbody>\n    <tr>\n      <th>0</th>\n      <td>50353</td>\n      <td>7</td>\n      <td>-0.177562</td>\n      <td>0.429214</td>\n      <td>-0.175998</td>\n      <td>0.433356</td>\n    </tr>\n    <tr>\n      <th>1</th>\n      <td>50425</td>\n      <td>7</td>\n      <td>0.645943</td>\n      <td>0.000487</td>\n      <td>0.368548</td>\n      <td>0.069860</td>\n    </tr>\n    <tr>\n      <th>2</th>\n      <td>50425</td>\n      <td>36</td>\n      <td>0.427411</td>\n      <td>0.026167</td>\n      <td>0.031154</td>\n      <td>0.877408</td>\n    </tr>\n    <tr>\n      <th>3</th>\n      <td>50425</td>\n      <td>42</td>\n      <td>0.126914</td>\n      <td>0.511792</td>\n      <td>0.114486</td>\n      <td>0.554282</td>\n    </tr>\n    <tr>\n      <th>4</th>\n      <td>50425</td>\n      <td>48</td>\n      <td>-0.133623</td>\n      <td>0.489540</td>\n      <td>-0.127836</td>\n      <td>0.508704</td>\n    </tr>\n    <tr>\n      <th>...</th>\n      <td>...</td>\n      <td>...</td>\n      <td>...</td>\n      <td>...</td>\n      <td>...</td>\n      <td>...</td>\n    </tr>\n    <tr>\n      <th>310</th>\n      <td>58208</td>\n      <td>7</td>\n      <td>-0.238422</td>\n      <td>0.181489</td>\n      <td>-0.158676</td>\n      <td>0.377787</td>\n    </tr>\n    <tr>\n      <th>311</th>\n      <td>58208</td>\n      <td>32</td>\n      <td>-0.174801</td>\n      <td>0.373644</td>\n      <td>-0.174762</td>\n      <td>0.373753</td>\n    </tr>\n    <tr>\n      <th>312</th>\n      <td>58269</td>\n      <td>32</td>\n      <td>-0.192325</td>\n      <td>0.367937</td>\n      <td>-0.178913</td>\n      <td>0.402884</td>\n    </tr>\n    <tr>\n      <th>313</th>\n      <td>58319</td>\n      <td>7</td>\n      <td>0.523883</td>\n      <td>0.006016</td>\n      <td>0.502160</td>\n      <td>0.008946</td>\n    </tr>\n    <tr>\n      <th>314</th>\n      <td>58319</td>\n      <td>36</td>\n      <td>-0.420638</td>\n      <td>0.032374</td>\n      <td>-0.332623</td>\n      <td>0.096854</td>\n    </tr>\n  </tbody>\n</table>\n<p>315 rows × 6 columns</p>\n</div>"
     },
     "execution_count": 157,
     "metadata": {},
     "output_type": "execute_result"
    }
   ],
   "source": [
    "all_site_number = herb_ds['site'].nunique()#返回不同值的数值\n",
    "all_site = herb_ds['site'].unique()#返回对应列的不同值\n",
    "corr_herb = pd.DataFrame(columns=['site', 'species', 'spear_r', 'spear_p_value', 'pear_r', 'pear_p_value'])\n",
    "for i in range(len(all_site)):\n",
    "    single_site = herb_ds[herb_ds.site == all_site[i]]\n",
    "    species = single_site['species'].unique()\n",
    "    for j in range(len(species)):\n",
    "        site_species = single_site[single_site.species == species[j]]\n",
    "        a = site_species.shape[0]\n",
    "        if a >=20:\n",
    "            r0, p0 = stats.spearmanr(site_species['sos'], site_species['eos'])\n",
    "            r1, p1 = stats.pearsonr(site_species['sos'], site_species['eos'])\n",
    "            corr_herb = corr_herb.append(pd.DataFrame({'site':[all_site[i]],'species':[species[j]],'spear_r':[r0],\n",
    "                                                       'spear_p_value':[p0],'pear_r':[r1],'pear_p_value':[p1]}),ignore_index=True)\n",
    "corr_herb.to_csv('/data/shuping/data/china_phenology/20year/20_year_corr_herb.csv')\n",
    "corr_herb"
   ],
   "metadata": {
    "collapsed": false,
    "pycharm": {
     "name": "#%%\n"
    }
   }
  },
  {
   "cell_type": "markdown",
   "source": [
    "#3 偏相关 (15year/无gpp)"
   ],
   "metadata": {
    "collapsed": false,
    "pycharm": {
     "name": "#%% md\n"
    }
   }
  },
  {
   "cell_type": "markdown",
   "source": [
    "##读取气候数据"
   ],
   "metadata": {
    "collapsed": false,
    "pycharm": {
     "name": "#%% md\n"
    }
   }
  },
  {
   "cell_type": "code",
   "execution_count": 19,
   "outputs": [],
   "source": [
    "import os\n",
    "import gdal\n",
    "import numpy as np\n",
    "from scipy import stats"
   ],
   "metadata": {
    "collapsed": false,
    "pycharm": {
     "name": "#%%\n"
    }
   }
  },
  {
   "cell_type": "code",
   "execution_count": 20,
   "outputs": [],
   "source": [
    "#读取tif数据集\n",
    "def readTif(fileName):\n",
    "    dataset = gdal.Open(fileName)\n",
    "    if dataset == None:\n",
    "        print(fileName+\"文件无法打开\")\n",
    "    return dataset"
   ],
   "metadata": {
    "collapsed": false,
    "pycharm": {
     "name": "#%%\n"
    }
   }
  },
  {
   "cell_type": "code",
   "execution_count": 21,
   "outputs": [
    {
     "name": "stdout",
     "output_type": "stream",
     "text": [
      "1982-06-tmp-30N.tif\n",
      "1983-06-tmp-30N.tif\n",
      "1984-06-tmp-30N.tif\n",
      "1985-06-tmp-30N.tif\n",
      "1986-06-tmp-30N.tif\n",
      "1987-06-tmp-30N.tif\n",
      "1988-06-tmp-30N.tif\n",
      "1989-06-tmp-30N.tif\n",
      "1990-06-tmp-30N.tif\n",
      "1991-06-tmp-30N.tif\n",
      "1992-06-tmp-30N.tif\n",
      "1993-06-tmp-30N.tif\n",
      "1994-06-tmp-30N.tif\n",
      "1995-06-tmp-30N.tif\n",
      "1996-06-tmp-30N.tif\n",
      "1997-06-tmp-30N.tif\n",
      "1998-06-tmp-30N.tif\n",
      "1999-06-tmp-30N.tif\n",
      "2000-06-tmp-30N.tif\n",
      "2001-06-tmp-30N.tif\n",
      "2002-06-tmp-30N.tif\n",
      "2003-06-tmp-30N.tif\n",
      "2004-06-tmp-30N.tif\n",
      "2005-06-tmp-30N.tif\n",
      "2006-06-tmp-30N.tif\n",
      "2007-06-tmp-30N.tif\n",
      "2008-06-tmp-30N.tif\n",
      "2009-06-tmp-30N.tif\n",
      "2010-06-tmp-30N.tif\n",
      "2011-06-tmp-30N.tif\n",
      "2012-06-tmp-30N.tif\n",
      "2013-06-tmp-30N.tif\n",
      "2014-06-tmp-30N.tif\n",
      "1982-07-tmp-30N.tif\n",
      "1983-07-tmp-30N.tif\n",
      "1984-07-tmp-30N.tif\n",
      "1985-07-tmp-30N.tif\n",
      "1986-07-tmp-30N.tif\n",
      "1987-07-tmp-30N.tif\n",
      "1988-07-tmp-30N.tif\n",
      "1989-07-tmp-30N.tif\n",
      "1990-07-tmp-30N.tif\n",
      "1991-07-tmp-30N.tif\n",
      "1992-07-tmp-30N.tif\n",
      "1993-07-tmp-30N.tif\n",
      "1994-07-tmp-30N.tif\n",
      "1995-07-tmp-30N.tif\n",
      "1996-07-tmp-30N.tif\n",
      "1997-07-tmp-30N.tif\n",
      "1998-07-tmp-30N.tif\n",
      "1999-07-tmp-30N.tif\n",
      "2000-07-tmp-30N.tif\n",
      "2001-07-tmp-30N.tif\n",
      "2002-07-tmp-30N.tif\n",
      "2003-07-tmp-30N.tif\n",
      "2004-07-tmp-30N.tif\n",
      "2005-07-tmp-30N.tif\n",
      "2006-07-tmp-30N.tif\n",
      "2007-07-tmp-30N.tif\n",
      "2008-07-tmp-30N.tif\n",
      "2009-07-tmp-30N.tif\n",
      "2010-07-tmp-30N.tif\n",
      "2011-07-tmp-30N.tif\n",
      "2012-07-tmp-30N.tif\n",
      "2013-07-tmp-30N.tif\n",
      "2014-07-tmp-30N.tif\n",
      "1982-08-tmp-30N.tif\n",
      "1983-08-tmp-30N.tif\n",
      "1984-08-tmp-30N.tif\n",
      "1985-08-tmp-30N.tif\n",
      "1986-08-tmp-30N.tif\n",
      "1987-08-tmp-30N.tif\n",
      "1988-08-tmp-30N.tif\n",
      "1989-08-tmp-30N.tif\n",
      "1990-08-tmp-30N.tif\n",
      "1991-08-tmp-30N.tif\n",
      "1992-08-tmp-30N.tif\n",
      "1993-08-tmp-30N.tif\n",
      "1994-08-tmp-30N.tif\n",
      "1995-08-tmp-30N.tif\n",
      "1996-08-tmp-30N.tif\n",
      "1997-08-tmp-30N.tif\n",
      "1998-08-tmp-30N.tif\n",
      "1999-08-tmp-30N.tif\n",
      "2000-08-tmp-30N.tif\n",
      "2001-08-tmp-30N.tif\n",
      "2002-08-tmp-30N.tif\n",
      "2003-08-tmp-30N.tif\n",
      "2004-08-tmp-30N.tif\n",
      "2005-08-tmp-30N.tif\n",
      "2006-08-tmp-30N.tif\n",
      "2007-08-tmp-30N.tif\n",
      "2008-08-tmp-30N.tif\n",
      "2009-08-tmp-30N.tif\n",
      "2010-08-tmp-30N.tif\n",
      "2011-08-tmp-30N.tif\n",
      "2012-08-tmp-30N.tif\n",
      "2013-08-tmp-30N.tif\n",
      "2014-08-tmp-30N.tif\n",
      "1982-09-tmp-30N.tif\n",
      "1983-09-tmp-30N.tif\n",
      "1984-09-tmp-30N.tif\n",
      "1985-09-tmp-30N.tif\n",
      "1986-09-tmp-30N.tif\n",
      "1987-09-tmp-30N.tif\n",
      "1988-09-tmp-30N.tif\n",
      "1989-09-tmp-30N.tif\n",
      "1990-09-tmp-30N.tif\n",
      "1991-09-tmp-30N.tif\n",
      "1992-09-tmp-30N.tif\n",
      "1993-09-tmp-30N.tif\n",
      "1994-09-tmp-30N.tif\n",
      "1995-09-tmp-30N.tif\n",
      "1996-09-tmp-30N.tif\n",
      "1997-09-tmp-30N.tif\n",
      "1998-09-tmp-30N.tif\n",
      "1999-09-tmp-30N.tif\n",
      "2000-09-tmp-30N.tif\n",
      "2001-09-tmp-30N.tif\n",
      "2002-09-tmp-30N.tif\n",
      "2003-09-tmp-30N.tif\n",
      "2004-09-tmp-30N.tif\n",
      "2005-09-tmp-30N.tif\n",
      "2006-09-tmp-30N.tif\n",
      "2007-09-tmp-30N.tif\n",
      "2008-09-tmp-30N.tif\n",
      "2009-09-tmp-30N.tif\n",
      "2010-09-tmp-30N.tif\n",
      "2011-09-tmp-30N.tif\n",
      "2012-09-tmp-30N.tif\n",
      "2013-09-tmp-30N.tif\n",
      "2014-09-tmp-30N.tif\n",
      "1982-10-tmp-30N.tif\n",
      "1983-10-tmp-30N.tif\n",
      "1984-10-tmp-30N.tif\n",
      "1985-10-tmp-30N.tif\n",
      "1986-10-tmp-30N.tif\n",
      "1987-10-tmp-30N.tif\n",
      "1988-10-tmp-30N.tif\n",
      "1989-10-tmp-30N.tif\n",
      "1990-10-tmp-30N.tif\n",
      "1991-10-tmp-30N.tif\n",
      "1992-10-tmp-30N.tif\n",
      "1993-10-tmp-30N.tif\n",
      "1994-10-tmp-30N.tif\n",
      "1995-10-tmp-30N.tif\n",
      "1996-10-tmp-30N.tif\n",
      "1997-10-tmp-30N.tif\n",
      "1998-10-tmp-30N.tif\n",
      "1999-10-tmp-30N.tif\n",
      "2000-10-tmp-30N.tif\n",
      "2001-10-tmp-30N.tif\n",
      "2002-10-tmp-30N.tif\n",
      "2003-10-tmp-30N.tif\n",
      "2004-10-tmp-30N.tif\n",
      "2005-10-tmp-30N.tif\n",
      "2006-10-tmp-30N.tif\n",
      "2007-10-tmp-30N.tif\n",
      "2008-10-tmp-30N.tif\n",
      "2009-10-tmp-30N.tif\n",
      "2010-10-tmp-30N.tif\n",
      "2011-10-tmp-30N.tif\n",
      "2012-10-tmp-30N.tif\n",
      "2013-10-tmp-30N.tif\n",
      "2014-10-tmp-30N.tif\n",
      "1982-11-tmp-30N.tif\n",
      "1983-11-tmp-30N.tif\n",
      "1984-11-tmp-30N.tif\n",
      "1985-11-tmp-30N.tif\n",
      "1986-11-tmp-30N.tif\n",
      "1987-11-tmp-30N.tif\n",
      "1988-11-tmp-30N.tif\n",
      "1989-11-tmp-30N.tif\n",
      "1990-11-tmp-30N.tif\n",
      "1991-11-tmp-30N.tif\n",
      "1992-11-tmp-30N.tif\n",
      "1993-11-tmp-30N.tif\n",
      "1994-11-tmp-30N.tif\n",
      "1995-11-tmp-30N.tif\n",
      "1996-11-tmp-30N.tif\n",
      "1997-11-tmp-30N.tif\n",
      "1998-11-tmp-30N.tif\n",
      "1999-11-tmp-30N.tif\n",
      "2000-11-tmp-30N.tif\n",
      "2001-11-tmp-30N.tif\n",
      "2002-11-tmp-30N.tif\n",
      "2003-11-tmp-30N.tif\n",
      "2004-11-tmp-30N.tif\n",
      "2005-11-tmp-30N.tif\n",
      "2006-11-tmp-30N.tif\n",
      "2007-11-tmp-30N.tif\n",
      "2008-11-tmp-30N.tif\n",
      "2009-11-tmp-30N.tif\n",
      "2010-11-tmp-30N.tif\n",
      "2011-11-tmp-30N.tif\n",
      "2012-11-tmp-30N.tif\n",
      "2013-11-tmp-30N.tif\n",
      "2014-11-tmp-30N.tif\n",
      "1982-12-tmp-30N.tif\n",
      "1983-12-tmp-30N.tif\n",
      "1984-12-tmp-30N.tif\n",
      "1985-12-tmp-30N.tif\n",
      "1986-12-tmp-30N.tif\n",
      "1987-12-tmp-30N.tif\n",
      "1988-12-tmp-30N.tif\n",
      "1989-12-tmp-30N.tif\n",
      "1990-12-tmp-30N.tif\n",
      "1991-12-tmp-30N.tif\n",
      "1992-12-tmp-30N.tif\n",
      "1993-12-tmp-30N.tif\n",
      "1994-12-tmp-30N.tif\n",
      "1995-12-tmp-30N.tif\n",
      "1996-12-tmp-30N.tif\n",
      "1997-12-tmp-30N.tif\n",
      "1998-12-tmp-30N.tif\n",
      "1999-12-tmp-30N.tif\n",
      "2000-12-tmp-30N.tif\n",
      "2001-12-tmp-30N.tif\n",
      "2002-12-tmp-30N.tif\n",
      "2003-12-tmp-30N.tif\n",
      "2004-12-tmp-30N.tif\n",
      "2005-12-tmp-30N.tif\n",
      "2006-12-tmp-30N.tif\n",
      "2007-12-tmp-30N.tif\n",
      "2008-12-tmp-30N.tif\n",
      "2009-12-tmp-30N.tif\n",
      "2010-12-tmp-30N.tif\n",
      "2011-12-tmp-30N.tif\n",
      "2012-12-tmp-30N.tif\n",
      "2013-12-tmp-30N.tif\n",
      "2014-12-tmp-30N.tif\n"
     ]
    }
   ],
   "source": [
    "#tmean每月三维数组\n",
    "\n",
    "#6月\n",
    "tmean_tifFolder = '/data/shuping/data/climate_data/CRU TS V4.01/tif/clip_30N_0.5/tmean'\n",
    "tmean_6_datasets = np.zeros((33, 120, 720))\n",
    "\n",
    "for m in range(1982, 2015):\n",
    "    tifname = str(m)+ '-06-tmp-30N.tif'\n",
    "    print(tifname)\n",
    "    tmean_tifpath = os.path.join(tmean_tifFolder, str(m), tifname)\n",
    "    tmean_data = readTif(tmean_tifpath)\n",
    "    tmean_dataset = tmean_data.ReadAsArray(0,0,720,120)\n",
    "    a = m-1982\n",
    "    tmean_6_datasets[a] = tmean_dataset\n",
    "    tmean_6_datasets = np.where(tmean_6_datasets == -999, np.nan, tmean_6_datasets)\n",
    "\n",
    "#7月\n",
    "tmean_7_datasets = np.zeros((33, 120, 720))\n",
    "\n",
    "for m in range(1982, 2015):\n",
    "    tifname = str(m)+ '-07-tmp-30N.tif'\n",
    "    print(tifname)\n",
    "    tmean_tifpath = os.path.join(tmean_tifFolder, str(m), tifname)\n",
    "    tmean_data = readTif(tmean_tifpath)\n",
    "    tmean_dataset = tmean_data.ReadAsArray(0,0,720,120)\n",
    "    a = m-1982\n",
    "    tmean_7_datasets[a] = tmean_dataset\n",
    "    tmean_7_datasets = np.where(tmean_7_datasets == -999, np.nan, tmean_7_datasets)\n",
    "\n",
    "#8月\n",
    "tmean_8_datasets = np.zeros((33, 120, 720))\n",
    "\n",
    "for m in range(1982, 2015):\n",
    "    tifname = str(m)+ '-08-tmp-30N.tif'\n",
    "    print(tifname)\n",
    "    tmean_tifpath = os.path.join(tmean_tifFolder, str(m), tifname)\n",
    "    tmean_data = readTif(tmean_tifpath)\n",
    "    tmean_dataset = tmean_data.ReadAsArray(0,0,720,120)\n",
    "    a = m-1982\n",
    "    tmean_8_datasets[a] = tmean_dataset\n",
    "    tmean_8_datasets = np.where(tmean_8_datasets == -999, np.nan, tmean_8_datasets)\n",
    "\n",
    "#9月\n",
    "tmean_9_datasets = np.zeros((33, 120, 720))\n",
    "\n",
    "for m in range(1982, 2015):\n",
    "    tifname = str(m)+ '-09-tmp-30N.tif'\n",
    "    print(tifname)\n",
    "    tmean_tifpath = os.path.join(tmean_tifFolder, str(m), tifname)\n",
    "    tmean_data = readTif(tmean_tifpath)\n",
    "    tmean_dataset = tmean_data.ReadAsArray(0,0,720,120)\n",
    "    a = m-1982\n",
    "    tmean_9_datasets[a] = tmean_dataset\n",
    "    tmean_9_datasets = np.where(tmean_9_datasets == -999, np.nan, tmean_9_datasets)\n",
    "\n",
    "#10月\n",
    "tmean_10_datasets = np.zeros((33, 120, 720))\n",
    "\n",
    "for m in range(1982, 2015):\n",
    "    tifname = str(m)+ '-10-tmp-30N.tif'\n",
    "    print(tifname)\n",
    "    tmean_tifpath = os.path.join(tmean_tifFolder, str(m), tifname)\n",
    "    tmean_data = readTif(tmean_tifpath)\n",
    "    tmean_dataset = tmean_data.ReadAsArray(0,0,720,120)\n",
    "    a = m-1982\n",
    "    tmean_10_datasets[a] = tmean_dataset\n",
    "    tmean_10_datasets = np.where(tmean_10_datasets == -999, np.nan, tmean_10_datasets)\n",
    "\n",
    "#11月\n",
    "tmean_11_datasets = np.zeros((33, 120, 720))\n",
    "\n",
    "for m in range(1982, 2015):\n",
    "    tifname = str(m)+ '-11-tmp-30N.tif'\n",
    "    print(tifname)\n",
    "    tmean_tifpath = os.path.join(tmean_tifFolder, str(m), tifname)\n",
    "    tmean_data = readTif(tmean_tifpath)\n",
    "    tmean_dataset = tmean_data.ReadAsArray(0,0,720,120)\n",
    "    a = m-1982\n",
    "    tmean_11_datasets[a] = tmean_dataset\n",
    "    tmean_11_datasets = np.where(tmean_11_datasets == -999, np.nan, tmean_11_datasets)\n",
    "\n",
    "#12月\n",
    "tmean_12_datasets = np.zeros((33, 120, 720))\n",
    "\n",
    "for m in range(1982, 2015):\n",
    "    tifname = str(m)+ '-12-tmp-30N.tif'\n",
    "    print(tifname)\n",
    "    tmean_tifpath = os.path.join(tmean_tifFolder, str(m), tifname)\n",
    "    tmean_data = readTif(tmean_tifpath)\n",
    "    tmean_dataset = tmean_data.ReadAsArray(0,0,720,120)\n",
    "    a = m-1982\n",
    "    tmean_12_datasets[a] = tmean_dataset\n",
    "    tmean_12_datasets = np.where(tmean_12_datasets == -999, np.nan, tmean_12_datasets)"
   ],
   "metadata": {
    "collapsed": false,
    "pycharm": {
     "name": "#%%\n"
    }
   }
  },
  {
   "cell_type": "code",
   "execution_count": 22,
   "outputs": [
    {
     "name": "stdout",
     "output_type": "stream",
     "text": [
      "1982-06-pre-30N.tif\n",
      "1983-06-pre-30N.tif\n",
      "1984-06-pre-30N.tif\n",
      "1985-06-pre-30N.tif\n",
      "1986-06-pre-30N.tif\n",
      "1987-06-pre-30N.tif\n",
      "1988-06-pre-30N.tif\n",
      "1989-06-pre-30N.tif\n",
      "1990-06-pre-30N.tif\n",
      "1991-06-pre-30N.tif\n",
      "1992-06-pre-30N.tif\n",
      "1993-06-pre-30N.tif\n",
      "1994-06-pre-30N.tif\n",
      "1995-06-pre-30N.tif\n",
      "1996-06-pre-30N.tif\n",
      "1997-06-pre-30N.tif\n",
      "1998-06-pre-30N.tif\n",
      "1999-06-pre-30N.tif\n",
      "2000-06-pre-30N.tif\n",
      "2001-06-pre-30N.tif\n",
      "2002-06-pre-30N.tif\n",
      "2003-06-pre-30N.tif\n",
      "2004-06-pre-30N.tif\n",
      "2005-06-pre-30N.tif\n",
      "2006-06-pre-30N.tif\n",
      "2007-06-pre-30N.tif\n",
      "2008-06-pre-30N.tif\n",
      "2009-06-pre-30N.tif\n",
      "2010-06-pre-30N.tif\n",
      "2011-06-pre-30N.tif\n",
      "2012-06-pre-30N.tif\n",
      "2013-06-pre-30N.tif\n",
      "2014-06-pre-30N.tif\n",
      "1982-07-pre-30N.tif\n",
      "1983-07-pre-30N.tif\n",
      "1984-07-pre-30N.tif\n",
      "1985-07-pre-30N.tif\n",
      "1986-07-pre-30N.tif\n",
      "1987-07-pre-30N.tif\n",
      "1988-07-pre-30N.tif\n",
      "1989-07-pre-30N.tif\n",
      "1990-07-pre-30N.tif\n",
      "1991-07-pre-30N.tif\n",
      "1992-07-pre-30N.tif\n",
      "1993-07-pre-30N.tif\n",
      "1994-07-pre-30N.tif\n",
      "1995-07-pre-30N.tif\n",
      "1996-07-pre-30N.tif\n",
      "1997-07-pre-30N.tif\n",
      "1998-07-pre-30N.tif\n",
      "1999-07-pre-30N.tif\n",
      "2000-07-pre-30N.tif\n",
      "2001-07-pre-30N.tif\n",
      "2002-07-pre-30N.tif\n",
      "2003-07-pre-30N.tif\n",
      "2004-07-pre-30N.tif\n",
      "2005-07-pre-30N.tif\n",
      "2006-07-pre-30N.tif\n",
      "2007-07-pre-30N.tif\n",
      "2008-07-pre-30N.tif\n",
      "2009-07-pre-30N.tif\n",
      "2010-07-pre-30N.tif\n",
      "2011-07-pre-30N.tif\n",
      "2012-07-pre-30N.tif\n",
      "2013-07-pre-30N.tif\n",
      "2014-07-pre-30N.tif\n",
      "1982-08-pre-30N.tif\n",
      "1983-08-pre-30N.tif\n",
      "1984-08-pre-30N.tif\n",
      "1985-08-pre-30N.tif\n",
      "1986-08-pre-30N.tif\n",
      "1987-08-pre-30N.tif\n",
      "1988-08-pre-30N.tif\n",
      "1989-08-pre-30N.tif\n",
      "1990-08-pre-30N.tif\n",
      "1991-08-pre-30N.tif\n",
      "1992-08-pre-30N.tif\n",
      "1993-08-pre-30N.tif\n",
      "1994-08-pre-30N.tif\n",
      "1995-08-pre-30N.tif\n",
      "1996-08-pre-30N.tif\n",
      "1997-08-pre-30N.tif\n",
      "1998-08-pre-30N.tif\n",
      "1999-08-pre-30N.tif\n",
      "2000-08-pre-30N.tif\n",
      "2001-08-pre-30N.tif\n",
      "2002-08-pre-30N.tif\n",
      "2003-08-pre-30N.tif\n",
      "2004-08-pre-30N.tif\n",
      "2005-08-pre-30N.tif\n",
      "2006-08-pre-30N.tif\n",
      "2007-08-pre-30N.tif\n",
      "2008-08-pre-30N.tif\n",
      "2009-08-pre-30N.tif\n",
      "2010-08-pre-30N.tif\n",
      "2011-08-pre-30N.tif\n",
      "2012-08-pre-30N.tif\n",
      "2013-08-pre-30N.tif\n",
      "2014-08-pre-30N.tif\n",
      "1982-09-pre-30N.tif\n",
      "1983-09-pre-30N.tif\n",
      "1984-09-pre-30N.tif\n",
      "1985-09-pre-30N.tif\n",
      "1986-09-pre-30N.tif\n",
      "1987-09-pre-30N.tif\n",
      "1988-09-pre-30N.tif\n",
      "1989-09-pre-30N.tif\n",
      "1990-09-pre-30N.tif\n",
      "1991-09-pre-30N.tif\n",
      "1992-09-pre-30N.tif\n",
      "1993-09-pre-30N.tif\n",
      "1994-09-pre-30N.tif\n",
      "1995-09-pre-30N.tif\n",
      "1996-09-pre-30N.tif\n",
      "1997-09-pre-30N.tif\n",
      "1998-09-pre-30N.tif\n",
      "1999-09-pre-30N.tif\n",
      "2000-09-pre-30N.tif\n",
      "2001-09-pre-30N.tif\n",
      "2002-09-pre-30N.tif\n",
      "2003-09-pre-30N.tif\n",
      "2004-09-pre-30N.tif\n",
      "2005-09-pre-30N.tif\n",
      "2006-09-pre-30N.tif\n",
      "2007-09-pre-30N.tif\n",
      "2008-09-pre-30N.tif\n",
      "2009-09-pre-30N.tif\n",
      "2010-09-pre-30N.tif\n",
      "2011-09-pre-30N.tif\n",
      "2012-09-pre-30N.tif\n",
      "2013-09-pre-30N.tif\n",
      "2014-09-pre-30N.tif\n",
      "1982-10-pre-30N.tif\n",
      "1983-10-pre-30N.tif\n",
      "1984-10-pre-30N.tif\n",
      "1985-10-pre-30N.tif\n",
      "1986-10-pre-30N.tif\n",
      "1987-10-pre-30N.tif\n",
      "1988-10-pre-30N.tif\n",
      "1989-10-pre-30N.tif\n",
      "1990-10-pre-30N.tif\n",
      "1991-10-pre-30N.tif\n",
      "1992-10-pre-30N.tif\n",
      "1993-10-pre-30N.tif\n",
      "1994-10-pre-30N.tif\n",
      "1995-10-pre-30N.tif\n",
      "1996-10-pre-30N.tif\n",
      "1997-10-pre-30N.tif\n",
      "1998-10-pre-30N.tif\n",
      "1999-10-pre-30N.tif\n",
      "2000-10-pre-30N.tif\n",
      "2001-10-pre-30N.tif\n",
      "2002-10-pre-30N.tif\n",
      "2003-10-pre-30N.tif\n",
      "2004-10-pre-30N.tif\n",
      "2005-10-pre-30N.tif\n",
      "2006-10-pre-30N.tif\n",
      "2007-10-pre-30N.tif\n",
      "2008-10-pre-30N.tif\n",
      "2009-10-pre-30N.tif\n",
      "2010-10-pre-30N.tif\n",
      "2011-10-pre-30N.tif\n",
      "2012-10-pre-30N.tif\n",
      "2013-10-pre-30N.tif\n",
      "2014-10-pre-30N.tif\n",
      "1982-11-pre-30N.tif\n",
      "1983-11-pre-30N.tif\n",
      "1984-11-pre-30N.tif\n",
      "1985-11-pre-30N.tif\n",
      "1986-11-pre-30N.tif\n",
      "1987-11-pre-30N.tif\n",
      "1988-11-pre-30N.tif\n",
      "1989-11-pre-30N.tif\n",
      "1990-11-pre-30N.tif\n",
      "1991-11-pre-30N.tif\n",
      "1992-11-pre-30N.tif\n",
      "1993-11-pre-30N.tif\n",
      "1994-11-pre-30N.tif\n",
      "1995-11-pre-30N.tif\n",
      "1996-11-pre-30N.tif\n",
      "1997-11-pre-30N.tif\n",
      "1998-11-pre-30N.tif\n",
      "1999-11-pre-30N.tif\n",
      "2000-11-pre-30N.tif\n",
      "2001-11-pre-30N.tif\n",
      "2002-11-pre-30N.tif\n",
      "2003-11-pre-30N.tif\n",
      "2004-11-pre-30N.tif\n",
      "2005-11-pre-30N.tif\n",
      "2006-11-pre-30N.tif\n",
      "2007-11-pre-30N.tif\n",
      "2008-11-pre-30N.tif\n",
      "2009-11-pre-30N.tif\n",
      "2010-11-pre-30N.tif\n",
      "2011-11-pre-30N.tif\n",
      "2012-11-pre-30N.tif\n",
      "2013-11-pre-30N.tif\n",
      "2014-11-pre-30N.tif\n",
      "1982-12-pre-30N.tif\n",
      "1983-12-pre-30N.tif\n",
      "1984-12-pre-30N.tif\n",
      "1985-12-pre-30N.tif\n",
      "1986-12-pre-30N.tif\n",
      "1987-12-pre-30N.tif\n",
      "1988-12-pre-30N.tif\n",
      "1989-12-pre-30N.tif\n",
      "1990-12-pre-30N.tif\n",
      "1991-12-pre-30N.tif\n",
      "1992-12-pre-30N.tif\n",
      "1993-12-pre-30N.tif\n",
      "1994-12-pre-30N.tif\n",
      "1995-12-pre-30N.tif\n",
      "1996-12-pre-30N.tif\n",
      "1997-12-pre-30N.tif\n",
      "1998-12-pre-30N.tif\n",
      "1999-12-pre-30N.tif\n",
      "2000-12-pre-30N.tif\n",
      "2001-12-pre-30N.tif\n",
      "2002-12-pre-30N.tif\n",
      "2003-12-pre-30N.tif\n",
      "2004-12-pre-30N.tif\n",
      "2005-12-pre-30N.tif\n",
      "2006-12-pre-30N.tif\n",
      "2007-12-pre-30N.tif\n",
      "2008-12-pre-30N.tif\n",
      "2009-12-pre-30N.tif\n",
      "2010-12-pre-30N.tif\n",
      "2011-12-pre-30N.tif\n",
      "2012-12-pre-30N.tif\n",
      "2013-12-pre-30N.tif\n",
      "2014-12-pre-30N.tif\n"
     ]
    }
   ],
   "source": [
    "#pre每月三维数组\n",
    "\n",
    "#6月\n",
    "pre_tifFolder = '/data/shuping/data/climate_data/CRU TS V4.01/tif/clip_30N_0.5/pre'\n",
    "pre_6_datasets = np.zeros((33, 120, 720))\n",
    "\n",
    "for m in range(1982, 2015):\n",
    "    tifname = str(m)+ '-06-pre-30N.tif'\n",
    "    print(tifname)\n",
    "    pre_tifpath = os.path.join(pre_tifFolder, str(m), tifname)\n",
    "    pre_data = readTif(pre_tifpath)\n",
    "    pre_dataset = pre_data.ReadAsArray(0,0,720,120)\n",
    "    a = m-1982\n",
    "    pre_6_datasets[a] = pre_dataset\n",
    "    pre_6_datasets = np.where(pre_6_datasets == -999, np.nan, pre_6_datasets)\n",
    "\n",
    "#7月\n",
    "pre_7_datasets = np.zeros((33, 120, 720))\n",
    "for m in range(1982, 2015):\n",
    "    tifname = str(m)+ '-07-pre-30N.tif'\n",
    "    print(tifname)\n",
    "    pre_tifpath = os.path.join(pre_tifFolder, str(m), tifname)\n",
    "    pre_data = readTif(pre_tifpath)\n",
    "    pre_dataset = pre_data.ReadAsArray(0,0,720,120)\n",
    "    a = m-1982\n",
    "    pre_7_datasets[a] = pre_dataset\n",
    "    pre_7_datasets = np.where(pre_7_datasets == -999, np.nan, pre_7_datasets)\n",
    "\n",
    "#8月\n",
    "pre_8_datasets = np.zeros((33, 120, 720))\n",
    "for m in range(1982, 2015):\n",
    "    tifname = str(m)+ '-08-pre-30N.tif'\n",
    "    print(tifname)\n",
    "    pre_tifpath = os.path.join(pre_tifFolder, str(m), tifname)\n",
    "    pre_data = readTif(pre_tifpath)\n",
    "    pre_dataset = pre_data.ReadAsArray(0,0,720,120)\n",
    "    a = m-1982\n",
    "    pre_8_datasets[a] = pre_dataset\n",
    "    pre_8_datasets = np.where(pre_8_datasets == -999, np.nan, pre_8_datasets)\n",
    "\n",
    "#9月\n",
    "pre_9_datasets = np.zeros((33, 120, 720))\n",
    "for m in range(1982, 2015):\n",
    "    tifname = str(m)+ '-09-pre-30N.tif'\n",
    "    print(tifname)\n",
    "    pre_tifpath = os.path.join(pre_tifFolder, str(m), tifname)\n",
    "    pre_data = readTif(pre_tifpath)\n",
    "    pre_dataset = pre_data.ReadAsArray(0,0,720,120)\n",
    "    a = m-1982\n",
    "    pre_9_datasets[a] = pre_dataset\n",
    "    pre_9_datasets = np.where(pre_9_datasets == -999, np.nan, pre_9_datasets)\n",
    "\n",
    "#10月\n",
    "pre_10_datasets = np.zeros((33, 120, 720))\n",
    "for m in range(1982, 2015):\n",
    "    tifname = str(m)+ '-10-pre-30N.tif'\n",
    "    print(tifname)\n",
    "    pre_tifpath = os.path.join(pre_tifFolder, str(m), tifname)\n",
    "    pre_data = readTif(pre_tifpath)\n",
    "    pre_dataset = pre_data.ReadAsArray(0,0,720,120)\n",
    "    a = m-1982\n",
    "    pre_10_datasets[a] = pre_dataset\n",
    "    pre_10_datasets = np.where(pre_10_datasets == -999, np.nan, pre_10_datasets)\n",
    "\n",
    "#11月\n",
    "pre_11_datasets = np.zeros((33, 120, 720))\n",
    "for m in range(1982, 2015):\n",
    "    tifname = str(m)+ '-11-pre-30N.tif'\n",
    "    print(tifname)\n",
    "    pre_tifpath = os.path.join(pre_tifFolder, str(m), tifname)\n",
    "    pre_data = readTif(pre_tifpath)\n",
    "    pre_dataset = pre_data.ReadAsArray(0,0,720,120)\n",
    "    a = m-1982\n",
    "    pre_11_datasets[a] = pre_dataset\n",
    "    pre_11_datasets = np.where(pre_11_datasets == -999, np.nan, pre_11_datasets)\n",
    "\n",
    "#12月\n",
    "pre_12_datasets = np.zeros((33, 120, 720))\n",
    "for m in range(1982, 2015):\n",
    "    tifname = str(m)+ '-12-pre-30N.tif'\n",
    "    print(tifname)\n",
    "    pre_tifpath = os.path.join(pre_tifFolder, str(m), tifname)\n",
    "    pre_data = readTif(pre_tifpath)\n",
    "    pre_dataset = pre_data.ReadAsArray(0,0,720,120)\n",
    "    a = m-1982\n",
    "    pre_12_datasets[a] = pre_dataset\n",
    "    pre_12_datasets = np.where(pre_12_datasets == -999, np.nan, pre_12_datasets)"
   ],
   "metadata": {
    "collapsed": false,
    "pycharm": {
     "name": "#%%\n"
    }
   }
  },
  {
   "cell_type": "code",
   "execution_count": 23,
   "outputs": [
    {
     "name": "stdout",
     "output_type": "stream",
     "text": [
      "solr-1982-06-30N.tif\n",
      "solr-1983-06-30N.tif\n",
      "solr-1984-06-30N.tif\n",
      "solr-1985-06-30N.tif\n",
      "solr-1986-06-30N.tif\n",
      "solr-1987-06-30N.tif\n",
      "solr-1988-06-30N.tif\n",
      "solr-1989-06-30N.tif\n",
      "solr-1990-06-30N.tif\n",
      "solr-1991-06-30N.tif\n",
      "solr-1992-06-30N.tif\n",
      "solr-1993-06-30N.tif\n",
      "solr-1994-06-30N.tif\n",
      "solr-1995-06-30N.tif\n",
      "solr-1996-06-30N.tif\n",
      "solr-1997-06-30N.tif\n",
      "solr-1998-06-30N.tif\n",
      "solr-1999-06-30N.tif\n",
      "solr-2000-06-30N.tif\n",
      "solr-2001-06-30N.tif\n",
      "solr-2002-06-30N.tif\n",
      "solr-2003-06-30N.tif\n",
      "solr-2004-06-30N.tif\n",
      "solr-2005-06-30N.tif\n",
      "solr-2006-06-30N.tif\n",
      "solr-2007-06-30N.tif\n",
      "solr-2008-06-30N.tif\n",
      "solr-2009-06-30N.tif\n",
      "solr-2010-06-30N.tif\n",
      "solr-2011-06-30N.tif\n",
      "solr-2012-06-30N.tif\n",
      "solr-2013-06-30N.tif\n",
      "solr-2014-06-30N.tif\n",
      "solr-1982-07-30N.tif\n",
      "solr-1983-07-30N.tif\n",
      "solr-1984-07-30N.tif\n",
      "solr-1985-07-30N.tif\n",
      "solr-1986-07-30N.tif\n",
      "solr-1987-07-30N.tif\n",
      "solr-1988-07-30N.tif\n",
      "solr-1989-07-30N.tif\n",
      "solr-1990-07-30N.tif\n",
      "solr-1991-07-30N.tif\n",
      "solr-1992-07-30N.tif\n",
      "solr-1993-07-30N.tif\n",
      "solr-1994-07-30N.tif\n",
      "solr-1995-07-30N.tif\n",
      "solr-1996-07-30N.tif\n",
      "solr-1997-07-30N.tif\n",
      "solr-1998-07-30N.tif\n",
      "solr-1999-07-30N.tif\n",
      "solr-2000-07-30N.tif\n",
      "solr-2001-07-30N.tif\n",
      "solr-2002-07-30N.tif\n",
      "solr-2003-07-30N.tif\n",
      "solr-2004-07-30N.tif\n",
      "solr-2005-07-30N.tif\n",
      "solr-2006-07-30N.tif\n",
      "solr-2007-07-30N.tif\n",
      "solr-2008-07-30N.tif\n",
      "solr-2009-07-30N.tif\n",
      "solr-2010-07-30N.tif\n",
      "solr-2011-07-30N.tif\n",
      "solr-2012-07-30N.tif\n",
      "solr-2013-07-30N.tif\n",
      "solr-2014-07-30N.tif\n",
      "solr-1982-08-30N.tif\n",
      "solr-1983-08-30N.tif\n",
      "solr-1984-08-30N.tif\n",
      "solr-1985-08-30N.tif\n",
      "solr-1986-08-30N.tif\n",
      "solr-1987-08-30N.tif\n",
      "solr-1988-08-30N.tif\n",
      "solr-1989-08-30N.tif\n",
      "solr-1990-08-30N.tif\n",
      "solr-1991-08-30N.tif\n",
      "solr-1992-08-30N.tif\n",
      "solr-1993-08-30N.tif\n",
      "solr-1994-08-30N.tif\n",
      "solr-1995-08-30N.tif\n",
      "solr-1996-08-30N.tif\n",
      "solr-1997-08-30N.tif\n",
      "solr-1998-08-30N.tif\n",
      "solr-1999-08-30N.tif\n",
      "solr-2000-08-30N.tif\n",
      "solr-2001-08-30N.tif\n",
      "solr-2002-08-30N.tif\n",
      "solr-2003-08-30N.tif\n",
      "solr-2004-08-30N.tif\n",
      "solr-2005-08-30N.tif\n",
      "solr-2006-08-30N.tif\n",
      "solr-2007-08-30N.tif\n",
      "solr-2008-08-30N.tif\n",
      "solr-2009-08-30N.tif\n",
      "solr-2010-08-30N.tif\n",
      "solr-2011-08-30N.tif\n",
      "solr-2012-08-30N.tif\n",
      "solr-2013-08-30N.tif\n",
      "solr-2014-08-30N.tif\n",
      "solr-1982-09-30N.tif\n",
      "solr-1983-09-30N.tif\n",
      "solr-1984-09-30N.tif\n",
      "solr-1985-09-30N.tif\n",
      "solr-1986-09-30N.tif\n",
      "solr-1987-09-30N.tif\n",
      "solr-1988-09-30N.tif\n",
      "solr-1989-09-30N.tif\n",
      "solr-1990-09-30N.tif\n",
      "solr-1991-09-30N.tif\n",
      "solr-1992-09-30N.tif\n",
      "solr-1993-09-30N.tif\n",
      "solr-1994-09-30N.tif\n",
      "solr-1995-09-30N.tif\n",
      "solr-1996-09-30N.tif\n",
      "solr-1997-09-30N.tif\n",
      "solr-1998-09-30N.tif\n",
      "solr-1999-09-30N.tif\n",
      "solr-2000-09-30N.tif\n",
      "solr-2001-09-30N.tif\n",
      "solr-2002-09-30N.tif\n",
      "solr-2003-09-30N.tif\n",
      "solr-2004-09-30N.tif\n",
      "solr-2005-09-30N.tif\n",
      "solr-2006-09-30N.tif\n",
      "solr-2007-09-30N.tif\n",
      "solr-2008-09-30N.tif\n",
      "solr-2009-09-30N.tif\n",
      "solr-2010-09-30N.tif\n",
      "solr-2011-09-30N.tif\n",
      "solr-2012-09-30N.tif\n",
      "solr-2013-09-30N.tif\n",
      "solr-2014-09-30N.tif\n",
      "solr-1982-10-30N.tif\n",
      "solr-1983-10-30N.tif\n",
      "solr-1984-10-30N.tif\n",
      "solr-1985-10-30N.tif\n",
      "solr-1986-10-30N.tif\n",
      "solr-1987-10-30N.tif\n",
      "solr-1988-10-30N.tif\n",
      "solr-1989-10-30N.tif\n",
      "solr-1990-10-30N.tif\n",
      "solr-1991-10-30N.tif\n",
      "solr-1992-10-30N.tif\n",
      "solr-1993-10-30N.tif\n",
      "solr-1994-10-30N.tif\n",
      "solr-1995-10-30N.tif\n",
      "solr-1996-10-30N.tif\n",
      "solr-1997-10-30N.tif\n",
      "solr-1998-10-30N.tif\n",
      "solr-1999-10-30N.tif\n",
      "solr-2000-10-30N.tif\n",
      "solr-2001-10-30N.tif\n",
      "solr-2002-10-30N.tif\n",
      "solr-2003-10-30N.tif\n",
      "solr-2004-10-30N.tif\n",
      "solr-2005-10-30N.tif\n",
      "solr-2006-10-30N.tif\n",
      "solr-2007-10-30N.tif\n",
      "solr-2008-10-30N.tif\n",
      "solr-2009-10-30N.tif\n",
      "solr-2010-10-30N.tif\n",
      "solr-2011-10-30N.tif\n",
      "solr-2012-10-30N.tif\n",
      "solr-2013-10-30N.tif\n",
      "solr-2014-10-30N.tif\n",
      "solr-1982-11-30N.tif\n",
      "solr-1983-11-30N.tif\n",
      "solr-1984-11-30N.tif\n",
      "solr-1985-11-30N.tif\n",
      "solr-1986-11-30N.tif\n",
      "solr-1987-11-30N.tif\n",
      "solr-1988-11-30N.tif\n",
      "solr-1989-11-30N.tif\n",
      "solr-1990-11-30N.tif\n",
      "solr-1991-11-30N.tif\n",
      "solr-1992-11-30N.tif\n",
      "solr-1993-11-30N.tif\n",
      "solr-1994-11-30N.tif\n",
      "solr-1995-11-30N.tif\n",
      "solr-1996-11-30N.tif\n",
      "solr-1997-11-30N.tif\n",
      "solr-1998-11-30N.tif\n",
      "solr-1999-11-30N.tif\n",
      "solr-2000-11-30N.tif\n",
      "solr-2001-11-30N.tif\n",
      "solr-2002-11-30N.tif\n",
      "solr-2003-11-30N.tif\n",
      "solr-2004-11-30N.tif\n",
      "solr-2005-11-30N.tif\n",
      "solr-2006-11-30N.tif\n",
      "solr-2007-11-30N.tif\n",
      "solr-2008-11-30N.tif\n",
      "solr-2009-11-30N.tif\n",
      "solr-2010-11-30N.tif\n",
      "solr-2011-11-30N.tif\n",
      "solr-2012-11-30N.tif\n",
      "solr-2013-11-30N.tif\n",
      "solr-2014-11-30N.tif\n",
      "solr-1982-12-30N.tif\n",
      "solr-1983-12-30N.tif\n",
      "solr-1984-12-30N.tif\n",
      "solr-1985-12-30N.tif\n",
      "solr-1986-12-30N.tif\n",
      "solr-1987-12-30N.tif\n",
      "solr-1988-12-30N.tif\n",
      "solr-1989-12-30N.tif\n",
      "solr-1990-12-30N.tif\n",
      "solr-1991-12-30N.tif\n",
      "solr-1992-12-30N.tif\n",
      "solr-1993-12-30N.tif\n",
      "solr-1994-12-30N.tif\n",
      "solr-1995-12-30N.tif\n",
      "solr-1996-12-30N.tif\n",
      "solr-1997-12-30N.tif\n",
      "solr-1998-12-30N.tif\n",
      "solr-1999-12-30N.tif\n",
      "solr-2000-12-30N.tif\n",
      "solr-2001-12-30N.tif\n",
      "solr-2002-12-30N.tif\n",
      "solr-2003-12-30N.tif\n",
      "solr-2004-12-30N.tif\n",
      "solr-2005-12-30N.tif\n",
      "solr-2006-12-30N.tif\n",
      "solr-2007-12-30N.tif\n",
      "solr-2008-12-30N.tif\n",
      "solr-2009-12-30N.tif\n",
      "solr-2010-12-30N.tif\n",
      "solr-2011-12-30N.tif\n",
      "solr-2012-12-30N.tif\n",
      "solr-2013-12-30N.tif\n",
      "solr-2014-12-30N.tif\n"
     ]
    }
   ],
   "source": [
    "#solr每月三维数组\n",
    "\n",
    "#6月\n",
    "solr_tifFolder = '/data/shuping/data/CRUNCEP_solr/clip_tif'\n",
    "solr_6_datasets = np.zeros((33, 120, 720))\n",
    "\n",
    "for m in range(1982, 2015):\n",
    "    tifname = 'solr-' + str(m)+ '-06-30N.tif'\n",
    "    print(tifname)\n",
    "    solr_tifpath = os.path.join(solr_tifFolder, str(m), tifname)\n",
    "    solr_data = readTif(solr_tifpath)\n",
    "    solr_dataset = solr_data.ReadAsArray(0,0,720,120)\n",
    "    a = m-1982\n",
    "    solr_6_datasets[a] = solr_dataset\n",
    "\n",
    "#7月\n",
    "solr_7_datasets = np.zeros((33, 120, 720))\n",
    "\n",
    "for m in range(1982, 2015):\n",
    "    tifname = 'solr-' + str(m)+ '-07-30N.tif'\n",
    "    print(tifname)\n",
    "    solr_tifpath = os.path.join(solr_tifFolder, str(m), tifname)\n",
    "    solr_data = readTif(solr_tifpath)\n",
    "    solr_dataset = solr_data.ReadAsArray(0,0,720,120)\n",
    "    a = m-1982\n",
    "    solr_7_datasets[a] = solr_dataset\n",
    "\n",
    "#8月\n",
    "solr_8_datasets = np.zeros((33, 120, 720))\n",
    "\n",
    "for m in range(1982, 2015):\n",
    "    tifname = 'solr-' + str(m)+ '-08-30N.tif'\n",
    "    print(tifname)\n",
    "    solr_tifpath = os.path.join(solr_tifFolder, str(m), tifname)\n",
    "    solr_data = readTif(solr_tifpath)\n",
    "    solr_dataset = solr_data.ReadAsArray(0,0,720,120)\n",
    "    a = m-1982\n",
    "    solr_8_datasets[a] = solr_dataset\n",
    "\n",
    "#9月\n",
    "solr_9_datasets = np.zeros((33, 120, 720))\n",
    "\n",
    "for m in range(1982, 2015):\n",
    "    tifname = 'solr-' + str(m)+ '-09-30N.tif'\n",
    "    print(tifname)\n",
    "    solr_tifpath = os.path.join(solr_tifFolder, str(m), tifname)\n",
    "    solr_data = readTif(solr_tifpath)\n",
    "    solr_dataset = solr_data.ReadAsArray(0,0,720,120)\n",
    "    a = m-1982\n",
    "    solr_9_datasets[a] = solr_dataset\n",
    "\n",
    "#10月\n",
    "solr_10_datasets = np.zeros((33, 120, 720))\n",
    "\n",
    "for m in range(1982, 2015):\n",
    "    tifname = 'solr-' + str(m)+ '-10-30N.tif'\n",
    "    print(tifname)\n",
    "    solr_tifpath = os.path.join(solr_tifFolder, str(m), tifname)\n",
    "    solr_data = readTif(solr_tifpath)\n",
    "    solr_dataset = solr_data.ReadAsArray(0,0,720,120)\n",
    "    a = m-1982\n",
    "    solr_10_datasets[a] = solr_dataset\n",
    "\n",
    "#11月\n",
    "solr_11_datasets = np.zeros((33, 120, 720))\n",
    "\n",
    "for m in range(1982, 2015):\n",
    "    tifname = 'solr-' + str(m)+ '-11-30N.tif'\n",
    "    print(tifname)\n",
    "    solr_tifpath = os.path.join(solr_tifFolder, str(m), tifname)\n",
    "    solr_data = readTif(solr_tifpath)\n",
    "    solr_dataset = solr_data.ReadAsArray(0,0,720,120)\n",
    "    a = m-1982\n",
    "    solr_11_datasets[a] = solr_dataset\n",
    "\n",
    "#12月\n",
    "solr_12_datasets = np.zeros((33, 120, 720))\n",
    "\n",
    "for m in range(1982, 2015):\n",
    "    tifname = 'solr-' + str(m)+ '-12-30N.tif'\n",
    "    print(tifname)\n",
    "    solr_tifpath = os.path.join(solr_tifFolder, str(m), tifname)\n",
    "    solr_data = readTif(solr_tifpath)\n",
    "    solr_dataset = solr_data.ReadAsArray(0,0,720,120)\n",
    "    a = m-1982\n",
    "    solr_12_datasets[a] = solr_dataset"
   ],
   "metadata": {
    "collapsed": false,
    "pycharm": {
     "name": "#%%\n"
    }
   }
  },
  {
   "cell_type": "code",
   "execution_count": 24,
   "outputs": [
    {
     "name": "stdout",
     "output_type": "stream",
     "text": [
      "1982-06-sm-30N.tif\n",
      "1983-06-sm-30N.tif\n",
      "1984-06-sm-30N.tif\n",
      "1985-06-sm-30N.tif\n",
      "1986-06-sm-30N.tif\n",
      "1987-06-sm-30N.tif\n",
      "1988-06-sm-30N.tif\n",
      "1989-06-sm-30N.tif\n",
      "1990-06-sm-30N.tif\n",
      "1991-06-sm-30N.tif\n",
      "1992-06-sm-30N.tif\n",
      "1993-06-sm-30N.tif\n",
      "1994-06-sm-30N.tif\n",
      "1995-06-sm-30N.tif\n",
      "1996-06-sm-30N.tif\n",
      "1997-06-sm-30N.tif\n",
      "1998-06-sm-30N.tif\n",
      "1999-06-sm-30N.tif\n",
      "2000-06-sm-30N.tif\n",
      "2001-06-sm-30N.tif\n",
      "2002-06-sm-30N.tif\n",
      "2003-06-sm-30N.tif\n",
      "2004-06-sm-30N.tif\n",
      "2005-06-sm-30N.tif\n",
      "2006-06-sm-30N.tif\n",
      "2007-06-sm-30N.tif\n",
      "2008-06-sm-30N.tif\n",
      "2009-06-sm-30N.tif\n",
      "2010-06-sm-30N.tif\n",
      "2011-06-sm-30N.tif\n",
      "2012-06-sm-30N.tif\n",
      "2013-06-sm-30N.tif\n",
      "2014-06-sm-30N.tif\n",
      "1982-07-sm-30N.tif\n",
      "1983-07-sm-30N.tif\n",
      "1984-07-sm-30N.tif\n",
      "1985-07-sm-30N.tif\n",
      "1986-07-sm-30N.tif\n",
      "1987-07-sm-30N.tif\n",
      "1988-07-sm-30N.tif\n",
      "1989-07-sm-30N.tif\n",
      "1990-07-sm-30N.tif\n",
      "1991-07-sm-30N.tif\n",
      "1992-07-sm-30N.tif\n",
      "1993-07-sm-30N.tif\n",
      "1994-07-sm-30N.tif\n",
      "1995-07-sm-30N.tif\n",
      "1996-07-sm-30N.tif\n",
      "1997-07-sm-30N.tif\n",
      "1998-07-sm-30N.tif\n",
      "1999-07-sm-30N.tif\n",
      "2000-07-sm-30N.tif\n",
      "2001-07-sm-30N.tif\n",
      "2002-07-sm-30N.tif\n",
      "2003-07-sm-30N.tif\n",
      "2004-07-sm-30N.tif\n",
      "2005-07-sm-30N.tif\n",
      "2006-07-sm-30N.tif\n",
      "2007-07-sm-30N.tif\n",
      "2008-07-sm-30N.tif\n",
      "2009-07-sm-30N.tif\n",
      "2010-07-sm-30N.tif\n",
      "2011-07-sm-30N.tif\n",
      "2012-07-sm-30N.tif\n",
      "2013-07-sm-30N.tif\n",
      "2014-07-sm-30N.tif\n",
      "1982-08-sm-30N.tif\n",
      "1983-08-sm-30N.tif\n",
      "1984-08-sm-30N.tif\n",
      "1985-08-sm-30N.tif\n",
      "1986-08-sm-30N.tif\n",
      "1987-08-sm-30N.tif\n",
      "1988-08-sm-30N.tif\n",
      "1989-08-sm-30N.tif\n",
      "1990-08-sm-30N.tif\n",
      "1991-08-sm-30N.tif\n",
      "1992-08-sm-30N.tif\n",
      "1993-08-sm-30N.tif\n",
      "1994-08-sm-30N.tif\n",
      "1995-08-sm-30N.tif\n",
      "1996-08-sm-30N.tif\n",
      "1997-08-sm-30N.tif\n",
      "1998-08-sm-30N.tif\n",
      "1999-08-sm-30N.tif\n",
      "2000-08-sm-30N.tif\n",
      "2001-08-sm-30N.tif\n",
      "2002-08-sm-30N.tif\n",
      "2003-08-sm-30N.tif\n",
      "2004-08-sm-30N.tif\n",
      "2005-08-sm-30N.tif\n",
      "2006-08-sm-30N.tif\n",
      "2007-08-sm-30N.tif\n",
      "2008-08-sm-30N.tif\n",
      "2009-08-sm-30N.tif\n",
      "2010-08-sm-30N.tif\n",
      "2011-08-sm-30N.tif\n",
      "2012-08-sm-30N.tif\n",
      "2013-08-sm-30N.tif\n",
      "2014-08-sm-30N.tif\n",
      "1982-09-sm-30N.tif\n",
      "1983-09-sm-30N.tif\n",
      "1984-09-sm-30N.tif\n",
      "1985-09-sm-30N.tif\n",
      "1986-09-sm-30N.tif\n",
      "1987-09-sm-30N.tif\n",
      "1988-09-sm-30N.tif\n",
      "1989-09-sm-30N.tif\n",
      "1990-09-sm-30N.tif\n",
      "1991-09-sm-30N.tif\n",
      "1992-09-sm-30N.tif\n",
      "1993-09-sm-30N.tif\n",
      "1994-09-sm-30N.tif\n",
      "1995-09-sm-30N.tif\n",
      "1996-09-sm-30N.tif\n",
      "1997-09-sm-30N.tif\n",
      "1998-09-sm-30N.tif\n",
      "1999-09-sm-30N.tif\n",
      "2000-09-sm-30N.tif\n",
      "2001-09-sm-30N.tif\n",
      "2002-09-sm-30N.tif\n",
      "2003-09-sm-30N.tif\n",
      "2004-09-sm-30N.tif\n",
      "2005-09-sm-30N.tif\n",
      "2006-09-sm-30N.tif\n",
      "2007-09-sm-30N.tif\n",
      "2008-09-sm-30N.tif\n",
      "2009-09-sm-30N.tif\n",
      "2010-09-sm-30N.tif\n",
      "2011-09-sm-30N.tif\n",
      "2012-09-sm-30N.tif\n",
      "2013-09-sm-30N.tif\n",
      "2014-09-sm-30N.tif\n",
      "1982-10-sm-30N.tif\n",
      "1983-10-sm-30N.tif\n",
      "1984-10-sm-30N.tif\n",
      "1985-10-sm-30N.tif\n",
      "1986-10-sm-30N.tif\n",
      "1987-10-sm-30N.tif\n",
      "1988-10-sm-30N.tif\n",
      "1989-10-sm-30N.tif\n",
      "1990-10-sm-30N.tif\n",
      "1991-10-sm-30N.tif\n",
      "1992-10-sm-30N.tif\n",
      "1993-10-sm-30N.tif\n",
      "1994-10-sm-30N.tif\n",
      "1995-10-sm-30N.tif\n",
      "1996-10-sm-30N.tif\n",
      "1997-10-sm-30N.tif\n",
      "1998-10-sm-30N.tif\n",
      "1999-10-sm-30N.tif\n",
      "2000-10-sm-30N.tif\n",
      "2001-10-sm-30N.tif\n",
      "2002-10-sm-30N.tif\n",
      "2003-10-sm-30N.tif\n",
      "2004-10-sm-30N.tif\n",
      "2005-10-sm-30N.tif\n",
      "2006-10-sm-30N.tif\n",
      "2007-10-sm-30N.tif\n",
      "2008-10-sm-30N.tif\n",
      "2009-10-sm-30N.tif\n",
      "2010-10-sm-30N.tif\n",
      "2011-10-sm-30N.tif\n",
      "2012-10-sm-30N.tif\n",
      "2013-10-sm-30N.tif\n",
      "2014-10-sm-30N.tif\n",
      "1982-11-sm-30N.tif\n",
      "1983-11-sm-30N.tif\n",
      "1984-11-sm-30N.tif\n",
      "1985-11-sm-30N.tif\n",
      "1986-11-sm-30N.tif\n",
      "1987-11-sm-30N.tif\n",
      "1988-11-sm-30N.tif\n",
      "1989-11-sm-30N.tif\n",
      "1990-11-sm-30N.tif\n",
      "1991-11-sm-30N.tif\n",
      "1992-11-sm-30N.tif\n",
      "1993-11-sm-30N.tif\n",
      "1994-11-sm-30N.tif\n",
      "1995-11-sm-30N.tif\n",
      "1996-11-sm-30N.tif\n",
      "1997-11-sm-30N.tif\n",
      "1998-11-sm-30N.tif\n",
      "1999-11-sm-30N.tif\n",
      "2000-11-sm-30N.tif\n",
      "2001-11-sm-30N.tif\n",
      "2002-11-sm-30N.tif\n",
      "2003-11-sm-30N.tif\n",
      "2004-11-sm-30N.tif\n",
      "2005-11-sm-30N.tif\n",
      "2006-11-sm-30N.tif\n",
      "2007-11-sm-30N.tif\n",
      "2008-11-sm-30N.tif\n",
      "2009-11-sm-30N.tif\n",
      "2010-11-sm-30N.tif\n",
      "2011-11-sm-30N.tif\n",
      "2012-11-sm-30N.tif\n",
      "2013-11-sm-30N.tif\n",
      "2014-11-sm-30N.tif\n",
      "1982-12-sm-30N.tif\n",
      "1983-12-sm-30N.tif\n",
      "1984-12-sm-30N.tif\n",
      "1985-12-sm-30N.tif\n",
      "1986-12-sm-30N.tif\n",
      "1987-12-sm-30N.tif\n",
      "1988-12-sm-30N.tif\n",
      "1989-12-sm-30N.tif\n",
      "1990-12-sm-30N.tif\n",
      "1991-12-sm-30N.tif\n",
      "1992-12-sm-30N.tif\n",
      "1993-12-sm-30N.tif\n",
      "1994-12-sm-30N.tif\n",
      "1995-12-sm-30N.tif\n",
      "1996-12-sm-30N.tif\n",
      "1997-12-sm-30N.tif\n",
      "1998-12-sm-30N.tif\n",
      "1999-12-sm-30N.tif\n",
      "2000-12-sm-30N.tif\n",
      "2001-12-sm-30N.tif\n",
      "2002-12-sm-30N.tif\n",
      "2003-12-sm-30N.tif\n",
      "2004-12-sm-30N.tif\n",
      "2005-12-sm-30N.tif\n",
      "2006-12-sm-30N.tif\n",
      "2007-12-sm-30N.tif\n",
      "2008-12-sm-30N.tif\n",
      "2009-12-sm-30N.tif\n",
      "2010-12-sm-30N.tif\n",
      "2011-12-sm-30N.tif\n",
      "2012-12-sm-30N.tif\n",
      "2013-12-sm-30N.tif\n",
      "2014-12-sm-30N.tif\n"
     ]
    }
   ],
   "source": [
    "#sm每月三维数组\n",
    "\n",
    "#6月\n",
    "sm_tifFolder = '/data/shuping/data/GLDAS/30N_sm_0.5'\n",
    "sm_6_datasets = np.zeros((33, 120, 720))\n",
    "\n",
    "for m in range(1982, 2015):\n",
    "    tifname = str(m)+ '-06-sm-30N.tif'\n",
    "    print(tifname)\n",
    "    sm_tifpath = os.path.join(sm_tifFolder, str(m), tifname)\n",
    "    sm_data = readTif(sm_tifpath)\n",
    "    sm_dataset = sm_data.ReadAsArray(0,0,720,120)\n",
    "    a = m-1982\n",
    "    sm_6_datasets[a] = sm_dataset\n",
    "    sm_6_datasets = np.where(sm_6_datasets == -999, np.nan, sm_6_datasets)\n",
    "\n",
    "#7月\n",
    "sm_7_datasets = np.zeros((33, 120, 720))\n",
    "\n",
    "for m in range(1982, 2015):\n",
    "    tifname = str(m)+ '-07-sm-30N.tif'\n",
    "    print(tifname)\n",
    "    sm_tifpath = os.path.join(sm_tifFolder, str(m), tifname)\n",
    "    sm_data = readTif(sm_tifpath)\n",
    "    sm_dataset = sm_data.ReadAsArray(0,0,720,120)\n",
    "    a = m-1982\n",
    "    sm_7_datasets[a] = sm_dataset\n",
    "    sm_7_datasets = np.where(sm_7_datasets == -999, np.nan, sm_7_datasets)\n",
    "\n",
    "#8月\n",
    "sm_8_datasets = np.zeros((33, 120, 720))\n",
    "\n",
    "for m in range(1982, 2015):\n",
    "    tifname = str(m)+ '-08-sm-30N.tif'\n",
    "    print(tifname)\n",
    "    sm_tifpath = os.path.join(sm_tifFolder, str(m), tifname)\n",
    "    sm_data = readTif(sm_tifpath)\n",
    "    sm_dataset = sm_data.ReadAsArray(0,0,720,120)\n",
    "    a = m-1982\n",
    "    sm_8_datasets[a] = sm_dataset\n",
    "    sm_8_datasets = np.where(sm_8_datasets == -999, np.nan, sm_8_datasets)\n",
    "\n",
    "#9月\n",
    "sm_9_datasets = np.zeros((33, 120, 720))\n",
    "\n",
    "for m in range(1982, 2015):\n",
    "    tifname = str(m)+ '-09-sm-30N.tif'\n",
    "    print(tifname)\n",
    "    sm_tifpath = os.path.join(sm_tifFolder, str(m), tifname)\n",
    "    sm_data = readTif(sm_tifpath)\n",
    "    sm_dataset = sm_data.ReadAsArray(0,0,720,120)\n",
    "    a = m-1982\n",
    "    sm_9_datasets[a] = sm_dataset\n",
    "    sm_9_datasets = np.where(sm_9_datasets == -999, np.nan, sm_9_datasets)\n",
    "\n",
    "#10月\n",
    "sm_10_datasets = np.zeros((33, 120, 720))\n",
    "\n",
    "for m in range(1982, 2015):\n",
    "    tifname = str(m)+ '-10-sm-30N.tif'\n",
    "    print(tifname)\n",
    "    sm_tifpath = os.path.join(sm_tifFolder, str(m), tifname)\n",
    "    sm_data = readTif(sm_tifpath)\n",
    "    sm_dataset = sm_data.ReadAsArray(0,0,720,120)\n",
    "    a = m-1982\n",
    "    sm_10_datasets[a] = sm_dataset\n",
    "    sm_10_datasets = np.where(sm_10_datasets == -999, np.nan, sm_10_datasets)\n",
    "\n",
    "#11月\n",
    "sm_11_datasets = np.zeros((33, 120, 720))\n",
    "\n",
    "for m in range(1982, 2015):\n",
    "    tifname = str(m)+ '-11-sm-30N.tif'\n",
    "    print(tifname)\n",
    "    sm_tifpath = os.path.join(sm_tifFolder, str(m), tifname)\n",
    "    sm_data = readTif(sm_tifpath)\n",
    "    sm_dataset = sm_data.ReadAsArray(0,0,720,120)\n",
    "    a = m-1982\n",
    "    sm_11_datasets[a] = sm_dataset\n",
    "    sm_11_datasets = np.where(sm_11_datasets == -999, np.nan, sm_11_datasets)\n",
    "\n",
    "#12月\n",
    "sm_12_datasets = np.zeros((33, 120, 720))\n",
    "\n",
    "for m in range(1982, 2015):\n",
    "    tifname = str(m)+ '-12-sm-30N.tif'\n",
    "    print(tifname)\n",
    "    sm_tifpath = os.path.join(sm_tifFolder, str(m), tifname)\n",
    "    sm_data = readTif(sm_tifpath)\n",
    "    sm_dataset = sm_data.ReadAsArray(0,0,720,120)\n",
    "    a = m-1982\n",
    "    sm_12_datasets[a] = sm_dataset\n",
    "    sm_12_datasets = np.where(sm_12_datasets == -999, np.nan, sm_12_datasets)"
   ],
   "metadata": {
    "collapsed": false,
    "pycharm": {
     "name": "#%%\n"
    }
   }
  },
  {
   "cell_type": "markdown",
   "source": [
    "##woody"
   ],
   "metadata": {
    "collapsed": false,
    "pycharm": {
     "name": "#%% md\n"
    }
   }
  },
  {
   "cell_type": "markdown",
   "source": [
    "###获得单个站点csv"
   ],
   "metadata": {
    "collapsed": false,
    "pycharm": {
     "name": "#%% md\n"
    }
   }
  },
  {
   "cell_type": "code",
   "execution_count": null,
   "outputs": [],
   "source": [
    "import pandas as pd\n",
    "import numpy as np\n",
    "import os, shutil"
   ],
   "metadata": {
    "collapsed": false,
    "pycharm": {
     "name": "#%%\n"
    }
   }
  },
  {
   "cell_type": "code",
   "execution_count": 42,
   "outputs": [
    {
     "data": {
      "text/plain": "       year   site species    sos    eos\n0      1981  50639    加拿大杨  123.0  272.0\n1      1981  50928      旱柳  118.0  258.0\n2      1981  50928    加拿大杨  127.0  258.0\n3      1981  50928      山榆  132.0  258.0\n4      1981  50928      山楂  120.0  258.0\n...     ...    ...     ...    ...    ...\n17296  2007  58433      楝树   91.0  276.0\n17297  2008  58433      楝树   98.0  297.0\n17298  2009  58433      楝树  105.0  295.0\n17299  2010  58433      楝树  105.0  302.0\n17300  2011  58433      楝树  106.0  305.0\n\n[17301 rows x 5 columns]",
      "text/html": "<div>\n<style scoped>\n    .dataframe tbody tr th:only-of-type {\n        vertical-align: middle;\n    }\n\n    .dataframe tbody tr th {\n        vertical-align: top;\n    }\n\n    .dataframe thead th {\n        text-align: right;\n    }\n</style>\n<table border=\"1\" class=\"dataframe\">\n  <thead>\n    <tr style=\"text-align: right;\">\n      <th></th>\n      <th>year</th>\n      <th>site</th>\n      <th>species</th>\n      <th>sos</th>\n      <th>eos</th>\n    </tr>\n  </thead>\n  <tbody>\n    <tr>\n      <th>0</th>\n      <td>1981</td>\n      <td>50639</td>\n      <td>加拿大杨</td>\n      <td>123.0</td>\n      <td>272.0</td>\n    </tr>\n    <tr>\n      <th>1</th>\n      <td>1981</td>\n      <td>50928</td>\n      <td>旱柳</td>\n      <td>118.0</td>\n      <td>258.0</td>\n    </tr>\n    <tr>\n      <th>2</th>\n      <td>1981</td>\n      <td>50928</td>\n      <td>加拿大杨</td>\n      <td>127.0</td>\n      <td>258.0</td>\n    </tr>\n    <tr>\n      <th>3</th>\n      <td>1981</td>\n      <td>50928</td>\n      <td>山榆</td>\n      <td>132.0</td>\n      <td>258.0</td>\n    </tr>\n    <tr>\n      <th>4</th>\n      <td>1981</td>\n      <td>50928</td>\n      <td>山楂</td>\n      <td>120.0</td>\n      <td>258.0</td>\n    </tr>\n    <tr>\n      <th>...</th>\n      <td>...</td>\n      <td>...</td>\n      <td>...</td>\n      <td>...</td>\n      <td>...</td>\n    </tr>\n    <tr>\n      <th>17296</th>\n      <td>2007</td>\n      <td>58433</td>\n      <td>楝树</td>\n      <td>91.0</td>\n      <td>276.0</td>\n    </tr>\n    <tr>\n      <th>17297</th>\n      <td>2008</td>\n      <td>58433</td>\n      <td>楝树</td>\n      <td>98.0</td>\n      <td>297.0</td>\n    </tr>\n    <tr>\n      <th>17298</th>\n      <td>2009</td>\n      <td>58433</td>\n      <td>楝树</td>\n      <td>105.0</td>\n      <td>295.0</td>\n    </tr>\n    <tr>\n      <th>17299</th>\n      <td>2010</td>\n      <td>58433</td>\n      <td>楝树</td>\n      <td>105.0</td>\n      <td>302.0</td>\n    </tr>\n    <tr>\n      <th>17300</th>\n      <td>2011</td>\n      <td>58433</td>\n      <td>楝树</td>\n      <td>106.0</td>\n      <td>305.0</td>\n    </tr>\n  </tbody>\n</table>\n<p>17301 rows × 5 columns</p>\n</div>"
     },
     "execution_count": 42,
     "metadata": {},
     "output_type": "execute_result"
    }
   ],
   "source": [
    "woody_file = '/data/shuping/data/china_phenology/xls_data_clean/woody_phenology_clean.csv'\n",
    "woody_ds =pd.read_csv(woody_file)\n",
    "woody_ds= woody_ds.drop(['Unnamed: 0'], axis=1)\n",
    "woody_ds['site'] = woody_ds['site'].astype(int)\n",
    "woody_ds"
   ],
   "metadata": {
    "collapsed": false,
    "pycharm": {
     "name": "#%%\n"
    }
   }
  },
  {
   "cell_type": "code",
   "execution_count": 98,
   "outputs": [
    {
     "data": {
      "text/plain": "       site     lon    lat\n0     50971  126.60  45.75\n1     53856  110.75  36.47\n2     54505  116.11  39.91\n3     56279  102.93  30.15\n4     56764  101.43  25.53\n...     ...     ...    ...\n1358  58647  119.13  28.06\n1359  58652  120.71  28.85\n1360  58659  120.65  28.03\n1361  58665  121.42  28.62\n1362  58751  120.55  27.68\n\n[1363 rows x 3 columns]",
      "text/html": "<div>\n<style scoped>\n    .dataframe tbody tr th:only-of-type {\n        vertical-align: middle;\n    }\n\n    .dataframe tbody tr th {\n        vertical-align: top;\n    }\n\n    .dataframe thead th {\n        text-align: right;\n    }\n</style>\n<table border=\"1\" class=\"dataframe\">\n  <thead>\n    <tr style=\"text-align: right;\">\n      <th></th>\n      <th>site</th>\n      <th>lon</th>\n      <th>lat</th>\n    </tr>\n  </thead>\n  <tbody>\n    <tr>\n      <th>0</th>\n      <td>50971</td>\n      <td>126.60</td>\n      <td>45.75</td>\n    </tr>\n    <tr>\n      <th>1</th>\n      <td>53856</td>\n      <td>110.75</td>\n      <td>36.47</td>\n    </tr>\n    <tr>\n      <th>2</th>\n      <td>54505</td>\n      <td>116.11</td>\n      <td>39.91</td>\n    </tr>\n    <tr>\n      <th>3</th>\n      <td>56279</td>\n      <td>102.93</td>\n      <td>30.15</td>\n    </tr>\n    <tr>\n      <th>4</th>\n      <td>56764</td>\n      <td>101.43</td>\n      <td>25.53</td>\n    </tr>\n    <tr>\n      <th>...</th>\n      <td>...</td>\n      <td>...</td>\n      <td>...</td>\n    </tr>\n    <tr>\n      <th>1358</th>\n      <td>58647</td>\n      <td>119.13</td>\n      <td>28.06</td>\n    </tr>\n    <tr>\n      <th>1359</th>\n      <td>58652</td>\n      <td>120.71</td>\n      <td>28.85</td>\n    </tr>\n    <tr>\n      <th>1360</th>\n      <td>58659</td>\n      <td>120.65</td>\n      <td>28.03</td>\n    </tr>\n    <tr>\n      <th>1361</th>\n      <td>58665</td>\n      <td>121.42</td>\n      <td>28.62</td>\n    </tr>\n    <tr>\n      <th>1362</th>\n      <td>58751</td>\n      <td>120.55</td>\n      <td>27.68</td>\n    </tr>\n  </tbody>\n</table>\n<p>1363 rows × 3 columns</p>\n</div>"
     },
     "execution_count": 98,
     "metadata": {},
     "output_type": "execute_result"
    }
   ],
   "source": [
    "file_path = '/data/shuping/data/china_phenology/xls_data_clean/站点经纬度.xlsx'\n",
    "all_site_lat_lon = pd.read_excel(file_path)\n",
    "all_site_lat_lon = all_site_lat_lon.drop(['站名', '省称', 'Unnamed: 5'], axis=1)\n",
    "all_site_lat_lon.columns = ['site','lon','lat']\n",
    "all_site_lat_lon"
   ],
   "metadata": {
    "collapsed": false,
    "pycharm": {
     "name": "#%%\n"
    }
   }
  },
  {
   "cell_type": "code",
   "execution_count": 102,
   "outputs": [
    {
     "data": {
      "text/plain": "      site veg_type multi_sos multi_eos\n0    50639       榆树         4         9\n1    50928       旱柳         4         9\n2    50928     加拿大杨         4         9\n3    50928      小叶杨         4         9\n4    50936      紫丁香         4         9\n..     ...      ...       ...       ...\n488  58433       刺槐         3         9\n489  58433       楝树         3        10\n490  53923       白梨         4         9\n491  53923       苹果         3         9\n492  53923      小叶杨         3         9\n\n[493 rows x 4 columns]",
      "text/html": "<div>\n<style scoped>\n    .dataframe tbody tr th:only-of-type {\n        vertical-align: middle;\n    }\n\n    .dataframe tbody tr th {\n        vertical-align: top;\n    }\n\n    .dataframe thead th {\n        text-align: right;\n    }\n</style>\n<table border=\"1\" class=\"dataframe\">\n  <thead>\n    <tr style=\"text-align: right;\">\n      <th></th>\n      <th>site</th>\n      <th>veg_type</th>\n      <th>multi_sos</th>\n      <th>multi_eos</th>\n    </tr>\n  </thead>\n  <tbody>\n    <tr>\n      <th>0</th>\n      <td>50639</td>\n      <td>榆树</td>\n      <td>4</td>\n      <td>9</td>\n    </tr>\n    <tr>\n      <th>1</th>\n      <td>50928</td>\n      <td>旱柳</td>\n      <td>4</td>\n      <td>9</td>\n    </tr>\n    <tr>\n      <th>2</th>\n      <td>50928</td>\n      <td>加拿大杨</td>\n      <td>4</td>\n      <td>9</td>\n    </tr>\n    <tr>\n      <th>3</th>\n      <td>50928</td>\n      <td>小叶杨</td>\n      <td>4</td>\n      <td>9</td>\n    </tr>\n    <tr>\n      <th>4</th>\n      <td>50936</td>\n      <td>紫丁香</td>\n      <td>4</td>\n      <td>9</td>\n    </tr>\n    <tr>\n      <th>...</th>\n      <td>...</td>\n      <td>...</td>\n      <td>...</td>\n      <td>...</td>\n    </tr>\n    <tr>\n      <th>488</th>\n      <td>58433</td>\n      <td>刺槐</td>\n      <td>3</td>\n      <td>9</td>\n    </tr>\n    <tr>\n      <th>489</th>\n      <td>58433</td>\n      <td>楝树</td>\n      <td>3</td>\n      <td>10</td>\n    </tr>\n    <tr>\n      <th>490</th>\n      <td>53923</td>\n      <td>白梨</td>\n      <td>4</td>\n      <td>9</td>\n    </tr>\n    <tr>\n      <th>491</th>\n      <td>53923</td>\n      <td>苹果</td>\n      <td>3</td>\n      <td>9</td>\n    </tr>\n    <tr>\n      <th>492</th>\n      <td>53923</td>\n      <td>小叶杨</td>\n      <td>3</td>\n      <td>9</td>\n    </tr>\n  </tbody>\n</table>\n<p>493 rows × 4 columns</p>\n</div>"
     },
     "execution_count": 102,
     "metadata": {},
     "output_type": "execute_result"
    }
   ],
   "source": [
    "all_site = woody_ds['site'].unique()#返回对应列的不同值\n",
    "site_lat_lon = pd.DataFrame(columns=['site', 'veg_type', 'multi_sos', 'multi_eos'])\n",
    "for i in range(len(all_site)):\n",
    "    single_site_ds = woody_ds[woody_ds.site == all_site[i]]\n",
    "    species = single_site_ds['species'].unique()\n",
    "    for j in range(len(species)):\n",
    "        site_species_ds = single_site_ds[single_site_ds.species == species[j]]\n",
    "        site_species_ds = site_species_ds[site_species_ds['year'] > 1981]\n",
    "        site_species_ds = site_species_ds[site_species_ds['year'] < 2015]\n",
    "        site_species_ds = site_species_ds.reset_index(drop=True)\n",
    "        a = site_species_ds.shape[0]\n",
    "        if a >= 15:\n",
    "            mean_sos = site_species_ds['sos'].mean()\n",
    "            mean_eos = site_species_ds['eos'].mean()\n",
    "            name = str(species[j])\n",
    "            site = str(all_site[i])\n",
    "            file_name = '/data/shuping/data/china_phenology/partial_corr/15year_csv/' + site  + '_' + name+ '.csv'\n",
    "            site_species_ds.to_csv(file_name, encoding='utf_8_sig')\n",
    "            site_lat_lon = site_lat_lon.append(pd.DataFrame({'site':[all_site[i]],'veg_type':[species[j]],'multi_eos':[round(mean_eos/30)],\n",
    "                                                             'multi_sos': [round(mean_sos/30)]}), ignore_index=True)\n",
    "\n",
    "site_lat_lon"
   ],
   "metadata": {
    "collapsed": false,
    "pycharm": {
     "name": "#%%\n"
    }
   }
  },
  {
   "cell_type": "code",
   "execution_count": 103,
   "outputs": [
    {
     "data": {
      "text/plain": "      site veg_type multi_sos multi_eos lat lon\n0    50639       榆树         4         9        \n1    50928       旱柳         4         9        \n2    50928     加拿大杨         4         9        \n3    50928      小叶杨         4         9        \n4    50936      紫丁香         4         9        \n..     ...      ...       ...       ...  ..  ..\n488  58433       刺槐         3         9        \n489  58433       楝树         3        10        \n490  53923       白梨         4         9        \n491  53923       苹果         3         9        \n492  53923      小叶杨         3         9        \n\n[493 rows x 6 columns]",
      "text/html": "<div>\n<style scoped>\n    .dataframe tbody tr th:only-of-type {\n        vertical-align: middle;\n    }\n\n    .dataframe tbody tr th {\n        vertical-align: top;\n    }\n\n    .dataframe thead th {\n        text-align: right;\n    }\n</style>\n<table border=\"1\" class=\"dataframe\">\n  <thead>\n    <tr style=\"text-align: right;\">\n      <th></th>\n      <th>site</th>\n      <th>veg_type</th>\n      <th>multi_sos</th>\n      <th>multi_eos</th>\n      <th>lat</th>\n      <th>lon</th>\n    </tr>\n  </thead>\n  <tbody>\n    <tr>\n      <th>0</th>\n      <td>50639</td>\n      <td>榆树</td>\n      <td>4</td>\n      <td>9</td>\n      <td></td>\n      <td></td>\n    </tr>\n    <tr>\n      <th>1</th>\n      <td>50928</td>\n      <td>旱柳</td>\n      <td>4</td>\n      <td>9</td>\n      <td></td>\n      <td></td>\n    </tr>\n    <tr>\n      <th>2</th>\n      <td>50928</td>\n      <td>加拿大杨</td>\n      <td>4</td>\n      <td>9</td>\n      <td></td>\n      <td></td>\n    </tr>\n    <tr>\n      <th>3</th>\n      <td>50928</td>\n      <td>小叶杨</td>\n      <td>4</td>\n      <td>9</td>\n      <td></td>\n      <td></td>\n    </tr>\n    <tr>\n      <th>4</th>\n      <td>50936</td>\n      <td>紫丁香</td>\n      <td>4</td>\n      <td>9</td>\n      <td></td>\n      <td></td>\n    </tr>\n    <tr>\n      <th>...</th>\n      <td>...</td>\n      <td>...</td>\n      <td>...</td>\n      <td>...</td>\n      <td>...</td>\n      <td>...</td>\n    </tr>\n    <tr>\n      <th>488</th>\n      <td>58433</td>\n      <td>刺槐</td>\n      <td>3</td>\n      <td>9</td>\n      <td></td>\n      <td></td>\n    </tr>\n    <tr>\n      <th>489</th>\n      <td>58433</td>\n      <td>楝树</td>\n      <td>3</td>\n      <td>10</td>\n      <td></td>\n      <td></td>\n    </tr>\n    <tr>\n      <th>490</th>\n      <td>53923</td>\n      <td>白梨</td>\n      <td>4</td>\n      <td>9</td>\n      <td></td>\n      <td></td>\n    </tr>\n    <tr>\n      <th>491</th>\n      <td>53923</td>\n      <td>苹果</td>\n      <td>3</td>\n      <td>9</td>\n      <td></td>\n      <td></td>\n    </tr>\n    <tr>\n      <th>492</th>\n      <td>53923</td>\n      <td>小叶杨</td>\n      <td>3</td>\n      <td>9</td>\n      <td></td>\n      <td></td>\n    </tr>\n  </tbody>\n</table>\n<p>493 rows × 6 columns</p>\n</div>"
     },
     "execution_count": 103,
     "metadata": {},
     "output_type": "execute_result"
    }
   ],
   "source": [
    "site_lat_lon['lat'] =''\n",
    "site_lat_lon['lon'] = ''\n",
    "site_lat_lon"
   ],
   "metadata": {
    "collapsed": false,
    "pycharm": {
     "name": "#%%\n"
    }
   }
  },
  {
   "cell_type": "markdown",
   "source": [
    "###获得site经纬度和multi_eos"
   ],
   "metadata": {
    "collapsed": false,
    "pycharm": {
     "name": "#%% md\n"
    }
   }
  },
  {
   "cell_type": "code",
   "execution_count": 143,
   "outputs": [
    {
     "name": "stderr",
     "output_type": "stream",
     "text": [
      "/home/sdu-w-001/anaconda3/envs/jsp_gdal/lib/python3.7/site-packages/ipykernel_launcher.py:4: SettingWithCopyWarning: \n",
      "A value is trying to be set on a copy of a slice from a DataFrame\n",
      "\n",
      "See the caveats in the documentation: https://pandas.pydata.org/pandas-docs/stable/user_guide/indexing.html#returning-a-view-versus-a-copy\n",
      "  after removing the cwd from sys.path.\n",
      "/home/sdu-w-001/anaconda3/envs/jsp_gdal/lib/python3.7/site-packages/ipykernel_launcher.py:5: SettingWithCopyWarning: \n",
      "A value is trying to be set on a copy of a slice from a DataFrame\n",
      "\n",
      "See the caveats in the documentation: https://pandas.pydata.org/pandas-docs/stable/user_guide/indexing.html#returning-a-view-versus-a-copy\n",
      "  \"\"\"\n"
     ]
    },
    {
     "data": {
      "text/plain": "      site veg_type multi_sos multi_eos    lat     lon\n0    50639       榆树         4         9   48.0  122.73\n1    50655      中东杨         4         9   48.5  126.18\n2    50756      紫丁香         4         9  47.43  126.97\n3    50756      小叶杨         4         9  47.43  126.97\n4    50779     加拿大杨         4         9  48.36  134.28\n..     ...      ...       ...       ...    ...     ...\n488  58346       梧桐         4        10  31.36  119.81\n489  58356       水杉         3        10  31.41  120.95\n490  58433       刺槐         3         9  30.93  118.75\n491  58433       楝树         3        10  30.93  118.75\n492  58530       垂柳         2        10  29.86  118.43\n\n[493 rows x 6 columns]",
      "text/html": "<div>\n<style scoped>\n    .dataframe tbody tr th:only-of-type {\n        vertical-align: middle;\n    }\n\n    .dataframe tbody tr th {\n        vertical-align: top;\n    }\n\n    .dataframe thead th {\n        text-align: right;\n    }\n</style>\n<table border=\"1\" class=\"dataframe\">\n  <thead>\n    <tr style=\"text-align: right;\">\n      <th></th>\n      <th>site</th>\n      <th>veg_type</th>\n      <th>multi_sos</th>\n      <th>multi_eos</th>\n      <th>lat</th>\n      <th>lon</th>\n    </tr>\n  </thead>\n  <tbody>\n    <tr>\n      <th>0</th>\n      <td>50639</td>\n      <td>榆树</td>\n      <td>4</td>\n      <td>9</td>\n      <td>48.0</td>\n      <td>122.73</td>\n    </tr>\n    <tr>\n      <th>1</th>\n      <td>50655</td>\n      <td>中东杨</td>\n      <td>4</td>\n      <td>9</td>\n      <td>48.5</td>\n      <td>126.18</td>\n    </tr>\n    <tr>\n      <th>2</th>\n      <td>50756</td>\n      <td>紫丁香</td>\n      <td>4</td>\n      <td>9</td>\n      <td>47.43</td>\n      <td>126.97</td>\n    </tr>\n    <tr>\n      <th>3</th>\n      <td>50756</td>\n      <td>小叶杨</td>\n      <td>4</td>\n      <td>9</td>\n      <td>47.43</td>\n      <td>126.97</td>\n    </tr>\n    <tr>\n      <th>4</th>\n      <td>50779</td>\n      <td>加拿大杨</td>\n      <td>4</td>\n      <td>9</td>\n      <td>48.36</td>\n      <td>134.28</td>\n    </tr>\n    <tr>\n      <th>...</th>\n      <td>...</td>\n      <td>...</td>\n      <td>...</td>\n      <td>...</td>\n      <td>...</td>\n      <td>...</td>\n    </tr>\n    <tr>\n      <th>488</th>\n      <td>58346</td>\n      <td>梧桐</td>\n      <td>4</td>\n      <td>10</td>\n      <td>31.36</td>\n      <td>119.81</td>\n    </tr>\n    <tr>\n      <th>489</th>\n      <td>58356</td>\n      <td>水杉</td>\n      <td>3</td>\n      <td>10</td>\n      <td>31.41</td>\n      <td>120.95</td>\n    </tr>\n    <tr>\n      <th>490</th>\n      <td>58433</td>\n      <td>刺槐</td>\n      <td>3</td>\n      <td>9</td>\n      <td>30.93</td>\n      <td>118.75</td>\n    </tr>\n    <tr>\n      <th>491</th>\n      <td>58433</td>\n      <td>楝树</td>\n      <td>3</td>\n      <td>10</td>\n      <td>30.93</td>\n      <td>118.75</td>\n    </tr>\n    <tr>\n      <th>492</th>\n      <td>58530</td>\n      <td>垂柳</td>\n      <td>2</td>\n      <td>10</td>\n      <td>29.86</td>\n      <td>118.43</td>\n    </tr>\n  </tbody>\n</table>\n<p>493 rows × 6 columns</p>\n</div>"
     },
     "execution_count": 143,
     "metadata": {},
     "output_type": "execute_result"
    }
   ],
   "source": [
    "for i in range(len(site_lat_lon)):\n",
    "    for j in range(len(all_site_lat_lon)):\n",
    "        if site_lat_lon.site[i] == all_site_lat_lon.site[j]:\n",
    "            site_lat_lon.lat[i] = all_site_lat_lon.lat[j]\n",
    "            site_lat_lon.lon[i] = all_site_lat_lon.lon[j]\n",
    "\n",
    "site_lat_lon.to_csv('/data/shuping/data/china_phenology/partial_corr/site_lat_lon_multi_eos.csv',  encoding='utf_8_sig')\n",
    "site_lat_lon"
   ],
   "metadata": {
    "collapsed": false,
    "pycharm": {
     "name": "#%%\n"
    }
   }
  },
  {
   "cell_type": "code",
   "execution_count": 146,
   "outputs": [
    {
     "data": {
      "text/plain": "      site veg_type  multi_sos  multi_eos    lat     lon\n0    58530       垂柳          2         10  29.86  118.43\n1    58433       楝树          3         10  30.93  118.75\n2    58433       刺槐          3          9  30.93  118.75\n3    58319       刺槐          3          8  31.06  116.95\n4    58319      悬铃木          3          8  31.06  116.95\n..     ...      ...        ...        ...    ...     ...\n481  51076       白蜡          4          8  47.73   88.08\n482  51076     加拿大杨          4          9  47.73   88.08\n483  50639       榆树          4          9  48.00  122.73\n484  50779     加拿大杨          4          9  48.36  134.28\n485  50655      中东杨          4          9  48.50  126.18\n\n[486 rows x 6 columns]",
      "text/html": "<div>\n<style scoped>\n    .dataframe tbody tr th:only-of-type {\n        vertical-align: middle;\n    }\n\n    .dataframe tbody tr th {\n        vertical-align: top;\n    }\n\n    .dataframe thead th {\n        text-align: right;\n    }\n</style>\n<table border=\"1\" class=\"dataframe\">\n  <thead>\n    <tr style=\"text-align: right;\">\n      <th></th>\n      <th>site</th>\n      <th>veg_type</th>\n      <th>multi_sos</th>\n      <th>multi_eos</th>\n      <th>lat</th>\n      <th>lon</th>\n    </tr>\n  </thead>\n  <tbody>\n    <tr>\n      <th>0</th>\n      <td>58530</td>\n      <td>垂柳</td>\n      <td>2</td>\n      <td>10</td>\n      <td>29.86</td>\n      <td>118.43</td>\n    </tr>\n    <tr>\n      <th>1</th>\n      <td>58433</td>\n      <td>楝树</td>\n      <td>3</td>\n      <td>10</td>\n      <td>30.93</td>\n      <td>118.75</td>\n    </tr>\n    <tr>\n      <th>2</th>\n      <td>58433</td>\n      <td>刺槐</td>\n      <td>3</td>\n      <td>9</td>\n      <td>30.93</td>\n      <td>118.75</td>\n    </tr>\n    <tr>\n      <th>3</th>\n      <td>58319</td>\n      <td>刺槐</td>\n      <td>3</td>\n      <td>8</td>\n      <td>31.06</td>\n      <td>116.95</td>\n    </tr>\n    <tr>\n      <th>4</th>\n      <td>58319</td>\n      <td>悬铃木</td>\n      <td>3</td>\n      <td>8</td>\n      <td>31.06</td>\n      <td>116.95</td>\n    </tr>\n    <tr>\n      <th>...</th>\n      <td>...</td>\n      <td>...</td>\n      <td>...</td>\n      <td>...</td>\n      <td>...</td>\n      <td>...</td>\n    </tr>\n    <tr>\n      <th>481</th>\n      <td>51076</td>\n      <td>白蜡</td>\n      <td>4</td>\n      <td>8</td>\n      <td>47.73</td>\n      <td>88.08</td>\n    </tr>\n    <tr>\n      <th>482</th>\n      <td>51076</td>\n      <td>加拿大杨</td>\n      <td>4</td>\n      <td>9</td>\n      <td>47.73</td>\n      <td>88.08</td>\n    </tr>\n    <tr>\n      <th>483</th>\n      <td>50639</td>\n      <td>榆树</td>\n      <td>4</td>\n      <td>9</td>\n      <td>48.00</td>\n      <td>122.73</td>\n    </tr>\n    <tr>\n      <th>484</th>\n      <td>50779</td>\n      <td>加拿大杨</td>\n      <td>4</td>\n      <td>9</td>\n      <td>48.36</td>\n      <td>134.28</td>\n    </tr>\n    <tr>\n      <th>485</th>\n      <td>50655</td>\n      <td>中东杨</td>\n      <td>4</td>\n      <td>9</td>\n      <td>48.50</td>\n      <td>126.18</td>\n    </tr>\n  </tbody>\n</table>\n<p>486 rows × 6 columns</p>\n</div>"
     },
     "execution_count": 146,
     "metadata": {},
     "output_type": "execute_result"
    }
   ],
   "source": [
    "file_path = '/data/shuping/data/china_phenology/partial_corr/site_lat_lon_multi_eos.csv'\n",
    "site_lat_lon = pd.read_csv(file_path)\n",
    "site_lat_lon = site_lat_lon.drop(['Unnamed: 0'], axis=1)\n",
    "site_lat_lon"
   ],
   "metadata": {
    "collapsed": false,
    "pycharm": {
     "name": "#%%\n"
    }
   }
  },
  {
   "cell_type": "code",
   "execution_count": 147,
   "outputs": [
    {
     "data": {
      "text/plain": "      site veg_type  multi_sos  multi_eos    lat     lon\n0    50639       榆树          4          9  48.00  122.73\n1    50655      中东杨          4          9  48.50  126.18\n2    50756      紫丁香          4          9  47.43  126.97\n3    50756      小叶杨          4          9  47.43  126.97\n4    50779     加拿大杨          4          9  48.36  134.28\n..     ...      ...        ...        ...    ...     ...\n481  58346       梧桐          4         10  31.36  119.81\n482  58356       水杉          3         10  31.41  120.95\n483  58433       楝树          3         10  30.93  118.75\n484  58433       刺槐          3          9  30.93  118.75\n485  58530       垂柳          2         10  29.86  118.43\n\n[486 rows x 6 columns]",
      "text/html": "<div>\n<style scoped>\n    .dataframe tbody tr th:only-of-type {\n        vertical-align: middle;\n    }\n\n    .dataframe tbody tr th {\n        vertical-align: top;\n    }\n\n    .dataframe thead th {\n        text-align: right;\n    }\n</style>\n<table border=\"1\" class=\"dataframe\">\n  <thead>\n    <tr style=\"text-align: right;\">\n      <th></th>\n      <th>site</th>\n      <th>veg_type</th>\n      <th>multi_sos</th>\n      <th>multi_eos</th>\n      <th>lat</th>\n      <th>lon</th>\n    </tr>\n  </thead>\n  <tbody>\n    <tr>\n      <th>0</th>\n      <td>50639</td>\n      <td>榆树</td>\n      <td>4</td>\n      <td>9</td>\n      <td>48.00</td>\n      <td>122.73</td>\n    </tr>\n    <tr>\n      <th>1</th>\n      <td>50655</td>\n      <td>中东杨</td>\n      <td>4</td>\n      <td>9</td>\n      <td>48.50</td>\n      <td>126.18</td>\n    </tr>\n    <tr>\n      <th>2</th>\n      <td>50756</td>\n      <td>紫丁香</td>\n      <td>4</td>\n      <td>9</td>\n      <td>47.43</td>\n      <td>126.97</td>\n    </tr>\n    <tr>\n      <th>3</th>\n      <td>50756</td>\n      <td>小叶杨</td>\n      <td>4</td>\n      <td>9</td>\n      <td>47.43</td>\n      <td>126.97</td>\n    </tr>\n    <tr>\n      <th>4</th>\n      <td>50779</td>\n      <td>加拿大杨</td>\n      <td>4</td>\n      <td>9</td>\n      <td>48.36</td>\n      <td>134.28</td>\n    </tr>\n    <tr>\n      <th>...</th>\n      <td>...</td>\n      <td>...</td>\n      <td>...</td>\n      <td>...</td>\n      <td>...</td>\n      <td>...</td>\n    </tr>\n    <tr>\n      <th>481</th>\n      <td>58346</td>\n      <td>梧桐</td>\n      <td>4</td>\n      <td>10</td>\n      <td>31.36</td>\n      <td>119.81</td>\n    </tr>\n    <tr>\n      <th>482</th>\n      <td>58356</td>\n      <td>水杉</td>\n      <td>3</td>\n      <td>10</td>\n      <td>31.41</td>\n      <td>120.95</td>\n    </tr>\n    <tr>\n      <th>483</th>\n      <td>58433</td>\n      <td>楝树</td>\n      <td>3</td>\n      <td>10</td>\n      <td>30.93</td>\n      <td>118.75</td>\n    </tr>\n    <tr>\n      <th>484</th>\n      <td>58433</td>\n      <td>刺槐</td>\n      <td>3</td>\n      <td>9</td>\n      <td>30.93</td>\n      <td>118.75</td>\n    </tr>\n    <tr>\n      <th>485</th>\n      <td>58530</td>\n      <td>垂柳</td>\n      <td>2</td>\n      <td>10</td>\n      <td>29.86</td>\n      <td>118.43</td>\n    </tr>\n  </tbody>\n</table>\n<p>486 rows × 6 columns</p>\n</div>"
     },
     "execution_count": 147,
     "metadata": {},
     "output_type": "execute_result"
    }
   ],
   "source": [
    "site_lat_lon = site_lat_lon.sort_values(by='site', ascending=True)\n",
    "site_lat_lon = site_lat_lon.reset_index(drop=True)\n",
    "site_lat_lon"
   ],
   "metadata": {
    "collapsed": false,
    "pycharm": {
     "name": "#%%\n"
    }
   }
  },
  {
   "cell_type": "code",
   "execution_count": 115,
   "outputs": [
    {
     "name": "stdout",
     "output_type": "stream",
     "text": [
      "object\n"
     ]
    },
    {
     "data": {
      "text/plain": "'榆树'"
     },
     "execution_count": 115,
     "metadata": {},
     "output_type": "execute_result"
    }
   ],
   "source": [
    "print(site_lat_lon['veg_type'].dtypes)\n",
    "str(site_lat_lon.veg_type[0][0:2])"
   ],
   "metadata": {
    "collapsed": false,
    "pycharm": {
     "name": "#%%\n"
    }
   }
  },
  {
   "cell_type": "code",
   "execution_count": 148,
   "outputs": [],
   "source": [
    "document_path = '/data/shuping/data/china_phenology/partial_corr/15year_csv/'\n",
    "out_path = '/data/shuping/data/china_phenology/partial_corr/15year_csv_match_lat_lon'\n",
    "files = os.listdir(document_path)\n",
    "for file in files:\n",
    "    csv_path = document_path + file\n",
    "    (name,ext) = os.path.splitext(file)\n",
    "    for i in range(len(site_lat_lon)):\n",
    "        if int(name[0:5]) == site_lat_lon.site[i] and str(name[6:8]) == str(site_lat_lon.veg_type[i][0:2]):\n",
    "            shutil.copy(csv_path, os.path.join(out_path, file))"
   ],
   "metadata": {
    "collapsed": false,
    "pycharm": {
     "name": "#%%\n"
    }
   }
  },
  {
   "cell_type": "code",
   "execution_count": 275,
   "outputs": [],
   "source": [
    "cru_lat_path = '/data/shuping/data/PhenoCam_V2_1674/3day_transition_dates/highest_corrcoef/cru_lat_lon/cru_lat.csv'\n",
    "cru_lon_path = '/data/shuping/data/PhenoCam_V2_1674/3day_transition_dates/highest_corrcoef/cru_lat_lon/cru_lon.csv'\n",
    "cru_lon = pd.read_csv(cru_lon_path)\n",
    "cru_lat = pd.read_csv(cru_lat_path)"
   ],
   "metadata": {
    "collapsed": false,
    "pycharm": {
     "name": "#%%\n"
    }
   }
  },
  {
   "cell_type": "code",
   "execution_count": 276,
   "outputs": [
    {
     "data": {
      "text/plain": "          0       1       2       3       4       5       6       7       8  \\\n0   -179.75 -179.25 -178.75 -178.25 -177.75 -177.25 -176.75 -176.25 -175.75   \n1   -179.75 -179.25 -178.75 -178.25 -177.75 -177.25 -176.75 -176.25 -175.75   \n2   -179.75 -179.25 -178.75 -178.25 -177.75 -177.25 -176.75 -176.25 -175.75   \n3   -179.75 -179.25 -178.75 -178.25 -177.75 -177.25 -176.75 -176.25 -175.75   \n4   -179.75 -179.25 -178.75 -178.25 -177.75 -177.25 -176.75 -176.25 -175.75   \n..      ...     ...     ...     ...     ...     ...     ...     ...     ...   \n115 -179.75 -179.25 -178.75 -178.25 -177.75 -177.25 -176.75 -176.25 -175.75   \n116 -179.75 -179.25 -178.75 -178.25 -177.75 -177.25 -176.75 -176.25 -175.75   \n117 -179.75 -179.25 -178.75 -178.25 -177.75 -177.25 -176.75 -176.25 -175.75   \n118 -179.75 -179.25 -178.75 -178.25 -177.75 -177.25 -176.75 -176.25 -175.75   \n119 -179.75 -179.25 -178.75 -178.25 -177.75 -177.25 -176.75 -176.25 -175.75   \n\n          9  ...     710     711     712     713     714     715     716  \\\n0   -175.25  ...  175.25  175.75  176.25  176.75  177.25  177.75  178.25   \n1   -175.25  ...  175.25  175.75  176.25  176.75  177.25  177.75  178.25   \n2   -175.25  ...  175.25  175.75  176.25  176.75  177.25  177.75  178.25   \n3   -175.25  ...  175.25  175.75  176.25  176.75  177.25  177.75  178.25   \n4   -175.25  ...  175.25  175.75  176.25  176.75  177.25  177.75  178.25   \n..      ...  ...     ...     ...     ...     ...     ...     ...     ...   \n115 -175.25  ...  175.25  175.75  176.25  176.75  177.25  177.75  178.25   \n116 -175.25  ...  175.25  175.75  176.25  176.75  177.25  177.75  178.25   \n117 -175.25  ...  175.25  175.75  176.25  176.75  177.25  177.75  178.25   \n118 -175.25  ...  175.25  175.75  176.25  176.75  177.25  177.75  178.25   \n119 -175.25  ...  175.25  175.75  176.25  176.75  177.25  177.75  178.25   \n\n        717     718     719  \n0    178.75  179.25  179.75  \n1    178.75  179.25  179.75  \n2    178.75  179.25  179.75  \n3    178.75  179.25  179.75  \n4    178.75  179.25  179.75  \n..      ...     ...     ...  \n115  178.75  179.25  179.75  \n116  178.75  179.25  179.75  \n117  178.75  179.25  179.75  \n118  178.75  179.25  179.75  \n119  178.75  179.25  179.75  \n\n[120 rows x 720 columns]",
      "text/html": "<div>\n<style scoped>\n    .dataframe tbody tr th:only-of-type {\n        vertical-align: middle;\n    }\n\n    .dataframe tbody tr th {\n        vertical-align: top;\n    }\n\n    .dataframe thead th {\n        text-align: right;\n    }\n</style>\n<table border=\"1\" class=\"dataframe\">\n  <thead>\n    <tr style=\"text-align: right;\">\n      <th></th>\n      <th>0</th>\n      <th>1</th>\n      <th>2</th>\n      <th>3</th>\n      <th>4</th>\n      <th>5</th>\n      <th>6</th>\n      <th>7</th>\n      <th>8</th>\n      <th>9</th>\n      <th>...</th>\n      <th>710</th>\n      <th>711</th>\n      <th>712</th>\n      <th>713</th>\n      <th>714</th>\n      <th>715</th>\n      <th>716</th>\n      <th>717</th>\n      <th>718</th>\n      <th>719</th>\n    </tr>\n  </thead>\n  <tbody>\n    <tr>\n      <th>0</th>\n      <td>-179.75</td>\n      <td>-179.25</td>\n      <td>-178.75</td>\n      <td>-178.25</td>\n      <td>-177.75</td>\n      <td>-177.25</td>\n      <td>-176.75</td>\n      <td>-176.25</td>\n      <td>-175.75</td>\n      <td>-175.25</td>\n      <td>...</td>\n      <td>175.25</td>\n      <td>175.75</td>\n      <td>176.25</td>\n      <td>176.75</td>\n      <td>177.25</td>\n      <td>177.75</td>\n      <td>178.25</td>\n      <td>178.75</td>\n      <td>179.25</td>\n      <td>179.75</td>\n    </tr>\n    <tr>\n      <th>1</th>\n      <td>-179.75</td>\n      <td>-179.25</td>\n      <td>-178.75</td>\n      <td>-178.25</td>\n      <td>-177.75</td>\n      <td>-177.25</td>\n      <td>-176.75</td>\n      <td>-176.25</td>\n      <td>-175.75</td>\n      <td>-175.25</td>\n      <td>...</td>\n      <td>175.25</td>\n      <td>175.75</td>\n      <td>176.25</td>\n      <td>176.75</td>\n      <td>177.25</td>\n      <td>177.75</td>\n      <td>178.25</td>\n      <td>178.75</td>\n      <td>179.25</td>\n      <td>179.75</td>\n    </tr>\n    <tr>\n      <th>2</th>\n      <td>-179.75</td>\n      <td>-179.25</td>\n      <td>-178.75</td>\n      <td>-178.25</td>\n      <td>-177.75</td>\n      <td>-177.25</td>\n      <td>-176.75</td>\n      <td>-176.25</td>\n      <td>-175.75</td>\n      <td>-175.25</td>\n      <td>...</td>\n      <td>175.25</td>\n      <td>175.75</td>\n      <td>176.25</td>\n      <td>176.75</td>\n      <td>177.25</td>\n      <td>177.75</td>\n      <td>178.25</td>\n      <td>178.75</td>\n      <td>179.25</td>\n      <td>179.75</td>\n    </tr>\n    <tr>\n      <th>3</th>\n      <td>-179.75</td>\n      <td>-179.25</td>\n      <td>-178.75</td>\n      <td>-178.25</td>\n      <td>-177.75</td>\n      <td>-177.25</td>\n      <td>-176.75</td>\n      <td>-176.25</td>\n      <td>-175.75</td>\n      <td>-175.25</td>\n      <td>...</td>\n      <td>175.25</td>\n      <td>175.75</td>\n      <td>176.25</td>\n      <td>176.75</td>\n      <td>177.25</td>\n      <td>177.75</td>\n      <td>178.25</td>\n      <td>178.75</td>\n      <td>179.25</td>\n      <td>179.75</td>\n    </tr>\n    <tr>\n      <th>4</th>\n      <td>-179.75</td>\n      <td>-179.25</td>\n      <td>-178.75</td>\n      <td>-178.25</td>\n      <td>-177.75</td>\n      <td>-177.25</td>\n      <td>-176.75</td>\n      <td>-176.25</td>\n      <td>-175.75</td>\n      <td>-175.25</td>\n      <td>...</td>\n      <td>175.25</td>\n      <td>175.75</td>\n      <td>176.25</td>\n      <td>176.75</td>\n      <td>177.25</td>\n      <td>177.75</td>\n      <td>178.25</td>\n      <td>178.75</td>\n      <td>179.25</td>\n      <td>179.75</td>\n    </tr>\n    <tr>\n      <th>...</th>\n      <td>...</td>\n      <td>...</td>\n      <td>...</td>\n      <td>...</td>\n      <td>...</td>\n      <td>...</td>\n      <td>...</td>\n      <td>...</td>\n      <td>...</td>\n      <td>...</td>\n      <td>...</td>\n      <td>...</td>\n      <td>...</td>\n      <td>...</td>\n      <td>...</td>\n      <td>...</td>\n      <td>...</td>\n      <td>...</td>\n      <td>...</td>\n      <td>...</td>\n      <td>...</td>\n    </tr>\n    <tr>\n      <th>115</th>\n      <td>-179.75</td>\n      <td>-179.25</td>\n      <td>-178.75</td>\n      <td>-178.25</td>\n      <td>-177.75</td>\n      <td>-177.25</td>\n      <td>-176.75</td>\n      <td>-176.25</td>\n      <td>-175.75</td>\n      <td>-175.25</td>\n      <td>...</td>\n      <td>175.25</td>\n      <td>175.75</td>\n      <td>176.25</td>\n      <td>176.75</td>\n      <td>177.25</td>\n      <td>177.75</td>\n      <td>178.25</td>\n      <td>178.75</td>\n      <td>179.25</td>\n      <td>179.75</td>\n    </tr>\n    <tr>\n      <th>116</th>\n      <td>-179.75</td>\n      <td>-179.25</td>\n      <td>-178.75</td>\n      <td>-178.25</td>\n      <td>-177.75</td>\n      <td>-177.25</td>\n      <td>-176.75</td>\n      <td>-176.25</td>\n      <td>-175.75</td>\n      <td>-175.25</td>\n      <td>...</td>\n      <td>175.25</td>\n      <td>175.75</td>\n      <td>176.25</td>\n      <td>176.75</td>\n      <td>177.25</td>\n      <td>177.75</td>\n      <td>178.25</td>\n      <td>178.75</td>\n      <td>179.25</td>\n      <td>179.75</td>\n    </tr>\n    <tr>\n      <th>117</th>\n      <td>-179.75</td>\n      <td>-179.25</td>\n      <td>-178.75</td>\n      <td>-178.25</td>\n      <td>-177.75</td>\n      <td>-177.25</td>\n      <td>-176.75</td>\n      <td>-176.25</td>\n      <td>-175.75</td>\n      <td>-175.25</td>\n      <td>...</td>\n      <td>175.25</td>\n      <td>175.75</td>\n      <td>176.25</td>\n      <td>176.75</td>\n      <td>177.25</td>\n      <td>177.75</td>\n      <td>178.25</td>\n      <td>178.75</td>\n      <td>179.25</td>\n      <td>179.75</td>\n    </tr>\n    <tr>\n      <th>118</th>\n      <td>-179.75</td>\n      <td>-179.25</td>\n      <td>-178.75</td>\n      <td>-178.25</td>\n      <td>-177.75</td>\n      <td>-177.25</td>\n      <td>-176.75</td>\n      <td>-176.25</td>\n      <td>-175.75</td>\n      <td>-175.25</td>\n      <td>...</td>\n      <td>175.25</td>\n      <td>175.75</td>\n      <td>176.25</td>\n      <td>176.75</td>\n      <td>177.25</td>\n      <td>177.75</td>\n      <td>178.25</td>\n      <td>178.75</td>\n      <td>179.25</td>\n      <td>179.75</td>\n    </tr>\n    <tr>\n      <th>119</th>\n      <td>-179.75</td>\n      <td>-179.25</td>\n      <td>-178.75</td>\n      <td>-178.25</td>\n      <td>-177.75</td>\n      <td>-177.25</td>\n      <td>-176.75</td>\n      <td>-176.25</td>\n      <td>-175.75</td>\n      <td>-175.25</td>\n      <td>...</td>\n      <td>175.25</td>\n      <td>175.75</td>\n      <td>176.25</td>\n      <td>176.75</td>\n      <td>177.25</td>\n      <td>177.75</td>\n      <td>178.25</td>\n      <td>178.75</td>\n      <td>179.25</td>\n      <td>179.75</td>\n    </tr>\n  </tbody>\n</table>\n<p>120 rows × 720 columns</p>\n</div>"
     },
     "execution_count": 276,
     "metadata": {},
     "output_type": "execute_result"
    }
   ],
   "source": [
    "cru_lon = cru_lon.drop(['Unnamed: 0'],axis=1)\n",
    "cru_lon"
   ],
   "metadata": {
    "collapsed": false,
    "pycharm": {
     "name": "#%%\n"
    }
   }
  },
  {
   "cell_type": "code",
   "execution_count": 277,
   "outputs": [
    {
     "data": {
      "text/plain": "         0      1      2      3      4      5      6      7      8      9  \\\n0    89.75  89.75  89.75  89.75  89.75  89.75  89.75  89.75  89.75  89.75   \n1    89.25  89.25  89.25  89.25  89.25  89.25  89.25  89.25  89.25  89.25   \n2    88.75  88.75  88.75  88.75  88.75  88.75  88.75  88.75  88.75  88.75   \n3    88.25  88.25  88.25  88.25  88.25  88.25  88.25  88.25  88.25  88.25   \n4    87.75  87.75  87.75  87.75  87.75  87.75  87.75  87.75  87.75  87.75   \n..     ...    ...    ...    ...    ...    ...    ...    ...    ...    ...   \n115  32.25  32.25  32.25  32.25  32.25  32.25  32.25  32.25  32.25  32.25   \n116  31.75  31.75  31.75  31.75  31.75  31.75  31.75  31.75  31.75  31.75   \n117  31.25  31.25  31.25  31.25  31.25  31.25  31.25  31.25  31.25  31.25   \n118  30.75  30.75  30.75  30.75  30.75  30.75  30.75  30.75  30.75  30.75   \n119  30.25  30.25  30.25  30.25  30.25  30.25  30.25  30.25  30.25  30.25   \n\n     ...    710    711    712    713    714    715    716    717    718    719  \n0    ...  89.75  89.75  89.75  89.75  89.75  89.75  89.75  89.75  89.75  89.75  \n1    ...  89.25  89.25  89.25  89.25  89.25  89.25  89.25  89.25  89.25  89.25  \n2    ...  88.75  88.75  88.75  88.75  88.75  88.75  88.75  88.75  88.75  88.75  \n3    ...  88.25  88.25  88.25  88.25  88.25  88.25  88.25  88.25  88.25  88.25  \n4    ...  87.75  87.75  87.75  87.75  87.75  87.75  87.75  87.75  87.75  87.75  \n..   ...    ...    ...    ...    ...    ...    ...    ...    ...    ...    ...  \n115  ...  32.25  32.25  32.25  32.25  32.25  32.25  32.25  32.25  32.25  32.25  \n116  ...  31.75  31.75  31.75  31.75  31.75  31.75  31.75  31.75  31.75  31.75  \n117  ...  31.25  31.25  31.25  31.25  31.25  31.25  31.25  31.25  31.25  31.25  \n118  ...  30.75  30.75  30.75  30.75  30.75  30.75  30.75  30.75  30.75  30.75  \n119  ...  30.25  30.25  30.25  30.25  30.25  30.25  30.25  30.25  30.25  30.25  \n\n[120 rows x 720 columns]",
      "text/html": "<div>\n<style scoped>\n    .dataframe tbody tr th:only-of-type {\n        vertical-align: middle;\n    }\n\n    .dataframe tbody tr th {\n        vertical-align: top;\n    }\n\n    .dataframe thead th {\n        text-align: right;\n    }\n</style>\n<table border=\"1\" class=\"dataframe\">\n  <thead>\n    <tr style=\"text-align: right;\">\n      <th></th>\n      <th>0</th>\n      <th>1</th>\n      <th>2</th>\n      <th>3</th>\n      <th>4</th>\n      <th>5</th>\n      <th>6</th>\n      <th>7</th>\n      <th>8</th>\n      <th>9</th>\n      <th>...</th>\n      <th>710</th>\n      <th>711</th>\n      <th>712</th>\n      <th>713</th>\n      <th>714</th>\n      <th>715</th>\n      <th>716</th>\n      <th>717</th>\n      <th>718</th>\n      <th>719</th>\n    </tr>\n  </thead>\n  <tbody>\n    <tr>\n      <th>0</th>\n      <td>89.75</td>\n      <td>89.75</td>\n      <td>89.75</td>\n      <td>89.75</td>\n      <td>89.75</td>\n      <td>89.75</td>\n      <td>89.75</td>\n      <td>89.75</td>\n      <td>89.75</td>\n      <td>89.75</td>\n      <td>...</td>\n      <td>89.75</td>\n      <td>89.75</td>\n      <td>89.75</td>\n      <td>89.75</td>\n      <td>89.75</td>\n      <td>89.75</td>\n      <td>89.75</td>\n      <td>89.75</td>\n      <td>89.75</td>\n      <td>89.75</td>\n    </tr>\n    <tr>\n      <th>1</th>\n      <td>89.25</td>\n      <td>89.25</td>\n      <td>89.25</td>\n      <td>89.25</td>\n      <td>89.25</td>\n      <td>89.25</td>\n      <td>89.25</td>\n      <td>89.25</td>\n      <td>89.25</td>\n      <td>89.25</td>\n      <td>...</td>\n      <td>89.25</td>\n      <td>89.25</td>\n      <td>89.25</td>\n      <td>89.25</td>\n      <td>89.25</td>\n      <td>89.25</td>\n      <td>89.25</td>\n      <td>89.25</td>\n      <td>89.25</td>\n      <td>89.25</td>\n    </tr>\n    <tr>\n      <th>2</th>\n      <td>88.75</td>\n      <td>88.75</td>\n      <td>88.75</td>\n      <td>88.75</td>\n      <td>88.75</td>\n      <td>88.75</td>\n      <td>88.75</td>\n      <td>88.75</td>\n      <td>88.75</td>\n      <td>88.75</td>\n      <td>...</td>\n      <td>88.75</td>\n      <td>88.75</td>\n      <td>88.75</td>\n      <td>88.75</td>\n      <td>88.75</td>\n      <td>88.75</td>\n      <td>88.75</td>\n      <td>88.75</td>\n      <td>88.75</td>\n      <td>88.75</td>\n    </tr>\n    <tr>\n      <th>3</th>\n      <td>88.25</td>\n      <td>88.25</td>\n      <td>88.25</td>\n      <td>88.25</td>\n      <td>88.25</td>\n      <td>88.25</td>\n      <td>88.25</td>\n      <td>88.25</td>\n      <td>88.25</td>\n      <td>88.25</td>\n      <td>...</td>\n      <td>88.25</td>\n      <td>88.25</td>\n      <td>88.25</td>\n      <td>88.25</td>\n      <td>88.25</td>\n      <td>88.25</td>\n      <td>88.25</td>\n      <td>88.25</td>\n      <td>88.25</td>\n      <td>88.25</td>\n    </tr>\n    <tr>\n      <th>4</th>\n      <td>87.75</td>\n      <td>87.75</td>\n      <td>87.75</td>\n      <td>87.75</td>\n      <td>87.75</td>\n      <td>87.75</td>\n      <td>87.75</td>\n      <td>87.75</td>\n      <td>87.75</td>\n      <td>87.75</td>\n      <td>...</td>\n      <td>87.75</td>\n      <td>87.75</td>\n      <td>87.75</td>\n      <td>87.75</td>\n      <td>87.75</td>\n      <td>87.75</td>\n      <td>87.75</td>\n      <td>87.75</td>\n      <td>87.75</td>\n      <td>87.75</td>\n    </tr>\n    <tr>\n      <th>...</th>\n      <td>...</td>\n      <td>...</td>\n      <td>...</td>\n      <td>...</td>\n      <td>...</td>\n      <td>...</td>\n      <td>...</td>\n      <td>...</td>\n      <td>...</td>\n      <td>...</td>\n      <td>...</td>\n      <td>...</td>\n      <td>...</td>\n      <td>...</td>\n      <td>...</td>\n      <td>...</td>\n      <td>...</td>\n      <td>...</td>\n      <td>...</td>\n      <td>...</td>\n      <td>...</td>\n    </tr>\n    <tr>\n      <th>115</th>\n      <td>32.25</td>\n      <td>32.25</td>\n      <td>32.25</td>\n      <td>32.25</td>\n      <td>32.25</td>\n      <td>32.25</td>\n      <td>32.25</td>\n      <td>32.25</td>\n      <td>32.25</td>\n      <td>32.25</td>\n      <td>...</td>\n      <td>32.25</td>\n      <td>32.25</td>\n      <td>32.25</td>\n      <td>32.25</td>\n      <td>32.25</td>\n      <td>32.25</td>\n      <td>32.25</td>\n      <td>32.25</td>\n      <td>32.25</td>\n      <td>32.25</td>\n    </tr>\n    <tr>\n      <th>116</th>\n      <td>31.75</td>\n      <td>31.75</td>\n      <td>31.75</td>\n      <td>31.75</td>\n      <td>31.75</td>\n      <td>31.75</td>\n      <td>31.75</td>\n      <td>31.75</td>\n      <td>31.75</td>\n      <td>31.75</td>\n      <td>...</td>\n      <td>31.75</td>\n      <td>31.75</td>\n      <td>31.75</td>\n      <td>31.75</td>\n      <td>31.75</td>\n      <td>31.75</td>\n      <td>31.75</td>\n      <td>31.75</td>\n      <td>31.75</td>\n      <td>31.75</td>\n    </tr>\n    <tr>\n      <th>117</th>\n      <td>31.25</td>\n      <td>31.25</td>\n      <td>31.25</td>\n      <td>31.25</td>\n      <td>31.25</td>\n      <td>31.25</td>\n      <td>31.25</td>\n      <td>31.25</td>\n      <td>31.25</td>\n      <td>31.25</td>\n      <td>...</td>\n      <td>31.25</td>\n      <td>31.25</td>\n      <td>31.25</td>\n      <td>31.25</td>\n      <td>31.25</td>\n      <td>31.25</td>\n      <td>31.25</td>\n      <td>31.25</td>\n      <td>31.25</td>\n      <td>31.25</td>\n    </tr>\n    <tr>\n      <th>118</th>\n      <td>30.75</td>\n      <td>30.75</td>\n      <td>30.75</td>\n      <td>30.75</td>\n      <td>30.75</td>\n      <td>30.75</td>\n      <td>30.75</td>\n      <td>30.75</td>\n      <td>30.75</td>\n      <td>30.75</td>\n      <td>...</td>\n      <td>30.75</td>\n      <td>30.75</td>\n      <td>30.75</td>\n      <td>30.75</td>\n      <td>30.75</td>\n      <td>30.75</td>\n      <td>30.75</td>\n      <td>30.75</td>\n      <td>30.75</td>\n      <td>30.75</td>\n    </tr>\n    <tr>\n      <th>119</th>\n      <td>30.25</td>\n      <td>30.25</td>\n      <td>30.25</td>\n      <td>30.25</td>\n      <td>30.25</td>\n      <td>30.25</td>\n      <td>30.25</td>\n      <td>30.25</td>\n      <td>30.25</td>\n      <td>30.25</td>\n      <td>...</td>\n      <td>30.25</td>\n      <td>30.25</td>\n      <td>30.25</td>\n      <td>30.25</td>\n      <td>30.25</td>\n      <td>30.25</td>\n      <td>30.25</td>\n      <td>30.25</td>\n      <td>30.25</td>\n      <td>30.25</td>\n    </tr>\n  </tbody>\n</table>\n<p>120 rows × 720 columns</p>\n</div>"
     },
     "execution_count": 277,
     "metadata": {},
     "output_type": "execute_result"
    }
   ],
   "source": [
    "cru_lat = cru_lat.drop(['Unnamed: 0'],axis=1)\n",
    "cru_lat"
   ],
   "metadata": {
    "collapsed": false,
    "pycharm": {
     "name": "#%%\n"
    }
   }
  },
  {
   "cell_type": "code",
   "execution_count": 278,
   "outputs": [
    {
     "data": {
      "text/plain": "array([[89.75, 89.75, 89.75, ..., 89.75, 89.75, 89.75],\n       [89.25, 89.25, 89.25, ..., 89.25, 89.25, 89.25],\n       [88.75, 88.75, 88.75, ..., 88.75, 88.75, 88.75],\n       ...,\n       [31.25, 31.25, 31.25, ..., 31.25, 31.25, 31.25],\n       [30.75, 30.75, 30.75, ..., 30.75, 30.75, 30.75],\n       [30.25, 30.25, 30.25, ..., 30.25, 30.25, 30.25]])"
     },
     "execution_count": 278,
     "metadata": {},
     "output_type": "execute_result"
    }
   ],
   "source": [
    "cru_lat = np.array(cru_lat)\n",
    "cru_lat"
   ],
   "metadata": {
    "collapsed": false,
    "pycharm": {
     "name": "#%%\n"
    }
   }
  },
  {
   "cell_type": "code",
   "execution_count": 279,
   "outputs": [
    {
     "data": {
      "text/plain": "array([[-179.75, -179.25, -178.75, ...,  178.75,  179.25,  179.75],\n       [-179.75, -179.25, -178.75, ...,  178.75,  179.25,  179.75],\n       [-179.75, -179.25, -178.75, ...,  178.75,  179.25,  179.75],\n       ...,\n       [-179.75, -179.25, -178.75, ...,  178.75,  179.25,  179.75],\n       [-179.75, -179.25, -178.75, ...,  178.75,  179.25,  179.75],\n       [-179.75, -179.25, -178.75, ...,  178.75,  179.25,  179.75]])"
     },
     "execution_count": 279,
     "metadata": {},
     "output_type": "execute_result"
    }
   ],
   "source": [
    "cru_lon = np.array(cru_lon)\n",
    "cru_lon"
   ],
   "metadata": {
    "collapsed": false,
    "pycharm": {
     "name": "#%%\n"
    }
   }
  },
  {
   "cell_type": "code",
   "execution_count": 208,
   "outputs": [
    {
     "data": {
      "text/plain": "      site veg_type  multi_sos  multi_eos    lat     lon col row\n0    58433       楝树          3         10  30.93  118.75        \n1    58433       刺槐          3          9  30.93  118.75        \n2    58319       刺槐          3          8  31.06  116.95        \n3    58319      悬铃木          3          8  31.06  116.95        \n4    58339       楝树          3         10  31.32  118.88        \n..     ...      ...        ...        ...    ...     ...  ..  ..\n480  51076       白蜡          4          8  47.73   88.08        \n481  51076     加拿大杨          4          9  47.73   88.08        \n482  50639       榆树          4          9  48.00  122.73        \n483  50779     加拿大杨          4          9  48.36  134.28        \n484  50655      中东杨          4          9  48.50  126.18        \n\n[485 rows x 8 columns]",
      "text/html": "<div>\n<style scoped>\n    .dataframe tbody tr th:only-of-type {\n        vertical-align: middle;\n    }\n\n    .dataframe tbody tr th {\n        vertical-align: top;\n    }\n\n    .dataframe thead th {\n        text-align: right;\n    }\n</style>\n<table border=\"1\" class=\"dataframe\">\n  <thead>\n    <tr style=\"text-align: right;\">\n      <th></th>\n      <th>site</th>\n      <th>veg_type</th>\n      <th>multi_sos</th>\n      <th>multi_eos</th>\n      <th>lat</th>\n      <th>lon</th>\n      <th>col</th>\n      <th>row</th>\n    </tr>\n  </thead>\n  <tbody>\n    <tr>\n      <th>0</th>\n      <td>58433</td>\n      <td>楝树</td>\n      <td>3</td>\n      <td>10</td>\n      <td>30.93</td>\n      <td>118.75</td>\n      <td></td>\n      <td></td>\n    </tr>\n    <tr>\n      <th>1</th>\n      <td>58433</td>\n      <td>刺槐</td>\n      <td>3</td>\n      <td>9</td>\n      <td>30.93</td>\n      <td>118.75</td>\n      <td></td>\n      <td></td>\n    </tr>\n    <tr>\n      <th>2</th>\n      <td>58319</td>\n      <td>刺槐</td>\n      <td>3</td>\n      <td>8</td>\n      <td>31.06</td>\n      <td>116.95</td>\n      <td></td>\n      <td></td>\n    </tr>\n    <tr>\n      <th>3</th>\n      <td>58319</td>\n      <td>悬铃木</td>\n      <td>3</td>\n      <td>8</td>\n      <td>31.06</td>\n      <td>116.95</td>\n      <td></td>\n      <td></td>\n    </tr>\n    <tr>\n      <th>4</th>\n      <td>58339</td>\n      <td>楝树</td>\n      <td>3</td>\n      <td>10</td>\n      <td>31.32</td>\n      <td>118.88</td>\n      <td></td>\n      <td></td>\n    </tr>\n    <tr>\n      <th>...</th>\n      <td>...</td>\n      <td>...</td>\n      <td>...</td>\n      <td>...</td>\n      <td>...</td>\n      <td>...</td>\n      <td>...</td>\n      <td>...</td>\n    </tr>\n    <tr>\n      <th>480</th>\n      <td>51076</td>\n      <td>白蜡</td>\n      <td>4</td>\n      <td>8</td>\n      <td>47.73</td>\n      <td>88.08</td>\n      <td></td>\n      <td></td>\n    </tr>\n    <tr>\n      <th>481</th>\n      <td>51076</td>\n      <td>加拿大杨</td>\n      <td>4</td>\n      <td>9</td>\n      <td>47.73</td>\n      <td>88.08</td>\n      <td></td>\n      <td></td>\n    </tr>\n    <tr>\n      <th>482</th>\n      <td>50639</td>\n      <td>榆树</td>\n      <td>4</td>\n      <td>9</td>\n      <td>48.00</td>\n      <td>122.73</td>\n      <td></td>\n      <td></td>\n    </tr>\n    <tr>\n      <th>483</th>\n      <td>50779</td>\n      <td>加拿大杨</td>\n      <td>4</td>\n      <td>9</td>\n      <td>48.36</td>\n      <td>134.28</td>\n      <td></td>\n      <td></td>\n    </tr>\n    <tr>\n      <th>484</th>\n      <td>50655</td>\n      <td>中东杨</td>\n      <td>4</td>\n      <td>9</td>\n      <td>48.50</td>\n      <td>126.18</td>\n      <td></td>\n      <td></td>\n    </tr>\n  </tbody>\n</table>\n<p>485 rows × 8 columns</p>\n</div>"
     },
     "execution_count": 208,
     "metadata": {},
     "output_type": "execute_result"
    }
   ],
   "source": [
    "file_path = '/data/shuping/data/china_phenology/partial_corr/site_lat_lon_multi_eos.csv'\n",
    "site_lat_lon = pd.read_csv(file_path)\n",
    "site_lat_lon = site_lat_lon.drop(['Unnamed: 0'], axis=1)\n",
    "site_lat_lon['col'] = ''\n",
    "site_lat_lon['row'] = ''\n",
    "site_lat_lon = site_lat_lon[site_lat_lon['lat'] >= 30.25]\n",
    "site_lat_lon = site_lat_lon.reset_index(drop=True)\n",
    "site_lat_lon"
   ],
   "metadata": {
    "collapsed": false,
    "pycharm": {
     "name": "#%%\n"
    }
   }
  },
  {
   "cell_type": "code",
   "execution_count": 209,
   "outputs": [
    {
     "name": "stderr",
     "output_type": "stream",
     "text": [
      "/home/sdu-w-001/anaconda3/envs/jsp_gdal/lib/python3.7/site-packages/ipykernel_launcher.py:7: SettingWithCopyWarning: \n",
      "A value is trying to be set on a copy of a slice from a DataFrame\n",
      "\n",
      "See the caveats in the documentation: https://pandas.pydata.org/pandas-docs/stable/user_guide/indexing.html#returning-a-view-versus-a-copy\n",
      "  import sys\n",
      "/home/sdu-w-001/anaconda3/envs/jsp_gdal/lib/python3.7/site-packages/ipykernel_launcher.py:8: SettingWithCopyWarning: \n",
      "A value is trying to be set on a copy of a slice from a DataFrame\n",
      "\n",
      "See the caveats in the documentation: https://pandas.pydata.org/pandas-docs/stable/user_guide/indexing.html#returning-a-view-versus-a-copy\n",
      "  \n"
     ]
    }
   ],
   "source": [
    "for i in range(len(site_lat_lon)):\n",
    "    site_lat = site_lat_lon.lat[i]\n",
    "    site_lon = site_lat_lon.lon[i]\n",
    "    for m in range(120):\n",
    "        for n in range(720):\n",
    "            if abs(cru_lat[m, n]-site_lat)<=0.25 and abs(cru_lon[m, n]-site_lon)<=0.25:\n",
    "                site_lat_lon.col[i] = n\n",
    "                site_lat_lon.row[i] = m"
   ],
   "metadata": {
    "collapsed": false,
    "pycharm": {
     "name": "#%%\n"
    }
   }
  },
  {
   "cell_type": "code",
   "execution_count": 223,
   "outputs": [
    {
     "data": {
      "text/plain": "      site veg_type  multi_sos  multi_eos    lat     lon  col  row\n0    50639       榆树          4          9  48.00  122.73  605   84\n1    50655      中东杨          4          9  48.50  126.18  612   83\n2    50756      紫丁香          4          9  47.43  126.97  613   85\n3    50756      小叶杨          4          9  47.43  126.97  613   85\n4    50779     加拿大杨          4          9  48.36  134.28  628   83\n..     ...      ...        ...        ...    ...     ...  ...  ...\n480  58339       楝树          3         10  31.32  118.88  597  117\n481  58346       梧桐          4         10  31.36  119.81  599  117\n482  58356       水杉          3         10  31.41  120.95  601  117\n483  58433       刺槐          3          9  30.93  118.75  597  118\n484  58433       楝树          3         10  30.93  118.75  597  118\n\n[485 rows x 8 columns]",
      "text/html": "<div>\n<style scoped>\n    .dataframe tbody tr th:only-of-type {\n        vertical-align: middle;\n    }\n\n    .dataframe tbody tr th {\n        vertical-align: top;\n    }\n\n    .dataframe thead th {\n        text-align: right;\n    }\n</style>\n<table border=\"1\" class=\"dataframe\">\n  <thead>\n    <tr style=\"text-align: right;\">\n      <th></th>\n      <th>site</th>\n      <th>veg_type</th>\n      <th>multi_sos</th>\n      <th>multi_eos</th>\n      <th>lat</th>\n      <th>lon</th>\n      <th>col</th>\n      <th>row</th>\n    </tr>\n  </thead>\n  <tbody>\n    <tr>\n      <th>0</th>\n      <td>50639</td>\n      <td>榆树</td>\n      <td>4</td>\n      <td>9</td>\n      <td>48.00</td>\n      <td>122.73</td>\n      <td>605</td>\n      <td>84</td>\n    </tr>\n    <tr>\n      <th>1</th>\n      <td>50655</td>\n      <td>中东杨</td>\n      <td>4</td>\n      <td>9</td>\n      <td>48.50</td>\n      <td>126.18</td>\n      <td>612</td>\n      <td>83</td>\n    </tr>\n    <tr>\n      <th>2</th>\n      <td>50756</td>\n      <td>紫丁香</td>\n      <td>4</td>\n      <td>9</td>\n      <td>47.43</td>\n      <td>126.97</td>\n      <td>613</td>\n      <td>85</td>\n    </tr>\n    <tr>\n      <th>3</th>\n      <td>50756</td>\n      <td>小叶杨</td>\n      <td>4</td>\n      <td>9</td>\n      <td>47.43</td>\n      <td>126.97</td>\n      <td>613</td>\n      <td>85</td>\n    </tr>\n    <tr>\n      <th>4</th>\n      <td>50779</td>\n      <td>加拿大杨</td>\n      <td>4</td>\n      <td>9</td>\n      <td>48.36</td>\n      <td>134.28</td>\n      <td>628</td>\n      <td>83</td>\n    </tr>\n    <tr>\n      <th>...</th>\n      <td>...</td>\n      <td>...</td>\n      <td>...</td>\n      <td>...</td>\n      <td>...</td>\n      <td>...</td>\n      <td>...</td>\n      <td>...</td>\n    </tr>\n    <tr>\n      <th>480</th>\n      <td>58339</td>\n      <td>楝树</td>\n      <td>3</td>\n      <td>10</td>\n      <td>31.32</td>\n      <td>118.88</td>\n      <td>597</td>\n      <td>117</td>\n    </tr>\n    <tr>\n      <th>481</th>\n      <td>58346</td>\n      <td>梧桐</td>\n      <td>4</td>\n      <td>10</td>\n      <td>31.36</td>\n      <td>119.81</td>\n      <td>599</td>\n      <td>117</td>\n    </tr>\n    <tr>\n      <th>482</th>\n      <td>58356</td>\n      <td>水杉</td>\n      <td>3</td>\n      <td>10</td>\n      <td>31.41</td>\n      <td>120.95</td>\n      <td>601</td>\n      <td>117</td>\n    </tr>\n    <tr>\n      <th>483</th>\n      <td>58433</td>\n      <td>刺槐</td>\n      <td>3</td>\n      <td>9</td>\n      <td>30.93</td>\n      <td>118.75</td>\n      <td>597</td>\n      <td>118</td>\n    </tr>\n    <tr>\n      <th>484</th>\n      <td>58433</td>\n      <td>楝树</td>\n      <td>3</td>\n      <td>10</td>\n      <td>30.93</td>\n      <td>118.75</td>\n      <td>597</td>\n      <td>118</td>\n    </tr>\n  </tbody>\n</table>\n<p>485 rows × 8 columns</p>\n</div>"
     },
     "execution_count": 223,
     "metadata": {},
     "output_type": "execute_result"
    }
   ],
   "source": [
    "site_lat_lon.to_csv('/data/shuping/data/china_phenology/partial_corr/site_lat_lon_multi_eos.csv', encoding='utf_8_sig')\n",
    "site_lat_lon"
   ],
   "metadata": {
    "collapsed": false,
    "pycharm": {
     "name": "#%%\n"
    }
   }
  },
  {
   "cell_type": "markdown",
   "source": [
    "###highest_corrcoef"
   ],
   "metadata": {
    "collapsed": false,
    "pycharm": {
     "name": "#%% md\n"
    }
   }
  },
  {
   "cell_type": "code",
   "execution_count": null,
   "outputs": [],
   "source": [
    "import pandas as pd\n",
    "import os"
   ],
   "metadata": {
    "collapsed": false,
    "pycharm": {
     "name": "#%%\n"
    }
   }
  },
  {
   "cell_type": "code",
   "execution_count": 51,
   "outputs": [
    {
     "data": {
      "text/plain": "      site veg_type  multi_sos  multi_eos    lat     lon  col  row\n0    50639       榆树          4          9  48.00  122.73  605   84\n1    50655      中东杨          4          9  48.50  126.18  612   83\n2    50756      紫丁香          4          9  47.43  126.97  613   85\n3    50756      小叶杨          4          9  47.43  126.97  613   85\n4    50779     加拿大杨          4          9  48.36  134.28  628   83\n..     ...      ...        ...        ...    ...     ...  ...  ...\n480  58339       楝树          3         10  31.32  118.88  597  117\n481  58346       梧桐          4         10  31.36  119.81  599  117\n482  58356       水杉          3         10  31.41  120.95  601  117\n483  58433       刺槐          3          9  30.93  118.75  597  118\n484  58433       楝树          3         10  30.93  118.75  597  118\n\n[485 rows x 8 columns]",
      "text/html": "<div>\n<style scoped>\n    .dataframe tbody tr th:only-of-type {\n        vertical-align: middle;\n    }\n\n    .dataframe tbody tr th {\n        vertical-align: top;\n    }\n\n    .dataframe thead th {\n        text-align: right;\n    }\n</style>\n<table border=\"1\" class=\"dataframe\">\n  <thead>\n    <tr style=\"text-align: right;\">\n      <th></th>\n      <th>site</th>\n      <th>veg_type</th>\n      <th>multi_sos</th>\n      <th>multi_eos</th>\n      <th>lat</th>\n      <th>lon</th>\n      <th>col</th>\n      <th>row</th>\n    </tr>\n  </thead>\n  <tbody>\n    <tr>\n      <th>0</th>\n      <td>50639</td>\n      <td>榆树</td>\n      <td>4</td>\n      <td>9</td>\n      <td>48.00</td>\n      <td>122.73</td>\n      <td>605</td>\n      <td>84</td>\n    </tr>\n    <tr>\n      <th>1</th>\n      <td>50655</td>\n      <td>中东杨</td>\n      <td>4</td>\n      <td>9</td>\n      <td>48.50</td>\n      <td>126.18</td>\n      <td>612</td>\n      <td>83</td>\n    </tr>\n    <tr>\n      <th>2</th>\n      <td>50756</td>\n      <td>紫丁香</td>\n      <td>4</td>\n      <td>9</td>\n      <td>47.43</td>\n      <td>126.97</td>\n      <td>613</td>\n      <td>85</td>\n    </tr>\n    <tr>\n      <th>3</th>\n      <td>50756</td>\n      <td>小叶杨</td>\n      <td>4</td>\n      <td>9</td>\n      <td>47.43</td>\n      <td>126.97</td>\n      <td>613</td>\n      <td>85</td>\n    </tr>\n    <tr>\n      <th>4</th>\n      <td>50779</td>\n      <td>加拿大杨</td>\n      <td>4</td>\n      <td>9</td>\n      <td>48.36</td>\n      <td>134.28</td>\n      <td>628</td>\n      <td>83</td>\n    </tr>\n    <tr>\n      <th>...</th>\n      <td>...</td>\n      <td>...</td>\n      <td>...</td>\n      <td>...</td>\n      <td>...</td>\n      <td>...</td>\n      <td>...</td>\n      <td>...</td>\n    </tr>\n    <tr>\n      <th>480</th>\n      <td>58339</td>\n      <td>楝树</td>\n      <td>3</td>\n      <td>10</td>\n      <td>31.32</td>\n      <td>118.88</td>\n      <td>597</td>\n      <td>117</td>\n    </tr>\n    <tr>\n      <th>481</th>\n      <td>58346</td>\n      <td>梧桐</td>\n      <td>4</td>\n      <td>10</td>\n      <td>31.36</td>\n      <td>119.81</td>\n      <td>599</td>\n      <td>117</td>\n    </tr>\n    <tr>\n      <th>482</th>\n      <td>58356</td>\n      <td>水杉</td>\n      <td>3</td>\n      <td>10</td>\n      <td>31.41</td>\n      <td>120.95</td>\n      <td>601</td>\n      <td>117</td>\n    </tr>\n    <tr>\n      <th>483</th>\n      <td>58433</td>\n      <td>刺槐</td>\n      <td>3</td>\n      <td>9</td>\n      <td>30.93</td>\n      <td>118.75</td>\n      <td>597</td>\n      <td>118</td>\n    </tr>\n    <tr>\n      <th>484</th>\n      <td>58433</td>\n      <td>楝树</td>\n      <td>3</td>\n      <td>10</td>\n      <td>30.93</td>\n      <td>118.75</td>\n      <td>597</td>\n      <td>118</td>\n    </tr>\n  </tbody>\n</table>\n<p>485 rows × 8 columns</p>\n</div>"
     },
     "execution_count": 51,
     "metadata": {},
     "output_type": "execute_result"
    }
   ],
   "source": [
    "file_path = '/data/shuping/data/china_phenology/partial_corr/woody/site_lat_lon_multi_eos.csv'\n",
    "site_lat_lon = pd.read_csv(file_path)\n",
    "site_lat_lon = site_lat_lon.drop(['Unnamed: 0'], axis=1)\n",
    "site_lat_lon = site_lat_lon.sort_values(by='site', ascending=True)\n",
    "site_lat_lon = site_lat_lon.reset_index(drop=True)\n",
    "site_lat_lon"
   ],
   "metadata": {
    "collapsed": false,
    "pycharm": {
     "name": "#%%\n"
    }
   }
  },
  {
   "cell_type": "code",
   "execution_count": 229,
   "outputs": [
    {
     "name": "stderr",
     "output_type": "stream",
     "text": [
      "/home/sdu-w-001/anaconda3/envs/jsp_gdal/lib/python3.7/site-packages/scipy/stats/stats.py:4484: SpearmanRConstantInputWarning: An input array is constant; the correlation coefficient is not defined.\n",
      "  warnings.warn(SpearmanRConstantInputWarning())\n"
     ]
    }
   ],
   "source": [
    "file_path = '/data/shuping/data/china_phenology/partial_corr/15year_csv_match_lat_lon/'\n",
    "files = sorted(os.listdir(file_path))\n",
    "for k in range(len(files)):\n",
    "    csv_path = file_path + files[k]\n",
    "    df = pd.read_csv(csv_path)\n",
    "    df = df.drop(['Unnamed: 0'], axis=1)\n",
    "    df['tmean'] = ''\n",
    "    df['pre'] = ''\n",
    "    df['solr'] = ''\n",
    "    df['sm'] = ''\n",
    "    a = df.shape[0]\n",
    "    start_year = df.year[0]\n",
    "    end_year = df.year[a-1]\n",
    "    i = site_lat_lon.row[k]\n",
    "    j = site_lat_lon.col[k]\n",
    "    b = (start_year-1982)-(end_year-1982+1)\n",
    "    if abs(b)==a:\n",
    "        eos_series = df.eos\n",
    "        tmean_series_12 = tmean_12_datasets[start_year-1982:end_year-1982+1, i, j]\n",
    "        tmean_series_11 = tmean_11_datasets[start_year-1982:end_year-1982+1, i, j]\n",
    "        tmean_series_10 = tmean_10_datasets[start_year-1982:end_year-1982+1, i, j]\n",
    "        tmean_series_9 = tmean_9_datasets[start_year-1982:end_year-1982+1, i, j]\n",
    "        tmean_series_8 = tmean_8_datasets[start_year-1982:end_year-1982+1, i, j]\n",
    "        tmean_series_7 = tmean_7_datasets[start_year-1982:end_year-1982+1, i, j]\n",
    "        tmean_series_6 = tmean_6_datasets[start_year-1982:end_year-1982+1, i, j]\n",
    "\n",
    "        pre_series_12 = pre_12_datasets[start_year-1982:end_year-1982+1, i, j]\n",
    "        pre_series_11 = pre_11_datasets[start_year-1982:end_year-1982+1, i, j]\n",
    "        pre_series_10 = pre_10_datasets[start_year-1982:end_year-1982+1, i, j]\n",
    "        pre_series_9 = pre_9_datasets[start_year-1982:end_year-1982+1, i, j]\n",
    "        pre_series_8 = pre_8_datasets[start_year-1982:end_year-1982+1, i, j]\n",
    "        pre_series_7 = pre_7_datasets[start_year-1982:end_year-1982+1, i, j]\n",
    "        pre_series_6 = pre_6_datasets[start_year-1982:end_year-1982+1, i, j]\n",
    "\n",
    "        solr_series_12 = solr_12_datasets[start_year-1982:end_year-1982+1, i, j]\n",
    "        solr_series_11 = solr_11_datasets[start_year-1982:end_year-1982+1, i, j]\n",
    "        solr_series_10 = solr_10_datasets[start_year-1982:end_year-1982+1, i, j]\n",
    "        solr_series_9 = solr_9_datasets[start_year-1982:end_year-1982+1, i, j]\n",
    "        solr_series_8 = solr_8_datasets[start_year-1982:end_year-1982+1, i, j]\n",
    "        solr_series_7 = solr_7_datasets[start_year-1982:end_year-1982+1, i, j]\n",
    "        solr_series_6 = solr_6_datasets[start_year-1982:end_year-1982+1, i, j]\n",
    "\n",
    "        sm_series_12 = sm_12_datasets[start_year-1982:end_year-1982+1, i, j]\n",
    "        sm_series_11 = sm_11_datasets[start_year-1982:end_year-1982+1, i, j]\n",
    "        sm_series_10 = sm_10_datasets[start_year-1982:end_year-1982+1, i, j]\n",
    "        sm_series_9 = sm_9_datasets[start_year-1982:end_year-1982+1, i, j]\n",
    "        sm_series_8 = sm_8_datasets[start_year-1982:end_year-1982+1, i, j]\n",
    "        sm_series_7 = sm_7_datasets[start_year-1982:end_year-1982+1, i, j]\n",
    "        sm_series_6 = sm_6_datasets[start_year-1982:end_year-1982+1, i, j]\n",
    "\n",
    "        if site_lat_lon.multi_eos[k]==12:\n",
    "            #tmean\n",
    "            r0, p0 = stats.spearmanr(eos_series, tmean_series_12)\n",
    "            #12+11(preseason长度为1)\n",
    "            tmean_series_12_11 = np.mean([tmean_series_12,tmean_series_11], axis = 0)\n",
    "            r1, p1 = stats.spearmanr(eos_series, tmean_series_12_11)\n",
    "            #12+11+10\n",
    "            tmean_series_12_11_10 = np.mean([tmean_series_12,tmean_series_11,tmean_series_10], axis = 0)\n",
    "            r2, p2 = stats.spearmanr(eos_series, tmean_series_12_11_10)\n",
    "            #12+11+10+9\n",
    "            tmean_series_12_11_10_9 = np.mean([tmean_series_12,tmean_series_11,tmean_series_10,tmean_series_9], axis = 0)\n",
    "            r3, p3 = stats.spearmanr(eos_series, tmean_series_12_11_10_9)\n",
    "            #12+11+10+9+8\n",
    "            tmean_series_12_11_10_9_8 = np.mean([tmean_series_12,tmean_series_11,tmean_series_10,\n",
    "                                              tmean_series_9,tmean_series_8], axis = 0)\n",
    "            r4, p4 = stats.spearmanr(eos_series, tmean_series_12_11_10_9_8)\n",
    "            #12+11+10+9+8+7\n",
    "            tmean_series_12_11_10_9_8_7 = np.mean([tmean_series_12,tmean_series_11,tmean_series_10,\n",
    "                                              tmean_series_9,tmean_series_8,tmean_series_7], axis = 0)\n",
    "            r5, p5 = stats.spearmanr(eos_series, tmean_series_12_11_10_9_8_7)\n",
    "            #12+11+10+9+8+7+6\n",
    "            tmean_series_12_11_10_9_8_7_6 = np.mean([tmean_series_12,tmean_series_11,tmean_series_10,\n",
    "                                              tmean_series_9,tmean_series_8,tmean_series_7,tmean_series_6], axis = 0)\n",
    "            r6, p6 = stats.spearmanr(eos_series, tmean_series_12_11_10_9_8_7_6)\n",
    "            tmean = [tmean_series_12, tmean_series_12_11, tmean_series_12_11_10, tmean_series_12_11_10_9,\n",
    "                   tmean_series_12_11_10_9_8, tmean_series_12_11_10_9_8_7, tmean_series_12_11_10_9_8_7_6]\n",
    "            r_abs_tmean = [abs(r0), abs(r1), abs(r2), abs(r3), abs(r4), abs(r5), abs(r6)]\n",
    "            r_index_tmean = r_abs_tmean.index(max(r_abs_tmean))#假设返回的是3\n",
    "            df.tmean = tmean[r_index_tmean]\n",
    "\n",
    "            #pre\n",
    "            r0_pre, p0_pre = stats.spearmanr(eos_series, pre_series_12)\n",
    "            #12+11(preseason长度为1)\n",
    "            pre_series_12_11 = np.sum([pre_series_12,pre_series_11], axis = 0)\n",
    "            r1_pre, p1_pre = stats.spearmanr(eos_series, pre_series_12_11)\n",
    "            #12+11+10\n",
    "            pre_series_12_11_10 = np.sum([pre_series_12,pre_series_11,pre_series_10], axis = 0)\n",
    "            r2_pre, p2_pre = stats.spearmanr(eos_series, pre_series_12_11_10)\n",
    "            #12+11+10+9\n",
    "            pre_series_12_11_10_9 = np.sum([pre_series_12,pre_series_11,pre_series_10,pre_series_9], axis = 0)\n",
    "            r3_pre, p3_pre = stats.spearmanr(eos_series, pre_series_12_11_10_9)\n",
    "            #12+11+10+9+8\n",
    "            pre_series_12_11_10_9_8 = np.sum([pre_series_12,pre_series_11,pre_series_10,\n",
    "                                              pre_series_9,pre_series_8], axis = 0)\n",
    "            r4_pre, p4_pre = stats.spearmanr(eos_series, pre_series_12_11_10_9_8)\n",
    "            #12+11+10+9+8+7\n",
    "            pre_series_12_11_10_9_8_7 = np.sum([pre_series_12,pre_series_11,pre_series_10,\n",
    "                                              pre_series_9,pre_series_8,pre_series_7], axis = 0)\n",
    "            r5_pre, p5_pre = stats.spearmanr(eos_series, pre_series_12_11_10_9_8_7)\n",
    "            #12+11+10+9+8+7+6\n",
    "            pre_series_12_11_10_9_8_7_6 = np.sum([pre_series_12,pre_series_11,pre_series_10,\n",
    "                                              pre_series_9,pre_series_8,pre_series_7,pre_series_6], axis = 0)\n",
    "            r6_pre, p6_pre = stats.spearmanr(eos_series, pre_series_12_11_10_9_8_7_6)\n",
    "            pre = [pre_series_12, pre_series_12_11, pre_series_12_11_10, pre_series_12_11_10_9,\n",
    "                   pre_series_12_11_10_9_8, pre_series_12_11_10_9_8_7, pre_series_12_11_10_9_8_7_6]\n",
    "            r_abs_pre = [abs(r0_pre), abs(r1_pre), abs(r2_pre), abs(r3_pre), abs(r4_pre), abs(r5_pre), abs(r6_pre)]\n",
    "            r_index_pre = r_abs_pre.index(max(r_abs_pre))#假设返回的是3\n",
    "            df.pre = pre[r_index_pre]\n",
    "\n",
    "            #solr\n",
    "            r0_solr, p0_solr = stats.spearmanr(eos_series, solr_series_12)\n",
    "            #12+11(preseason长度为1)\n",
    "            solr_series_12_11 = np.sum([solr_series_12,solr_series_11], axis = 0)\n",
    "            r1_solr, p1_solr = stats.spearmanr(eos_series, solr_series_12_11)\n",
    "            #12+11+10\n",
    "            solr_series_12_11_10 = np.sum([solr_series_12,solr_series_11,solr_series_10], axis = 0)\n",
    "            r2_solr, p2_solr = stats.spearmanr(eos_series, solr_series_12_11_10)\n",
    "            #12+11+10+9\n",
    "            solr_series_12_11_10_9 = np.sum([solr_series_12,solr_series_11,solr_series_10,solr_series_9], axis = 0)\n",
    "            r3_solr, p3_solr = stats.spearmanr(eos_series, solr_series_12_11_10_9)\n",
    "            #12+11+10+9+8\n",
    "            solr_series_12_11_10_9_8 = np.sum([solr_series_12,solr_series_11,solr_series_10,\n",
    "                                              solr_series_9,solr_series_8], axis = 0)\n",
    "            r4_solr, p4_solr = stats.spearmanr(eos_series, solr_series_12_11_10_9_8)\n",
    "            #12+11+10+9+8+7\n",
    "            solr_series_12_11_10_9_8_7 = np.sum([solr_series_12,solr_series_11,solr_series_10,\n",
    "                                              solr_series_9,solr_series_8,solr_series_7], axis = 0)\n",
    "            r5_solr, p5_solr = stats.spearmanr(eos_series, solr_series_12_11_10_9_8_7)\n",
    "            #12+11+10+9+8+7+6\n",
    "            solr_series_12_11_10_9_8_7_6 = np.sum([solr_series_12,solr_series_11,solr_series_10,\n",
    "                                              solr_series_9,solr_series_8,solr_series_7,solr_series_6], axis = 0)\n",
    "            r6_solr, p6_solr = stats.spearmanr(eos_series, solr_series_12_11_10_9_8_7_6)\n",
    "            solr = [solr_series_12, solr_series_12_11, solr_series_12_11_10, solr_series_12_11_10_9,\n",
    "                   solr_series_12_11_10_9_8, solr_series_12_11_10_9_8_7, solr_series_12_11_10_9_8_7_6]\n",
    "            r_abs_solr = [abs(r0_solr), abs(r1_solr), abs(r2_solr), abs(r3_solr), abs(r4_solr), abs(r5_solr), abs(r6_solr)]\n",
    "            r_index_solr = r_abs_solr.index(max(r_abs_solr))#假设返回的是3\n",
    "            df.solr = solr[r_index_solr]\n",
    "\n",
    "            #sm\n",
    "            r0_sm, p0_sm = stats.spearmanr(eos_series, sm_series_12)\n",
    "            #12+11(preseason长度为1)\n",
    "            sm_series_12_11 = np.mean([sm_series_12,sm_series_11], axis = 0)\n",
    "            r1_sm, p1_sm = stats.spearmanr(eos_series, sm_series_12_11)\n",
    "            #12+11+10\n",
    "            sm_series_12_11_10 = np.mean([sm_series_12,sm_series_11,sm_series_10], axis = 0)\n",
    "            r2_sm, p2_sm = stats.spearmanr(eos_series, sm_series_12_11_10)\n",
    "            #12+11+10+9\n",
    "            sm_series_12_11_10_9 = np.mean([sm_series_12,sm_series_11,sm_series_10,sm_series_9], axis = 0)\n",
    "            r3_sm, p3_sm = stats.spearmanr(eos_series, sm_series_12_11_10_9)\n",
    "            #12+11+10+9+8\n",
    "            sm_series_12_11_10_9_8 = np.mean([sm_series_12,sm_series_11,sm_series_10,\n",
    "                                              sm_series_9,sm_series_8], axis = 0)\n",
    "            r4_sm, p4_sm = stats.spearmanr(eos_series, sm_series_12_11_10_9_8)\n",
    "            #12+11+10+9+8+7\n",
    "            sm_series_12_11_10_9_8_7 = np.mean([sm_series_12,sm_series_11,sm_series_10,\n",
    "                                              sm_series_9,sm_series_8,sm_series_7], axis = 0)\n",
    "            r5_sm, p5_sm = stats.spearmanr(eos_series, sm_series_12_11_10_9_8_7)\n",
    "            #12+11+10+9+8+7+6\n",
    "            sm_series_12_11_10_9_8_7_6 = np.mean([sm_series_12,sm_series_11,sm_series_10,\n",
    "                                              sm_series_9,sm_series_8,sm_series_7,sm_series_6], axis = 0)\n",
    "            r6_sm, p6_sm = stats.spearmanr(eos_series, sm_series_12_11_10_9_8_7_6)\n",
    "            sm = [sm_series_12, sm_series_12_11, sm_series_12_11_10, sm_series_12_11_10_9,\n",
    "                   sm_series_12_11_10_9_8, sm_series_12_11_10_9_8_7, sm_series_12_11_10_9_8_7_6]\n",
    "            r_abs_sm = [abs(r0_sm), abs(r1_sm), abs(r2_sm), abs(r3_sm), abs(r4_sm), abs(r5_sm), abs(r6_sm)]\n",
    "            r_index_sm = r_abs_sm.index(max(r_abs_sm))#假设返回的是3\n",
    "            df.sm = sm[r_index_sm]\n",
    "\n",
    "        elif site_lat_lon.multi_eos[k]==11:\n",
    "            #tmean\n",
    "            r0, p0 = stats.spearmanr(eos_series, tmean_series_11)\n",
    "            #11+10\n",
    "            tmean_series_11_10 = np.mean([tmean_series_11,tmean_series_10], axis = 0)\n",
    "            r1, p1 = stats.spearmanr(eos_series, tmean_series_11_10)\n",
    "            #11+10+9\n",
    "            tmean_series_11_10_9 = np.mean([tmean_series_11,tmean_series_10,tmean_series_9], axis = 0)\n",
    "            r2, p2 = stats.spearmanr(eos_series, tmean_series_11_10_9)\n",
    "            #11+10+9+8\n",
    "            tmean_series_11_10_9_8 = np.mean([tmean_series_11,tmean_series_10,tmean_series_9,\n",
    "                                           tmean_series_8], axis = 0)\n",
    "            r3, p3 = stats.spearmanr(eos_series, tmean_series_11_10_9_8)\n",
    "            #11+10+9+8+7\n",
    "            tmean_series_11_10_9_8_7 = np.mean([tmean_series_11,tmean_series_10,tmean_series_9,\n",
    "                                           tmean_series_8,tmean_series_7], axis = 0)\n",
    "            r4, p4 = stats.spearmanr(eos_series, tmean_series_11_10_9_8_7)\n",
    "            #11+10+9+8+7+6\n",
    "            tmean_series_11_10_9_8_7_6 = np.mean([tmean_series_11,tmean_series_10,tmean_series_9,\n",
    "                                           tmean_series_8,tmean_series_7,tmean_series_6], axis = 0)\n",
    "            r5, p5 = stats.spearmanr(eos_series, tmean_series_11_10_9_8_7_6)\n",
    "            tmean = [tmean_series_11, tmean_series_11_10, tmean_series_11_10_9, tmean_series_11_10_9_8,\n",
    "                   tmean_series_11_10_9_8_7, tmean_series_11_10_9_8_7_6]\n",
    "            r_abs = [abs(r0), abs(r1), abs(r2), abs(r3), abs(r4), abs(r5)]\n",
    "            r_index = r_abs.index(max(r_abs))#假设返回的是3\n",
    "            df.tmean = tmean[r_index]\n",
    "\n",
    "            #pre\n",
    "            r0_pre, p0_pre = stats.spearmanr(eos_series, pre_series_11)\n",
    "            #11+10\n",
    "            pre_series_11_10 = np.sum([pre_series_11,pre_series_10], axis = 0)\n",
    "            r1_pre, p1_pre = stats.spearmanr(eos_series, pre_series_11_10)\n",
    "            #11+10+9\n",
    "            pre_series_11_10_9 = np.sum([pre_series_11,pre_series_10,pre_series_9], axis = 0)\n",
    "            r2_pre, p2_pre = stats.spearmanr(eos_series, pre_series_11_10_9)\n",
    "            #11+10+9+8\n",
    "            pre_series_11_10_9_8 = np.sum([pre_series_11,pre_series_10,pre_series_9,\n",
    "                                           pre_series_8], axis = 0)\n",
    "            r3_pre, p3_pre = stats.spearmanr(eos_series, pre_series_11_10_9_8)\n",
    "            #11+10+9+8+7\n",
    "            pre_series_11_10_9_8_7 = np.sum([pre_series_11,pre_series_10,pre_series_9,\n",
    "                                           pre_series_8,pre_series_7], axis = 0)\n",
    "            r4_pre, p4_pre = stats.spearmanr(eos_series, pre_series_11_10_9_8_7)\n",
    "            #11+10+9+8+7+6\n",
    "            pre_series_11_10_9_8_7_6 = np.sum([pre_series_11,pre_series_10,pre_series_9,\n",
    "                                           pre_series_8,pre_series_7,pre_series_6], axis = 0)\n",
    "            r5_pre, p5_pre = stats.spearmanr(eos_series, pre_series_11_10_9_8_7_6)\n",
    "            pre = [pre_series_11, pre_series_11_10, pre_series_11_10_9, pre_series_11_10_9_8,\n",
    "                   pre_series_11_10_9_8_7, pre_series_11_10_9_8_7_6]\n",
    "            r_abs_pre = [abs(r0_pre), abs(r1_pre), abs(r2_pre), abs(r3_pre), abs(r4_pre), abs(r5_pre)]\n",
    "            r_index_pre = r_abs_pre.index(max(r_abs_pre))#假设返回的是3\n",
    "            df.pre = pre[r_index_pre]\n",
    "\n",
    "            #solr\n",
    "            r0_solr, p0_solr = stats.spearmanr(eos_series, solr_series_11)\n",
    "            #11+10\n",
    "            solr_series_11_10 = np.sum([solr_series_11,solr_series_10], axis = 0)\n",
    "            r1_solr, p1_solr = stats.spearmanr(eos_series, solr_series_11_10)\n",
    "            #11+10+9\n",
    "            solr_series_11_10_9 = np.sum([solr_series_11,solr_series_10,solr_series_9], axis = 0)\n",
    "            r2_solr, p2_solr = stats.spearmanr(eos_series, solr_series_11_10_9)\n",
    "            #11+10+9+8\n",
    "            solr_series_11_10_9_8 = np.sum([solr_series_11,solr_series_10,solr_series_9,\n",
    "                                           solr_series_8], axis = 0)\n",
    "            r3_solr, p3_solr = stats.spearmanr(eos_series, solr_series_11_10_9_8)\n",
    "            #11+10+9+8+7\n",
    "            solr_series_11_10_9_8_7 = np.sum([solr_series_11,solr_series_10,solr_series_9,\n",
    "                                           solr_series_8,solr_series_7], axis = 0)\n",
    "            r4_solr, p4_solr = stats.spearmanr(eos_series, solr_series_11_10_9_8_7)\n",
    "            #11+10+9+8+7+6\n",
    "            solr_series_11_10_9_8_7_6 = np.sum([solr_series_11,solr_series_10,solr_series_9,\n",
    "                                           solr_series_8,solr_series_7,solr_series_6], axis = 0)\n",
    "            r5_solr, p5_solr = stats.spearmanr(eos_series, solr_series_11_10_9_8_7_6)\n",
    "            solr = [solr_series_11, solr_series_11_10, solr_series_11_10_9, solr_series_11_10_9_8,\n",
    "                   solr_series_11_10_9_8_7, solr_series_11_10_9_8_7_6]\n",
    "            r_abs_solr = [abs(r0_solr), abs(r1_solr), abs(r2_solr), abs(r3_solr), abs(r4_solr), abs(r5_solr)]\n",
    "            r_index_solr = r_abs_solr.index(max(r_abs_solr))#假设返回的是3\n",
    "            df.solr = solr[r_index_solr]\n",
    "\n",
    "            #sm\n",
    "            r0_sm, p0_sm = stats.spearmanr(eos_series, sm_series_11)\n",
    "            #11+10\n",
    "            sm_series_11_10 = np.mean([sm_series_11,sm_series_10], axis = 0)\n",
    "            r1_sm, p1_sm = stats.spearmanr(eos_series, sm_series_11_10)\n",
    "            #11+10+9\n",
    "            sm_series_11_10_9 = np.mean([sm_series_11,sm_series_10,sm_series_9], axis = 0)\n",
    "            r2_sm, p2_sm = stats.spearmanr(eos_series, sm_series_11_10_9)\n",
    "            #11+10+9+8\n",
    "            sm_series_11_10_9_8 = np.mean([sm_series_11,sm_series_10,sm_series_9,\n",
    "                                           sm_series_8], axis = 0)\n",
    "            r3_sm, p3_sm = stats.spearmanr(eos_series, sm_series_11_10_9_8)\n",
    "            #11+10+9+8+7\n",
    "            sm_series_11_10_9_8_7 = np.mean([sm_series_11,sm_series_10,sm_series_9,\n",
    "                                           sm_series_8,sm_series_7], axis = 0)\n",
    "            r4_sm, p4_sm = stats.spearmanr(eos_series, sm_series_11_10_9_8_7)\n",
    "            #11+10+9+8+7+6\n",
    "            sm_series_11_10_9_8_7_6 = np.mean([sm_series_11,sm_series_10,sm_series_9,\n",
    "                                           sm_series_8,sm_series_7,sm_series_6], axis = 0)\n",
    "            r5_sm, p5_sm = stats.spearmanr(eos_series, sm_series_11_10_9_8_7_6)\n",
    "            sm = [sm_series_11, sm_series_11_10, sm_series_11_10_9, sm_series_11_10_9_8,\n",
    "                   sm_series_11_10_9_8_7, sm_series_11_10_9_8_7_6]\n",
    "            r_abs_sm = [abs(r0_sm), abs(r1_sm), abs(r2_sm), abs(r3_sm), abs(r4_sm), abs(r5_sm)]\n",
    "            r_index_sm = r_abs_sm.index(max(r_abs_sm))#假设返回的是3\n",
    "            df.sm = sm[r_index_sm]\n",
    "\n",
    "        elif site_lat_lon.multi_eos[k]==10:\n",
    "            #tmean\n",
    "            r0, p0 = stats.spearmanr(eos_series, tmean_series_10)\n",
    "            #10+9\n",
    "            tmean_series_10_9 = np.mean([tmean_series_10,tmean_series_9], axis = 0)\n",
    "            r1, p1 = stats.spearmanr(eos_series, tmean_series_10_9)\n",
    "            #10+9+8\n",
    "            tmean_series_10_9_8 = np.mean([tmean_series_10,tmean_series_9,tmean_series_8], axis = 0)\n",
    "            r2, p2 = stats.spearmanr(eos_series, tmean_series_10_9_8)\n",
    "            #10+9+8+7\n",
    "            tmean_series_10_9_8_7 = np.mean([tmean_series_10,tmean_series_9,tmean_series_8,\n",
    "                                          tmean_series_7], axis = 0)\n",
    "            r3, p3 = stats.spearmanr(eos_series, tmean_series_10_9_8_7)\n",
    "            #10+9+8+7+6\n",
    "            tmean_series_10_9_8_7_6 = np.mean([tmean_series_10,tmean_series_9,tmean_series_8,\n",
    "                                          tmean_series_7,tmean_series_6], axis = 0)\n",
    "            r4, p4 = stats.spearmanr(eos_series, tmean_series_10_9_8_7_6)\n",
    "            tmean= [tmean_series_10, tmean_series_10_9, tmean_series_10_9_8, tmean_series_10_9_8_7,\n",
    "                   tmean_series_10_9_8_7_6]\n",
    "            r_abs = [abs(r0), abs(r1), abs(r2), abs(r3), abs(r4)]\n",
    "            r_index = r_abs.index(max(r_abs))#假设返回的是3\n",
    "            df.tmean = tmean[r_index]\n",
    "\n",
    "            #pre\n",
    "            r0_pre, p0_pre = stats.spearmanr(eos_series, pre_series_10)\n",
    "            #10+9\n",
    "            pre_series_10_9 = np.sum([pre_series_10,pre_series_9], axis = 0)\n",
    "            r1_pre, p1_pre = stats.spearmanr(eos_series, pre_series_10_9)\n",
    "            #10+9+8\n",
    "            pre_series_10_9_8 = np.sum([pre_series_10,pre_series_9,pre_series_8], axis = 0)\n",
    "            r2_pre, p2_pre = stats.spearmanr(eos_series, pre_series_10_9_8)\n",
    "            #10+9+8+7\n",
    "            pre_series_10_9_8_7 = np.sum([pre_series_10,pre_series_9,pre_series_8,\n",
    "                                          pre_series_7], axis = 0)\n",
    "            r3_pre, p3_pre = stats.spearmanr(eos_series, pre_series_10_9_8_7)\n",
    "            #10+9+8+7+6\n",
    "            pre_series_10_9_8_7_6 = np.sum([pre_series_10,pre_series_9,pre_series_8,\n",
    "                                          pre_series_7,pre_series_6], axis = 0)\n",
    "            r4_pre, p4_pre = stats.spearmanr(eos_series, pre_series_10_9_8_7_6)\n",
    "            pre = [pre_series_10, pre_series_10_9, pre_series_10_9_8, pre_series_10_9_8_7,\n",
    "                   pre_series_10_9_8_7_6]\n",
    "            r_abs_pre = [abs(r0_pre), abs(r1_pre), abs(r2_pre), abs(r3_pre), abs(r4_pre)]\n",
    "            r_index_pre = r_abs_pre.index(max(r_abs_pre))#假设返回的是3\n",
    "            df.pre = pre[r_index_pre]\n",
    "\n",
    "            #solr\n",
    "            r0_solr, p0_solr = stats.spearmanr(eos_series, solr_series_10)\n",
    "            #10+9\n",
    "            solr_series_10_9 = np.sum([solr_series_10,solr_series_9], axis = 0)\n",
    "            r1_solr, p1_solr = stats.spearmanr(eos_series, solr_series_10_9)\n",
    "            #10+9+8\n",
    "            solr_series_10_9_8 = np.sum([solr_series_10,solr_series_9,solr_series_8], axis = 0)\n",
    "            r2_solr, p2_solr = stats.spearmanr(eos_series, solr_series_10_9_8)\n",
    "            #10+9+8+7\n",
    "            solr_series_10_9_8_7 = np.sum([solr_series_10,solr_series_9,solr_series_8,\n",
    "                                          solr_series_7], axis = 0)\n",
    "            r3_solr, p3_solr = stats.spearmanr(eos_series, solr_series_10_9_8_7)\n",
    "            #10+9+8+7+6\n",
    "            solr_series_10_9_8_7_6 = np.sum([solr_series_10,solr_series_9,solr_series_8,\n",
    "                                          solr_series_7,solr_series_6], axis = 0)\n",
    "            r4_solr, p4_solr = stats.spearmanr(eos_series, solr_series_10_9_8_7_6)\n",
    "            solr = [solr_series_10, solr_series_10_9, solr_series_10_9_8, solr_series_10_9_8_7,\n",
    "                   solr_series_10_9_8_7_6]\n",
    "            r_abs_solr = [abs(r0_solr), abs(r1_solr), abs(r2_solr), abs(r3_solr), abs(r4_solr)]\n",
    "            r_index_solr = r_abs_solr.index(max(r_abs_solr))#假设返回的是3\n",
    "            df.solr = solr[r_index_solr]\n",
    "\n",
    "            #sm\n",
    "            r0_sm, p0_sm = stats.spearmanr(eos_series, sm_series_10)\n",
    "            #10+9\n",
    "            sm_series_10_9 = np.mean([sm_series_10,sm_series_9], axis = 0)\n",
    "            r1_sm, p1_sm = stats.spearmanr(eos_series, sm_series_10_9)\n",
    "            #10+9+8\n",
    "            sm_series_10_9_8 = np.mean([sm_series_10,sm_series_9,sm_series_8], axis = 0)\n",
    "            r2_sm, p2_sm = stats.spearmanr(eos_series, sm_series_10_9_8)\n",
    "            #10+9+8+7\n",
    "            sm_series_10_9_8_7 = np.mean([sm_series_10,sm_series_9,sm_series_8,\n",
    "                                          sm_series_7], axis = 0)\n",
    "            r3_sm, p3_sm = stats.spearmanr(eos_series, sm_series_10_9_8_7)\n",
    "            #10+9+8+7+6\n",
    "            sm_series_10_9_8_7_6 = np.mean([sm_series_10,sm_series_9,sm_series_8,\n",
    "                                          sm_series_7,sm_series_6], axis = 0)\n",
    "            r4_sm, p4_sm = stats.spearmanr(eos_series, sm_series_10_9_8_7_6)\n",
    "            sm = [sm_series_10, sm_series_10_9, sm_series_10_9_8, sm_series_10_9_8_7,\n",
    "                   sm_series_10_9_8_7_6]\n",
    "            r_abs_sm = [abs(r0_sm), abs(r1_sm), abs(r2_sm), abs(r3_sm), abs(r4_sm)]\n",
    "            r_index_sm = r_abs_sm.index(max(r_abs_sm))#假设返回的是3\n",
    "            df.sm = sm[r_index_sm]\n",
    "\n",
    "        elif site_lat_lon.multi_eos[k]==9:\n",
    "            #tmean\n",
    "            r0, p0 = stats.spearmanr(eos_series, tmean_series_9)\n",
    "            #9+8\n",
    "            tmean_series_9_8 = np.mean([tmean_series_9, tmean_series_8], axis = 0)\n",
    "            r1, p1 = stats.spearmanr(eos_series, tmean_series_9_8)\n",
    "            #9+8+7\n",
    "            tmean_series_9_8_7 = np.mean([tmean_series_9,tmean_series_8,tmean_series_7], axis = 0)\n",
    "            r2, p2 = stats.spearmanr(eos_series, tmean_series_9_8_7)\n",
    "            #9+8+7+6\n",
    "            tmean_series_9_8_7_6 = np.mean([tmean_series_9,tmean_series_8,tmean_series_7,\n",
    "                                         tmean_series_6], axis = 0)\n",
    "            r3, p3 = stats.spearmanr(eos_series, tmean_series_9_8_7_6)\n",
    "            tmean = [tmean_series_9, tmean_series_9_8, tmean_series_9_8_7, tmean_series_9_8_7_6]\n",
    "            r_abs = [abs(r0), abs(r1), abs(r2), abs(r3)]\n",
    "            r_index = r_abs.index(max(r_abs))#假设返回的是3\n",
    "            df.tmean = tmean[r_index]\n",
    "\n",
    "            #pre\n",
    "            r0_pre, p0_pre = stats.spearmanr(eos_series, pre_series_9)\n",
    "            #9+8\n",
    "            pre_series_9_8 = np.sum([pre_series_9, pre_series_8], axis = 0)\n",
    "            r1_pre, p1_pre = stats.spearmanr(eos_series, pre_series_9_8)\n",
    "            #9+8+7\n",
    "            pre_series_9_8_7 = np.sum([pre_series_9,pre_series_8,pre_series_7], axis = 0)\n",
    "            r2_pre, p2_pre = stats.spearmanr(eos_series, pre_series_9_8_7)\n",
    "            #9+8+7+6\n",
    "            pre_series_9_8_7_6 = np.sum([pre_series_9,pre_series_8,pre_series_7,\n",
    "                                         pre_series_6], axis = 0)\n",
    "            r3_pre, p3_pre = stats.spearmanr(eos_series, pre_series_9_8_7_6)\n",
    "            pre = [pre_series_9, pre_series_9_8, pre_series_9_8_7, pre_series_9_8_7_6]\n",
    "            r_abs_pre = [abs(r0_pre), abs(r1_pre), abs(r2_pre), abs(r3_pre)]\n",
    "            r_index_pre = r_abs_pre.index(max(r_abs_pre))#假设返回的是3\n",
    "            df.pre = pre[r_index_pre]\n",
    "\n",
    "            #solr\n",
    "            r0_solr, p0_solr = stats.spearmanr(eos_series, solr_series_9)\n",
    "            #9+8\n",
    "            solr_series_9_8 = np.sum([solr_series_9, solr_series_8], axis = 0)\n",
    "            r1_solr, p1_solr = stats.spearmanr(eos_series, solr_series_9_8)\n",
    "            #9+8+7\n",
    "            solr_series_9_8_7 = np.sum([solr_series_9,solr_series_8,solr_series_7], axis = 0)\n",
    "            r2_solr, p2_solr = stats.spearmanr(eos_series, solr_series_9_8_7)\n",
    "            #9+8+7+6\n",
    "            solr_series_9_8_7_6 = np.sum([solr_series_9,solr_series_8,solr_series_7,\n",
    "                                         solr_series_6], axis = 0)\n",
    "            r3_solr, p3_solr = stats.spearmanr(eos_series, solr_series_9_8_7_6)\n",
    "            solr = [solr_series_9, solr_series_9_8, solr_series_9_8_7, solr_series_9_8_7_6]\n",
    "            r_abs_solr = [abs(r0_solr), abs(r1_solr), abs(r2_solr), abs(r3_solr)]\n",
    "            r_index_solr = r_abs_solr.index(max(r_abs_solr))#假设返回的是3\n",
    "            df.solr = solr[r_index_solr]\n",
    "\n",
    "            #sm\n",
    "            r0_sm, p0_sm = stats.spearmanr(eos_series, sm_series_9)\n",
    "            #9+8\n",
    "            sm_series_9_8 = np.mean([sm_series_9, sm_series_8], axis = 0)\n",
    "            r1_sm, p1_sm = stats.spearmanr(eos_series, sm_series_9_8)\n",
    "            #9+8+7\n",
    "            sm_series_9_8_7 = np.mean([sm_series_9,sm_series_8,sm_series_7], axis = 0)\n",
    "            r2_sm, p2_sm = stats.spearmanr(eos_series, sm_series_9_8_7)\n",
    "            #9+8+7+6\n",
    "            sm_series_9_8_7_6 = np.mean([sm_series_9,sm_series_8,sm_series_7,\n",
    "                                         sm_series_6], axis = 0)\n",
    "            r3_sm, p3_sm = stats.spearmanr(eos_series, sm_series_9_8_7_6)\n",
    "            sm = [sm_series_9, sm_series_9_8, sm_series_9_8_7, sm_series_9_8_7_6]\n",
    "            r_abs_sm = [abs(r0_sm), abs(r1_sm), abs(r2_sm), abs(r3_sm)]\n",
    "            r_index_sm = r_abs_sm.index(max(r_abs_sm))#假设返回的是3\n",
    "            df.sm = sm[r_index_sm]\n",
    "\n",
    "        elif site_lat_lon.multi_eos[k]==8:\n",
    "            #tmean\n",
    "            r0, p0 = stats.spearmanr(eos_series, tmean_series_8)\n",
    "            #8+7\n",
    "            tmean_series_8_7 = np.mean([tmean_series_8, tmean_series_7], axis = 0)\n",
    "            r1, p1 = stats.spearmanr(eos_series, tmean_series_8_7)\n",
    "            #8+7+6\n",
    "            tmean_series_8_7_6 = np.mean([tmean_series_8, tmean_series_7, tmean_series_6], axis = 0)\n",
    "            r2, p2 = stats.spearmanr(eos_series, tmean_series_8_7_6)\n",
    "            tmean = [tmean_series_8, tmean_series_8_7, tmean_series_8_7_6]\n",
    "            r_abs = [abs(r0), abs(r1), abs(r2)]\n",
    "            r_index = r_abs.index(max(r_abs))#假设返回的是3\n",
    "            df.tmean = tmean[r_index]\n",
    "\n",
    "            #pre\n",
    "            r0_pre, p0_pre = stats.spearmanr(eos_series, pre_series_8)\n",
    "            #8+7\n",
    "            pre_series_8_7 = np.sum([pre_series_8, pre_series_7], axis = 0)\n",
    "            r1_pre, p1_pre = stats.spearmanr(eos_series, pre_series_8_7)\n",
    "            #8+7+6\n",
    "            pre_series_8_7_6 = np.sum([pre_series_8, pre_series_7, pre_series_6], axis = 0)\n",
    "            r2_pre, p2_pre = stats.spearmanr(eos_series, pre_series_8_7_6)\n",
    "            pre = [pre_series_8, pre_series_8_7, pre_series_8_7_6]\n",
    "            r_abs_pre = [abs(r0_pre), abs(r1_pre), abs(r2_pre)]\n",
    "            r_index_pre = r_abs_pre.index(max(r_abs_pre))#假设返回的是3\n",
    "            df.pre = pre[r_index_pre]\n",
    "\n",
    "            #solr\n",
    "            r0_solr, p0_solr = stats.spearmanr(eos_series, solr_series_8)\n",
    "            #8+7\n",
    "            solr_series_8_7 = np.sum([solr_series_8, solr_series_7], axis = 0)\n",
    "            r1_solr, p1_solr = stats.spearmanr(eos_series, solr_series_8_7)\n",
    "            #8+7+6\n",
    "            solr_series_8_7_6 = np.sum([solr_series_8, solr_series_7, solr_series_6], axis = 0)\n",
    "            r2_solr, p2_solr = stats.spearmanr(eos_series, solr_series_8_7_6)\n",
    "            solr = [solr_series_8, solr_series_8_7, solr_series_8_7_6]\n",
    "            r_abs_solr = [abs(r0_solr), abs(r1_solr), abs(r2_solr)]\n",
    "            r_index_solr = r_abs_solr.index(max(r_abs_solr))#假设返回的是3\n",
    "            df.solr = solr[r_index_solr]\n",
    "\n",
    "            #sm\n",
    "            r0_sm, p0_sm = stats.spearmanr(eos_series, sm_series_8)\n",
    "            #8+7\n",
    "            sm_series_8_7 = np.mean([sm_series_8, sm_series_7], axis = 0)\n",
    "            r1_sm, p1_sm = stats.spearmanr(eos_series, sm_series_8_7)\n",
    "            #8+7+6\n",
    "            sm_series_8_7_6 = np.mean([sm_series_8, sm_series_7, sm_series_6], axis = 0)\n",
    "            r2_sm, p2_sm = stats.spearmanr(eos_series, sm_series_8_7_6)\n",
    "            sm = [sm_series_8, sm_series_8_7, sm_series_8_7_6]\n",
    "            r_abs_sm = [abs(r0_sm), abs(r1_sm), abs(r2_sm)]\n",
    "            r_index_sm = r_abs_sm.index(max(r_abs_sm))#假设返回的是3\n",
    "            df.sm= sm[r_index_sm]\n",
    "\n",
    "        elif site_lat_lon.multi_eos[k]==7:\n",
    "            #tmean\n",
    "            r0, p0 = stats.spearmanr(eos_series, tmean_series_7)\n",
    "            #7+6\n",
    "            tmean_series_7_6 = np.mean([tmean_series_7, tmean_series_6], axis = 0)\n",
    "            r1, p1 = stats.spearmanr(eos_series, tmean_series_7_6)\n",
    "            tmean = [tmean_series_7, tmean_series_7_6]\n",
    "            r_abs = [abs(r0), abs(r1)]\n",
    "            r_index = r_abs.index(max(r_abs))#假设返回的是3\n",
    "            df.tmean = tmean[r_index]\n",
    "\n",
    "            #pre\n",
    "            r0_pre, p0_pre = stats.spearmanr(eos_series, pre_series_7)\n",
    "            #7+6\n",
    "            pre_series_7_6 = np.sum([pre_series_7, pre_series_6], axis = 0)\n",
    "            r1_pre, p1_pre = stats.spearmanr(eos_series, pre_series_7_6)\n",
    "            pre = [pre_series_7, pre_series_7_6]\n",
    "            r_abs_pre = [abs(r0_pre), abs(r1_pre)]\n",
    "            r_index_pre = r_abs_pre.index(max(r_abs_pre))#假设返回的是3\n",
    "            df.pre = pre[r_index_pre]\n",
    "\n",
    "            #solr\n",
    "            r0_solr, p0_solr = stats.spearmanr(eos_series, solr_series_7)\n",
    "            #7+6\n",
    "            solr_series_7_6 = np.sum([solr_series_7, solr_series_6], axis = 0)\n",
    "            r1_solr, p1_solr = stats.spearmanr(eos_series, solr_series_7_6)\n",
    "            solr = [solr_series_7, solr_series_7_6]\n",
    "            r_abs_solr = [abs(r0_solr), abs(r1_solr)]\n",
    "            r_index_solr = r_abs_solr.index(max(r_abs_solr))#假设返回的是3\n",
    "            df.solr= solr[r_index_solr]\n",
    "\n",
    "            #sm\n",
    "            r0_sm, p0_sm = stats.spearmanr(eos_series, sm_series_7)\n",
    "            #7+6\n",
    "            sm_series_7_6 = np.mean([sm_series_7, sm_series_6], axis = 0)\n",
    "            r1_sm, p1_sm = stats.spearmanr(eos_series, sm_series_7_6)\n",
    "            sm = [sm_series_7, sm_series_7_6]\n",
    "            r_abs_sm = [abs(r0_sm), abs(r1_sm)]\n",
    "            r_index_sm = r_abs_sm.index(max(r_abs_sm))#假设返回的是3\n",
    "            df.sm = sm[r_index_sm]\n",
    "\n",
    "        else:\n",
    "            #6月，只有一个值\n",
    "            df.tmean = tmean_series_6\n",
    "            df.pre = pre_series_6\n",
    "            df.solr = solr_series_6\n",
    "            df.sm = sm_series_6\n",
    "\n",
    "        out_path = '/data/shuping/data/china_phenology/partial_corr/highest_corr_cliamte_series/' + files[k]\n",
    "        df.to_csv(out_path)"
   ],
   "metadata": {
    "collapsed": false,
    "pycharm": {
     "name": "#%%\n"
    }
   }
  },
  {
   "cell_type": "markdown",
   "source": [
    "###偏相关"
   ],
   "metadata": {
    "collapsed": false,
    "pycharm": {
     "name": "#%% md\n"
    }
   }
  },
  {
   "cell_type": "code",
   "execution_count": 2,
   "outputs": [],
   "source": [
    "import pingouin as pg\n",
    "import pandas as pd"
   ],
   "metadata": {
    "collapsed": false,
    "pycharm": {
     "name": "#%%\n"
    }
   }
  },
  {
   "cell_type": "code",
   "execution_count": 53,
   "outputs": [
    {
     "data": {
      "text/plain": "['50639_榆树.csv',\n '50655_中东杨.csv',\n '50756_小叶杨.csv',\n '50756_紫丁香.csv',\n '50788_小叶杨.csv',\n '50788_紫丁香.csv',\n '50844_小叶杨.csv',\n '50844_榆树.csv',\n '50851_榆树.csv',\n '50871_紫丁香.csv',\n '50873_旱柳.csv',\n '50928_加拿大杨.csv',\n '50928_小叶杨.csv',\n '50928_旱柳.csv',\n '50934_榆树.csv',\n '50949_小叶杨.csv',\n '50964_垂柳.csv',\n '50983_小叶杨.csv',\n '51076_加拿大杨.csv',\n '51076_榆树.csv',\n '51133_冬苹果.csv',\n '51133_夏苹果.csv',\n '51133_杨树.csv',\n '51133_榆树.csv',\n '51238_榆树.csv',\n '51238_沙枣.csv',\n '51358_新疆杨.csv',\n '51358_箭杆杨.csv',\n '51368_沙枣.csv',\n '51368_钻天杨.csv',\n '51431_榆树.csv',\n '51436_杏树.csv',\n '51436_柳树.csv',\n '51573_桃树.csv',\n '51573_榆树.csv',\n '51656_新疆杨.csv',\n '51656_杏树.csv',\n '51656_桑树.csv',\n '51656_榆树.csv',\n '51656_葡萄.csv',\n '51656_钻天杨.csv',\n '51656_香梨.csv',\n '51709_柳树.csv',\n '51709_榆树.csv',\n '51709_苹果.csv',\n '51716_新疆杨.csv',\n '51716_杏树.csv',\n '51716_梨树.csv',\n '51716_沙枣.csv',\n '51716_苹果.csv',\n '51777_新疆杨.csv',\n '51777_柳树.csv',\n '51777_榆树.csv',\n '51811_杏树.csv',\n '51811_梨树.csv',\n '51811_沙枣.csv',\n '51811_葡萄.csv',\n '51828_新疆杨.csv',\n '51828_杏树.csv',\n '51828_核桃树.csv',\n '51828_桑树.csv',\n '51828_苹果.csv',\n '51828_钻天杨.csv',\n '51828_银白杨.csv',\n '51931_新疆杨.csv',\n '51931_旱柳.csv',\n '51931_桃树.csv',\n '51931_沙枣.csv',\n '51931_苹果.csv',\n '52101_榆树.csv',\n '52203_旱柳.csv',\n '52203_杏树.csv',\n '52203_枣树.csv',\n '52203_葡萄.csv',\n '52418_加拿大杨.csv',\n '52737_小叶杨.csv',\n '52737_旱柳.csv',\n '52825_枸杞.csv',\n '52825_苹果.csv',\n '52855_小叶杨.csv',\n '52855_苹果.csv',\n '52863_青海大叶杨.csv',\n '52876_杏.csv',\n '52876_榆树.csv',\n '52876_苹果.csv',\n '52895_刺槐.csv',\n '52984_小叶杨.csv',\n '52984_旱柳.csv',\n '52984_牡丹.csv',\n '52995_旱柳.csv',\n '52995_榆树.csv',\n '52995_牡丹.csv',\n '53433_旱柳.csv',\n '53513_旱柳.csv',\n '53513_榆树.csv',\n '53547_榆树.csv',\n '53564_加拿大杨.csv',\n '53594_旱柳.csv',\n '53594_杏树.csv',\n '53611_枣树.csv',\n '53754_刺槐.csv',\n '53754_枣树.csv',\n '53754_榆树.csv',\n '53754_毛白杨.csv',\n '53769_小叶杨.csv',\n '53775_垂柳.csv',\n '53775_小叶杨.csv',\n '53775_紫丁香.csv',\n '53845_榆树.csv',\n '53853_刺槐.csv',\n '53863_旱柳.csv',\n '53868_合欢.csv',\n '53877_核桃树.csv',\n '53877_毛白杨.csv',\n '53908_牡丹.csv',\n '53908_白杨.csv',\n '53923_苹果.csv',\n '53948_葡萄.csv',\n '53956_泡桐.csv',\n '53959_毛白杨.csv',\n '53976_刺槐.csv',\n '53976_泡桐.csv',\n '53986_枣树.csv',\n '53986_榆树.csv',\n '53986_苹果.csv',\n '53991_刺槐.csv',\n '53991_泡桐.csv',\n '54064_榆树.csv',\n '54076_加拿大杨.csv',\n '54076_紫丁香.csv',\n '54098_垂柳.csv',\n '54154_加拿大杨.csv',\n '54171_123苹果.csv',\n '54186_榆树.csv',\n '54243_小叶杨.csv',\n '54292_紫丁香.csv',\n '54324_刺槐.csv',\n '54324_旱柳.csv',\n '54324_榆树.csv',\n '54337_刺槐.csv',\n '54349_加拿大杨.csv',\n '54349_旱柳.csv',\n '54416_玉兰.csv',\n '54470_小叶杨.csv',\n '54472_刺槐.csv',\n '54474_苹果.csv',\n '54525_柳树.csv',\n '54525_榆树.csv',\n '54619_合欢.csv',\n '54619_旱柳.csv',\n '54619_泡桐.csv',\n '54714_槐树.csv',\n '54714_白蜡.csv',\n '54725_刺槐.csv',\n '54725_枣树.csv',\n '54725_泡桐.csv',\n '54749_合欢.csv',\n '54749_垂柳.csv',\n '54749_槐树.csv',\n '54749_毛白杨.csv',\n '54749_泡桐.csv',\n '54777_刺槐.csv',\n '54777_合欢.csv',\n '54777_垂柳.csv',\n '54777_旱柳.csv',\n '54777_榆树.csv',\n '54777_毛白杨.csv',\n '54777_紫穗槐.csv',\n '54806_旱柳.csv',\n '54806_槐树.csv',\n '54806_毛白杨.csv',\n '54806_泡桐.csv',\n '54821_刺槐.csv',\n '54821_小叶杨.csv',\n '54821_枣树.csv',\n '54821_榆树.csv',\n '54827_泡桐.csv',\n '54827_苹果.csv',\n '54830_刺槐.csv',\n '54830_垂柳.csv',\n '54830_小叶杨.csv',\n '54830_旱柳.csv',\n '54830_槐树.csv',\n '54830_毛白杨.csv',\n '54830_皂荚.csv',\n '54830_紫薇.csv',\n '54843_刺槐.csv',\n '54843_合欢.csv',\n '54843_垂柳.csv',\n '54843_枣树.csv',\n '54843_毛白杨.csv',\n '54843_泡桐.csv',\n '54843_白丁香.csv',\n '54843_紫穗槐.csv',\n '54843_紫薇.csv',\n '54843_葡萄.csv',\n '54849_合欢.csv',\n '54849_垂柳.csv',\n '54849_毛白杨.csv',\n '54849_紫丁香.csv',\n '54849_葡萄.csv',\n '54852_刺槐.csv',\n '54852_旱柳.csv',\n '54852_榆树.csv',\n '54852_毛白杨.csv',\n '54852_泡桐.csv',\n '54900_榆树.csv',\n '54906_刺槐.csv',\n '54906_榆树.csv',\n '54906_毛白杨.csv',\n '54915_刺槐.csv',\n '54915_合欢.csv',\n '54915_垂柳.csv',\n '54915_枣树.csv',\n '54915_梧桐.csv',\n '54915_楝树.csv',\n '54915_槐树.csv',\n '54915_毛白杨.csv',\n '54915_泡桐.csv',\n '54938_合欢.csv',\n '54938_旱柳.csv',\n '54938_榆树.csv',\n '54938_毛白杨.csv',\n '56074_高山柳.csv',\n '56093_小白杨.csv',\n '56093_旱柳.csv',\n '56093_杏.csv',\n '56093_榆树.csv',\n '56093_白梨.csv',\n '56192_苹果.csv',\n '57025_杏树.csv',\n '57034_小叶杨.csv',\n '57043_泡桐.csv',\n '57048_毛白杨.csv',\n '57048_泡桐.csv',\n '57067_小叶杨.csv',\n '57075_枣树.csv',\n '57075_楝树.csv',\n '57083_垂柳.csv',\n '57083_楝树.csv',\n '57083_毛白杨.csv',\n '57089_刺槐.csv',\n '57096_刺槐.csv',\n '57102_泡桐.csv',\n '57102_紫薇.csv',\n '57102_葡萄.csv',\n '57169_榆树.csv',\n '57178_枣树.csv',\n '57178_毛白杨.csv',\n '57178_白榆.csv',\n '57290_楝树.csv',\n '57297_刺槐.csv',\n '57297_合欢.csv',\n '57297_垂柳.csv',\n '57297_楝树.csv',\n '57297_榆树.csv',\n '58002_刺槐.csv',\n '58002_枣树.csv',\n '58002_楝树.csv',\n '58002_榆树.csv',\n '58002_槐树.csv',\n '58005_柿树.csv',\n '58005_毛白杨.csv',\n '58012_旱柳.csv',\n '58012_毛白杨.csv',\n '58049_刺槐.csv',\n '58102_悬铃木.csv',\n '58102_楝树.csv',\n '58122_刺槐.csv',\n '58122_悬铃木.csv',\n '58122_楝树.csv',\n '58141_水杉.csv',\n '58141_泡桐.csv',\n '58158_楝树.csv',\n '58208_法国梧桐.csv',\n '58215_悬铃木.csv',\n '58222_刺槐.csv',\n '58236_楝树.csv',\n '58252_楝树.csv',\n '58252_玉兰.csv',\n '58255_桃树.csv',\n '58255_楝树.csv',\n '58255_银杏.csv',\n '58269_楝树.csv',\n '58269_银杏.csv',\n '58311_悬铃木.csv',\n '58319_刺槐.csv',\n '58319_悬铃木.csv',\n '58321_刺槐.csv',\n '58321_合欢.csv',\n '58339_楝树.csv',\n '58346_梧桐.csv',\n '58356_水杉.csv',\n '58433_刺槐.csv',\n '58433_楝树.csv']"
     },
     "execution_count": 53,
     "metadata": {},
     "output_type": "execute_result"
    }
   ],
   "source": [
    "file_path = '/data/shuping/data/china_phenology/partial_corr/woody/highest_corr_cliamte_series/'\n",
    "files = sorted(os.listdir(file_path))\n",
    "files"
   ],
   "metadata": {
    "collapsed": false,
    "pycharm": {
     "name": "#%%\n"
    }
   }
  },
  {
   "cell_type": "code",
   "execution_count": 54,
   "outputs": [],
   "source": [
    "China_woody_partial_corr = pd.DataFrame(columns=['site', 'veg_type', 'r', 'p_val'])\n",
    "for k in range(len(files)):\n",
    "    csv_path = file_path + files[k]\n",
    "    df = pd.read_csv(csv_path)\n",
    "    df = df.dropna()\n",
    "    df = df.drop(['Unnamed: 0'], axis=1)\n",
    "    if df.shape[0]>3:\n",
    "        b = pg.partial_corr( data= df, x='sos', y= 'eos', covar=['tmean', 'pre','solr', 'sm'], method='spearman').round(3)\n",
    "        b.columns  = ['n', 'r', 'CI95%','p']\n",
    "        China_woody_partial_corr = China_woody_partial_corr.append(pd.DataFrame({'site':[df.site[0]],'veg_type':[df.species[0]],'r':[b.r[0]], 'p_val': [b.p[0]]\n",
    "                                                                           }), ignore_index=True)"
   ],
   "metadata": {
    "collapsed": false,
    "pycharm": {
     "name": "#%%\n"
    }
   }
  },
  {
   "cell_type": "code",
   "execution_count": 56,
   "outputs": [
    {
     "data": {
      "text/plain": "      site veg_type      r  p_val\n0    50639       榆树  0.179  0.462\n1    50655      中东杨  0.113  0.701\n2    50756      小叶杨  0.092  0.775\n3    50756      紫丁香  0.233  0.467\n5    50788      紫丁香  0.294  0.353\n..     ...      ...    ...    ...\n280  58319      悬铃木  0.114  0.614\n281  58321       刺槐  0.308  0.152\n284  58346       梧桐  0.173  0.505\n286  58433       刺槐  0.154  0.453\n287  58433       楝树  0.241  0.236\n\n[175 rows x 4 columns]",
      "text/html": "<div>\n<style scoped>\n    .dataframe tbody tr th:only-of-type {\n        vertical-align: middle;\n    }\n\n    .dataframe tbody tr th {\n        vertical-align: top;\n    }\n\n    .dataframe thead th {\n        text-align: right;\n    }\n</style>\n<table border=\"1\" class=\"dataframe\">\n  <thead>\n    <tr style=\"text-align: right;\">\n      <th></th>\n      <th>site</th>\n      <th>veg_type</th>\n      <th>r</th>\n      <th>p_val</th>\n    </tr>\n  </thead>\n  <tbody>\n    <tr>\n      <th>0</th>\n      <td>50639</td>\n      <td>榆树</td>\n      <td>0.179</td>\n      <td>0.462</td>\n    </tr>\n    <tr>\n      <th>1</th>\n      <td>50655</td>\n      <td>中东杨</td>\n      <td>0.113</td>\n      <td>0.701</td>\n    </tr>\n    <tr>\n      <th>2</th>\n      <td>50756</td>\n      <td>小叶杨</td>\n      <td>0.092</td>\n      <td>0.775</td>\n    </tr>\n    <tr>\n      <th>3</th>\n      <td>50756</td>\n      <td>紫丁香</td>\n      <td>0.233</td>\n      <td>0.467</td>\n    </tr>\n    <tr>\n      <th>5</th>\n      <td>50788</td>\n      <td>紫丁香</td>\n      <td>0.294</td>\n      <td>0.353</td>\n    </tr>\n    <tr>\n      <th>...</th>\n      <td>...</td>\n      <td>...</td>\n      <td>...</td>\n      <td>...</td>\n    </tr>\n    <tr>\n      <th>280</th>\n      <td>58319</td>\n      <td>悬铃木</td>\n      <td>0.114</td>\n      <td>0.614</td>\n    </tr>\n    <tr>\n      <th>281</th>\n      <td>58321</td>\n      <td>刺槐</td>\n      <td>0.308</td>\n      <td>0.152</td>\n    </tr>\n    <tr>\n      <th>284</th>\n      <td>58346</td>\n      <td>梧桐</td>\n      <td>0.173</td>\n      <td>0.505</td>\n    </tr>\n    <tr>\n      <th>286</th>\n      <td>58433</td>\n      <td>刺槐</td>\n      <td>0.154</td>\n      <td>0.453</td>\n    </tr>\n    <tr>\n      <th>287</th>\n      <td>58433</td>\n      <td>楝树</td>\n      <td>0.241</td>\n      <td>0.236</td>\n    </tr>\n  </tbody>\n</table>\n<p>175 rows × 4 columns</p>\n</div>"
     },
     "execution_count": 56,
     "metadata": {},
     "output_type": "execute_result"
    }
   ],
   "source": [
    "China_woody_partial_corr[China_woody_partial_corr['r']>0]"
   ],
   "metadata": {
    "collapsed": false,
    "pycharm": {
     "name": "#%%\n"
    }
   }
  },
  {
   "cell_type": "code",
   "execution_count": 57,
   "outputs": [
    {
     "data": {
      "text/plain": "      site veg_type      r  p_val\n4    50788      小叶杨 -0.026  0.936\n8    50851       榆树 -0.069  0.806\n9    50871      紫丁香 -0.259  0.415\n10   50873       旱柳 -0.521  0.068\n13   50928       旱柳 -0.027  0.930\n..     ...      ...    ...    ...\n277  58255       银杏 -0.503  0.080\n279  58319       刺槐 -0.080  0.723\n282  58321       合欢 -0.360  0.092\n283  58339       楝树 -0.144  0.672\n285  58356       水杉 -0.101  0.754\n\n[113 rows x 4 columns]",
      "text/html": "<div>\n<style scoped>\n    .dataframe tbody tr th:only-of-type {\n        vertical-align: middle;\n    }\n\n    .dataframe tbody tr th {\n        vertical-align: top;\n    }\n\n    .dataframe thead th {\n        text-align: right;\n    }\n</style>\n<table border=\"1\" class=\"dataframe\">\n  <thead>\n    <tr style=\"text-align: right;\">\n      <th></th>\n      <th>site</th>\n      <th>veg_type</th>\n      <th>r</th>\n      <th>p_val</th>\n    </tr>\n  </thead>\n  <tbody>\n    <tr>\n      <th>4</th>\n      <td>50788</td>\n      <td>小叶杨</td>\n      <td>-0.026</td>\n      <td>0.936</td>\n    </tr>\n    <tr>\n      <th>8</th>\n      <td>50851</td>\n      <td>榆树</td>\n      <td>-0.069</td>\n      <td>0.806</td>\n    </tr>\n    <tr>\n      <th>9</th>\n      <td>50871</td>\n      <td>紫丁香</td>\n      <td>-0.259</td>\n      <td>0.415</td>\n    </tr>\n    <tr>\n      <th>10</th>\n      <td>50873</td>\n      <td>旱柳</td>\n      <td>-0.521</td>\n      <td>0.068</td>\n    </tr>\n    <tr>\n      <th>13</th>\n      <td>50928</td>\n      <td>旱柳</td>\n      <td>-0.027</td>\n      <td>0.930</td>\n    </tr>\n    <tr>\n      <th>...</th>\n      <td>...</td>\n      <td>...</td>\n      <td>...</td>\n      <td>...</td>\n    </tr>\n    <tr>\n      <th>277</th>\n      <td>58255</td>\n      <td>银杏</td>\n      <td>-0.503</td>\n      <td>0.080</td>\n    </tr>\n    <tr>\n      <th>279</th>\n      <td>58319</td>\n      <td>刺槐</td>\n      <td>-0.080</td>\n      <td>0.723</td>\n    </tr>\n    <tr>\n      <th>282</th>\n      <td>58321</td>\n      <td>合欢</td>\n      <td>-0.360</td>\n      <td>0.092</td>\n    </tr>\n    <tr>\n      <th>283</th>\n      <td>58339</td>\n      <td>楝树</td>\n      <td>-0.144</td>\n      <td>0.672</td>\n    </tr>\n    <tr>\n      <th>285</th>\n      <td>58356</td>\n      <td>水杉</td>\n      <td>-0.101</td>\n      <td>0.754</td>\n    </tr>\n  </tbody>\n</table>\n<p>113 rows × 4 columns</p>\n</div>"
     },
     "execution_count": 57,
     "metadata": {},
     "output_type": "execute_result"
    }
   ],
   "source": [
    "China_woody_partial_corr[China_woody_partial_corr['r']<0]"
   ],
   "metadata": {
    "collapsed": false,
    "pycharm": {
     "name": "#%%\n"
    }
   }
  },
  {
   "cell_type": "code",
   "execution_count": 240,
   "outputs": [],
   "source": [
    "China_woody_partial_corr.to_csv('/data/shuping/data/china_phenology/results/China_woody_partial_corr.csv', encoding='utf_8_sig')"
   ],
   "metadata": {
    "collapsed": false,
    "pycharm": {
     "name": "#%%\n"
    }
   }
  },
  {
   "cell_type": "markdown",
   "source": [
    "##herb"
   ],
   "metadata": {
    "collapsed": false,
    "pycharm": {
     "name": "#%% md\n"
    }
   }
  },
  {
   "cell_type": "markdown",
   "source": [
    "###获得单个站点csv"
   ],
   "metadata": {
    "collapsed": false,
    "pycharm": {
     "name": "#%% md\n"
    }
   }
  },
  {
   "cell_type": "code",
   "execution_count": 251,
   "outputs": [
    {
     "data": {
      "text/plain": "       year   site  species    sos    eos\n0      1990  50353        7  127.0  257.0\n1      1991  50353        7  123.0  256.0\n2      1992  50353        7  125.0  255.0\n3      1993  50353        7  122.0  252.0\n4      1994  50353        7  127.0  257.0\n...     ...    ...      ...    ...    ...\n10726  2010  54326        7   92.0  300.0\n10727  2011  54326        7  103.0  287.0\n10728  1984  54326        7   92.0  295.0\n10729  1985  54326        7   95.0  290.0\n10730  1986  54326        7   94.0  298.0\n\n[10731 rows x 5 columns]",
      "text/html": "<div>\n<style scoped>\n    .dataframe tbody tr th:only-of-type {\n        vertical-align: middle;\n    }\n\n    .dataframe tbody tr th {\n        vertical-align: top;\n    }\n\n    .dataframe thead th {\n        text-align: right;\n    }\n</style>\n<table border=\"1\" class=\"dataframe\">\n  <thead>\n    <tr style=\"text-align: right;\">\n      <th></th>\n      <th>year</th>\n      <th>site</th>\n      <th>species</th>\n      <th>sos</th>\n      <th>eos</th>\n    </tr>\n  </thead>\n  <tbody>\n    <tr>\n      <th>0</th>\n      <td>1990</td>\n      <td>50353</td>\n      <td>7</td>\n      <td>127.0</td>\n      <td>257.0</td>\n    </tr>\n    <tr>\n      <th>1</th>\n      <td>1991</td>\n      <td>50353</td>\n      <td>7</td>\n      <td>123.0</td>\n      <td>256.0</td>\n    </tr>\n    <tr>\n      <th>2</th>\n      <td>1992</td>\n      <td>50353</td>\n      <td>7</td>\n      <td>125.0</td>\n      <td>255.0</td>\n    </tr>\n    <tr>\n      <th>3</th>\n      <td>1993</td>\n      <td>50353</td>\n      <td>7</td>\n      <td>122.0</td>\n      <td>252.0</td>\n    </tr>\n    <tr>\n      <th>4</th>\n      <td>1994</td>\n      <td>50353</td>\n      <td>7</td>\n      <td>127.0</td>\n      <td>257.0</td>\n    </tr>\n    <tr>\n      <th>...</th>\n      <td>...</td>\n      <td>...</td>\n      <td>...</td>\n      <td>...</td>\n      <td>...</td>\n    </tr>\n    <tr>\n      <th>10726</th>\n      <td>2010</td>\n      <td>54326</td>\n      <td>7</td>\n      <td>92.0</td>\n      <td>300.0</td>\n    </tr>\n    <tr>\n      <th>10727</th>\n      <td>2011</td>\n      <td>54326</td>\n      <td>7</td>\n      <td>103.0</td>\n      <td>287.0</td>\n    </tr>\n    <tr>\n      <th>10728</th>\n      <td>1984</td>\n      <td>54326</td>\n      <td>7</td>\n      <td>92.0</td>\n      <td>295.0</td>\n    </tr>\n    <tr>\n      <th>10729</th>\n      <td>1985</td>\n      <td>54326</td>\n      <td>7</td>\n      <td>95.0</td>\n      <td>290.0</td>\n    </tr>\n    <tr>\n      <th>10730</th>\n      <td>1986</td>\n      <td>54326</td>\n      <td>7</td>\n      <td>94.0</td>\n      <td>298.0</td>\n    </tr>\n  </tbody>\n</table>\n<p>10731 rows × 5 columns</p>\n</div>"
     },
     "execution_count": 251,
     "metadata": {},
     "output_type": "execute_result"
    }
   ],
   "source": [
    "herb_file = '/data/shuping/data/china_phenology/xls_data_clean/herb_phenology_clean.csv'\n",
    "herb_ds =pd.read_csv(herb_file)\n",
    "herb_ds= herb_ds.drop(['Unnamed: 0'], axis=1)\n",
    "herb_ds['site'] = herb_ds['site'].astype(int)\n",
    "herb_ds"
   ],
   "metadata": {
    "collapsed": false,
    "pycharm": {
     "name": "#%%\n"
    }
   }
  },
  {
   "cell_type": "code",
   "execution_count": 252,
   "outputs": [
    {
     "data": {
      "text/plain": "       site     lon    lat\n0     50971  126.60  45.75\n1     53856  110.75  36.47\n2     54505  116.11  39.91\n3     56279  102.93  30.15\n4     56764  101.43  25.53\n...     ...     ...    ...\n1358  58647  119.13  28.06\n1359  58652  120.71  28.85\n1360  58659  120.65  28.03\n1361  58665  121.42  28.62\n1362  58751  120.55  27.68\n\n[1363 rows x 3 columns]",
      "text/html": "<div>\n<style scoped>\n    .dataframe tbody tr th:only-of-type {\n        vertical-align: middle;\n    }\n\n    .dataframe tbody tr th {\n        vertical-align: top;\n    }\n\n    .dataframe thead th {\n        text-align: right;\n    }\n</style>\n<table border=\"1\" class=\"dataframe\">\n  <thead>\n    <tr style=\"text-align: right;\">\n      <th></th>\n      <th>site</th>\n      <th>lon</th>\n      <th>lat</th>\n    </tr>\n  </thead>\n  <tbody>\n    <tr>\n      <th>0</th>\n      <td>50971</td>\n      <td>126.60</td>\n      <td>45.75</td>\n    </tr>\n    <tr>\n      <th>1</th>\n      <td>53856</td>\n      <td>110.75</td>\n      <td>36.47</td>\n    </tr>\n    <tr>\n      <th>2</th>\n      <td>54505</td>\n      <td>116.11</td>\n      <td>39.91</td>\n    </tr>\n    <tr>\n      <th>3</th>\n      <td>56279</td>\n      <td>102.93</td>\n      <td>30.15</td>\n    </tr>\n    <tr>\n      <th>4</th>\n      <td>56764</td>\n      <td>101.43</td>\n      <td>25.53</td>\n    </tr>\n    <tr>\n      <th>...</th>\n      <td>...</td>\n      <td>...</td>\n      <td>...</td>\n    </tr>\n    <tr>\n      <th>1358</th>\n      <td>58647</td>\n      <td>119.13</td>\n      <td>28.06</td>\n    </tr>\n    <tr>\n      <th>1359</th>\n      <td>58652</td>\n      <td>120.71</td>\n      <td>28.85</td>\n    </tr>\n    <tr>\n      <th>1360</th>\n      <td>58659</td>\n      <td>120.65</td>\n      <td>28.03</td>\n    </tr>\n    <tr>\n      <th>1361</th>\n      <td>58665</td>\n      <td>121.42</td>\n      <td>28.62</td>\n    </tr>\n    <tr>\n      <th>1362</th>\n      <td>58751</td>\n      <td>120.55</td>\n      <td>27.68</td>\n    </tr>\n  </tbody>\n</table>\n<p>1363 rows × 3 columns</p>\n</div>"
     },
     "execution_count": 252,
     "metadata": {},
     "output_type": "execute_result"
    }
   ],
   "source": [
    "file_path = '/data/shuping/data/china_phenology/xls_data_clean/站点经纬度.xlsx'\n",
    "all_site_lat_lon = pd.read_excel(file_path)\n",
    "all_site_lat_lon = all_site_lat_lon.drop(['站名', '省称', 'Unnamed: 5'], axis=1)\n",
    "all_site_lat_lon.columns = ['site','lon','lat']\n",
    "all_site_lat_lon"
   ],
   "metadata": {
    "collapsed": false,
    "pycharm": {
     "name": "#%%\n"
    }
   }
  },
  {
   "cell_type": "code",
   "execution_count": 244,
   "outputs": [
    {
     "data": {
      "text/plain": "      site veg_type multi_sos multi_eos\n0    50353        7         4         9\n1    50425        7         4         9\n2    50425       33         4         9\n3    50425       36         4         8\n4    50425       42         4         9\n..     ...      ...       ...       ...\n392  58208        7         2        10\n393  58208       32         3        10\n394  58269       32         3        10\n395  58319        7         2         8\n396  58346       45         2        11\n\n[397 rows x 4 columns]",
      "text/html": "<div>\n<style scoped>\n    .dataframe tbody tr th:only-of-type {\n        vertical-align: middle;\n    }\n\n    .dataframe tbody tr th {\n        vertical-align: top;\n    }\n\n    .dataframe thead th {\n        text-align: right;\n    }\n</style>\n<table border=\"1\" class=\"dataframe\">\n  <thead>\n    <tr style=\"text-align: right;\">\n      <th></th>\n      <th>site</th>\n      <th>veg_type</th>\n      <th>multi_sos</th>\n      <th>multi_eos</th>\n    </tr>\n  </thead>\n  <tbody>\n    <tr>\n      <th>0</th>\n      <td>50353</td>\n      <td>7</td>\n      <td>4</td>\n      <td>9</td>\n    </tr>\n    <tr>\n      <th>1</th>\n      <td>50425</td>\n      <td>7</td>\n      <td>4</td>\n      <td>9</td>\n    </tr>\n    <tr>\n      <th>2</th>\n      <td>50425</td>\n      <td>33</td>\n      <td>4</td>\n      <td>9</td>\n    </tr>\n    <tr>\n      <th>3</th>\n      <td>50425</td>\n      <td>36</td>\n      <td>4</td>\n      <td>8</td>\n    </tr>\n    <tr>\n      <th>4</th>\n      <td>50425</td>\n      <td>42</td>\n      <td>4</td>\n      <td>9</td>\n    </tr>\n    <tr>\n      <th>...</th>\n      <td>...</td>\n      <td>...</td>\n      <td>...</td>\n      <td>...</td>\n    </tr>\n    <tr>\n      <th>392</th>\n      <td>58208</td>\n      <td>7</td>\n      <td>2</td>\n      <td>10</td>\n    </tr>\n    <tr>\n      <th>393</th>\n      <td>58208</td>\n      <td>32</td>\n      <td>3</td>\n      <td>10</td>\n    </tr>\n    <tr>\n      <th>394</th>\n      <td>58269</td>\n      <td>32</td>\n      <td>3</td>\n      <td>10</td>\n    </tr>\n    <tr>\n      <th>395</th>\n      <td>58319</td>\n      <td>7</td>\n      <td>2</td>\n      <td>8</td>\n    </tr>\n    <tr>\n      <th>396</th>\n      <td>58346</td>\n      <td>45</td>\n      <td>2</td>\n      <td>11</td>\n    </tr>\n  </tbody>\n</table>\n<p>397 rows × 4 columns</p>\n</div>"
     },
     "execution_count": 244,
     "metadata": {},
     "output_type": "execute_result"
    }
   ],
   "source": [
    "all_site = herb_ds['site'].unique()#返回对应列的不同值\n",
    "site_lat_lon = pd.DataFrame(columns=['site', 'veg_type', 'multi_sos', 'multi_eos'])\n",
    "for i in range(len(all_site)):\n",
    "    single_site_ds = herb_ds[herb_ds.site == all_site[i]]\n",
    "    species = single_site_ds['species'].unique()\n",
    "    for j in range(len(species)):\n",
    "        site_species_ds = single_site_ds[single_site_ds.species == species[j]]\n",
    "        site_species_ds = site_species_ds[site_species_ds['year'] > 1981]\n",
    "        site_species_ds = site_species_ds[site_species_ds['year'] < 2015]\n",
    "        site_species_ds = site_species_ds.reset_index(drop=True)\n",
    "        a = site_species_ds.shape[0]\n",
    "        if a >= 15:\n",
    "            mean_sos = site_species_ds['sos'].mean()\n",
    "            mean_eos = site_species_ds['eos'].mean()\n",
    "            name = str(species[j])\n",
    "            site = str(all_site[i])\n",
    "            file_name = '/data/shuping/data/china_phenology/partial_corr/herb/15year_csv/' + site  + '_' + name+ '.csv'\n",
    "            if round(mean_eos/30)>=6:\n",
    "                site_species_ds.to_csv(file_name, encoding='utf_8_sig')\n",
    "                site_lat_lon = site_lat_lon.append(pd.DataFrame({'site':[all_site[i]],'veg_type':[species[j]],'multi_eos':[round(mean_eos/30)],\n",
    "                                                                 'multi_sos': [round(mean_sos/30)]}), ignore_index=True)\n",
    "\n",
    "site_lat_lon"
   ],
   "metadata": {
    "collapsed": false,
    "pycharm": {
     "name": "#%%\n"
    }
   }
  },
  {
   "cell_type": "code",
   "execution_count": 255,
   "outputs": [
    {
     "data": {
      "text/plain": "      site veg_type multi_sos multi_eos lat lon\n0    50353        7         4         9        \n1    50425        7         4         9        \n2    50425       33         4         9        \n3    50425       36         4         8        \n4    50425       42         4         9        \n..     ...      ...       ...       ...  ..  ..\n392  58208        7         2        10        \n393  58208       32         3        10        \n394  58269       32         3        10        \n395  58319        7         2         8        \n396  58346       45         2        11        \n\n[397 rows x 6 columns]",
      "text/html": "<div>\n<style scoped>\n    .dataframe tbody tr th:only-of-type {\n        vertical-align: middle;\n    }\n\n    .dataframe tbody tr th {\n        vertical-align: top;\n    }\n\n    .dataframe thead th {\n        text-align: right;\n    }\n</style>\n<table border=\"1\" class=\"dataframe\">\n  <thead>\n    <tr style=\"text-align: right;\">\n      <th></th>\n      <th>site</th>\n      <th>veg_type</th>\n      <th>multi_sos</th>\n      <th>multi_eos</th>\n      <th>lat</th>\n      <th>lon</th>\n    </tr>\n  </thead>\n  <tbody>\n    <tr>\n      <th>0</th>\n      <td>50353</td>\n      <td>7</td>\n      <td>4</td>\n      <td>9</td>\n      <td></td>\n      <td></td>\n    </tr>\n    <tr>\n      <th>1</th>\n      <td>50425</td>\n      <td>7</td>\n      <td>4</td>\n      <td>9</td>\n      <td></td>\n      <td></td>\n    </tr>\n    <tr>\n      <th>2</th>\n      <td>50425</td>\n      <td>33</td>\n      <td>4</td>\n      <td>9</td>\n      <td></td>\n      <td></td>\n    </tr>\n    <tr>\n      <th>3</th>\n      <td>50425</td>\n      <td>36</td>\n      <td>4</td>\n      <td>8</td>\n      <td></td>\n      <td></td>\n    </tr>\n    <tr>\n      <th>4</th>\n      <td>50425</td>\n      <td>42</td>\n      <td>4</td>\n      <td>9</td>\n      <td></td>\n      <td></td>\n    </tr>\n    <tr>\n      <th>...</th>\n      <td>...</td>\n      <td>...</td>\n      <td>...</td>\n      <td>...</td>\n      <td>...</td>\n      <td>...</td>\n    </tr>\n    <tr>\n      <th>392</th>\n      <td>58208</td>\n      <td>7</td>\n      <td>2</td>\n      <td>10</td>\n      <td></td>\n      <td></td>\n    </tr>\n    <tr>\n      <th>393</th>\n      <td>58208</td>\n      <td>32</td>\n      <td>3</td>\n      <td>10</td>\n      <td></td>\n      <td></td>\n    </tr>\n    <tr>\n      <th>394</th>\n      <td>58269</td>\n      <td>32</td>\n      <td>3</td>\n      <td>10</td>\n      <td></td>\n      <td></td>\n    </tr>\n    <tr>\n      <th>395</th>\n      <td>58319</td>\n      <td>7</td>\n      <td>2</td>\n      <td>8</td>\n      <td></td>\n      <td></td>\n    </tr>\n    <tr>\n      <th>396</th>\n      <td>58346</td>\n      <td>45</td>\n      <td>2</td>\n      <td>11</td>\n      <td></td>\n      <td></td>\n    </tr>\n  </tbody>\n</table>\n<p>397 rows × 6 columns</p>\n</div>"
     },
     "execution_count": 255,
     "metadata": {},
     "output_type": "execute_result"
    }
   ],
   "source": [
    "site_lat_lon['lat'] =''\n",
    "site_lat_lon['lon'] = ''\n",
    "site_lat_lon"
   ],
   "metadata": {
    "collapsed": false,
    "pycharm": {
     "name": "#%%\n"
    }
   }
  },
  {
   "cell_type": "markdown",
   "source": [
    "###获得site经纬度和multi_eos"
   ],
   "metadata": {
    "collapsed": false,
    "pycharm": {
     "name": "#%% md\n"
    }
   }
  },
  {
   "cell_type": "code",
   "execution_count": 256,
   "outputs": [
    {
     "data": {
      "text/plain": "       site     lon    lat\n0     50971  126.60  45.75\n1     53856  110.75  36.47\n2     54505  116.11  39.91\n3     56279  102.93  30.15\n4     56764  101.43  25.53\n...     ...     ...    ...\n1358  58647  119.13  28.06\n1359  58652  120.71  28.85\n1360  58659  120.65  28.03\n1361  58665  121.42  28.62\n1362  58751  120.55  27.68\n\n[1363 rows x 3 columns]",
      "text/html": "<div>\n<style scoped>\n    .dataframe tbody tr th:only-of-type {\n        vertical-align: middle;\n    }\n\n    .dataframe tbody tr th {\n        vertical-align: top;\n    }\n\n    .dataframe thead th {\n        text-align: right;\n    }\n</style>\n<table border=\"1\" class=\"dataframe\">\n  <thead>\n    <tr style=\"text-align: right;\">\n      <th></th>\n      <th>site</th>\n      <th>lon</th>\n      <th>lat</th>\n    </tr>\n  </thead>\n  <tbody>\n    <tr>\n      <th>0</th>\n      <td>50971</td>\n      <td>126.60</td>\n      <td>45.75</td>\n    </tr>\n    <tr>\n      <th>1</th>\n      <td>53856</td>\n      <td>110.75</td>\n      <td>36.47</td>\n    </tr>\n    <tr>\n      <th>2</th>\n      <td>54505</td>\n      <td>116.11</td>\n      <td>39.91</td>\n    </tr>\n    <tr>\n      <th>3</th>\n      <td>56279</td>\n      <td>102.93</td>\n      <td>30.15</td>\n    </tr>\n    <tr>\n      <th>4</th>\n      <td>56764</td>\n      <td>101.43</td>\n      <td>25.53</td>\n    </tr>\n    <tr>\n      <th>...</th>\n      <td>...</td>\n      <td>...</td>\n      <td>...</td>\n    </tr>\n    <tr>\n      <th>1358</th>\n      <td>58647</td>\n      <td>119.13</td>\n      <td>28.06</td>\n    </tr>\n    <tr>\n      <th>1359</th>\n      <td>58652</td>\n      <td>120.71</td>\n      <td>28.85</td>\n    </tr>\n    <tr>\n      <th>1360</th>\n      <td>58659</td>\n      <td>120.65</td>\n      <td>28.03</td>\n    </tr>\n    <tr>\n      <th>1361</th>\n      <td>58665</td>\n      <td>121.42</td>\n      <td>28.62</td>\n    </tr>\n    <tr>\n      <th>1362</th>\n      <td>58751</td>\n      <td>120.55</td>\n      <td>27.68</td>\n    </tr>\n  </tbody>\n</table>\n<p>1363 rows × 3 columns</p>\n</div>"
     },
     "execution_count": 256,
     "metadata": {},
     "output_type": "execute_result"
    }
   ],
   "source": [
    "file_path = '/data/shuping/data/china_phenology/xls_data_clean/站点经纬度.xlsx'\n",
    "all_site_lat_lon = pd.read_excel(file_path)\n",
    "all_site_lat_lon = all_site_lat_lon.drop(['站名', '省称', 'Unnamed: 5'], axis=1)\n",
    "all_site_lat_lon.columns = ['site','lon','lat']\n",
    "all_site_lat_lon"
   ],
   "metadata": {
    "collapsed": false,
    "pycharm": {
     "name": "#%%\n"
    }
   }
  },
  {
   "cell_type": "code",
   "execution_count": 257,
   "outputs": [
    {
     "data": {
      "text/plain": "      site veg_type multi_sos multi_eos    lat     lon\n0    50353        7         4         9  51.72  126.65\n1    50425        7         4         9  50.25  120.18\n2    50425       33         4         9  50.25  120.18\n3    50425       36         4         8  50.25  120.18\n4    50425       42         4         9  50.25  120.18\n..     ...      ...       ...       ...    ...     ...\n392  58208        7         2        10  32.16  115.66\n393  58208       32         3        10  32.16  115.66\n394  58269       32         3        10   31.8  121.66\n395  58319        7         2         8  31.06  116.95\n396  58346       45         2        11  31.36  119.81\n\n[397 rows x 6 columns]",
      "text/html": "<div>\n<style scoped>\n    .dataframe tbody tr th:only-of-type {\n        vertical-align: middle;\n    }\n\n    .dataframe tbody tr th {\n        vertical-align: top;\n    }\n\n    .dataframe thead th {\n        text-align: right;\n    }\n</style>\n<table border=\"1\" class=\"dataframe\">\n  <thead>\n    <tr style=\"text-align: right;\">\n      <th></th>\n      <th>site</th>\n      <th>veg_type</th>\n      <th>multi_sos</th>\n      <th>multi_eos</th>\n      <th>lat</th>\n      <th>lon</th>\n    </tr>\n  </thead>\n  <tbody>\n    <tr>\n      <th>0</th>\n      <td>50353</td>\n      <td>7</td>\n      <td>4</td>\n      <td>9</td>\n      <td>51.72</td>\n      <td>126.65</td>\n    </tr>\n    <tr>\n      <th>1</th>\n      <td>50425</td>\n      <td>7</td>\n      <td>4</td>\n      <td>9</td>\n      <td>50.25</td>\n      <td>120.18</td>\n    </tr>\n    <tr>\n      <th>2</th>\n      <td>50425</td>\n      <td>33</td>\n      <td>4</td>\n      <td>9</td>\n      <td>50.25</td>\n      <td>120.18</td>\n    </tr>\n    <tr>\n      <th>3</th>\n      <td>50425</td>\n      <td>36</td>\n      <td>4</td>\n      <td>8</td>\n      <td>50.25</td>\n      <td>120.18</td>\n    </tr>\n    <tr>\n      <th>4</th>\n      <td>50425</td>\n      <td>42</td>\n      <td>4</td>\n      <td>9</td>\n      <td>50.25</td>\n      <td>120.18</td>\n    </tr>\n    <tr>\n      <th>...</th>\n      <td>...</td>\n      <td>...</td>\n      <td>...</td>\n      <td>...</td>\n      <td>...</td>\n      <td>...</td>\n    </tr>\n    <tr>\n      <th>392</th>\n      <td>58208</td>\n      <td>7</td>\n      <td>2</td>\n      <td>10</td>\n      <td>32.16</td>\n      <td>115.66</td>\n    </tr>\n    <tr>\n      <th>393</th>\n      <td>58208</td>\n      <td>32</td>\n      <td>3</td>\n      <td>10</td>\n      <td>32.16</td>\n      <td>115.66</td>\n    </tr>\n    <tr>\n      <th>394</th>\n      <td>58269</td>\n      <td>32</td>\n      <td>3</td>\n      <td>10</td>\n      <td>31.8</td>\n      <td>121.66</td>\n    </tr>\n    <tr>\n      <th>395</th>\n      <td>58319</td>\n      <td>7</td>\n      <td>2</td>\n      <td>8</td>\n      <td>31.06</td>\n      <td>116.95</td>\n    </tr>\n    <tr>\n      <th>396</th>\n      <td>58346</td>\n      <td>45</td>\n      <td>2</td>\n      <td>11</td>\n      <td>31.36</td>\n      <td>119.81</td>\n    </tr>\n  </tbody>\n</table>\n<p>397 rows × 6 columns</p>\n</div>"
     },
     "execution_count": 257,
     "metadata": {},
     "output_type": "execute_result"
    }
   ],
   "source": [
    "for i in range(len(site_lat_lon)):\n",
    "    for j in range(len(all_site_lat_lon)):\n",
    "        if site_lat_lon.site[i] == all_site_lat_lon.site[j]:\n",
    "            site_lat_lon.lat[i] = all_site_lat_lon.lat[j]\n",
    "            site_lat_lon.lon[i] = all_site_lat_lon.lon[j]\n",
    "\n",
    "site_lat_lon.to_csv('/data/shuping/data/china_phenology/partial_corr/herb/site_lat_lon_multi_eos.csv',  encoding='utf_8_sig')\n",
    "site_lat_lon"
   ],
   "metadata": {
    "collapsed": false,
    "pycharm": {
     "name": "#%%\n"
    }
   }
  },
  {
   "cell_type": "code",
   "execution_count": 268,
   "outputs": [
    {
     "data": {
      "text/plain": "      site  veg_type  multi_sos  multi_eos    lat     lon\n0    50353         7          4          9  51.72  126.65\n1    50425         7          4          9  50.25  120.18\n2    50425        33          4          9  50.25  120.18\n3    50425        36          4          8  50.25  120.18\n4    50425        42          4          9  50.25  120.18\n..     ...       ...        ...        ...    ...     ...\n392  58208         7          2         10  32.16  115.66\n393  58208        32          3         10  32.16  115.66\n394  58269        32          3         10  31.80  121.66\n395  58319         7          2          8  31.06  116.95\n396  58346        45          2         11  31.36  119.81\n\n[397 rows x 6 columns]",
      "text/html": "<div>\n<style scoped>\n    .dataframe tbody tr th:only-of-type {\n        vertical-align: middle;\n    }\n\n    .dataframe tbody tr th {\n        vertical-align: top;\n    }\n\n    .dataframe thead th {\n        text-align: right;\n    }\n</style>\n<table border=\"1\" class=\"dataframe\">\n  <thead>\n    <tr style=\"text-align: right;\">\n      <th></th>\n      <th>site</th>\n      <th>veg_type</th>\n      <th>multi_sos</th>\n      <th>multi_eos</th>\n      <th>lat</th>\n      <th>lon</th>\n    </tr>\n  </thead>\n  <tbody>\n    <tr>\n      <th>0</th>\n      <td>50353</td>\n      <td>7</td>\n      <td>4</td>\n      <td>9</td>\n      <td>51.72</td>\n      <td>126.65</td>\n    </tr>\n    <tr>\n      <th>1</th>\n      <td>50425</td>\n      <td>7</td>\n      <td>4</td>\n      <td>9</td>\n      <td>50.25</td>\n      <td>120.18</td>\n    </tr>\n    <tr>\n      <th>2</th>\n      <td>50425</td>\n      <td>33</td>\n      <td>4</td>\n      <td>9</td>\n      <td>50.25</td>\n      <td>120.18</td>\n    </tr>\n    <tr>\n      <th>3</th>\n      <td>50425</td>\n      <td>36</td>\n      <td>4</td>\n      <td>8</td>\n      <td>50.25</td>\n      <td>120.18</td>\n    </tr>\n    <tr>\n      <th>4</th>\n      <td>50425</td>\n      <td>42</td>\n      <td>4</td>\n      <td>9</td>\n      <td>50.25</td>\n      <td>120.18</td>\n    </tr>\n    <tr>\n      <th>...</th>\n      <td>...</td>\n      <td>...</td>\n      <td>...</td>\n      <td>...</td>\n      <td>...</td>\n      <td>...</td>\n    </tr>\n    <tr>\n      <th>392</th>\n      <td>58208</td>\n      <td>7</td>\n      <td>2</td>\n      <td>10</td>\n      <td>32.16</td>\n      <td>115.66</td>\n    </tr>\n    <tr>\n      <th>393</th>\n      <td>58208</td>\n      <td>32</td>\n      <td>3</td>\n      <td>10</td>\n      <td>32.16</td>\n      <td>115.66</td>\n    </tr>\n    <tr>\n      <th>394</th>\n      <td>58269</td>\n      <td>32</td>\n      <td>3</td>\n      <td>10</td>\n      <td>31.80</td>\n      <td>121.66</td>\n    </tr>\n    <tr>\n      <th>395</th>\n      <td>58319</td>\n      <td>7</td>\n      <td>2</td>\n      <td>8</td>\n      <td>31.06</td>\n      <td>116.95</td>\n    </tr>\n    <tr>\n      <th>396</th>\n      <td>58346</td>\n      <td>45</td>\n      <td>2</td>\n      <td>11</td>\n      <td>31.36</td>\n      <td>119.81</td>\n    </tr>\n  </tbody>\n</table>\n<p>397 rows × 6 columns</p>\n</div>"
     },
     "execution_count": 268,
     "metadata": {},
     "output_type": "execute_result"
    }
   ],
   "source": [
    "file_path = '/data/shuping/data/china_phenology/partial_corr/herb/site_lat_lon_multi_eos.csv'\n",
    "site_lat_lon = pd.read_csv(file_path)\n",
    "site_lat_lon = site_lat_lon.drop(['Unnamed: 0'], axis=1)\n",
    "site_lat_lon"
   ],
   "metadata": {
    "collapsed": false,
    "pycharm": {
     "name": "#%%\n"
    }
   }
  },
  {
   "cell_type": "code",
   "execution_count": 269,
   "outputs": [
    {
     "data": {
      "text/plain": "      site  veg_type  multi_sos  multi_eos    lat     lon\n0    56792         7          2         10  25.78  104.96\n1    57865         7          2         11  26.41  111.56\n2    57865        36          2         10  26.41  111.56\n3    57687         6          4         10  28.21  112.91\n4    57662         7          2          7  29.05  111.68\n..     ...       ...        ...        ...    ...     ...\n392  54752        33          3         10    NaN     NaN\n393  54752        36          2         10    NaN     NaN\n394  57014        36          2         11    NaN     NaN\n395  58027        29          4          9    NaN     NaN\n396  58027        32          3         10    NaN     NaN\n\n[397 rows x 6 columns]",
      "text/html": "<div>\n<style scoped>\n    .dataframe tbody tr th:only-of-type {\n        vertical-align: middle;\n    }\n\n    .dataframe tbody tr th {\n        vertical-align: top;\n    }\n\n    .dataframe thead th {\n        text-align: right;\n    }\n</style>\n<table border=\"1\" class=\"dataframe\">\n  <thead>\n    <tr style=\"text-align: right;\">\n      <th></th>\n      <th>site</th>\n      <th>veg_type</th>\n      <th>multi_sos</th>\n      <th>multi_eos</th>\n      <th>lat</th>\n      <th>lon</th>\n    </tr>\n  </thead>\n  <tbody>\n    <tr>\n      <th>0</th>\n      <td>56792</td>\n      <td>7</td>\n      <td>2</td>\n      <td>10</td>\n      <td>25.78</td>\n      <td>104.96</td>\n    </tr>\n    <tr>\n      <th>1</th>\n      <td>57865</td>\n      <td>7</td>\n      <td>2</td>\n      <td>11</td>\n      <td>26.41</td>\n      <td>111.56</td>\n    </tr>\n    <tr>\n      <th>2</th>\n      <td>57865</td>\n      <td>36</td>\n      <td>2</td>\n      <td>10</td>\n      <td>26.41</td>\n      <td>111.56</td>\n    </tr>\n    <tr>\n      <th>3</th>\n      <td>57687</td>\n      <td>6</td>\n      <td>4</td>\n      <td>10</td>\n      <td>28.21</td>\n      <td>112.91</td>\n    </tr>\n    <tr>\n      <th>4</th>\n      <td>57662</td>\n      <td>7</td>\n      <td>2</td>\n      <td>7</td>\n      <td>29.05</td>\n      <td>111.68</td>\n    </tr>\n    <tr>\n      <th>...</th>\n      <td>...</td>\n      <td>...</td>\n      <td>...</td>\n      <td>...</td>\n      <td>...</td>\n      <td>...</td>\n    </tr>\n    <tr>\n      <th>392</th>\n      <td>54752</td>\n      <td>33</td>\n      <td>3</td>\n      <td>10</td>\n      <td>NaN</td>\n      <td>NaN</td>\n    </tr>\n    <tr>\n      <th>393</th>\n      <td>54752</td>\n      <td>36</td>\n      <td>2</td>\n      <td>10</td>\n      <td>NaN</td>\n      <td>NaN</td>\n    </tr>\n    <tr>\n      <th>394</th>\n      <td>57014</td>\n      <td>36</td>\n      <td>2</td>\n      <td>11</td>\n      <td>NaN</td>\n      <td>NaN</td>\n    </tr>\n    <tr>\n      <th>395</th>\n      <td>58027</td>\n      <td>29</td>\n      <td>4</td>\n      <td>9</td>\n      <td>NaN</td>\n      <td>NaN</td>\n    </tr>\n    <tr>\n      <th>396</th>\n      <td>58027</td>\n      <td>32</td>\n      <td>3</td>\n      <td>10</td>\n      <td>NaN</td>\n      <td>NaN</td>\n    </tr>\n  </tbody>\n</table>\n<p>397 rows × 6 columns</p>\n</div>"
     },
     "execution_count": 269,
     "metadata": {},
     "output_type": "execute_result"
    }
   ],
   "source": [
    "site_lat_lon = site_lat_lon.sort_values(by='lat', ascending=True)\n",
    "site_lat_lon = site_lat_lon.reset_index(drop=True)\n",
    "site_lat_lon"
   ],
   "metadata": {
    "collapsed": false,
    "pycharm": {
     "name": "#%%\n"
    }
   }
  },
  {
   "cell_type": "code",
   "execution_count": 272,
   "outputs": [
    {
     "data": {
      "text/plain": "      site  veg_type  multi_sos  multi_eos    lat     lon\n0    50353         7          4          9  51.72  126.65\n1    50425        33          4          9  50.25  120.18\n2    50425        36          4          8  50.25  120.18\n3    50425        42          4          9  50.25  120.18\n4    50425        48          4          9  50.25  120.18\n..     ...       ...        ...        ...    ...     ...\n377  58208        32          3         10  32.16  115.66\n378  58208         7          2         10  32.16  115.66\n379  58269        32          3         10  31.80  121.66\n380  58319         7          2          8  31.06  116.95\n381  58346        45          2         11  31.36  119.81\n\n[382 rows x 6 columns]",
      "text/html": "<div>\n<style scoped>\n    .dataframe tbody tr th:only-of-type {\n        vertical-align: middle;\n    }\n\n    .dataframe tbody tr th {\n        vertical-align: top;\n    }\n\n    .dataframe thead th {\n        text-align: right;\n    }\n</style>\n<table border=\"1\" class=\"dataframe\">\n  <thead>\n    <tr style=\"text-align: right;\">\n      <th></th>\n      <th>site</th>\n      <th>veg_type</th>\n      <th>multi_sos</th>\n      <th>multi_eos</th>\n      <th>lat</th>\n      <th>lon</th>\n    </tr>\n  </thead>\n  <tbody>\n    <tr>\n      <th>0</th>\n      <td>50353</td>\n      <td>7</td>\n      <td>4</td>\n      <td>9</td>\n      <td>51.72</td>\n      <td>126.65</td>\n    </tr>\n    <tr>\n      <th>1</th>\n      <td>50425</td>\n      <td>33</td>\n      <td>4</td>\n      <td>9</td>\n      <td>50.25</td>\n      <td>120.18</td>\n    </tr>\n    <tr>\n      <th>2</th>\n      <td>50425</td>\n      <td>36</td>\n      <td>4</td>\n      <td>8</td>\n      <td>50.25</td>\n      <td>120.18</td>\n    </tr>\n    <tr>\n      <th>3</th>\n      <td>50425</td>\n      <td>42</td>\n      <td>4</td>\n      <td>9</td>\n      <td>50.25</td>\n      <td>120.18</td>\n    </tr>\n    <tr>\n      <th>4</th>\n      <td>50425</td>\n      <td>48</td>\n      <td>4</td>\n      <td>9</td>\n      <td>50.25</td>\n      <td>120.18</td>\n    </tr>\n    <tr>\n      <th>...</th>\n      <td>...</td>\n      <td>...</td>\n      <td>...</td>\n      <td>...</td>\n      <td>...</td>\n      <td>...</td>\n    </tr>\n    <tr>\n      <th>377</th>\n      <td>58208</td>\n      <td>32</td>\n      <td>3</td>\n      <td>10</td>\n      <td>32.16</td>\n      <td>115.66</td>\n    </tr>\n    <tr>\n      <th>378</th>\n      <td>58208</td>\n      <td>7</td>\n      <td>2</td>\n      <td>10</td>\n      <td>32.16</td>\n      <td>115.66</td>\n    </tr>\n    <tr>\n      <th>379</th>\n      <td>58269</td>\n      <td>32</td>\n      <td>3</td>\n      <td>10</td>\n      <td>31.80</td>\n      <td>121.66</td>\n    </tr>\n    <tr>\n      <th>380</th>\n      <td>58319</td>\n      <td>7</td>\n      <td>2</td>\n      <td>8</td>\n      <td>31.06</td>\n      <td>116.95</td>\n    </tr>\n    <tr>\n      <th>381</th>\n      <td>58346</td>\n      <td>45</td>\n      <td>2</td>\n      <td>11</td>\n      <td>31.36</td>\n      <td>119.81</td>\n    </tr>\n  </tbody>\n</table>\n<p>382 rows × 6 columns</p>\n</div>"
     },
     "execution_count": 272,
     "metadata": {},
     "output_type": "execute_result"
    }
   ],
   "source": [
    "site_lat_lon = site_lat_lon[site_lat_lon['lat']>30]\n",
    "site_lat_lon = site_lat_lon.sort_values(by='site', ascending=True)\n",
    "site_lat_lon = site_lat_lon.reset_index(drop=True)\n",
    "site_lat_lon.to_csv('/data/shuping/data/china_phenology/partial_corr/herb/site_lat_lon_multi_eos.csv')\n",
    "site_lat_lon"
   ],
   "metadata": {
    "collapsed": false,
    "pycharm": {
     "name": "#%%\n"
    }
   }
  },
  {
   "cell_type": "code",
   "execution_count": 274,
   "outputs": [],
   "source": [
    "document_path = '/data/shuping/data/china_phenology/partial_corr/herb/15year_csv/'\n",
    "out_path = '/data/shuping/data/china_phenology/partial_corr/herb/15year_csv_match_lat_lon'\n",
    "files = sorted(os.listdir(document_path))\n",
    "for file in files:\n",
    "    csv_path = document_path + file\n",
    "    (name,ext) = os.path.splitext(file)\n",
    "    for i in range(len(site_lat_lon)):\n",
    "        if int(name[0:5]) == site_lat_lon.site[i] and str(name[6:8]) == str(site_lat_lon.veg_type[i]):\n",
    "            shutil.copy(csv_path, os.path.join(out_path, file))"
   ],
   "metadata": {
    "collapsed": false,
    "pycharm": {
     "name": "#%%\n"
    }
   }
  },
  {
   "cell_type": "code",
   "execution_count": 280,
   "outputs": [
    {
     "name": "stderr",
     "output_type": "stream",
     "text": [
      "/home/sdu-w-001/anaconda3/envs/jsp_gdal/lib/python3.7/site-packages/ipykernel_launcher.py:9: SettingWithCopyWarning: \n",
      "A value is trying to be set on a copy of a slice from a DataFrame\n",
      "\n",
      "See the caveats in the documentation: https://pandas.pydata.org/pandas-docs/stable/user_guide/indexing.html#returning-a-view-versus-a-copy\n",
      "  if __name__ == '__main__':\n",
      "/home/sdu-w-001/anaconda3/envs/jsp_gdal/lib/python3.7/site-packages/ipykernel_launcher.py:10: SettingWithCopyWarning: \n",
      "A value is trying to be set on a copy of a slice from a DataFrame\n",
      "\n",
      "See the caveats in the documentation: https://pandas.pydata.org/pandas-docs/stable/user_guide/indexing.html#returning-a-view-versus-a-copy\n",
      "  # Remove the CWD from sys.path while we load stuff.\n"
     ]
    },
    {
     "data": {
      "text/plain": "      site  veg_type  multi_sos  multi_eos    lat     lon  col  row\n0    50353         7          4          9  51.72  126.65  613   76\n1    50425        33          4          9  50.25  120.18  600   79\n2    50425        36          4          8  50.25  120.18  600   79\n3    50425        42          4          9  50.25  120.18  600   79\n4    50425        48          4          9  50.25  120.18  600   79\n..     ...       ...        ...        ...    ...     ...  ...  ...\n377  58208        32          3         10  32.16  115.66  591  115\n378  58208         7          2         10  32.16  115.66  591  115\n379  58269        32          3         10  31.80  121.66  603  116\n380  58319         7          2          8  31.06  116.95  593  117\n381  58346        45          2         11  31.36  119.81  599  117\n\n[382 rows x 8 columns]",
      "text/html": "<div>\n<style scoped>\n    .dataframe tbody tr th:only-of-type {\n        vertical-align: middle;\n    }\n\n    .dataframe tbody tr th {\n        vertical-align: top;\n    }\n\n    .dataframe thead th {\n        text-align: right;\n    }\n</style>\n<table border=\"1\" class=\"dataframe\">\n  <thead>\n    <tr style=\"text-align: right;\">\n      <th></th>\n      <th>site</th>\n      <th>veg_type</th>\n      <th>multi_sos</th>\n      <th>multi_eos</th>\n      <th>lat</th>\n      <th>lon</th>\n      <th>col</th>\n      <th>row</th>\n    </tr>\n  </thead>\n  <tbody>\n    <tr>\n      <th>0</th>\n      <td>50353</td>\n      <td>7</td>\n      <td>4</td>\n      <td>9</td>\n      <td>51.72</td>\n      <td>126.65</td>\n      <td>613</td>\n      <td>76</td>\n    </tr>\n    <tr>\n      <th>1</th>\n      <td>50425</td>\n      <td>33</td>\n      <td>4</td>\n      <td>9</td>\n      <td>50.25</td>\n      <td>120.18</td>\n      <td>600</td>\n      <td>79</td>\n    </tr>\n    <tr>\n      <th>2</th>\n      <td>50425</td>\n      <td>36</td>\n      <td>4</td>\n      <td>8</td>\n      <td>50.25</td>\n      <td>120.18</td>\n      <td>600</td>\n      <td>79</td>\n    </tr>\n    <tr>\n      <th>3</th>\n      <td>50425</td>\n      <td>42</td>\n      <td>4</td>\n      <td>9</td>\n      <td>50.25</td>\n      <td>120.18</td>\n      <td>600</td>\n      <td>79</td>\n    </tr>\n    <tr>\n      <th>4</th>\n      <td>50425</td>\n      <td>48</td>\n      <td>4</td>\n      <td>9</td>\n      <td>50.25</td>\n      <td>120.18</td>\n      <td>600</td>\n      <td>79</td>\n    </tr>\n    <tr>\n      <th>...</th>\n      <td>...</td>\n      <td>...</td>\n      <td>...</td>\n      <td>...</td>\n      <td>...</td>\n      <td>...</td>\n      <td>...</td>\n      <td>...</td>\n    </tr>\n    <tr>\n      <th>377</th>\n      <td>58208</td>\n      <td>32</td>\n      <td>3</td>\n      <td>10</td>\n      <td>32.16</td>\n      <td>115.66</td>\n      <td>591</td>\n      <td>115</td>\n    </tr>\n    <tr>\n      <th>378</th>\n      <td>58208</td>\n      <td>7</td>\n      <td>2</td>\n      <td>10</td>\n      <td>32.16</td>\n      <td>115.66</td>\n      <td>591</td>\n      <td>115</td>\n    </tr>\n    <tr>\n      <th>379</th>\n      <td>58269</td>\n      <td>32</td>\n      <td>3</td>\n      <td>10</td>\n      <td>31.80</td>\n      <td>121.66</td>\n      <td>603</td>\n      <td>116</td>\n    </tr>\n    <tr>\n      <th>380</th>\n      <td>58319</td>\n      <td>7</td>\n      <td>2</td>\n      <td>8</td>\n      <td>31.06</td>\n      <td>116.95</td>\n      <td>593</td>\n      <td>117</td>\n    </tr>\n    <tr>\n      <th>381</th>\n      <td>58346</td>\n      <td>45</td>\n      <td>2</td>\n      <td>11</td>\n      <td>31.36</td>\n      <td>119.81</td>\n      <td>599</td>\n      <td>117</td>\n    </tr>\n  </tbody>\n</table>\n<p>382 rows × 8 columns</p>\n</div>"
     },
     "execution_count": 280,
     "metadata": {},
     "output_type": "execute_result"
    }
   ],
   "source": [
    "site_lat_lon['col'] = ''\n",
    "site_lat_lon['row'] = ''\n",
    "for i in range(len(site_lat_lon)):\n",
    "    site_lat = site_lat_lon.lat[i]\n",
    "    site_lon = site_lat_lon.lon[i]\n",
    "    for m in range(120):\n",
    "        for n in range(720):\n",
    "            if abs(cru_lat[m, n]-site_lat)<=0.25 and abs(cru_lon[m, n]-site_lon)<=0.25:\n",
    "                site_lat_lon.col[i] = n\n",
    "                site_lat_lon.row[i] = m\n",
    "site_lat_lon.to_csv('/data/shuping/data/china_phenology/partial_corr/herb/site_lat_lon_multi_eos.csv', encoding='utf_8_sig')\n",
    "site_lat_lon"
   ],
   "metadata": {
    "collapsed": false,
    "pycharm": {
     "name": "#%%\n"
    }
   }
  },
  {
   "cell_type": "markdown",
   "source": [
    "###highest_corrcoef"
   ],
   "metadata": {
    "collapsed": false,
    "pycharm": {
     "name": "#%% md\n"
    }
   }
  },
  {
   "cell_type": "code",
   "execution_count": 7,
   "outputs": [],
   "source": [
    "import os\n",
    "import numpy as np"
   ],
   "metadata": {
    "collapsed": false,
    "pycharm": {
     "name": "#%%\n"
    }
   }
  },
  {
   "cell_type": "code",
   "execution_count": 43,
   "outputs": [
    {
     "data": {
      "text/plain": "      site  veg_type  multi_sos  multi_eos    lat     lon  col  row\n0    50353         7          4          9  51.72  126.65  613   76\n1    50425        33          4          9  50.25  120.18  600   79\n2    50425        36          4          8  50.25  120.18  600   79\n3    50425        42          4          9  50.25  120.18  600   79\n4    50425        48          4          9  50.25  120.18  600   79\n..     ...       ...        ...        ...    ...     ...  ...  ...\n377  58208         7          2         10  32.16  115.66  591  115\n378  58208        32          3         10  32.16  115.66  591  115\n379  58269        32          3         10  31.80  121.66  603  116\n380  58319         7          2          8  31.06  116.95  593  117\n381  58346        45          2         11  31.36  119.81  599  117\n\n[382 rows x 8 columns]",
      "text/html": "<div>\n<style scoped>\n    .dataframe tbody tr th:only-of-type {\n        vertical-align: middle;\n    }\n\n    .dataframe tbody tr th {\n        vertical-align: top;\n    }\n\n    .dataframe thead th {\n        text-align: right;\n    }\n</style>\n<table border=\"1\" class=\"dataframe\">\n  <thead>\n    <tr style=\"text-align: right;\">\n      <th></th>\n      <th>site</th>\n      <th>veg_type</th>\n      <th>multi_sos</th>\n      <th>multi_eos</th>\n      <th>lat</th>\n      <th>lon</th>\n      <th>col</th>\n      <th>row</th>\n    </tr>\n  </thead>\n  <tbody>\n    <tr>\n      <th>0</th>\n      <td>50353</td>\n      <td>7</td>\n      <td>4</td>\n      <td>9</td>\n      <td>51.72</td>\n      <td>126.65</td>\n      <td>613</td>\n      <td>76</td>\n    </tr>\n    <tr>\n      <th>1</th>\n      <td>50425</td>\n      <td>33</td>\n      <td>4</td>\n      <td>9</td>\n      <td>50.25</td>\n      <td>120.18</td>\n      <td>600</td>\n      <td>79</td>\n    </tr>\n    <tr>\n      <th>2</th>\n      <td>50425</td>\n      <td>36</td>\n      <td>4</td>\n      <td>8</td>\n      <td>50.25</td>\n      <td>120.18</td>\n      <td>600</td>\n      <td>79</td>\n    </tr>\n    <tr>\n      <th>3</th>\n      <td>50425</td>\n      <td>42</td>\n      <td>4</td>\n      <td>9</td>\n      <td>50.25</td>\n      <td>120.18</td>\n      <td>600</td>\n      <td>79</td>\n    </tr>\n    <tr>\n      <th>4</th>\n      <td>50425</td>\n      <td>48</td>\n      <td>4</td>\n      <td>9</td>\n      <td>50.25</td>\n      <td>120.18</td>\n      <td>600</td>\n      <td>79</td>\n    </tr>\n    <tr>\n      <th>...</th>\n      <td>...</td>\n      <td>...</td>\n      <td>...</td>\n      <td>...</td>\n      <td>...</td>\n      <td>...</td>\n      <td>...</td>\n      <td>...</td>\n    </tr>\n    <tr>\n      <th>377</th>\n      <td>58208</td>\n      <td>7</td>\n      <td>2</td>\n      <td>10</td>\n      <td>32.16</td>\n      <td>115.66</td>\n      <td>591</td>\n      <td>115</td>\n    </tr>\n    <tr>\n      <th>378</th>\n      <td>58208</td>\n      <td>32</td>\n      <td>3</td>\n      <td>10</td>\n      <td>32.16</td>\n      <td>115.66</td>\n      <td>591</td>\n      <td>115</td>\n    </tr>\n    <tr>\n      <th>379</th>\n      <td>58269</td>\n      <td>32</td>\n      <td>3</td>\n      <td>10</td>\n      <td>31.80</td>\n      <td>121.66</td>\n      <td>603</td>\n      <td>116</td>\n    </tr>\n    <tr>\n      <th>380</th>\n      <td>58319</td>\n      <td>7</td>\n      <td>2</td>\n      <td>8</td>\n      <td>31.06</td>\n      <td>116.95</td>\n      <td>593</td>\n      <td>117</td>\n    </tr>\n    <tr>\n      <th>381</th>\n      <td>58346</td>\n      <td>45</td>\n      <td>2</td>\n      <td>11</td>\n      <td>31.36</td>\n      <td>119.81</td>\n      <td>599</td>\n      <td>117</td>\n    </tr>\n  </tbody>\n</table>\n<p>382 rows × 8 columns</p>\n</div>"
     },
     "execution_count": 43,
     "metadata": {},
     "output_type": "execute_result"
    }
   ],
   "source": [
    "file_path = '/data/shuping/data/china_phenology/partial_corr/herb/site_lat_lon_multi_eos.csv'\n",
    "site_lat_lon = pd.read_csv(file_path)\n",
    "site_lat_lon = site_lat_lon.drop(['Unnamed: 0'], axis=1)\n",
    "site_lat_lon = site_lat_lon.sort_values(by='site', ascending=True)\n",
    "site_lat_lon = site_lat_lon.reset_index(drop=True)\n",
    "site_lat_lon"
   ],
   "metadata": {
    "collapsed": false,
    "pycharm": {
     "name": "#%%\n"
    }
   }
  },
  {
   "cell_type": "code",
   "execution_count": 44,
   "outputs": [],
   "source": [
    "file_path = '/data/shuping/data/china_phenology/partial_corr/herb/15year_csv_match_lat_lon/'\n",
    "files = sorted(os.listdir(file_path))\n",
    "for k in range(len(files)):\n",
    "    csv_path = file_path + files[k]\n",
    "    df = pd.read_csv(csv_path)\n",
    "    df = df.drop(['Unnamed: 0'], axis=1)\n",
    "    df['tmean'] = ''\n",
    "    df['pre'] = ''\n",
    "    df['solr'] = ''\n",
    "    df['sm'] = ''\n",
    "    a = df.shape[0]\n",
    "    start_year = df.year[0]\n",
    "    end_year = df.year[a-1]\n",
    "    i = site_lat_lon.row[k]\n",
    "    j = site_lat_lon.col[k]\n",
    "    b = (start_year-1982)-(end_year-1982+1)\n",
    "    if abs(b)==a:\n",
    "        eos_series = df.eos\n",
    "        tmean_series_12 = tmean_12_datasets[start_year-1982:end_year-1982+1, i, j]\n",
    "        tmean_series_11 = tmean_11_datasets[start_year-1982:end_year-1982+1, i, j]\n",
    "        tmean_series_10 = tmean_10_datasets[start_year-1982:end_year-1982+1, i, j]\n",
    "        tmean_series_9 = tmean_9_datasets[start_year-1982:end_year-1982+1, i, j]\n",
    "        tmean_series_8 = tmean_8_datasets[start_year-1982:end_year-1982+1, i, j]\n",
    "        tmean_series_7 = tmean_7_datasets[start_year-1982:end_year-1982+1, i, j]\n",
    "        tmean_series_6 = tmean_6_datasets[start_year-1982:end_year-1982+1, i, j]\n",
    "\n",
    "        pre_series_12 = pre_12_datasets[start_year-1982:end_year-1982+1, i, j]\n",
    "        pre_series_11 = pre_11_datasets[start_year-1982:end_year-1982+1, i, j]\n",
    "        pre_series_10 = pre_10_datasets[start_year-1982:end_year-1982+1, i, j]\n",
    "        pre_series_9 = pre_9_datasets[start_year-1982:end_year-1982+1, i, j]\n",
    "        pre_series_8 = pre_8_datasets[start_year-1982:end_year-1982+1, i, j]\n",
    "        pre_series_7 = pre_7_datasets[start_year-1982:end_year-1982+1, i, j]\n",
    "        pre_series_6 = pre_6_datasets[start_year-1982:end_year-1982+1, i, j]\n",
    "\n",
    "        solr_series_12 = solr_12_datasets[start_year-1982:end_year-1982+1, i, j]\n",
    "        solr_series_11 = solr_11_datasets[start_year-1982:end_year-1982+1, i, j]\n",
    "        solr_series_10 = solr_10_datasets[start_year-1982:end_year-1982+1, i, j]\n",
    "        solr_series_9 = solr_9_datasets[start_year-1982:end_year-1982+1, i, j]\n",
    "        solr_series_8 = solr_8_datasets[start_year-1982:end_year-1982+1, i, j]\n",
    "        solr_series_7 = solr_7_datasets[start_year-1982:end_year-1982+1, i, j]\n",
    "        solr_series_6 = solr_6_datasets[start_year-1982:end_year-1982+1, i, j]\n",
    "\n",
    "        sm_series_12 = sm_12_datasets[start_year-1982:end_year-1982+1, i, j]\n",
    "        sm_series_11 = sm_11_datasets[start_year-1982:end_year-1982+1, i, j]\n",
    "        sm_series_10 = sm_10_datasets[start_year-1982:end_year-1982+1, i, j]\n",
    "        sm_series_9 = sm_9_datasets[start_year-1982:end_year-1982+1, i, j]\n",
    "        sm_series_8 = sm_8_datasets[start_year-1982:end_year-1982+1, i, j]\n",
    "        sm_series_7 = sm_7_datasets[start_year-1982:end_year-1982+1, i, j]\n",
    "        sm_series_6 = sm_6_datasets[start_year-1982:end_year-1982+1, i, j]\n",
    "\n",
    "        if site_lat_lon.multi_eos[k]==12:\n",
    "            #tmean\n",
    "            r0, p0 = stats.spearmanr(eos_series, tmean_series_12)\n",
    "            #12+11(preseason长度为1)\n",
    "            tmean_series_12_11 = np.mean([tmean_series_12,tmean_series_11], axis = 0)\n",
    "            r1, p1 = stats.spearmanr(eos_series, tmean_series_12_11)\n",
    "            #12+11+10\n",
    "            tmean_series_12_11_10 = np.mean([tmean_series_12,tmean_series_11,tmean_series_10], axis = 0)\n",
    "            r2, p2 = stats.spearmanr(eos_series, tmean_series_12_11_10)\n",
    "            #12+11+10+9\n",
    "            tmean_series_12_11_10_9 = np.mean([tmean_series_12,tmean_series_11,tmean_series_10,tmean_series_9], axis = 0)\n",
    "            r3, p3 = stats.spearmanr(eos_series, tmean_series_12_11_10_9)\n",
    "            #12+11+10+9+8\n",
    "            tmean_series_12_11_10_9_8 = np.mean([tmean_series_12,tmean_series_11,tmean_series_10,\n",
    "                                              tmean_series_9,tmean_series_8], axis = 0)\n",
    "            r4, p4 = stats.spearmanr(eos_series, tmean_series_12_11_10_9_8)\n",
    "            #12+11+10+9+8+7\n",
    "            tmean_series_12_11_10_9_8_7 = np.mean([tmean_series_12,tmean_series_11,tmean_series_10,\n",
    "                                              tmean_series_9,tmean_series_8,tmean_series_7], axis = 0)\n",
    "            r5, p5 = stats.spearmanr(eos_series, tmean_series_12_11_10_9_8_7)\n",
    "            #12+11+10+9+8+7+6\n",
    "            tmean_series_12_11_10_9_8_7_6 = np.mean([tmean_series_12,tmean_series_11,tmean_series_10,\n",
    "                                              tmean_series_9,tmean_series_8,tmean_series_7,tmean_series_6], axis = 0)\n",
    "            r6, p6 = stats.spearmanr(eos_series, tmean_series_12_11_10_9_8_7_6)\n",
    "            tmean = [tmean_series_12, tmean_series_12_11, tmean_series_12_11_10, tmean_series_12_11_10_9,\n",
    "                   tmean_series_12_11_10_9_8, tmean_series_12_11_10_9_8_7, tmean_series_12_11_10_9_8_7_6]\n",
    "            r_abs_tmean = [abs(r0), abs(r1), abs(r2), abs(r3), abs(r4), abs(r5), abs(r6)]\n",
    "            r_index_tmean = r_abs_tmean.index(max(r_abs_tmean))#假设返回的是3\n",
    "            df.tmean = tmean[r_index_tmean]\n",
    "\n",
    "            #pre\n",
    "            r0_pre, p0_pre = stats.spearmanr(eos_series, pre_series_12)\n",
    "            #12+11(preseason长度为1)\n",
    "            pre_series_12_11 = np.sum([pre_series_12,pre_series_11], axis = 0)\n",
    "            r1_pre, p1_pre = stats.spearmanr(eos_series, pre_series_12_11)\n",
    "            #12+11+10\n",
    "            pre_series_12_11_10 = np.sum([pre_series_12,pre_series_11,pre_series_10], axis = 0)\n",
    "            r2_pre, p2_pre = stats.spearmanr(eos_series, pre_series_12_11_10)\n",
    "            #12+11+10+9\n",
    "            pre_series_12_11_10_9 = np.sum([pre_series_12,pre_series_11,pre_series_10,pre_series_9], axis = 0)\n",
    "            r3_pre, p3_pre = stats.spearmanr(eos_series, pre_series_12_11_10_9)\n",
    "            #12+11+10+9+8\n",
    "            pre_series_12_11_10_9_8 = np.sum([pre_series_12,pre_series_11,pre_series_10,\n",
    "                                              pre_series_9,pre_series_8], axis = 0)\n",
    "            r4_pre, p4_pre = stats.spearmanr(eos_series, pre_series_12_11_10_9_8)\n",
    "            #12+11+10+9+8+7\n",
    "            pre_series_12_11_10_9_8_7 = np.sum([pre_series_12,pre_series_11,pre_series_10,\n",
    "                                              pre_series_9,pre_series_8,pre_series_7], axis = 0)\n",
    "            r5_pre, p5_pre = stats.spearmanr(eos_series, pre_series_12_11_10_9_8_7)\n",
    "            #12+11+10+9+8+7+6\n",
    "            pre_series_12_11_10_9_8_7_6 = np.sum([pre_series_12,pre_series_11,pre_series_10,\n",
    "                                              pre_series_9,pre_series_8,pre_series_7,pre_series_6], axis = 0)\n",
    "            r6_pre, p6_pre = stats.spearmanr(eos_series, pre_series_12_11_10_9_8_7_6)\n",
    "            pre = [pre_series_12, pre_series_12_11, pre_series_12_11_10, pre_series_12_11_10_9,\n",
    "                   pre_series_12_11_10_9_8, pre_series_12_11_10_9_8_7, pre_series_12_11_10_9_8_7_6]\n",
    "            r_abs_pre = [abs(r0_pre), abs(r1_pre), abs(r2_pre), abs(r3_pre), abs(r4_pre), abs(r5_pre), abs(r6_pre)]\n",
    "            r_index_pre = r_abs_pre.index(max(r_abs_pre))#假设返回的是3\n",
    "            df.pre = pre[r_index_pre]\n",
    "\n",
    "            #solr\n",
    "            r0_solr, p0_solr = stats.spearmanr(eos_series, solr_series_12)\n",
    "            #12+11(preseason长度为1)\n",
    "            solr_series_12_11 = np.sum([solr_series_12,solr_series_11], axis = 0)\n",
    "            r1_solr, p1_solr = stats.spearmanr(eos_series, solr_series_12_11)\n",
    "            #12+11+10\n",
    "            solr_series_12_11_10 = np.sum([solr_series_12,solr_series_11,solr_series_10], axis = 0)\n",
    "            r2_solr, p2_solr = stats.spearmanr(eos_series, solr_series_12_11_10)\n",
    "            #12+11+10+9\n",
    "            solr_series_12_11_10_9 = np.sum([solr_series_12,solr_series_11,solr_series_10,solr_series_9], axis = 0)\n",
    "            r3_solr, p3_solr = stats.spearmanr(eos_series, solr_series_12_11_10_9)\n",
    "            #12+11+10+9+8\n",
    "            solr_series_12_11_10_9_8 = np.sum([solr_series_12,solr_series_11,solr_series_10,\n",
    "                                              solr_series_9,solr_series_8], axis = 0)\n",
    "            r4_solr, p4_solr = stats.spearmanr(eos_series, solr_series_12_11_10_9_8)\n",
    "            #12+11+10+9+8+7\n",
    "            solr_series_12_11_10_9_8_7 = np.sum([solr_series_12,solr_series_11,solr_series_10,\n",
    "                                              solr_series_9,solr_series_8,solr_series_7], axis = 0)\n",
    "            r5_solr, p5_solr = stats.spearmanr(eos_series, solr_series_12_11_10_9_8_7)\n",
    "            #12+11+10+9+8+7+6\n",
    "            solr_series_12_11_10_9_8_7_6 = np.sum([solr_series_12,solr_series_11,solr_series_10,\n",
    "                                              solr_series_9,solr_series_8,solr_series_7,solr_series_6], axis = 0)\n",
    "            r6_solr, p6_solr = stats.spearmanr(eos_series, solr_series_12_11_10_9_8_7_6)\n",
    "            solr = [solr_series_12, solr_series_12_11, solr_series_12_11_10, solr_series_12_11_10_9,\n",
    "                   solr_series_12_11_10_9_8, solr_series_12_11_10_9_8_7, solr_series_12_11_10_9_8_7_6]\n",
    "            r_abs_solr = [abs(r0_solr), abs(r1_solr), abs(r2_solr), abs(r3_solr), abs(r4_solr), abs(r5_solr), abs(r6_solr)]\n",
    "            r_index_solr = r_abs_solr.index(max(r_abs_solr))#假设返回的是3\n",
    "            df.solr = solr[r_index_solr]\n",
    "\n",
    "            #sm\n",
    "            r0_sm, p0_sm = stats.spearmanr(eos_series, sm_series_12)\n",
    "            #12+11(preseason长度为1)\n",
    "            sm_series_12_11 = np.mean([sm_series_12,sm_series_11], axis = 0)\n",
    "            r1_sm, p1_sm = stats.spearmanr(eos_series, sm_series_12_11)\n",
    "            #12+11+10\n",
    "            sm_series_12_11_10 = np.mean([sm_series_12,sm_series_11,sm_series_10], axis = 0)\n",
    "            r2_sm, p2_sm = stats.spearmanr(eos_series, sm_series_12_11_10)\n",
    "            #12+11+10+9\n",
    "            sm_series_12_11_10_9 = np.mean([sm_series_12,sm_series_11,sm_series_10,sm_series_9], axis = 0)\n",
    "            r3_sm, p3_sm = stats.spearmanr(eos_series, sm_series_12_11_10_9)\n",
    "            #12+11+10+9+8\n",
    "            sm_series_12_11_10_9_8 = np.mean([sm_series_12,sm_series_11,sm_series_10,\n",
    "                                              sm_series_9,sm_series_8], axis = 0)\n",
    "            r4_sm, p4_sm = stats.spearmanr(eos_series, sm_series_12_11_10_9_8)\n",
    "            #12+11+10+9+8+7\n",
    "            sm_series_12_11_10_9_8_7 = np.mean([sm_series_12,sm_series_11,sm_series_10,\n",
    "                                              sm_series_9,sm_series_8,sm_series_7], axis = 0)\n",
    "            r5_sm, p5_sm = stats.spearmanr(eos_series, sm_series_12_11_10_9_8_7)\n",
    "            #12+11+10+9+8+7+6\n",
    "            sm_series_12_11_10_9_8_7_6 = np.mean([sm_series_12,sm_series_11,sm_series_10,\n",
    "                                              sm_series_9,sm_series_8,sm_series_7,sm_series_6], axis = 0)\n",
    "            r6_sm, p6_sm = stats.spearmanr(eos_series, sm_series_12_11_10_9_8_7_6)\n",
    "            sm = [sm_series_12, sm_series_12_11, sm_series_12_11_10, sm_series_12_11_10_9,\n",
    "                   sm_series_12_11_10_9_8, sm_series_12_11_10_9_8_7, sm_series_12_11_10_9_8_7_6]\n",
    "            r_abs_sm = [abs(r0_sm), abs(r1_sm), abs(r2_sm), abs(r3_sm), abs(r4_sm), abs(r5_sm), abs(r6_sm)]\n",
    "            r_index_sm = r_abs_sm.index(max(r_abs_sm))#假设返回的是3\n",
    "            df.sm = sm[r_index_sm]\n",
    "\n",
    "        elif site_lat_lon.multi_eos[k]==11:\n",
    "            #tmean\n",
    "            r0, p0 = stats.spearmanr(eos_series, tmean_series_11)\n",
    "            #11+10\n",
    "            tmean_series_11_10 = np.mean([tmean_series_11,tmean_series_10], axis = 0)\n",
    "            r1, p1 = stats.spearmanr(eos_series, tmean_series_11_10)\n",
    "            #11+10+9\n",
    "            tmean_series_11_10_9 = np.mean([tmean_series_11,tmean_series_10,tmean_series_9], axis = 0)\n",
    "            r2, p2 = stats.spearmanr(eos_series, tmean_series_11_10_9)\n",
    "            #11+10+9+8\n",
    "            tmean_series_11_10_9_8 = np.mean([tmean_series_11,tmean_series_10,tmean_series_9,\n",
    "                                           tmean_series_8], axis = 0)\n",
    "            r3, p3 = stats.spearmanr(eos_series, tmean_series_11_10_9_8)\n",
    "            #11+10+9+8+7\n",
    "            tmean_series_11_10_9_8_7 = np.mean([tmean_series_11,tmean_series_10,tmean_series_9,\n",
    "                                           tmean_series_8,tmean_series_7], axis = 0)\n",
    "            r4, p4 = stats.spearmanr(eos_series, tmean_series_11_10_9_8_7)\n",
    "            #11+10+9+8+7+6\n",
    "            tmean_series_11_10_9_8_7_6 = np.mean([tmean_series_11,tmean_series_10,tmean_series_9,\n",
    "                                           tmean_series_8,tmean_series_7,tmean_series_6], axis = 0)\n",
    "            r5, p5 = stats.spearmanr(eos_series, tmean_series_11_10_9_8_7_6)\n",
    "            tmean = [tmean_series_11, tmean_series_11_10, tmean_series_11_10_9, tmean_series_11_10_9_8,\n",
    "                   tmean_series_11_10_9_8_7, tmean_series_11_10_9_8_7_6]\n",
    "            r_abs = [abs(r0), abs(r1), abs(r2), abs(r3), abs(r4), abs(r5)]\n",
    "            r_index = r_abs.index(max(r_abs))#假设返回的是3\n",
    "            df.tmean = tmean[r_index]\n",
    "\n",
    "            #pre\n",
    "            r0_pre, p0_pre = stats.spearmanr(eos_series, pre_series_11)\n",
    "            #11+10\n",
    "            pre_series_11_10 = np.sum([pre_series_11,pre_series_10], axis = 0)\n",
    "            r1_pre, p1_pre = stats.spearmanr(eos_series, pre_series_11_10)\n",
    "            #11+10+9\n",
    "            pre_series_11_10_9 = np.sum([pre_series_11,pre_series_10,pre_series_9], axis = 0)\n",
    "            r2_pre, p2_pre = stats.spearmanr(eos_series, pre_series_11_10_9)\n",
    "            #11+10+9+8\n",
    "            pre_series_11_10_9_8 = np.sum([pre_series_11,pre_series_10,pre_series_9,\n",
    "                                           pre_series_8], axis = 0)\n",
    "            r3_pre, p3_pre = stats.spearmanr(eos_series, pre_series_11_10_9_8)\n",
    "            #11+10+9+8+7\n",
    "            pre_series_11_10_9_8_7 = np.sum([pre_series_11,pre_series_10,pre_series_9,\n",
    "                                           pre_series_8,pre_series_7], axis = 0)\n",
    "            r4_pre, p4_pre = stats.spearmanr(eos_series, pre_series_11_10_9_8_7)\n",
    "            #11+10+9+8+7+6\n",
    "            pre_series_11_10_9_8_7_6 = np.sum([pre_series_11,pre_series_10,pre_series_9,\n",
    "                                           pre_series_8,pre_series_7,pre_series_6], axis = 0)\n",
    "            r5_pre, p5_pre = stats.spearmanr(eos_series, pre_series_11_10_9_8_7_6)\n",
    "            pre = [pre_series_11, pre_series_11_10, pre_series_11_10_9, pre_series_11_10_9_8,\n",
    "                   pre_series_11_10_9_8_7, pre_series_11_10_9_8_7_6]\n",
    "            r_abs_pre = [abs(r0_pre), abs(r1_pre), abs(r2_pre), abs(r3_pre), abs(r4_pre), abs(r5_pre)]\n",
    "            r_index_pre = r_abs_pre.index(max(r_abs_pre))#假设返回的是3\n",
    "            df.pre = pre[r_index_pre]\n",
    "\n",
    "            #solr\n",
    "            r0_solr, p0_solr = stats.spearmanr(eos_series, solr_series_11)\n",
    "            #11+10\n",
    "            solr_series_11_10 = np.sum([solr_series_11,solr_series_10], axis = 0)\n",
    "            r1_solr, p1_solr = stats.spearmanr(eos_series, solr_series_11_10)\n",
    "            #11+10+9\n",
    "            solr_series_11_10_9 = np.sum([solr_series_11,solr_series_10,solr_series_9], axis = 0)\n",
    "            r2_solr, p2_solr = stats.spearmanr(eos_series, solr_series_11_10_9)\n",
    "            #11+10+9+8\n",
    "            solr_series_11_10_9_8 = np.sum([solr_series_11,solr_series_10,solr_series_9,\n",
    "                                           solr_series_8], axis = 0)\n",
    "            r3_solr, p3_solr = stats.spearmanr(eos_series, solr_series_11_10_9_8)\n",
    "            #11+10+9+8+7\n",
    "            solr_series_11_10_9_8_7 = np.sum([solr_series_11,solr_series_10,solr_series_9,\n",
    "                                           solr_series_8,solr_series_7], axis = 0)\n",
    "            r4_solr, p4_solr = stats.spearmanr(eos_series, solr_series_11_10_9_8_7)\n",
    "            #11+10+9+8+7+6\n",
    "            solr_series_11_10_9_8_7_6 = np.sum([solr_series_11,solr_series_10,solr_series_9,\n",
    "                                           solr_series_8,solr_series_7,solr_series_6], axis = 0)\n",
    "            r5_solr, p5_solr = stats.spearmanr(eos_series, solr_series_11_10_9_8_7_6)\n",
    "            solr = [solr_series_11, solr_series_11_10, solr_series_11_10_9, solr_series_11_10_9_8,\n",
    "                   solr_series_11_10_9_8_7, solr_series_11_10_9_8_7_6]\n",
    "            r_abs_solr = [abs(r0_solr), abs(r1_solr), abs(r2_solr), abs(r3_solr), abs(r4_solr), abs(r5_solr)]\n",
    "            r_index_solr = r_abs_solr.index(max(r_abs_solr))#假设返回的是3\n",
    "            df.solr = solr[r_index_solr]\n",
    "\n",
    "            #sm\n",
    "            r0_sm, p0_sm = stats.spearmanr(eos_series, sm_series_11)\n",
    "            #11+10\n",
    "            sm_series_11_10 = np.mean([sm_series_11,sm_series_10], axis = 0)\n",
    "            r1_sm, p1_sm = stats.spearmanr(eos_series, sm_series_11_10)\n",
    "            #11+10+9\n",
    "            sm_series_11_10_9 = np.mean([sm_series_11,sm_series_10,sm_series_9], axis = 0)\n",
    "            r2_sm, p2_sm = stats.spearmanr(eos_series, sm_series_11_10_9)\n",
    "            #11+10+9+8\n",
    "            sm_series_11_10_9_8 = np.mean([sm_series_11,sm_series_10,sm_series_9,\n",
    "                                           sm_series_8], axis = 0)\n",
    "            r3_sm, p3_sm = stats.spearmanr(eos_series, sm_series_11_10_9_8)\n",
    "            #11+10+9+8+7\n",
    "            sm_series_11_10_9_8_7 = np.mean([sm_series_11,sm_series_10,sm_series_9,\n",
    "                                           sm_series_8,sm_series_7], axis = 0)\n",
    "            r4_sm, p4_sm = stats.spearmanr(eos_series, sm_series_11_10_9_8_7)\n",
    "            #11+10+9+8+7+6\n",
    "            sm_series_11_10_9_8_7_6 = np.mean([sm_series_11,sm_series_10,sm_series_9,\n",
    "                                           sm_series_8,sm_series_7,sm_series_6], axis = 0)\n",
    "            r5_sm, p5_sm = stats.spearmanr(eos_series, sm_series_11_10_9_8_7_6)\n",
    "            sm = [sm_series_11, sm_series_11_10, sm_series_11_10_9, sm_series_11_10_9_8,\n",
    "                   sm_series_11_10_9_8_7, sm_series_11_10_9_8_7_6]\n",
    "            r_abs_sm = [abs(r0_sm), abs(r1_sm), abs(r2_sm), abs(r3_sm), abs(r4_sm), abs(r5_sm)]\n",
    "            r_index_sm = r_abs_sm.index(max(r_abs_sm))#假设返回的是3\n",
    "            df.sm = sm[r_index_sm]\n",
    "\n",
    "        elif site_lat_lon.multi_eos[k]==10:\n",
    "            #tmean\n",
    "            r0, p0 = stats.spearmanr(eos_series, tmean_series_10)\n",
    "            #10+9\n",
    "            tmean_series_10_9 = np.mean([tmean_series_10,tmean_series_9], axis = 0)\n",
    "            r1, p1 = stats.spearmanr(eos_series, tmean_series_10_9)\n",
    "            #10+9+8\n",
    "            tmean_series_10_9_8 = np.mean([tmean_series_10,tmean_series_9,tmean_series_8], axis = 0)\n",
    "            r2, p2 = stats.spearmanr(eos_series, tmean_series_10_9_8)\n",
    "            #10+9+8+7\n",
    "            tmean_series_10_9_8_7 = np.mean([tmean_series_10,tmean_series_9,tmean_series_8,\n",
    "                                          tmean_series_7], axis = 0)\n",
    "            r3, p3 = stats.spearmanr(eos_series, tmean_series_10_9_8_7)\n",
    "            #10+9+8+7+6\n",
    "            tmean_series_10_9_8_7_6 = np.mean([tmean_series_10,tmean_series_9,tmean_series_8,\n",
    "                                          tmean_series_7,tmean_series_6], axis = 0)\n",
    "            r4, p4 = stats.spearmanr(eos_series, tmean_series_10_9_8_7_6)\n",
    "            tmean= [tmean_series_10, tmean_series_10_9, tmean_series_10_9_8, tmean_series_10_9_8_7,\n",
    "                   tmean_series_10_9_8_7_6]\n",
    "            r_abs = [abs(r0), abs(r1), abs(r2), abs(r3), abs(r4)]\n",
    "            r_index = r_abs.index(max(r_abs))#假设返回的是3\n",
    "            df.tmean = tmean[r_index]\n",
    "\n",
    "            #pre\n",
    "            r0_pre, p0_pre = stats.spearmanr(eos_series, pre_series_10)\n",
    "            #10+9\n",
    "            pre_series_10_9 = np.sum([pre_series_10,pre_series_9], axis = 0)\n",
    "            r1_pre, p1_pre = stats.spearmanr(eos_series, pre_series_10_9)\n",
    "            #10+9+8\n",
    "            pre_series_10_9_8 = np.sum([pre_series_10,pre_series_9,pre_series_8], axis = 0)\n",
    "            r2_pre, p2_pre = stats.spearmanr(eos_series, pre_series_10_9_8)\n",
    "            #10+9+8+7\n",
    "            pre_series_10_9_8_7 = np.sum([pre_series_10,pre_series_9,pre_series_8,\n",
    "                                          pre_series_7], axis = 0)\n",
    "            r3_pre, p3_pre = stats.spearmanr(eos_series, pre_series_10_9_8_7)\n",
    "            #10+9+8+7+6\n",
    "            pre_series_10_9_8_7_6 = np.sum([pre_series_10,pre_series_9,pre_series_8,\n",
    "                                          pre_series_7,pre_series_6], axis = 0)\n",
    "            r4_pre, p4_pre = stats.spearmanr(eos_series, pre_series_10_9_8_7_6)\n",
    "            pre = [pre_series_10, pre_series_10_9, pre_series_10_9_8, pre_series_10_9_8_7,\n",
    "                   pre_series_10_9_8_7_6]\n",
    "            r_abs_pre = [abs(r0_pre), abs(r1_pre), abs(r2_pre), abs(r3_pre), abs(r4_pre)]\n",
    "            r_index_pre = r_abs_pre.index(max(r_abs_pre))#假设返回的是3\n",
    "            df.pre = pre[r_index_pre]\n",
    "\n",
    "            #solr\n",
    "            r0_solr, p0_solr = stats.spearmanr(eos_series, solr_series_10)\n",
    "            #10+9\n",
    "            solr_series_10_9 = np.sum([solr_series_10,solr_series_9], axis = 0)\n",
    "            r1_solr, p1_solr = stats.spearmanr(eos_series, solr_series_10_9)\n",
    "            #10+9+8\n",
    "            solr_series_10_9_8 = np.sum([solr_series_10,solr_series_9,solr_series_8], axis = 0)\n",
    "            r2_solr, p2_solr = stats.spearmanr(eos_series, solr_series_10_9_8)\n",
    "            #10+9+8+7\n",
    "            solr_series_10_9_8_7 = np.sum([solr_series_10,solr_series_9,solr_series_8,\n",
    "                                          solr_series_7], axis = 0)\n",
    "            r3_solr, p3_solr = stats.spearmanr(eos_series, solr_series_10_9_8_7)\n",
    "            #10+9+8+7+6\n",
    "            solr_series_10_9_8_7_6 = np.sum([solr_series_10,solr_series_9,solr_series_8,\n",
    "                                          solr_series_7,solr_series_6], axis = 0)\n",
    "            r4_solr, p4_solr = stats.spearmanr(eos_series, solr_series_10_9_8_7_6)\n",
    "            solr = [solr_series_10, solr_series_10_9, solr_series_10_9_8, solr_series_10_9_8_7,\n",
    "                   solr_series_10_9_8_7_6]\n",
    "            r_abs_solr = [abs(r0_solr), abs(r1_solr), abs(r2_solr), abs(r3_solr), abs(r4_solr)]\n",
    "            r_index_solr = r_abs_solr.index(max(r_abs_solr))#假设返回的是3\n",
    "            df.solr = solr[r_index_solr]\n",
    "\n",
    "            #sm\n",
    "            r0_sm, p0_sm = stats.spearmanr(eos_series, sm_series_10)\n",
    "            #10+9\n",
    "            sm_series_10_9 = np.mean([sm_series_10,sm_series_9], axis = 0)\n",
    "            r1_sm, p1_sm = stats.spearmanr(eos_series, sm_series_10_9)\n",
    "            #10+9+8\n",
    "            sm_series_10_9_8 = np.mean([sm_series_10,sm_series_9,sm_series_8], axis = 0)\n",
    "            r2_sm, p2_sm = stats.spearmanr(eos_series, sm_series_10_9_8)\n",
    "            #10+9+8+7\n",
    "            sm_series_10_9_8_7 = np.mean([sm_series_10,sm_series_9,sm_series_8,\n",
    "                                          sm_series_7], axis = 0)\n",
    "            r3_sm, p3_sm = stats.spearmanr(eos_series, sm_series_10_9_8_7)\n",
    "            #10+9+8+7+6\n",
    "            sm_series_10_9_8_7_6 = np.mean([sm_series_10,sm_series_9,sm_series_8,\n",
    "                                          sm_series_7,sm_series_6], axis = 0)\n",
    "            r4_sm, p4_sm = stats.spearmanr(eos_series, sm_series_10_9_8_7_6)\n",
    "            sm = [sm_series_10, sm_series_10_9, sm_series_10_9_8, sm_series_10_9_8_7,\n",
    "                   sm_series_10_9_8_7_6]\n",
    "            r_abs_sm = [abs(r0_sm), abs(r1_sm), abs(r2_sm), abs(r3_sm), abs(r4_sm)]\n",
    "            r_index_sm = r_abs_sm.index(max(r_abs_sm))#假设返回的是3\n",
    "            df.sm = sm[r_index_sm]\n",
    "\n",
    "        elif site_lat_lon.multi_eos[k]==9:\n",
    "            #tmean\n",
    "            r0, p0 = stats.spearmanr(eos_series, tmean_series_9)\n",
    "            #9+8\n",
    "            tmean_series_9_8 = np.mean([tmean_series_9, tmean_series_8], axis = 0)\n",
    "            r1, p1 = stats.spearmanr(eos_series, tmean_series_9_8)\n",
    "            #9+8+7\n",
    "            tmean_series_9_8_7 = np.mean([tmean_series_9,tmean_series_8,tmean_series_7], axis = 0)\n",
    "            r2, p2 = stats.spearmanr(eos_series, tmean_series_9_8_7)\n",
    "            #9+8+7+6\n",
    "            tmean_series_9_8_7_6 = np.mean([tmean_series_9,tmean_series_8,tmean_series_7,\n",
    "                                         tmean_series_6], axis = 0)\n",
    "            r3, p3 = stats.spearmanr(eos_series, tmean_series_9_8_7_6)\n",
    "            tmean = [tmean_series_9, tmean_series_9_8, tmean_series_9_8_7, tmean_series_9_8_7_6]\n",
    "            r_abs = [abs(r0), abs(r1), abs(r2), abs(r3)]\n",
    "            r_index = r_abs.index(max(r_abs))#假设返回的是3\n",
    "            df.tmean = tmean[r_index]\n",
    "\n",
    "            #pre\n",
    "            r0_pre, p0_pre = stats.spearmanr(eos_series, pre_series_9)\n",
    "            #9+8\n",
    "            pre_series_9_8 = np.sum([pre_series_9, pre_series_8], axis = 0)\n",
    "            r1_pre, p1_pre = stats.spearmanr(eos_series, pre_series_9_8)\n",
    "            #9+8+7\n",
    "            pre_series_9_8_7 = np.sum([pre_series_9,pre_series_8,pre_series_7], axis = 0)\n",
    "            r2_pre, p2_pre = stats.spearmanr(eos_series, pre_series_9_8_7)\n",
    "            #9+8+7+6\n",
    "            pre_series_9_8_7_6 = np.sum([pre_series_9,pre_series_8,pre_series_7,\n",
    "                                         pre_series_6], axis = 0)\n",
    "            r3_pre, p3_pre = stats.spearmanr(eos_series, pre_series_9_8_7_6)\n",
    "            pre = [pre_series_9, pre_series_9_8, pre_series_9_8_7, pre_series_9_8_7_6]\n",
    "            r_abs_pre = [abs(r0_pre), abs(r1_pre), abs(r2_pre), abs(r3_pre)]\n",
    "            r_index_pre = r_abs_pre.index(max(r_abs_pre))#假设返回的是3\n",
    "            df.pre = pre[r_index_pre]\n",
    "\n",
    "            #solr\n",
    "            r0_solr, p0_solr = stats.spearmanr(eos_series, solr_series_9)\n",
    "            #9+8\n",
    "            solr_series_9_8 = np.sum([solr_series_9, solr_series_8], axis = 0)\n",
    "            r1_solr, p1_solr = stats.spearmanr(eos_series, solr_series_9_8)\n",
    "            #9+8+7\n",
    "            solr_series_9_8_7 = np.sum([solr_series_9,solr_series_8,solr_series_7], axis = 0)\n",
    "            r2_solr, p2_solr = stats.spearmanr(eos_series, solr_series_9_8_7)\n",
    "            #9+8+7+6\n",
    "            solr_series_9_8_7_6 = np.sum([solr_series_9,solr_series_8,solr_series_7,\n",
    "                                         solr_series_6], axis = 0)\n",
    "            r3_solr, p3_solr = stats.spearmanr(eos_series, solr_series_9_8_7_6)\n",
    "            solr = [solr_series_9, solr_series_9_8, solr_series_9_8_7, solr_series_9_8_7_6]\n",
    "            r_abs_solr = [abs(r0_solr), abs(r1_solr), abs(r2_solr), abs(r3_solr)]\n",
    "            r_index_solr = r_abs_solr.index(max(r_abs_solr))#假设返回的是3\n",
    "            df.solr = solr[r_index_solr]\n",
    "\n",
    "            #sm\n",
    "            r0_sm, p0_sm = stats.spearmanr(eos_series, sm_series_9)\n",
    "            #9+8\n",
    "            sm_series_9_8 = np.mean([sm_series_9, sm_series_8], axis = 0)\n",
    "            r1_sm, p1_sm = stats.spearmanr(eos_series, sm_series_9_8)\n",
    "            #9+8+7\n",
    "            sm_series_9_8_7 = np.mean([sm_series_9,sm_series_8,sm_series_7], axis = 0)\n",
    "            r2_sm, p2_sm = stats.spearmanr(eos_series, sm_series_9_8_7)\n",
    "            #9+8+7+6\n",
    "            sm_series_9_8_7_6 = np.mean([sm_series_9,sm_series_8,sm_series_7,\n",
    "                                         sm_series_6], axis = 0)\n",
    "            r3_sm, p3_sm = stats.spearmanr(eos_series, sm_series_9_8_7_6)\n",
    "            sm = [sm_series_9, sm_series_9_8, sm_series_9_8_7, sm_series_9_8_7_6]\n",
    "            r_abs_sm = [abs(r0_sm), abs(r1_sm), abs(r2_sm), abs(r3_sm)]\n",
    "            r_index_sm = r_abs_sm.index(max(r_abs_sm))#假设返回的是3\n",
    "            df.sm = sm[r_index_sm]\n",
    "\n",
    "        elif site_lat_lon.multi_eos[k]==8:\n",
    "            #tmean\n",
    "            r0, p0 = stats.spearmanr(eos_series, tmean_series_8)\n",
    "            #8+7\n",
    "            tmean_series_8_7 = np.mean([tmean_series_8, tmean_series_7], axis = 0)\n",
    "            r1, p1 = stats.spearmanr(eos_series, tmean_series_8_7)\n",
    "            #8+7+6\n",
    "            tmean_series_8_7_6 = np.mean([tmean_series_8, tmean_series_7, tmean_series_6], axis = 0)\n",
    "            r2, p2 = stats.spearmanr(eos_series, tmean_series_8_7_6)\n",
    "            tmean = [tmean_series_8, tmean_series_8_7, tmean_series_8_7_6]\n",
    "            r_abs = [abs(r0), abs(r1), abs(r2)]\n",
    "            r_index = r_abs.index(max(r_abs))#假设返回的是3\n",
    "            df.tmean = tmean[r_index]\n",
    "\n",
    "            #pre\n",
    "            r0_pre, p0_pre = stats.spearmanr(eos_series, pre_series_8)\n",
    "            #8+7\n",
    "            pre_series_8_7 = np.sum([pre_series_8, pre_series_7], axis = 0)\n",
    "            r1_pre, p1_pre = stats.spearmanr(eos_series, pre_series_8_7)\n",
    "            #8+7+6\n",
    "            pre_series_8_7_6 = np.sum([pre_series_8, pre_series_7, pre_series_6], axis = 0)\n",
    "            r2_pre, p2_pre = stats.spearmanr(eos_series, pre_series_8_7_6)\n",
    "            pre = [pre_series_8, pre_series_8_7, pre_series_8_7_6]\n",
    "            r_abs_pre = [abs(r0_pre), abs(r1_pre), abs(r2_pre)]\n",
    "            r_index_pre = r_abs_pre.index(max(r_abs_pre))#假设返回的是3\n",
    "            df.pre = pre[r_index_pre]\n",
    "\n",
    "            #solr\n",
    "            r0_solr, p0_solr = stats.spearmanr(eos_series, solr_series_8)\n",
    "            #8+7\n",
    "            solr_series_8_7 = np.sum([solr_series_8, solr_series_7], axis = 0)\n",
    "            r1_solr, p1_solr = stats.spearmanr(eos_series, solr_series_8_7)\n",
    "            #8+7+6\n",
    "            solr_series_8_7_6 = np.sum([solr_series_8, solr_series_7, solr_series_6], axis = 0)\n",
    "            r2_solr, p2_solr = stats.spearmanr(eos_series, solr_series_8_7_6)\n",
    "            solr = [solr_series_8, solr_series_8_7, solr_series_8_7_6]\n",
    "            r_abs_solr = [abs(r0_solr), abs(r1_solr), abs(r2_solr)]\n",
    "            r_index_solr = r_abs_solr.index(max(r_abs_solr))#假设返回的是3\n",
    "            df.solr = solr[r_index_solr]\n",
    "\n",
    "            #sm\n",
    "            r0_sm, p0_sm = stats.spearmanr(eos_series, sm_series_8)\n",
    "            #8+7\n",
    "            sm_series_8_7 = np.mean([sm_series_8, sm_series_7], axis = 0)\n",
    "            r1_sm, p1_sm = stats.spearmanr(eos_series, sm_series_8_7)\n",
    "            #8+7+6\n",
    "            sm_series_8_7_6 = np.mean([sm_series_8, sm_series_7, sm_series_6], axis = 0)\n",
    "            r2_sm, p2_sm = stats.spearmanr(eos_series, sm_series_8_7_6)\n",
    "            sm = [sm_series_8, sm_series_8_7, sm_series_8_7_6]\n",
    "            r_abs_sm = [abs(r0_sm), abs(r1_sm), abs(r2_sm)]\n",
    "            r_index_sm = r_abs_sm.index(max(r_abs_sm))#假设返回的是3\n",
    "            df.sm= sm[r_index_sm]\n",
    "\n",
    "        elif site_lat_lon.multi_eos[k]==7:\n",
    "            #tmean\n",
    "            r0, p0 = stats.spearmanr(eos_series, tmean_series_7)\n",
    "            #7+6\n",
    "            tmean_series_7_6 = np.mean([tmean_series_7, tmean_series_6], axis = 0)\n",
    "            r1, p1 = stats.spearmanr(eos_series, tmean_series_7_6)\n",
    "            tmean = [tmean_series_7, tmean_series_7_6]\n",
    "            r_abs = [abs(r0), abs(r1)]\n",
    "            r_index = r_abs.index(max(r_abs))#假设返回的是3\n",
    "            df.tmean = tmean[r_index]\n",
    "\n",
    "            #pre\n",
    "            r0_pre, p0_pre = stats.spearmanr(eos_series, pre_series_7)\n",
    "            #7+6\n",
    "            pre_series_7_6 = np.sum([pre_series_7, pre_series_6], axis = 0)\n",
    "            r1_pre, p1_pre = stats.spearmanr(eos_series, pre_series_7_6)\n",
    "            pre = [pre_series_7, pre_series_7_6]\n",
    "            r_abs_pre = [abs(r0_pre), abs(r1_pre)]\n",
    "            r_index_pre = r_abs_pre.index(max(r_abs_pre))#假设返回的是3\n",
    "            df.pre = pre[r_index_pre]\n",
    "\n",
    "            #solr\n",
    "            r0_solr, p0_solr = stats.spearmanr(eos_series, solr_series_7)\n",
    "            #7+6\n",
    "            solr_series_7_6 = np.sum([solr_series_7, solr_series_6], axis = 0)\n",
    "            r1_solr, p1_solr = stats.spearmanr(eos_series, solr_series_7_6)\n",
    "            solr = [solr_series_7, solr_series_7_6]\n",
    "            r_abs_solr = [abs(r0_solr), abs(r1_solr)]\n",
    "            r_index_solr = r_abs_solr.index(max(r_abs_solr))#假设返回的是3\n",
    "            df.solr= solr[r_index_solr]\n",
    "\n",
    "            #sm\n",
    "            r0_sm, p0_sm = stats.spearmanr(eos_series, sm_series_7)\n",
    "            #7+6\n",
    "            sm_series_7_6 = np.mean([sm_series_7, sm_series_6], axis = 0)\n",
    "            r1_sm, p1_sm = stats.spearmanr(eos_series, sm_series_7_6)\n",
    "            sm = [sm_series_7, sm_series_7_6]\n",
    "            r_abs_sm = [abs(r0_sm), abs(r1_sm)]\n",
    "            r_index_sm = r_abs_sm.index(max(r_abs_sm))#假设返回的是3\n",
    "            df.sm = sm[r_index_sm]\n",
    "\n",
    "        else:\n",
    "            #6月，只有一个值\n",
    "            df.tmean = tmean_series_6\n",
    "            df.pre = pre_series_6\n",
    "            df.solr = solr_series_6\n",
    "            df.sm = sm_series_6\n",
    "\n",
    "        out_path = '/data/shuping/data/china_phenology/partial_corr/herb/highest_corr_climate_series/' + files[k]\n",
    "        df.to_csv(out_path)"
   ],
   "metadata": {
    "collapsed": false,
    "pycharm": {
     "name": "#%%\n"
    }
   }
  },
  {
   "cell_type": "markdown",
   "source": [
    "###偏相关"
   ],
   "metadata": {
    "collapsed": false,
    "pycharm": {
     "name": "#%% md\n"
    }
   }
  },
  {
   "cell_type": "code",
   "execution_count": 45,
   "outputs": [
    {
     "data": {
      "text/plain": "['50655_36.csv',\n '50871_36.csv',\n '50873_36.csv',\n '50892_36.csv',\n '50964_7.csv',\n '51931_24.csv',\n '51931_35.csv',\n '51931_5.csv',\n '52101_33.csv',\n '52203_25.csv',\n '52203_33.csv',\n '52203_36.csv',\n '52656_33.csv',\n '52656_36.csv',\n '52656_7.csv',\n '52737_5.csv',\n '52825_32.csv',\n '52855_32.csv',\n '52855_33.csv',\n '52895_33.csv',\n '52895_36.csv',\n '52984_36.csv',\n '52984_37.csv',\n '52984_7.csv',\n '52995_36.csv',\n '52995_7.csv',\n '53611_32.csv',\n '53674_7.csv',\n '53704_25.csv',\n '53704_7.csv',\n '53723_28.csv',\n '53769_7.csv',\n '53817_36.csv',\n '53817_7.csv',\n '53821_9.csv',\n '53845_7.csv',\n '53863_7.csv',\n '53868_28.csv',\n '53868_36.csv',\n '53877_36.csv',\n '53877_7.csv',\n '53942_7.csv',\n '53956_7.csv',\n '53959_28.csv',\n '53991_28.csv',\n '53991_7.csv',\n '54049_36.csv',\n '54154_36.csv',\n '54154_7.csv',\n '54165_7.csv',\n '54186_36.csv',\n '54237_6.csv',\n '54260_36.csv',\n '54260_7.csv',\n '54266_36.csv',\n '54333_33.csv',\n '54362_7.csv',\n '54714_3.csv',\n '54714_36.csv',\n '54714_6.csv',\n '54714_7.csv',\n '54725_6.csv',\n '54764_36.csv',\n '54764_6.csv',\n '54764_7.csv',\n '54777_28.csv',\n '54777_6.csv',\n '54821_6.csv',\n '54821_7.csv',\n '54827_28.csv',\n '54827_7.csv',\n '54830_7.csv',\n '54843_28.csv',\n '54843_36.csv',\n '54843_7.csv',\n '54849_28.csv',\n '54849_36.csv',\n '54849_7.csv',\n '54900_35.csv',\n '54936_6.csv',\n '54938_37.csv',\n '56045_16.csv',\n '56074_36.csv',\n '56079_36.csv',\n '56079_7.csv',\n '57043_28.csv',\n '57043_36.csv',\n '57048_36.csv',\n '57048_6.csv',\n '57067_6.csv',\n '57067_7.csv',\n '57075_7.csv',\n '57096_20.csv',\n '57102_29.csv',\n '57102_7.csv',\n '57178_7.csv',\n '57297_45.csv',\n '57297_6.csv',\n '57297_7.csv',\n '57381_29.csv',\n '57482_29.csv',\n '57483_29.csv',\n '57483_36.csv',\n '57483_7.csv',\n '58002_6.csv',\n '58049_32.csv',\n '58269_32.csv',\n '58319_7.csv',\n '58346_45.csv']"
     },
     "execution_count": 45,
     "metadata": {},
     "output_type": "execute_result"
    }
   ],
   "source": [
    "file_path = '/data/shuping/data/china_phenology/partial_corr/herb/highest_corr_climate_series/'\n",
    "files = sorted(os.listdir(file_path))\n",
    "files"
   ],
   "metadata": {
    "collapsed": false,
    "pycharm": {
     "name": "#%%\n"
    }
   }
  },
  {
   "cell_type": "code",
   "execution_count": 46,
   "outputs": [
    {
     "data": {
      "text/plain": "      site veg_type      r  p_val\n0    50655       36  0.285  0.370\n1    50871       36  0.148  0.559\n2    50873       36  0.012  0.962\n3    50892       36 -0.387  0.125\n4    50964        7 -0.528  0.024\n..     ...      ...    ...    ...\n103  57483        7  0.229  0.361\n104  58002        6  0.061  0.836\n105  58049       32  0.055  0.795\n106  58319        7  0.538  0.010\n107  58346       45  0.430  0.124\n\n[108 rows x 4 columns]",
      "text/html": "<div>\n<style scoped>\n    .dataframe tbody tr th:only-of-type {\n        vertical-align: middle;\n    }\n\n    .dataframe tbody tr th {\n        vertical-align: top;\n    }\n\n    .dataframe thead th {\n        text-align: right;\n    }\n</style>\n<table border=\"1\" class=\"dataframe\">\n  <thead>\n    <tr style=\"text-align: right;\">\n      <th></th>\n      <th>site</th>\n      <th>veg_type</th>\n      <th>r</th>\n      <th>p_val</th>\n    </tr>\n  </thead>\n  <tbody>\n    <tr>\n      <th>0</th>\n      <td>50655</td>\n      <td>36</td>\n      <td>0.285</td>\n      <td>0.370</td>\n    </tr>\n    <tr>\n      <th>1</th>\n      <td>50871</td>\n      <td>36</td>\n      <td>0.148</td>\n      <td>0.559</td>\n    </tr>\n    <tr>\n      <th>2</th>\n      <td>50873</td>\n      <td>36</td>\n      <td>0.012</td>\n      <td>0.962</td>\n    </tr>\n    <tr>\n      <th>3</th>\n      <td>50892</td>\n      <td>36</td>\n      <td>-0.387</td>\n      <td>0.125</td>\n    </tr>\n    <tr>\n      <th>4</th>\n      <td>50964</td>\n      <td>7</td>\n      <td>-0.528</td>\n      <td>0.024</td>\n    </tr>\n    <tr>\n      <th>...</th>\n      <td>...</td>\n      <td>...</td>\n      <td>...</td>\n      <td>...</td>\n    </tr>\n    <tr>\n      <th>103</th>\n      <td>57483</td>\n      <td>7</td>\n      <td>0.229</td>\n      <td>0.361</td>\n    </tr>\n    <tr>\n      <th>104</th>\n      <td>58002</td>\n      <td>6</td>\n      <td>0.061</td>\n      <td>0.836</td>\n    </tr>\n    <tr>\n      <th>105</th>\n      <td>58049</td>\n      <td>32</td>\n      <td>0.055</td>\n      <td>0.795</td>\n    </tr>\n    <tr>\n      <th>106</th>\n      <td>58319</td>\n      <td>7</td>\n      <td>0.538</td>\n      <td>0.010</td>\n    </tr>\n    <tr>\n      <th>107</th>\n      <td>58346</td>\n      <td>45</td>\n      <td>0.430</td>\n      <td>0.124</td>\n    </tr>\n  </tbody>\n</table>\n<p>108 rows × 4 columns</p>\n</div>"
     },
     "execution_count": 46,
     "metadata": {},
     "output_type": "execute_result"
    }
   ],
   "source": [
    "China_herb_partial_corr = pd.DataFrame(columns=['site', 'veg_type', 'r', 'p_val'])\n",
    "for k in range(len(files)):\n",
    "    csv_path = file_path + files[k]\n",
    "    df = pd.read_csv(csv_path)\n",
    "    df = df.dropna()\n",
    "    df = df.drop(['Unnamed: 0'], axis=1)\n",
    "    if df.shape[0]>3:\n",
    "        b = pg.partial_corr( data= df, x='sos', y= 'eos', covar=['tmean', 'pre','solr', 'sm'], method='spearman').round(3)\n",
    "        b.columns  = ['n', 'r', 'CI95%','p']\n",
    "        China_herb_partial_corr = China_herb_partial_corr.append(pd.DataFrame({'site':[df.site[0]],'veg_type':[df.species[0]],'r':[b.r[0]], 'p_val': [b.p[0]]\n",
    "                                                                           }), ignore_index=True)\n",
    "China_herb_partial_corr"
   ],
   "metadata": {
    "collapsed": false,
    "pycharm": {
     "name": "#%%\n"
    }
   }
  },
  {
   "cell_type": "code",
   "execution_count": 47,
   "outputs": [
    {
     "data": {
      "text/plain": "      site veg_type      r  p_val\n0    50655       36  0.285  0.370\n1    50871       36  0.148  0.559\n2    50873       36  0.012  0.962\n5    51931       24  0.450  0.041\n6    51931       35  0.619  0.003\n..     ...      ...    ...    ...\n103  57483        7  0.229  0.361\n104  58002        6  0.061  0.836\n105  58049       32  0.055  0.795\n106  58319        7  0.538  0.010\n107  58346       45  0.430  0.124\n\n[71 rows x 4 columns]",
      "text/html": "<div>\n<style scoped>\n    .dataframe tbody tr th:only-of-type {\n        vertical-align: middle;\n    }\n\n    .dataframe tbody tr th {\n        vertical-align: top;\n    }\n\n    .dataframe thead th {\n        text-align: right;\n    }\n</style>\n<table border=\"1\" class=\"dataframe\">\n  <thead>\n    <tr style=\"text-align: right;\">\n      <th></th>\n      <th>site</th>\n      <th>veg_type</th>\n      <th>r</th>\n      <th>p_val</th>\n    </tr>\n  </thead>\n  <tbody>\n    <tr>\n      <th>0</th>\n      <td>50655</td>\n      <td>36</td>\n      <td>0.285</td>\n      <td>0.370</td>\n    </tr>\n    <tr>\n      <th>1</th>\n      <td>50871</td>\n      <td>36</td>\n      <td>0.148</td>\n      <td>0.559</td>\n    </tr>\n    <tr>\n      <th>2</th>\n      <td>50873</td>\n      <td>36</td>\n      <td>0.012</td>\n      <td>0.962</td>\n    </tr>\n    <tr>\n      <th>5</th>\n      <td>51931</td>\n      <td>24</td>\n      <td>0.450</td>\n      <td>0.041</td>\n    </tr>\n    <tr>\n      <th>6</th>\n      <td>51931</td>\n      <td>35</td>\n      <td>0.619</td>\n      <td>0.003</td>\n    </tr>\n    <tr>\n      <th>...</th>\n      <td>...</td>\n      <td>...</td>\n      <td>...</td>\n      <td>...</td>\n    </tr>\n    <tr>\n      <th>103</th>\n      <td>57483</td>\n      <td>7</td>\n      <td>0.229</td>\n      <td>0.361</td>\n    </tr>\n    <tr>\n      <th>104</th>\n      <td>58002</td>\n      <td>6</td>\n      <td>0.061</td>\n      <td>0.836</td>\n    </tr>\n    <tr>\n      <th>105</th>\n      <td>58049</td>\n      <td>32</td>\n      <td>0.055</td>\n      <td>0.795</td>\n    </tr>\n    <tr>\n      <th>106</th>\n      <td>58319</td>\n      <td>7</td>\n      <td>0.538</td>\n      <td>0.010</td>\n    </tr>\n    <tr>\n      <th>107</th>\n      <td>58346</td>\n      <td>45</td>\n      <td>0.430</td>\n      <td>0.124</td>\n    </tr>\n  </tbody>\n</table>\n<p>71 rows × 4 columns</p>\n</div>"
     },
     "execution_count": 47,
     "metadata": {},
     "output_type": "execute_result"
    }
   ],
   "source": [
    "China_herb_partial_corr[China_herb_partial_corr['r']>0]"
   ],
   "metadata": {
    "collapsed": false,
    "pycharm": {
     "name": "#%%\n"
    }
   }
  },
  {
   "cell_type": "code",
   "execution_count": 48,
   "outputs": [
    {
     "data": {
      "text/plain": "      site veg_type      r  p_val\n3    50892       36 -0.387  0.125\n4    50964        7 -0.528  0.024\n12   52656       33 -0.178  0.493\n18   52855       33 -0.431  0.032\n19   52895       33 -0.065  0.799\n20   52895       36 -0.141  0.564\n22   52984       37 -0.037  0.869\n27   53674        7 -0.451  0.027\n31   53769        7 -0.139  0.666\n34   53821        9 -0.128  0.707\n35   53845        7 -0.118  0.566\n37   53868       28 -0.279  0.177\n40   53877        7 -0.271  0.276\n42   53956        7 -0.161  0.451\n44   53991       28 -0.220  0.281\n45   53991        7 -0.383  0.053\n46   54049       36 -0.276  0.182\n52   54260       36 -0.198  0.516\n55   54333       33 -0.283  0.170\n56   54362        7 -0.322  0.135\n58   54714       36 -0.136  0.591\n61   54725        6 -0.282  0.329\n63   54764        6 -0.091  0.758\n64   54764        7 -0.147  0.617\n67   54821        6 -0.530  0.024\n70   54827        7 -0.318  0.199\n71   54830        7 -0.305  0.204\n72   54843       28 -0.035  0.866\n77   54849        7 -0.168  0.479\n78   54900       35 -0.096  0.715\n84   56079        7 -0.154  0.474\n89   57067        6 -0.023  0.909\n92   57096       20 -0.226  0.367\n94   57102        7 -0.060  0.807\n97   57297        6 -0.104  0.628\n98   57297        7 -0.212  0.309\n102  57483       36 -0.377  0.123",
      "text/html": "<div>\n<style scoped>\n    .dataframe tbody tr th:only-of-type {\n        vertical-align: middle;\n    }\n\n    .dataframe tbody tr th {\n        vertical-align: top;\n    }\n\n    .dataframe thead th {\n        text-align: right;\n    }\n</style>\n<table border=\"1\" class=\"dataframe\">\n  <thead>\n    <tr style=\"text-align: right;\">\n      <th></th>\n      <th>site</th>\n      <th>veg_type</th>\n      <th>r</th>\n      <th>p_val</th>\n    </tr>\n  </thead>\n  <tbody>\n    <tr>\n      <th>3</th>\n      <td>50892</td>\n      <td>36</td>\n      <td>-0.387</td>\n      <td>0.125</td>\n    </tr>\n    <tr>\n      <th>4</th>\n      <td>50964</td>\n      <td>7</td>\n      <td>-0.528</td>\n      <td>0.024</td>\n    </tr>\n    <tr>\n      <th>12</th>\n      <td>52656</td>\n      <td>33</td>\n      <td>-0.178</td>\n      <td>0.493</td>\n    </tr>\n    <tr>\n      <th>18</th>\n      <td>52855</td>\n      <td>33</td>\n      <td>-0.431</td>\n      <td>0.032</td>\n    </tr>\n    <tr>\n      <th>19</th>\n      <td>52895</td>\n      <td>33</td>\n      <td>-0.065</td>\n      <td>0.799</td>\n    </tr>\n    <tr>\n      <th>20</th>\n      <td>52895</td>\n      <td>36</td>\n      <td>-0.141</td>\n      <td>0.564</td>\n    </tr>\n    <tr>\n      <th>22</th>\n      <td>52984</td>\n      <td>37</td>\n      <td>-0.037</td>\n      <td>0.869</td>\n    </tr>\n    <tr>\n      <th>27</th>\n      <td>53674</td>\n      <td>7</td>\n      <td>-0.451</td>\n      <td>0.027</td>\n    </tr>\n    <tr>\n      <th>31</th>\n      <td>53769</td>\n      <td>7</td>\n      <td>-0.139</td>\n      <td>0.666</td>\n    </tr>\n    <tr>\n      <th>34</th>\n      <td>53821</td>\n      <td>9</td>\n      <td>-0.128</td>\n      <td>0.707</td>\n    </tr>\n    <tr>\n      <th>35</th>\n      <td>53845</td>\n      <td>7</td>\n      <td>-0.118</td>\n      <td>0.566</td>\n    </tr>\n    <tr>\n      <th>37</th>\n      <td>53868</td>\n      <td>28</td>\n      <td>-0.279</td>\n      <td>0.177</td>\n    </tr>\n    <tr>\n      <th>40</th>\n      <td>53877</td>\n      <td>7</td>\n      <td>-0.271</td>\n      <td>0.276</td>\n    </tr>\n    <tr>\n      <th>42</th>\n      <td>53956</td>\n      <td>7</td>\n      <td>-0.161</td>\n      <td>0.451</td>\n    </tr>\n    <tr>\n      <th>44</th>\n      <td>53991</td>\n      <td>28</td>\n      <td>-0.220</td>\n      <td>0.281</td>\n    </tr>\n    <tr>\n      <th>45</th>\n      <td>53991</td>\n      <td>7</td>\n      <td>-0.383</td>\n      <td>0.053</td>\n    </tr>\n    <tr>\n      <th>46</th>\n      <td>54049</td>\n      <td>36</td>\n      <td>-0.276</td>\n      <td>0.182</td>\n    </tr>\n    <tr>\n      <th>52</th>\n      <td>54260</td>\n      <td>36</td>\n      <td>-0.198</td>\n      <td>0.516</td>\n    </tr>\n    <tr>\n      <th>55</th>\n      <td>54333</td>\n      <td>33</td>\n      <td>-0.283</td>\n      <td>0.170</td>\n    </tr>\n    <tr>\n      <th>56</th>\n      <td>54362</td>\n      <td>7</td>\n      <td>-0.322</td>\n      <td>0.135</td>\n    </tr>\n    <tr>\n      <th>58</th>\n      <td>54714</td>\n      <td>36</td>\n      <td>-0.136</td>\n      <td>0.591</td>\n    </tr>\n    <tr>\n      <th>61</th>\n      <td>54725</td>\n      <td>6</td>\n      <td>-0.282</td>\n      <td>0.329</td>\n    </tr>\n    <tr>\n      <th>63</th>\n      <td>54764</td>\n      <td>6</td>\n      <td>-0.091</td>\n      <td>0.758</td>\n    </tr>\n    <tr>\n      <th>64</th>\n      <td>54764</td>\n      <td>7</td>\n      <td>-0.147</td>\n      <td>0.617</td>\n    </tr>\n    <tr>\n      <th>67</th>\n      <td>54821</td>\n      <td>6</td>\n      <td>-0.530</td>\n      <td>0.024</td>\n    </tr>\n    <tr>\n      <th>70</th>\n      <td>54827</td>\n      <td>7</td>\n      <td>-0.318</td>\n      <td>0.199</td>\n    </tr>\n    <tr>\n      <th>71</th>\n      <td>54830</td>\n      <td>7</td>\n      <td>-0.305</td>\n      <td>0.204</td>\n    </tr>\n    <tr>\n      <th>72</th>\n      <td>54843</td>\n      <td>28</td>\n      <td>-0.035</td>\n      <td>0.866</td>\n    </tr>\n    <tr>\n      <th>77</th>\n      <td>54849</td>\n      <td>7</td>\n      <td>-0.168</td>\n      <td>0.479</td>\n    </tr>\n    <tr>\n      <th>78</th>\n      <td>54900</td>\n      <td>35</td>\n      <td>-0.096</td>\n      <td>0.715</td>\n    </tr>\n    <tr>\n      <th>84</th>\n      <td>56079</td>\n      <td>7</td>\n      <td>-0.154</td>\n      <td>0.474</td>\n    </tr>\n    <tr>\n      <th>89</th>\n      <td>57067</td>\n      <td>6</td>\n      <td>-0.023</td>\n      <td>0.909</td>\n    </tr>\n    <tr>\n      <th>92</th>\n      <td>57096</td>\n      <td>20</td>\n      <td>-0.226</td>\n      <td>0.367</td>\n    </tr>\n    <tr>\n      <th>94</th>\n      <td>57102</td>\n      <td>7</td>\n      <td>-0.060</td>\n      <td>0.807</td>\n    </tr>\n    <tr>\n      <th>97</th>\n      <td>57297</td>\n      <td>6</td>\n      <td>-0.104</td>\n      <td>0.628</td>\n    </tr>\n    <tr>\n      <th>98</th>\n      <td>57297</td>\n      <td>7</td>\n      <td>-0.212</td>\n      <td>0.309</td>\n    </tr>\n    <tr>\n      <th>102</th>\n      <td>57483</td>\n      <td>36</td>\n      <td>-0.377</td>\n      <td>0.123</td>\n    </tr>\n  </tbody>\n</table>\n</div>"
     },
     "execution_count": 48,
     "metadata": {},
     "output_type": "execute_result"
    }
   ],
   "source": [
    "China_herb_partial_corr[China_herb_partial_corr['r']<0]"
   ],
   "metadata": {
    "collapsed": false,
    "pycharm": {
     "name": "#%%\n"
    }
   }
  },
  {
   "cell_type": "code",
   "execution_count": 49,
   "outputs": [],
   "source": [
    "China_herb_partial_corr.to_csv('/data/shuping/data/china_phenology/results/China_herb_partial_corr.csv', encoding='utf_8_sig')"
   ],
   "metadata": {
    "collapsed": false,
    "pycharm": {
     "name": "#%%\n"
    }
   }
  },
  {
   "cell_type": "markdown",
   "source": [
    "# 4 提取站点累积gpp(两个数据集的平均)"
   ],
   "metadata": {
    "collapsed": false,
    "pycharm": {
     "name": "#%% md\n"
    }
   }
  },
  {
   "cell_type": "code",
   "execution_count": 2,
   "outputs": [],
   "source": [
    "import os\n",
    "import gdal\n",
    "import numpy as np\n",
    "import pandas as pd\n",
    "from scipy import stats\n",
    "from scipy import interpolate"
   ],
   "metadata": {
    "collapsed": false,
    "pycharm": {
     "name": "#%%\n"
    }
   }
  },
  {
   "cell_type": "code",
   "execution_count": 98,
   "outputs": [],
   "source": [
    "#读取tif数据集\n",
    "def readTif(fileName):\n",
    "    dataset = gdal.Open(fileName)\n",
    "    if dataset == None:\n",
    "        print(fileName+\"文件无法打开\")\n",
    "    return dataset"
   ],
   "metadata": {
    "collapsed": false,
    "pycharm": {
     "name": "#%%\n"
    }
   }
  },
  {
   "cell_type": "code",
   "execution_count": 99,
   "outputs": [],
   "source": [
    "# 读取gpp数据\n",
    "gpp_1982_datasets = np.zeros((12, 120, 720))\n",
    "gpp_1983_datasets = np.zeros((12, 120, 720))\n",
    "gpp_1984_datasets = np.zeros((12, 120, 720))\n",
    "gpp_1985_datasets = np.zeros((12, 120, 720))\n",
    "gpp_1986_datasets = np.zeros((12, 120, 720))\n",
    "gpp_1987_datasets = np.zeros((12, 120, 720))\n",
    "gpp_1988_datasets = np.zeros((12, 120, 720))\n",
    "gpp_1989_datasets = np.zeros((12, 120, 720))\n",
    "gpp_1990_datasets = np.zeros((12, 120, 720))\n",
    "gpp_1991_datasets = np.zeros((12, 120, 720))\n",
    "gpp_1992_datasets = np.zeros((12, 120, 720))\n",
    "gpp_1993_datasets = np.zeros((12, 120, 720))\n",
    "gpp_1994_datasets = np.zeros((12, 120, 720))\n",
    "gpp_1995_datasets = np.zeros((12, 120, 720))\n",
    "gpp_1996_datasets = np.zeros((12, 120, 720))\n",
    "gpp_1997_datasets = np.zeros((12, 120, 720))\n",
    "gpp_1998_datasets = np.zeros((12, 120, 720))\n",
    "gpp_1999_datasets = np.zeros((12, 120, 720))\n",
    "gpp_2000_datasets = np.zeros((12, 120, 720))\n",
    "gpp_2001_datasets = np.zeros((12, 120, 720))\n",
    "gpp_2002_datasets = np.zeros((12, 120, 720))\n",
    "gpp_2003_datasets = np.zeros((12, 120, 720))\n",
    "gpp_2004_datasets = np.zeros((12, 120, 720))\n",
    "gpp_2005_datasets = np.zeros((12, 120, 720))\n",
    "gpp_2006_datasets = np.zeros((12, 120, 720))\n",
    "gpp_2007_datasets = np.zeros((12, 120, 720))\n",
    "gpp_2008_datasets = np.zeros((12, 120, 720))\n",
    "gpp_2009_datasets = np.zeros((12, 120, 720))\n",
    "gpp_2010_datasets = np.zeros((12, 120, 720))\n",
    "gpp_2011_datasets = np.zeros((12, 120, 720))\n",
    "gpp_2012_datasets = np.zeros((12, 120, 720))\n",
    "gpp_2013_datasets = np.zeros((12, 120, 720))\n",
    "gpp_2014_datasets = np.zeros((12, 120, 720))"
   ],
   "metadata": {
    "collapsed": false,
    "pycharm": {
     "name": "#%%\n"
    }
   }
  },
  {
   "cell_type": "code",
   "execution_count": 100,
   "outputs": [
    {
     "name": "stdout",
     "output_type": "stream",
     "text": [
      "1982-01-gpp.tif\n",
      "1982-02-gpp.tif\n",
      "1982-03-gpp.tif\n",
      "1982-04-gpp.tif\n",
      "1982-05-gpp.tif\n",
      "1982-06-gpp.tif\n",
      "1982-07-gpp.tif\n",
      "1982-08-gpp.tif\n",
      "1982-09-gpp.tif\n",
      "1982-10-gpp.tif\n",
      "1982-11-gpp.tif\n",
      "1982-12-gpp.tif\n",
      "1983-01-gpp.tif\n",
      "1983-02-gpp.tif\n",
      "1983-03-gpp.tif\n",
      "1983-04-gpp.tif\n",
      "1983-05-gpp.tif\n",
      "1983-06-gpp.tif\n",
      "1983-07-gpp.tif\n",
      "1983-08-gpp.tif\n",
      "1983-09-gpp.tif\n",
      "1983-10-gpp.tif\n",
      "1983-11-gpp.tif\n",
      "1983-12-gpp.tif\n",
      "1984-01-gpp.tif\n",
      "1984-02-gpp.tif\n",
      "1984-03-gpp.tif\n",
      "1984-04-gpp.tif\n",
      "1984-05-gpp.tif\n",
      "1984-06-gpp.tif\n",
      "1984-07-gpp.tif\n",
      "1984-08-gpp.tif\n",
      "1984-09-gpp.tif\n",
      "1984-10-gpp.tif\n",
      "1984-11-gpp.tif\n",
      "1984-12-gpp.tif\n",
      "1985-01-gpp.tif\n",
      "1985-02-gpp.tif\n",
      "1985-03-gpp.tif\n",
      "1985-04-gpp.tif\n",
      "1985-05-gpp.tif\n",
      "1985-06-gpp.tif\n",
      "1985-07-gpp.tif\n",
      "1985-08-gpp.tif\n",
      "1985-09-gpp.tif\n",
      "1985-10-gpp.tif\n",
      "1985-11-gpp.tif\n",
      "1985-12-gpp.tif\n",
      "1986-01-gpp.tif\n",
      "1986-02-gpp.tif\n",
      "1986-03-gpp.tif\n",
      "1986-04-gpp.tif\n",
      "1986-05-gpp.tif\n",
      "1986-06-gpp.tif\n",
      "1986-07-gpp.tif\n",
      "1986-08-gpp.tif\n",
      "1986-09-gpp.tif\n",
      "1986-10-gpp.tif\n",
      "1986-11-gpp.tif\n",
      "1986-12-gpp.tif\n",
      "1987-01-gpp.tif\n",
      "1987-02-gpp.tif\n",
      "1987-03-gpp.tif\n",
      "1987-04-gpp.tif\n",
      "1987-05-gpp.tif\n",
      "1987-06-gpp.tif\n",
      "1987-07-gpp.tif\n",
      "1987-08-gpp.tif\n",
      "1987-09-gpp.tif\n",
      "1987-10-gpp.tif\n",
      "1987-11-gpp.tif\n",
      "1987-12-gpp.tif\n",
      "1988-01-gpp.tif\n",
      "1988-02-gpp.tif\n",
      "1988-03-gpp.tif\n",
      "1988-04-gpp.tif\n",
      "1988-05-gpp.tif\n",
      "1988-06-gpp.tif\n",
      "1988-07-gpp.tif\n",
      "1988-08-gpp.tif\n",
      "1988-09-gpp.tif\n",
      "1988-10-gpp.tif\n",
      "1988-11-gpp.tif\n",
      "1988-12-gpp.tif\n",
      "1989-01-gpp.tif\n",
      "1989-02-gpp.tif\n",
      "1989-03-gpp.tif\n",
      "1989-04-gpp.tif\n",
      "1989-05-gpp.tif\n",
      "1989-06-gpp.tif\n",
      "1989-07-gpp.tif\n",
      "1989-08-gpp.tif\n",
      "1989-09-gpp.tif\n",
      "1989-10-gpp.tif\n",
      "1989-11-gpp.tif\n",
      "1989-12-gpp.tif\n",
      "1990-01-gpp.tif\n",
      "1990-02-gpp.tif\n",
      "1990-03-gpp.tif\n",
      "1990-04-gpp.tif\n",
      "1990-05-gpp.tif\n",
      "1990-06-gpp.tif\n",
      "1990-07-gpp.tif\n",
      "1990-08-gpp.tif\n",
      "1990-09-gpp.tif\n",
      "1990-10-gpp.tif\n",
      "1990-11-gpp.tif\n",
      "1990-12-gpp.tif\n",
      "1991-01-gpp.tif\n",
      "1991-02-gpp.tif\n",
      "1991-03-gpp.tif\n",
      "1991-04-gpp.tif\n",
      "1991-05-gpp.tif\n",
      "1991-06-gpp.tif\n",
      "1991-07-gpp.tif\n",
      "1991-08-gpp.tif\n",
      "1991-09-gpp.tif\n",
      "1991-10-gpp.tif\n",
      "1991-11-gpp.tif\n",
      "1991-12-gpp.tif\n",
      "1992-01-gpp.tif\n",
      "1992-02-gpp.tif\n",
      "1992-03-gpp.tif\n",
      "1992-04-gpp.tif\n",
      "1992-05-gpp.tif\n",
      "1992-06-gpp.tif\n",
      "1992-07-gpp.tif\n",
      "1992-08-gpp.tif\n",
      "1992-09-gpp.tif\n",
      "1992-10-gpp.tif\n",
      "1992-11-gpp.tif\n",
      "1992-12-gpp.tif\n",
      "1993-01-gpp.tif\n",
      "1993-02-gpp.tif\n",
      "1993-03-gpp.tif\n",
      "1993-04-gpp.tif\n",
      "1993-05-gpp.tif\n",
      "1993-06-gpp.tif\n",
      "1993-07-gpp.tif\n",
      "1993-08-gpp.tif\n",
      "1993-09-gpp.tif\n",
      "1993-10-gpp.tif\n",
      "1993-11-gpp.tif\n",
      "1993-12-gpp.tif\n",
      "1994-01-gpp.tif\n",
      "1994-02-gpp.tif\n",
      "1994-03-gpp.tif\n",
      "1994-04-gpp.tif\n",
      "1994-05-gpp.tif\n",
      "1994-06-gpp.tif\n",
      "1994-07-gpp.tif\n",
      "1994-08-gpp.tif\n",
      "1994-09-gpp.tif\n",
      "1994-10-gpp.tif\n",
      "1994-11-gpp.tif\n",
      "1994-12-gpp.tif\n",
      "1995-01-gpp.tif\n",
      "1995-02-gpp.tif\n",
      "1995-03-gpp.tif\n",
      "1995-04-gpp.tif\n",
      "1995-05-gpp.tif\n",
      "1995-06-gpp.tif\n",
      "1995-07-gpp.tif\n",
      "1995-08-gpp.tif\n",
      "1995-09-gpp.tif\n",
      "1995-10-gpp.tif\n",
      "1995-11-gpp.tif\n",
      "1995-12-gpp.tif\n",
      "1996-01-gpp.tif\n",
      "1996-02-gpp.tif\n",
      "1996-03-gpp.tif\n",
      "1996-04-gpp.tif\n",
      "1996-05-gpp.tif\n",
      "1996-06-gpp.tif\n",
      "1996-07-gpp.tif\n",
      "1996-08-gpp.tif\n",
      "1996-09-gpp.tif\n",
      "1996-10-gpp.tif\n",
      "1996-11-gpp.tif\n",
      "1996-12-gpp.tif\n",
      "1997-01-gpp.tif\n",
      "1997-02-gpp.tif\n",
      "1997-03-gpp.tif\n",
      "1997-04-gpp.tif\n",
      "1997-05-gpp.tif\n",
      "1997-06-gpp.tif\n",
      "1997-07-gpp.tif\n",
      "1997-08-gpp.tif\n",
      "1997-09-gpp.tif\n",
      "1997-10-gpp.tif\n",
      "1997-11-gpp.tif\n",
      "1997-12-gpp.tif\n",
      "1998-01-gpp.tif\n",
      "1998-02-gpp.tif\n",
      "1998-03-gpp.tif\n",
      "1998-04-gpp.tif\n",
      "1998-05-gpp.tif\n",
      "1998-06-gpp.tif\n",
      "1998-07-gpp.tif\n",
      "1998-08-gpp.tif\n",
      "1998-09-gpp.tif\n",
      "1998-10-gpp.tif\n",
      "1998-11-gpp.tif\n",
      "1998-12-gpp.tif\n",
      "1999-01-gpp.tif\n",
      "1999-02-gpp.tif\n",
      "1999-03-gpp.tif\n",
      "1999-04-gpp.tif\n",
      "1999-05-gpp.tif\n",
      "1999-06-gpp.tif\n",
      "1999-07-gpp.tif\n",
      "1999-08-gpp.tif\n",
      "1999-09-gpp.tif\n",
      "1999-10-gpp.tif\n",
      "1999-11-gpp.tif\n",
      "1999-12-gpp.tif\n",
      "2000-01-gpp.tif\n",
      "2000-02-gpp.tif\n",
      "2000-03-gpp.tif\n",
      "2000-04-gpp.tif\n",
      "2000-05-gpp.tif\n",
      "2000-06-gpp.tif\n",
      "2000-07-gpp.tif\n",
      "2000-08-gpp.tif\n",
      "2000-09-gpp.tif\n",
      "2000-10-gpp.tif\n",
      "2000-11-gpp.tif\n",
      "2000-12-gpp.tif\n",
      "2001-01-gpp.tif\n",
      "2001-02-gpp.tif\n",
      "2001-03-gpp.tif\n",
      "2001-04-gpp.tif\n",
      "2001-05-gpp.tif\n",
      "2001-06-gpp.tif\n",
      "2001-07-gpp.tif\n",
      "2001-08-gpp.tif\n",
      "2001-09-gpp.tif\n",
      "2001-10-gpp.tif\n",
      "2001-11-gpp.tif\n",
      "2001-12-gpp.tif\n",
      "2002-01-gpp.tif\n",
      "2002-02-gpp.tif\n",
      "2002-03-gpp.tif\n",
      "2002-04-gpp.tif\n",
      "2002-05-gpp.tif\n",
      "2002-06-gpp.tif\n",
      "2002-07-gpp.tif\n",
      "2002-08-gpp.tif\n",
      "2002-09-gpp.tif\n",
      "2002-10-gpp.tif\n",
      "2002-11-gpp.tif\n",
      "2002-12-gpp.tif\n",
      "2003-01-gpp.tif\n",
      "2003-02-gpp.tif\n",
      "2003-03-gpp.tif\n",
      "2003-04-gpp.tif\n",
      "2003-05-gpp.tif\n",
      "2003-06-gpp.tif\n",
      "2003-07-gpp.tif\n",
      "2003-08-gpp.tif\n",
      "2003-09-gpp.tif\n",
      "2003-10-gpp.tif\n",
      "2003-11-gpp.tif\n",
      "2003-12-gpp.tif\n",
      "2004-01-gpp.tif\n",
      "2004-02-gpp.tif\n",
      "2004-03-gpp.tif\n",
      "2004-04-gpp.tif\n",
      "2004-05-gpp.tif\n",
      "2004-06-gpp.tif\n",
      "2004-07-gpp.tif\n",
      "2004-08-gpp.tif\n",
      "2004-09-gpp.tif\n",
      "2004-10-gpp.tif\n",
      "2004-11-gpp.tif\n",
      "2004-12-gpp.tif\n",
      "2005-01-gpp.tif\n",
      "2005-02-gpp.tif\n",
      "2005-03-gpp.tif\n",
      "2005-04-gpp.tif\n",
      "2005-05-gpp.tif\n",
      "2005-06-gpp.tif\n",
      "2005-07-gpp.tif\n",
      "2005-08-gpp.tif\n",
      "2005-09-gpp.tif\n",
      "2005-10-gpp.tif\n",
      "2005-11-gpp.tif\n",
      "2005-12-gpp.tif\n",
      "2006-01-gpp.tif\n",
      "2006-02-gpp.tif\n",
      "2006-03-gpp.tif\n",
      "2006-04-gpp.tif\n",
      "2006-05-gpp.tif\n",
      "2006-06-gpp.tif\n",
      "2006-07-gpp.tif\n",
      "2006-08-gpp.tif\n",
      "2006-09-gpp.tif\n",
      "2006-10-gpp.tif\n",
      "2006-11-gpp.tif\n",
      "2006-12-gpp.tif\n",
      "2007-01-gpp.tif\n",
      "2007-02-gpp.tif\n",
      "2007-03-gpp.tif\n",
      "2007-04-gpp.tif\n",
      "2007-05-gpp.tif\n",
      "2007-06-gpp.tif\n",
      "2007-07-gpp.tif\n",
      "2007-08-gpp.tif\n",
      "2007-09-gpp.tif\n",
      "2007-10-gpp.tif\n",
      "2007-11-gpp.tif\n",
      "2007-12-gpp.tif\n",
      "2008-01-gpp.tif\n",
      "2008-02-gpp.tif\n",
      "2008-03-gpp.tif\n",
      "2008-04-gpp.tif\n",
      "2008-05-gpp.tif\n",
      "2008-06-gpp.tif\n",
      "2008-07-gpp.tif\n",
      "2008-08-gpp.tif\n",
      "2008-09-gpp.tif\n",
      "2008-10-gpp.tif\n",
      "2008-11-gpp.tif\n",
      "2008-12-gpp.tif\n",
      "2009-01-gpp.tif\n",
      "2009-02-gpp.tif\n",
      "2009-03-gpp.tif\n",
      "2009-04-gpp.tif\n",
      "2009-05-gpp.tif\n",
      "2009-06-gpp.tif\n",
      "2009-07-gpp.tif\n",
      "2009-08-gpp.tif\n",
      "2009-09-gpp.tif\n",
      "2009-10-gpp.tif\n",
      "2009-11-gpp.tif\n",
      "2009-12-gpp.tif\n",
      "2010-01-gpp.tif\n",
      "2010-02-gpp.tif\n",
      "2010-03-gpp.tif\n",
      "2010-04-gpp.tif\n",
      "2010-05-gpp.tif\n",
      "2010-06-gpp.tif\n",
      "2010-07-gpp.tif\n",
      "2010-08-gpp.tif\n",
      "2010-09-gpp.tif\n",
      "2010-10-gpp.tif\n",
      "2010-11-gpp.tif\n",
      "2010-12-gpp.tif\n",
      "2011-01-gpp.tif\n",
      "2011-02-gpp.tif\n",
      "2011-03-gpp.tif\n",
      "2011-04-gpp.tif\n",
      "2011-05-gpp.tif\n",
      "2011-06-gpp.tif\n",
      "2011-07-gpp.tif\n",
      "2011-08-gpp.tif\n",
      "2011-09-gpp.tif\n",
      "2011-10-gpp.tif\n",
      "2011-11-gpp.tif\n",
      "2011-12-gpp.tif\n",
      "2012-01-gpp.tif\n",
      "2012-02-gpp.tif\n",
      "2012-03-gpp.tif\n",
      "2012-04-gpp.tif\n",
      "2012-05-gpp.tif\n",
      "2012-06-gpp.tif\n",
      "2012-07-gpp.tif\n",
      "2012-08-gpp.tif\n",
      "2012-09-gpp.tif\n",
      "2012-10-gpp.tif\n",
      "2012-11-gpp.tif\n",
      "2012-12-gpp.tif\n",
      "2013-01-gpp.tif\n",
      "2013-02-gpp.tif\n",
      "2013-03-gpp.tif\n",
      "2013-04-gpp.tif\n",
      "2013-05-gpp.tif\n",
      "2013-06-gpp.tif\n",
      "2013-07-gpp.tif\n",
      "2013-08-gpp.tif\n",
      "2013-09-gpp.tif\n",
      "2013-10-gpp.tif\n",
      "2013-11-gpp.tif\n",
      "2013-12-gpp.tif\n",
      "2014-01-gpp.tif\n",
      "2014-02-gpp.tif\n",
      "2014-03-gpp.tif\n",
      "2014-04-gpp.tif\n",
      "2014-05-gpp.tif\n",
      "2014-06-gpp.tif\n",
      "2014-07-gpp.tif\n",
      "2014-08-gpp.tif\n",
      "2014-09-gpp.tif\n",
      "2014-10-gpp.tif\n",
      "2014-11-gpp.tif\n",
      "2014-12-gpp.tif\n"
     ]
    }
   ],
   "source": [
    "# year-gpp赋值\n",
    "dir = '/data/shuping/data/mean_phenology_gpp_data/mean_gpp/mean_gpp/1982'\n",
    "files = sorted(os.listdir(dir))\n",
    "for n in range(12):\n",
    "    gpp_path = os.path.join(dir, files[n])\n",
    "    print(files[n])\n",
    "    gpp_data = readTif(gpp_path)\n",
    "    gpp = gpp_data.ReadAsArray()\n",
    "    gpp_1982_datasets[n, :, :] = gpp\n",
    "\n",
    "dir_1983 = '/data/shuping/data/mean_phenology_gpp_data/mean_gpp/mean_gpp/1983'\n",
    "files = sorted(os.listdir(dir_1983))\n",
    "for n in range(12):\n",
    "    gpp_path = os.path.join(dir_1983, files[n])\n",
    "    print(files[n])\n",
    "    gpp_data = readTif(gpp_path)\n",
    "    gpp = gpp_data.ReadAsArray()\n",
    "    gpp_1983_datasets[n, :, :] = gpp\n",
    "\n",
    "dir_1984 = '/data/shuping/data/mean_phenology_gpp_data/mean_gpp/mean_gpp/1984'\n",
    "files = sorted(os.listdir(dir_1984))\n",
    "for n in range(12):\n",
    "    gpp_path = os.path.join(dir_1984, files[n])\n",
    "    print(files[n])\n",
    "    gpp_data = readTif(gpp_path)\n",
    "    gpp = gpp_data.ReadAsArray()\n",
    "    gpp_1984_datasets[n, :, :] = gpp\n",
    "\n",
    "dir_1985 = '/data/shuping/data/mean_phenology_gpp_data/mean_gpp/mean_gpp/1985'\n",
    "files = sorted(os.listdir(dir_1985))\n",
    "for n in range(12):\n",
    "    gpp_path = os.path.join(dir_1985, files[n])\n",
    "    print(files[n])\n",
    "    gpp_data = readTif(gpp_path)\n",
    "    gpp = gpp_data.ReadAsArray()\n",
    "    gpp_1985_datasets[n, :, :] = gpp\n",
    "\n",
    "dir_1986 = '/data/shuping/data/mean_phenology_gpp_data/mean_gpp/mean_gpp/1986'\n",
    "files = sorted(os.listdir(dir_1986))\n",
    "for n in range(12):\n",
    "    gpp_path = os.path.join(dir_1986, files[n])\n",
    "    print(files[n])\n",
    "    gpp_data = readTif(gpp_path)\n",
    "    gpp = gpp_data.ReadAsArray()\n",
    "    gpp_1986_datasets[n, :, :] = gpp\n",
    "\n",
    "dir_1987 = '/data/shuping/data/mean_phenology_gpp_data/mean_gpp/mean_gpp/1987'\n",
    "files = sorted(os.listdir(dir_1987))\n",
    "for n in range(12):\n",
    "    gpp_path = os.path.join(dir_1987, files[n])\n",
    "    print(files[n])\n",
    "    gpp_data = readTif(gpp_path)\n",
    "    gpp = gpp_data.ReadAsArray()\n",
    "    gpp_1987_datasets[n, :, :] = gpp\n",
    "\n",
    "dir_1988 = '/data/shuping/data/mean_phenology_gpp_data/mean_gpp/mean_gpp/1988'\n",
    "files = sorted(os.listdir(dir_1988))\n",
    "for n in range(12):\n",
    "    gpp_path = os.path.join(dir_1988, files[n])\n",
    "    print(files[n])\n",
    "    gpp_data = readTif(gpp_path)\n",
    "    gpp = gpp_data.ReadAsArray()\n",
    "    gpp_1988_datasets[n, :, :] = gpp\n",
    "\n",
    "dir_1989 = '/data/shuping/data/mean_phenology_gpp_data/mean_gpp/mean_gpp/1989'\n",
    "files = sorted(os.listdir(dir_1989))\n",
    "for n in range(12):\n",
    "    gpp_path = os.path.join(dir_1989, files[n])\n",
    "    print(files[n])\n",
    "    gpp_data = readTif(gpp_path)\n",
    "    gpp = gpp_data.ReadAsArray()\n",
    "    gpp_1989_datasets[n, :, :] = gpp\n",
    "\n",
    "dir_1990 = '/data/shuping/data/mean_phenology_gpp_data/mean_gpp/mean_gpp/1990'\n",
    "files = sorted(os.listdir(dir_1990))\n",
    "for n in range(12):\n",
    "    gpp_path = os.path.join(dir_1990, files[n])\n",
    "    print(files[n])\n",
    "    gpp_data = readTif(gpp_path)\n",
    "    gpp = gpp_data.ReadAsArray()\n",
    "    gpp_1990_datasets[n, :, :] = gpp\n",
    "\n",
    "dir_1991 = '/data/shuping/data/mean_phenology_gpp_data/mean_gpp/mean_gpp/1991'\n",
    "files = sorted(os.listdir(dir_1991))\n",
    "for n in range(12):\n",
    "    gpp_path = os.path.join(dir_1991, files[n])\n",
    "    print(files[n])\n",
    "    gpp_data = readTif(gpp_path)\n",
    "    gpp = gpp_data.ReadAsArray()\n",
    "    gpp_1991_datasets[n, :, :] = gpp\n",
    "\n",
    "dir_1992 = '/data/shuping/data/mean_phenology_gpp_data/mean_gpp/mean_gpp/1992'\n",
    "files = sorted(os.listdir(dir_1992))\n",
    "for n in range(12):\n",
    "    gpp_path = os.path.join(dir_1992, files[n])\n",
    "    print(files[n])\n",
    "    gpp_data = readTif(gpp_path)\n",
    "    gpp = gpp_data.ReadAsArray()\n",
    "    gpp_1992_datasets[n, :, :] = gpp\n",
    "\n",
    "dir_1993 = '/data/shuping/data/mean_phenology_gpp_data/mean_gpp/mean_gpp/1993'\n",
    "files = sorted(os.listdir(dir_1993))\n",
    "for n in range(12):\n",
    "    gpp_path = os.path.join(dir_1993, files[n])\n",
    "    print(files[n])\n",
    "    gpp_data = readTif(gpp_path)\n",
    "    gpp = gpp_data.ReadAsArray()\n",
    "    gpp_1993_datasets[n, :, :] = gpp\n",
    "\n",
    "dir_1994 = '/data/shuping/data/mean_phenology_gpp_data/mean_gpp/mean_gpp/1994'\n",
    "files = sorted(os.listdir(dir_1994))\n",
    "for n in range(12):\n",
    "    gpp_path = os.path.join(dir_1994, files[n])\n",
    "    print(files[n])\n",
    "    gpp_data = readTif(gpp_path)\n",
    "    gpp = gpp_data.ReadAsArray()\n",
    "    gpp_1994_datasets[n, :, :] = gpp\n",
    "\n",
    "dir_1995 = '/data/shuping/data/mean_phenology_gpp_data/mean_gpp/mean_gpp/1995'\n",
    "files = sorted(os.listdir(dir_1995))\n",
    "for n in range(12):\n",
    "    gpp_path = os.path.join(dir_1995, files[n])\n",
    "    print(files[n])\n",
    "    gpp_data = readTif(gpp_path)\n",
    "    gpp = gpp_data.ReadAsArray()\n",
    "    gpp_1995_datasets[n, :, :] = gpp\n",
    "\n",
    "dir_1996 = '/data/shuping/data/mean_phenology_gpp_data/mean_gpp/mean_gpp/1996'\n",
    "files = sorted(os.listdir(dir_1996))\n",
    "for n in range(12):\n",
    "    gpp_path = os.path.join(dir_1996, files[n])\n",
    "    print(files[n])\n",
    "    gpp_data = readTif(gpp_path)\n",
    "    gpp = gpp_data.ReadAsArray()\n",
    "    gpp_1996_datasets[n, :, :] = gpp\n",
    "\n",
    "dir_1997 = '/data/shuping/data/mean_phenology_gpp_data/mean_gpp/mean_gpp/1997'\n",
    "files = sorted(os.listdir(dir_1997))\n",
    "for n in range(12):\n",
    "    gpp_path = os.path.join(dir_1997, files[n])\n",
    "    print(files[n])\n",
    "    gpp_data = readTif(gpp_path)\n",
    "    gpp = gpp_data.ReadAsArray()\n",
    "    gpp_1997_datasets[n, :, :] = gpp\n",
    "\n",
    "dir_1998 = '/data/shuping/data/mean_phenology_gpp_data/mean_gpp/mean_gpp/1998'\n",
    "files = sorted(os.listdir(dir_1998))\n",
    "for n in range(12):\n",
    "    gpp_path = os.path.join(dir_1998, files[n])\n",
    "    print(files[n])\n",
    "    gpp_data = readTif(gpp_path)\n",
    "    gpp = gpp_data.ReadAsArray()\n",
    "    gpp_1998_datasets[n, :, :] = gpp\n",
    "\n",
    "dir_1999 = '/data/shuping/data/mean_phenology_gpp_data/mean_gpp/mean_gpp/1999'\n",
    "files = sorted(os.listdir(dir_1999))\n",
    "for n in range(12):\n",
    "    gpp_path = os.path.join(dir_1999, files[n])\n",
    "    print(files[n])\n",
    "    gpp_data = readTif(gpp_path)\n",
    "    gpp = gpp_data.ReadAsArray()\n",
    "    gpp_1999_datasets[n, :, :] = gpp\n",
    "\n",
    "dir_2000 = '/data/shuping/data/mean_phenology_gpp_data/mean_gpp/mean_gpp/2000'\n",
    "files = sorted(os.listdir(dir_2000))\n",
    "for n in range(12):\n",
    "    gpp_path = os.path.join(dir_2000, files[n])\n",
    "    print(files[n])\n",
    "    gpp_data = readTif(gpp_path)\n",
    "    gpp = gpp_data.ReadAsArray()\n",
    "    gpp_2000_datasets[n, :, :] = gpp\n",
    "\n",
    "dir_2001 = '/data/shuping/data/mean_phenology_gpp_data/mean_gpp/mean_gpp/2001'\n",
    "files = sorted(os.listdir(dir_2001))\n",
    "for n in range(12):\n",
    "    gpp_path = os.path.join(dir_2001, files[n])\n",
    "    print(files[n])\n",
    "    gpp_data = readTif(gpp_path)\n",
    "    gpp = gpp_data.ReadAsArray()\n",
    "    gpp_2001_datasets[n, :, :] = gpp\n",
    "\n",
    "dir_2002 = '/data/shuping/data/mean_phenology_gpp_data/mean_gpp/mean_gpp/2002'\n",
    "files = sorted(os.listdir(dir_2002))\n",
    "for n in range(12):\n",
    "    gpp_path = os.path.join(dir_2002, files[n])\n",
    "    print(files[n])\n",
    "    gpp_data = readTif(gpp_path)\n",
    "    gpp = gpp_data.ReadAsArray()\n",
    "    gpp_2002_datasets[n, :, :] = gpp\n",
    "\n",
    "dir_2003 = '/data/shuping/data/mean_phenology_gpp_data/mean_gpp/mean_gpp/2003'\n",
    "files = sorted(os.listdir(dir_2003))\n",
    "for n in range(12):\n",
    "    gpp_path = os.path.join(dir_2003, files[n])\n",
    "    print(files[n])\n",
    "    gpp_data = readTif(gpp_path)\n",
    "    gpp = gpp_data.ReadAsArray()\n",
    "    gpp_2003_datasets[n, :, :] = gpp\n",
    "\n",
    "dir_2004 = '/data/shuping/data/mean_phenology_gpp_data/mean_gpp/mean_gpp/2004'\n",
    "files = sorted(os.listdir(dir_2004))\n",
    "for n in range(12):\n",
    "    gpp_path = os.path.join(dir_2004, files[n])\n",
    "    print(files[n])\n",
    "    gpp_data = readTif(gpp_path)\n",
    "    gpp = gpp_data.ReadAsArray()\n",
    "    gpp_2004_datasets[n, :, :] = gpp\n",
    "\n",
    "dir_2005 = '/data/shuping/data/mean_phenology_gpp_data/mean_gpp/mean_gpp/2005'\n",
    "files = sorted(os.listdir(dir_2005))\n",
    "for n in range(12):\n",
    "    gpp_path = os.path.join(dir_2005, files[n])\n",
    "    print(files[n])\n",
    "    gpp_data = readTif(gpp_path)\n",
    "    gpp = gpp_data.ReadAsArray()\n",
    "    gpp_2005_datasets[n, :, :] = gpp\n",
    "\n",
    "dir_2006 = '/data/shuping/data/mean_phenology_gpp_data/mean_gpp/mean_gpp/2006'\n",
    "files = sorted(os.listdir(dir_2006))\n",
    "for n in range(12):\n",
    "    gpp_path = os.path.join(dir_2006, files[n])\n",
    "    print(files[n])\n",
    "    gpp_data = readTif(gpp_path)\n",
    "    gpp = gpp_data.ReadAsArray()\n",
    "    gpp_2006_datasets[n, :, :] = gpp\n",
    "\n",
    "dir_2007 = '/data/shuping/data/mean_phenology_gpp_data/mean_gpp/mean_gpp/2007'\n",
    "files = sorted(os.listdir(dir_2007))\n",
    "for n in range(12):\n",
    "    gpp_path = os.path.join(dir_2007, files[n])\n",
    "    print(files[n])\n",
    "    gpp_data = readTif(gpp_path)\n",
    "    gpp = gpp_data.ReadAsArray()\n",
    "    gpp_2007_datasets[n, :, :] = gpp\n",
    "\n",
    "dir_2008 = '/data/shuping/data/mean_phenology_gpp_data/mean_gpp/mean_gpp/2008'\n",
    "files = sorted(os.listdir(dir_2008))\n",
    "for n in range(12):\n",
    "    gpp_path = os.path.join(dir_2008, files[n])\n",
    "    print(files[n])\n",
    "    gpp_data = readTif(gpp_path)\n",
    "    gpp = gpp_data.ReadAsArray()\n",
    "    gpp_2008_datasets[n, :, :] = gpp\n",
    "\n",
    "dir_2009 = '/data/shuping/data/mean_phenology_gpp_data/mean_gpp/mean_gpp/2009'\n",
    "files = sorted(os.listdir(dir_2009))\n",
    "for n in range(12):\n",
    "    gpp_path = os.path.join(dir_2009, files[n])\n",
    "    print(files[n])\n",
    "    gpp_data = readTif(gpp_path)\n",
    "    gpp = gpp_data.ReadAsArray()\n",
    "    gpp_2009_datasets[n, :, :] = gpp\n",
    "\n",
    "dir_2010 = '/data/shuping/data/mean_phenology_gpp_data/mean_gpp/mean_gpp/2010'\n",
    "files = sorted(os.listdir(dir_2010))\n",
    "for n in range(12):\n",
    "    gpp_path = os.path.join(dir_2010, files[n])\n",
    "    print(files[n])\n",
    "    gpp_data = readTif(gpp_path)\n",
    "    gpp = gpp_data.ReadAsArray()\n",
    "    gpp_2010_datasets[n, :, :] = gpp\n",
    "\n",
    "dir_2011 = '/data/shuping/data/mean_phenology_gpp_data/mean_gpp/mean_gpp/2011'\n",
    "files = sorted(os.listdir(dir_2011))\n",
    "for n in range(12):\n",
    "    gpp_path = os.path.join(dir_2011, files[n])\n",
    "    print(files[n])\n",
    "    gpp_data = readTif(gpp_path)\n",
    "    gpp = gpp_data.ReadAsArray()\n",
    "    gpp_2011_datasets[n, :, :] = gpp\n",
    "\n",
    "dir_2012 = '/data/shuping/data/mean_phenology_gpp_data/mean_gpp/mean_gpp/2012'\n",
    "files = sorted(os.listdir(dir_2012))\n",
    "for n in range(12):\n",
    "    gpp_path = os.path.join(dir_2012, files[n])\n",
    "    print(files[n])\n",
    "    gpp_data = readTif(gpp_path)\n",
    "    gpp = gpp_data.ReadAsArray()\n",
    "    gpp_2012_datasets[n, :, :] = gpp\n",
    "\n",
    "dir_2013 = '/data/shuping/data/mean_phenology_gpp_data/mean_gpp/mean_gpp/2013'\n",
    "files = sorted(os.listdir(dir_2013))\n",
    "for n in range(12):\n",
    "    gpp_path = os.path.join(dir_2013, files[n])\n",
    "    print(files[n])\n",
    "    gpp_data = readTif(gpp_path)\n",
    "    gpp = gpp_data.ReadAsArray()\n",
    "    gpp_2013_datasets[n, :, :] = gpp\n",
    "\n",
    "dir_2014 = '/data/shuping/data/mean_phenology_gpp_data/mean_gpp/mean_gpp/2014'\n",
    "files = sorted(os.listdir(dir_2014))\n",
    "for n in range(12):\n",
    "    gpp_path = os.path.join(dir_2014, files[n])\n",
    "    print(files[n])\n",
    "    gpp_data = readTif(gpp_path)\n",
    "    gpp = gpp_data.ReadAsArray()\n",
    "    gpp_2014_datasets[n, :, :] = gpp"
   ],
   "metadata": {
    "collapsed": false,
    "pycharm": {
     "name": "#%%\n"
    }
   }
  },
  {
   "cell_type": "code",
   "execution_count": 101,
   "outputs": [
    {
     "data": {
      "text/plain": "(12, 120, 720)"
     },
     "execution_count": 101,
     "metadata": {},
     "output_type": "execute_result"
    }
   ],
   "source": [
    "gpp_datasets = [gpp_1982_datasets, gpp_1983_datasets, gpp_1984_datasets, gpp_1985_datasets, gpp_1986_datasets, gpp_1987_datasets, gpp_1988_datasets, gpp_1989_datasets,\n",
    "                gpp_1990_datasets, gpp_1991_datasets, gpp_1992_datasets, gpp_1993_datasets, gpp_1994_datasets, gpp_1995_datasets, gpp_1996_datasets, gpp_1997_datasets,\n",
    "                gpp_1998_datasets, gpp_1999_datasets, gpp_2000_datasets, gpp_2001_datasets, gpp_2002_datasets, gpp_2003_datasets, gpp_2004_datasets, gpp_2005_datasets,\n",
    "                gpp_2006_datasets, gpp_2007_datasets, gpp_2008_datasets, gpp_2009_datasets, gpp_2010_datasets, gpp_2011_datasets, gpp_2012_datasets, gpp_2013_datasets,\n",
    "                gpp_2014_datasets]\n",
    "gpp_datasets[0].shape"
   ],
   "metadata": {
    "collapsed": false,
    "pycharm": {
     "name": "#%%\n"
    }
   }
  },
  {
   "cell_type": "markdown",
   "source": [
    "##woody"
   ],
   "metadata": {
    "collapsed": false,
    "pycharm": {
     "name": "#%% md\n"
    }
   }
  },
  {
   "cell_type": "code",
   "execution_count": 204,
   "outputs": [
    {
     "data": {
      "text/plain": "      site veg_type  multi_sos  multi_eos    lat     lon  col  row  flag\n0    50639       榆树          4          9  48.00  122.73  605   84     0\n1    50655      中东杨          4          9  48.50  126.18  612   83     0\n3    50756      小叶杨          4          9  47.43  126.97  613   85     0\n2    50756      紫丁香          4          9  47.43  126.97  613   85     0\n4    50779     加拿大杨          4          9  48.36  134.28  628   83     0\n..     ...      ...        ...        ...    ...     ...  ...  ...   ...\n480  58339       楝树          3         10  31.32  118.88  597  117     0\n481  58346       梧桐          4         10  31.36  119.81  599  117     0\n482  58356       水杉          3         10  31.41  120.95  601  117     0\n483  58433       刺槐          3          9  30.93  118.75  597  118     0\n484  58433       楝树          3         10  30.93  118.75  597  118     0\n\n[485 rows x 9 columns]",
      "text/html": "<div>\n<style scoped>\n    .dataframe tbody tr th:only-of-type {\n        vertical-align: middle;\n    }\n\n    .dataframe tbody tr th {\n        vertical-align: top;\n    }\n\n    .dataframe thead th {\n        text-align: right;\n    }\n</style>\n<table border=\"1\" class=\"dataframe\">\n  <thead>\n    <tr style=\"text-align: right;\">\n      <th></th>\n      <th>site</th>\n      <th>veg_type</th>\n      <th>multi_sos</th>\n      <th>multi_eos</th>\n      <th>lat</th>\n      <th>lon</th>\n      <th>col</th>\n      <th>row</th>\n      <th>flag</th>\n    </tr>\n  </thead>\n  <tbody>\n    <tr>\n      <th>0</th>\n      <td>50639</td>\n      <td>榆树</td>\n      <td>4</td>\n      <td>9</td>\n      <td>48.00</td>\n      <td>122.73</td>\n      <td>605</td>\n      <td>84</td>\n      <td>0</td>\n    </tr>\n    <tr>\n      <th>1</th>\n      <td>50655</td>\n      <td>中东杨</td>\n      <td>4</td>\n      <td>9</td>\n      <td>48.50</td>\n      <td>126.18</td>\n      <td>612</td>\n      <td>83</td>\n      <td>0</td>\n    </tr>\n    <tr>\n      <th>3</th>\n      <td>50756</td>\n      <td>小叶杨</td>\n      <td>4</td>\n      <td>9</td>\n      <td>47.43</td>\n      <td>126.97</td>\n      <td>613</td>\n      <td>85</td>\n      <td>0</td>\n    </tr>\n    <tr>\n      <th>2</th>\n      <td>50756</td>\n      <td>紫丁香</td>\n      <td>4</td>\n      <td>9</td>\n      <td>47.43</td>\n      <td>126.97</td>\n      <td>613</td>\n      <td>85</td>\n      <td>0</td>\n    </tr>\n    <tr>\n      <th>4</th>\n      <td>50779</td>\n      <td>加拿大杨</td>\n      <td>4</td>\n      <td>9</td>\n      <td>48.36</td>\n      <td>134.28</td>\n      <td>628</td>\n      <td>83</td>\n      <td>0</td>\n    </tr>\n    <tr>\n      <th>...</th>\n      <td>...</td>\n      <td>...</td>\n      <td>...</td>\n      <td>...</td>\n      <td>...</td>\n      <td>...</td>\n      <td>...</td>\n      <td>...</td>\n      <td>...</td>\n    </tr>\n    <tr>\n      <th>480</th>\n      <td>58339</td>\n      <td>楝树</td>\n      <td>3</td>\n      <td>10</td>\n      <td>31.32</td>\n      <td>118.88</td>\n      <td>597</td>\n      <td>117</td>\n      <td>0</td>\n    </tr>\n    <tr>\n      <th>481</th>\n      <td>58346</td>\n      <td>梧桐</td>\n      <td>4</td>\n      <td>10</td>\n      <td>31.36</td>\n      <td>119.81</td>\n      <td>599</td>\n      <td>117</td>\n      <td>0</td>\n    </tr>\n    <tr>\n      <th>482</th>\n      <td>58356</td>\n      <td>水杉</td>\n      <td>3</td>\n      <td>10</td>\n      <td>31.41</td>\n      <td>120.95</td>\n      <td>601</td>\n      <td>117</td>\n      <td>0</td>\n    </tr>\n    <tr>\n      <th>483</th>\n      <td>58433</td>\n      <td>刺槐</td>\n      <td>3</td>\n      <td>9</td>\n      <td>30.93</td>\n      <td>118.75</td>\n      <td>597</td>\n      <td>118</td>\n      <td>0</td>\n    </tr>\n    <tr>\n      <th>484</th>\n      <td>58433</td>\n      <td>楝树</td>\n      <td>3</td>\n      <td>10</td>\n      <td>30.93</td>\n      <td>118.75</td>\n      <td>597</td>\n      <td>118</td>\n      <td>0</td>\n    </tr>\n  </tbody>\n</table>\n<p>485 rows × 9 columns</p>\n</div>"
     },
     "execution_count": 204,
     "metadata": {},
     "output_type": "execute_result"
    }
   ],
   "source": [
    "path = '/data/shuping/data/china_phenology/partial_corr/woody/site_lat_lon_multi_eos.csv'\n",
    "df = pd.read_csv(path)\n",
    "df = df.drop(['Unnamed: 0'], axis=1)\n",
    "df = df.sort_values(by=['site','veg_type'], ascending=True)\n",
    "df['flag'] = 0\n",
    "df"
   ],
   "metadata": {
    "collapsed": false,
    "pycharm": {
     "name": "#%%\n"
    }
   }
  },
  {
   "cell_type": "code",
   "execution_count": 91,
   "outputs": [
    {
     "name": "stderr",
     "output_type": "stream",
     "text": [
      "/home/sdu-w-001/anaconda3/envs/jsp_gdal/lib/python3.7/site-packages/ipykernel_launcher.py:9: SettingWithCopyWarning: \n",
      "A value is trying to be set on a copy of a slice from a DataFrame\n",
      "\n",
      "See the caveats in the documentation: https://pandas.pydata.org/pandas-docs/stable/user_guide/indexing.html#returning-a-view-versus-a-copy\n",
      "  if __name__ == '__main__':\n"
     ]
    },
    {
     "data": {
      "text/plain": "      site veg_type  multi_sos  multi_eos    lat     lon  col  row  flag\n0    50639       榆树          4          9  48.00  122.73  605   84     1\n1    50655      中东杨          4          9  48.50  126.18  612   83     1\n3    50756      小叶杨          4          9  47.43  126.97  613   85     1\n2    50756      紫丁香          4          9  47.43  126.97  613   85     1\n5    50788      小叶杨          4          9  47.23  131.98  623   85     1\n..     ...      ...        ...        ...    ...     ...  ...  ...   ...\n480  58339       楝树          3         10  31.32  118.88  597  117     1\n481  58346       梧桐          4         10  31.36  119.81  599  117     1\n482  58356       水杉          3         10  31.41  120.95  601  117     1\n483  58433       刺槐          3          9  30.93  118.75  597  118     1\n484  58433       楝树          3         10  30.93  118.75  597  118     1\n\n[295 rows x 9 columns]",
      "text/html": "<div>\n<style scoped>\n    .dataframe tbody tr th:only-of-type {\n        vertical-align: middle;\n    }\n\n    .dataframe tbody tr th {\n        vertical-align: top;\n    }\n\n    .dataframe thead th {\n        text-align: right;\n    }\n</style>\n<table border=\"1\" class=\"dataframe\">\n  <thead>\n    <tr style=\"text-align: right;\">\n      <th></th>\n      <th>site</th>\n      <th>veg_type</th>\n      <th>multi_sos</th>\n      <th>multi_eos</th>\n      <th>lat</th>\n      <th>lon</th>\n      <th>col</th>\n      <th>row</th>\n      <th>flag</th>\n    </tr>\n  </thead>\n  <tbody>\n    <tr>\n      <th>0</th>\n      <td>50639</td>\n      <td>榆树</td>\n      <td>4</td>\n      <td>9</td>\n      <td>48.00</td>\n      <td>122.73</td>\n      <td>605</td>\n      <td>84</td>\n      <td>1</td>\n    </tr>\n    <tr>\n      <th>1</th>\n      <td>50655</td>\n      <td>中东杨</td>\n      <td>4</td>\n      <td>9</td>\n      <td>48.50</td>\n      <td>126.18</td>\n      <td>612</td>\n      <td>83</td>\n      <td>1</td>\n    </tr>\n    <tr>\n      <th>3</th>\n      <td>50756</td>\n      <td>小叶杨</td>\n      <td>4</td>\n      <td>9</td>\n      <td>47.43</td>\n      <td>126.97</td>\n      <td>613</td>\n      <td>85</td>\n      <td>1</td>\n    </tr>\n    <tr>\n      <th>2</th>\n      <td>50756</td>\n      <td>紫丁香</td>\n      <td>4</td>\n      <td>9</td>\n      <td>47.43</td>\n      <td>126.97</td>\n      <td>613</td>\n      <td>85</td>\n      <td>1</td>\n    </tr>\n    <tr>\n      <th>5</th>\n      <td>50788</td>\n      <td>小叶杨</td>\n      <td>4</td>\n      <td>9</td>\n      <td>47.23</td>\n      <td>131.98</td>\n      <td>623</td>\n      <td>85</td>\n      <td>1</td>\n    </tr>\n    <tr>\n      <th>...</th>\n      <td>...</td>\n      <td>...</td>\n      <td>...</td>\n      <td>...</td>\n      <td>...</td>\n      <td>...</td>\n      <td>...</td>\n      <td>...</td>\n      <td>...</td>\n    </tr>\n    <tr>\n      <th>480</th>\n      <td>58339</td>\n      <td>楝树</td>\n      <td>3</td>\n      <td>10</td>\n      <td>31.32</td>\n      <td>118.88</td>\n      <td>597</td>\n      <td>117</td>\n      <td>1</td>\n    </tr>\n    <tr>\n      <th>481</th>\n      <td>58346</td>\n      <td>梧桐</td>\n      <td>4</td>\n      <td>10</td>\n      <td>31.36</td>\n      <td>119.81</td>\n      <td>599</td>\n      <td>117</td>\n      <td>1</td>\n    </tr>\n    <tr>\n      <th>482</th>\n      <td>58356</td>\n      <td>水杉</td>\n      <td>3</td>\n      <td>10</td>\n      <td>31.41</td>\n      <td>120.95</td>\n      <td>601</td>\n      <td>117</td>\n      <td>1</td>\n    </tr>\n    <tr>\n      <th>483</th>\n      <td>58433</td>\n      <td>刺槐</td>\n      <td>3</td>\n      <td>9</td>\n      <td>30.93</td>\n      <td>118.75</td>\n      <td>597</td>\n      <td>118</td>\n      <td>1</td>\n    </tr>\n    <tr>\n      <th>484</th>\n      <td>58433</td>\n      <td>楝树</td>\n      <td>3</td>\n      <td>10</td>\n      <td>30.93</td>\n      <td>118.75</td>\n      <td>597</td>\n      <td>118</td>\n      <td>1</td>\n    </tr>\n  </tbody>\n</table>\n<p>295 rows × 9 columns</p>\n</div>"
     },
     "execution_count": 91,
     "metadata": {},
     "output_type": "execute_result"
    }
   ],
   "source": [
    "dir = '/data/shuping/data/china_phenology/partial_corr/woody/highest_corr_cliamte_series'\n",
    "files = sorted(os.listdir(dir))\n",
    "for file in files:\n",
    "    (name, ext) = os.path.splitext(file)\n",
    "    id = name[0:5]\n",
    "    species = name[6:8]\n",
    "    for j in range(485):\n",
    "        if int(df.site[j]) == int(id) and str(df.veg_type[j][0:2]) == str(species):\n",
    "            df.flag[j] = 1\n",
    "df = df[df['flag'] == 1]\n",
    "df"
   ],
   "metadata": {
    "collapsed": false,
    "pycharm": {
     "name": "#%%\n"
    }
   }
  },
  {
   "cell_type": "code",
   "execution_count": 92,
   "outputs": [
    {
     "data": {
      "text/plain": "      site veg_type  multi_sos  multi_eos    lat     lon  col  row\n0    50639       榆树          4          9  48.00  122.73  605   84\n1    50655      中东杨          4          9  48.50  126.18  612   83\n2    50756      小叶杨          4          9  47.43  126.97  613   85\n3    50756      紫丁香          4          9  47.43  126.97  613   85\n4    50788      小叶杨          4          9  47.23  131.98  623   85\n..     ...      ...        ...        ...    ...     ...  ...  ...\n290  58339       楝树          3         10  31.32  118.88  597  117\n291  58346       梧桐          4         10  31.36  119.81  599  117\n292  58356       水杉          3         10  31.41  120.95  601  117\n293  58433       刺槐          3          9  30.93  118.75  597  118\n294  58433       楝树          3         10  30.93  118.75  597  118\n\n[295 rows x 8 columns]",
      "text/html": "<div>\n<style scoped>\n    .dataframe tbody tr th:only-of-type {\n        vertical-align: middle;\n    }\n\n    .dataframe tbody tr th {\n        vertical-align: top;\n    }\n\n    .dataframe thead th {\n        text-align: right;\n    }\n</style>\n<table border=\"1\" class=\"dataframe\">\n  <thead>\n    <tr style=\"text-align: right;\">\n      <th></th>\n      <th>site</th>\n      <th>veg_type</th>\n      <th>multi_sos</th>\n      <th>multi_eos</th>\n      <th>lat</th>\n      <th>lon</th>\n      <th>col</th>\n      <th>row</th>\n    </tr>\n  </thead>\n  <tbody>\n    <tr>\n      <th>0</th>\n      <td>50639</td>\n      <td>榆树</td>\n      <td>4</td>\n      <td>9</td>\n      <td>48.00</td>\n      <td>122.73</td>\n      <td>605</td>\n      <td>84</td>\n    </tr>\n    <tr>\n      <th>1</th>\n      <td>50655</td>\n      <td>中东杨</td>\n      <td>4</td>\n      <td>9</td>\n      <td>48.50</td>\n      <td>126.18</td>\n      <td>612</td>\n      <td>83</td>\n    </tr>\n    <tr>\n      <th>2</th>\n      <td>50756</td>\n      <td>小叶杨</td>\n      <td>4</td>\n      <td>9</td>\n      <td>47.43</td>\n      <td>126.97</td>\n      <td>613</td>\n      <td>85</td>\n    </tr>\n    <tr>\n      <th>3</th>\n      <td>50756</td>\n      <td>紫丁香</td>\n      <td>4</td>\n      <td>9</td>\n      <td>47.43</td>\n      <td>126.97</td>\n      <td>613</td>\n      <td>85</td>\n    </tr>\n    <tr>\n      <th>4</th>\n      <td>50788</td>\n      <td>小叶杨</td>\n      <td>4</td>\n      <td>9</td>\n      <td>47.23</td>\n      <td>131.98</td>\n      <td>623</td>\n      <td>85</td>\n    </tr>\n    <tr>\n      <th>...</th>\n      <td>...</td>\n      <td>...</td>\n      <td>...</td>\n      <td>...</td>\n      <td>...</td>\n      <td>...</td>\n      <td>...</td>\n      <td>...</td>\n    </tr>\n    <tr>\n      <th>290</th>\n      <td>58339</td>\n      <td>楝树</td>\n      <td>3</td>\n      <td>10</td>\n      <td>31.32</td>\n      <td>118.88</td>\n      <td>597</td>\n      <td>117</td>\n    </tr>\n    <tr>\n      <th>291</th>\n      <td>58346</td>\n      <td>梧桐</td>\n      <td>4</td>\n      <td>10</td>\n      <td>31.36</td>\n      <td>119.81</td>\n      <td>599</td>\n      <td>117</td>\n    </tr>\n    <tr>\n      <th>292</th>\n      <td>58356</td>\n      <td>水杉</td>\n      <td>3</td>\n      <td>10</td>\n      <td>31.41</td>\n      <td>120.95</td>\n      <td>601</td>\n      <td>117</td>\n    </tr>\n    <tr>\n      <th>293</th>\n      <td>58433</td>\n      <td>刺槐</td>\n      <td>3</td>\n      <td>9</td>\n      <td>30.93</td>\n      <td>118.75</td>\n      <td>597</td>\n      <td>118</td>\n    </tr>\n    <tr>\n      <th>294</th>\n      <td>58433</td>\n      <td>楝树</td>\n      <td>3</td>\n      <td>10</td>\n      <td>30.93</td>\n      <td>118.75</td>\n      <td>597</td>\n      <td>118</td>\n    </tr>\n  </tbody>\n</table>\n<p>295 rows × 8 columns</p>\n</div>"
     },
     "execution_count": 92,
     "metadata": {},
     "output_type": "execute_result"
    }
   ],
   "source": [
    "df = df.reset_index(drop=True)\n",
    "df = df.drop(['flag'], axis = 1)\n",
    "df"
   ],
   "metadata": {
    "collapsed": false,
    "pycharm": {
     "name": "#%%\n"
    }
   }
  },
  {
   "cell_type": "code",
   "execution_count": 93,
   "outputs": [],
   "source": [
    "df.to_csv('/data/shuping/data/china_phenology/partial_corr/woody/site_lat_lon_multi_eos_match_climate.csv')"
   ],
   "metadata": {
    "collapsed": false,
    "pycharm": {
     "name": "#%%\n"
    }
   }
  },
  {
   "cell_type": "code",
   "execution_count": 94,
   "outputs": [
    {
     "data": {
      "text/plain": "      site veg_type  multi_sos  multi_eos    lat     lon  col  row\n0    50639       榆树          4          9  48.00  122.73  605   84\n1    50655      中东杨          4          9  48.50  126.18  612   83\n2    50756      小叶杨          4          9  47.43  126.97  613   85\n3    50756      紫丁香          4          9  47.43  126.97  613   85\n4    50788      小叶杨          4          9  47.23  131.98  623   85\n..     ...      ...        ...        ...    ...     ...  ...  ...\n290  58339       楝树          3         10  31.32  118.88  597  117\n291  58346       梧桐          4         10  31.36  119.81  599  117\n292  58356       水杉          3         10  31.41  120.95  601  117\n293  58433       刺槐          3          9  30.93  118.75  597  118\n294  58433       楝树          3         10  30.93  118.75  597  118\n\n[295 rows x 8 columns]",
      "text/html": "<div>\n<style scoped>\n    .dataframe tbody tr th:only-of-type {\n        vertical-align: middle;\n    }\n\n    .dataframe tbody tr th {\n        vertical-align: top;\n    }\n\n    .dataframe thead th {\n        text-align: right;\n    }\n</style>\n<table border=\"1\" class=\"dataframe\">\n  <thead>\n    <tr style=\"text-align: right;\">\n      <th></th>\n      <th>site</th>\n      <th>veg_type</th>\n      <th>multi_sos</th>\n      <th>multi_eos</th>\n      <th>lat</th>\n      <th>lon</th>\n      <th>col</th>\n      <th>row</th>\n    </tr>\n  </thead>\n  <tbody>\n    <tr>\n      <th>0</th>\n      <td>50639</td>\n      <td>榆树</td>\n      <td>4</td>\n      <td>9</td>\n      <td>48.00</td>\n      <td>122.73</td>\n      <td>605</td>\n      <td>84</td>\n    </tr>\n    <tr>\n      <th>1</th>\n      <td>50655</td>\n      <td>中东杨</td>\n      <td>4</td>\n      <td>9</td>\n      <td>48.50</td>\n      <td>126.18</td>\n      <td>612</td>\n      <td>83</td>\n    </tr>\n    <tr>\n      <th>2</th>\n      <td>50756</td>\n      <td>小叶杨</td>\n      <td>4</td>\n      <td>9</td>\n      <td>47.43</td>\n      <td>126.97</td>\n      <td>613</td>\n      <td>85</td>\n    </tr>\n    <tr>\n      <th>3</th>\n      <td>50756</td>\n      <td>紫丁香</td>\n      <td>4</td>\n      <td>9</td>\n      <td>47.43</td>\n      <td>126.97</td>\n      <td>613</td>\n      <td>85</td>\n    </tr>\n    <tr>\n      <th>4</th>\n      <td>50788</td>\n      <td>小叶杨</td>\n      <td>4</td>\n      <td>9</td>\n      <td>47.23</td>\n      <td>131.98</td>\n      <td>623</td>\n      <td>85</td>\n    </tr>\n    <tr>\n      <th>...</th>\n      <td>...</td>\n      <td>...</td>\n      <td>...</td>\n      <td>...</td>\n      <td>...</td>\n      <td>...</td>\n      <td>...</td>\n      <td>...</td>\n    </tr>\n    <tr>\n      <th>290</th>\n      <td>58339</td>\n      <td>楝树</td>\n      <td>3</td>\n      <td>10</td>\n      <td>31.32</td>\n      <td>118.88</td>\n      <td>597</td>\n      <td>117</td>\n    </tr>\n    <tr>\n      <th>291</th>\n      <td>58346</td>\n      <td>梧桐</td>\n      <td>4</td>\n      <td>10</td>\n      <td>31.36</td>\n      <td>119.81</td>\n      <td>599</td>\n      <td>117</td>\n    </tr>\n    <tr>\n      <th>292</th>\n      <td>58356</td>\n      <td>水杉</td>\n      <td>3</td>\n      <td>10</td>\n      <td>31.41</td>\n      <td>120.95</td>\n      <td>601</td>\n      <td>117</td>\n    </tr>\n    <tr>\n      <th>293</th>\n      <td>58433</td>\n      <td>刺槐</td>\n      <td>3</td>\n      <td>9</td>\n      <td>30.93</td>\n      <td>118.75</td>\n      <td>597</td>\n      <td>118</td>\n    </tr>\n    <tr>\n      <th>294</th>\n      <td>58433</td>\n      <td>楝树</td>\n      <td>3</td>\n      <td>10</td>\n      <td>30.93</td>\n      <td>118.75</td>\n      <td>597</td>\n      <td>118</td>\n    </tr>\n  </tbody>\n</table>\n<p>295 rows × 8 columns</p>\n</div>"
     },
     "execution_count": 94,
     "metadata": {},
     "output_type": "execute_result"
    }
   ],
   "source": [
    "path = '/data/shuping/data/china_phenology/partial_corr/woody/site_lat_lon_multi_eos_match_climate.csv'\n",
    "df = pd.read_csv(path)\n",
    "df = df.drop(['Unnamed: 0'], axis=1)\n",
    "df"
   ],
   "metadata": {
    "collapsed": false,
    "pycharm": {
     "name": "#%%\n"
    }
   }
  },
  {
   "cell_type": "code",
   "execution_count": 96,
   "outputs": [
    {
     "data": {
      "text/plain": "    Unnamed: 0  year   site species    sos    eos      tmean         pre  \\\n0            0  1983  50639      榆树  135.0  277.0  17.233334  115.799999   \n1            1  1984  50639      榆树  135.0  254.0  17.000001  165.200001   \n2            2  1985  50639      榆树  126.0  278.0  16.833333  231.800003   \n3            3  1986  50639      榆树  126.0  288.0  17.166667  115.500000   \n4            4  1987  50639      榆树  128.0  291.0  16.866667  214.700005   \n5            5  1988  50639      榆树  131.0  280.0  18.100000  136.600002   \n6            6  1989  50639      榆树  123.0  275.0  17.000000  104.500000   \n7            7  1990  50639      榆树  118.0  272.0  17.166667  180.900002   \n8            8  1991  50639      榆树  119.0  284.0  17.400000  140.500004   \n9            9  1992  50639      榆树  118.0  271.0  16.700001  152.800003   \n10          10  1993  50639      榆树  115.0  269.0  17.433334  169.600002   \n11          11  1994  50639      榆树  113.0  267.0  18.433334  161.400002   \n12          12  1995  50639      榆树  115.0  281.0  17.366667   91.700001   \n13          13  1996  50639      榆树  125.0  277.0  17.333334   91.100001   \n14          14  1997  50639      榆树  121.0  280.0  17.633334  198.899998   \n15          15  1998  50639      榆树  123.0  275.0  18.333334  244.300007   \n16          16  1999  50639      榆树  123.0  276.0  18.100001  149.200010   \n17          17  2000  50639      榆树  121.0  275.0  19.333334   84.000002   \n18          18  2001  50639      榆树  126.0  276.0  18.500000   63.000001   \n19          19  2002  50639      榆树  117.0  270.0  18.500000   76.600003   \n20          20  2003  50639      榆树  121.0  278.0  17.066667  195.100002   \n21          21  2004  50639      榆树  124.0  284.0  18.300000  128.199999   \n22          22  2005  50639      榆树  130.0  281.0  18.433333   78.500002   \n\n          solr          sm  \n0   645.546280  270.523234  \n1   647.832962  250.370326  \n2   647.405380  256.032837  \n3   659.189575  289.029714  \n4   644.391266  218.578237  \n5   657.287521  297.282237  \n6   678.293991  265.660772  \n7   660.897598  264.429260  \n8   655.922714  299.025991  \n9   675.155487  204.532079  \n10  642.854233  288.362813  \n11  675.214142  245.332647  \n12  694.045502  184.549042  \n13  661.987473  222.739100  \n14  647.282974  176.569270  \n15  613.653946  282.293966  \n16  663.024063  247.237478  \n17  677.816696  195.275243  \n18  672.271652  157.325729  \n19  682.406769  162.178396  \n20  630.749481  280.211726  \n21  673.504379  179.803136  \n22  645.645721  226.537130  ",
      "text/html": "<div>\n<style scoped>\n    .dataframe tbody tr th:only-of-type {\n        vertical-align: middle;\n    }\n\n    .dataframe tbody tr th {\n        vertical-align: top;\n    }\n\n    .dataframe thead th {\n        text-align: right;\n    }\n</style>\n<table border=\"1\" class=\"dataframe\">\n  <thead>\n    <tr style=\"text-align: right;\">\n      <th></th>\n      <th>Unnamed: 0</th>\n      <th>year</th>\n      <th>site</th>\n      <th>species</th>\n      <th>sos</th>\n      <th>eos</th>\n      <th>tmean</th>\n      <th>pre</th>\n      <th>solr</th>\n      <th>sm</th>\n    </tr>\n  </thead>\n  <tbody>\n    <tr>\n      <th>0</th>\n      <td>0</td>\n      <td>1983</td>\n      <td>50639</td>\n      <td>榆树</td>\n      <td>135.0</td>\n      <td>277.0</td>\n      <td>17.233334</td>\n      <td>115.799999</td>\n      <td>645.546280</td>\n      <td>270.523234</td>\n    </tr>\n    <tr>\n      <th>1</th>\n      <td>1</td>\n      <td>1984</td>\n      <td>50639</td>\n      <td>榆树</td>\n      <td>135.0</td>\n      <td>254.0</td>\n      <td>17.000001</td>\n      <td>165.200001</td>\n      <td>647.832962</td>\n      <td>250.370326</td>\n    </tr>\n    <tr>\n      <th>2</th>\n      <td>2</td>\n      <td>1985</td>\n      <td>50639</td>\n      <td>榆树</td>\n      <td>126.0</td>\n      <td>278.0</td>\n      <td>16.833333</td>\n      <td>231.800003</td>\n      <td>647.405380</td>\n      <td>256.032837</td>\n    </tr>\n    <tr>\n      <th>3</th>\n      <td>3</td>\n      <td>1986</td>\n      <td>50639</td>\n      <td>榆树</td>\n      <td>126.0</td>\n      <td>288.0</td>\n      <td>17.166667</td>\n      <td>115.500000</td>\n      <td>659.189575</td>\n      <td>289.029714</td>\n    </tr>\n    <tr>\n      <th>4</th>\n      <td>4</td>\n      <td>1987</td>\n      <td>50639</td>\n      <td>榆树</td>\n      <td>128.0</td>\n      <td>291.0</td>\n      <td>16.866667</td>\n      <td>214.700005</td>\n      <td>644.391266</td>\n      <td>218.578237</td>\n    </tr>\n    <tr>\n      <th>5</th>\n      <td>5</td>\n      <td>1988</td>\n      <td>50639</td>\n      <td>榆树</td>\n      <td>131.0</td>\n      <td>280.0</td>\n      <td>18.100000</td>\n      <td>136.600002</td>\n      <td>657.287521</td>\n      <td>297.282237</td>\n    </tr>\n    <tr>\n      <th>6</th>\n      <td>6</td>\n      <td>1989</td>\n      <td>50639</td>\n      <td>榆树</td>\n      <td>123.0</td>\n      <td>275.0</td>\n      <td>17.000000</td>\n      <td>104.500000</td>\n      <td>678.293991</td>\n      <td>265.660772</td>\n    </tr>\n    <tr>\n      <th>7</th>\n      <td>7</td>\n      <td>1990</td>\n      <td>50639</td>\n      <td>榆树</td>\n      <td>118.0</td>\n      <td>272.0</td>\n      <td>17.166667</td>\n      <td>180.900002</td>\n      <td>660.897598</td>\n      <td>264.429260</td>\n    </tr>\n    <tr>\n      <th>8</th>\n      <td>8</td>\n      <td>1991</td>\n      <td>50639</td>\n      <td>榆树</td>\n      <td>119.0</td>\n      <td>284.0</td>\n      <td>17.400000</td>\n      <td>140.500004</td>\n      <td>655.922714</td>\n      <td>299.025991</td>\n    </tr>\n    <tr>\n      <th>9</th>\n      <td>9</td>\n      <td>1992</td>\n      <td>50639</td>\n      <td>榆树</td>\n      <td>118.0</td>\n      <td>271.0</td>\n      <td>16.700001</td>\n      <td>152.800003</td>\n      <td>675.155487</td>\n      <td>204.532079</td>\n    </tr>\n    <tr>\n      <th>10</th>\n      <td>10</td>\n      <td>1993</td>\n      <td>50639</td>\n      <td>榆树</td>\n      <td>115.0</td>\n      <td>269.0</td>\n      <td>17.433334</td>\n      <td>169.600002</td>\n      <td>642.854233</td>\n      <td>288.362813</td>\n    </tr>\n    <tr>\n      <th>11</th>\n      <td>11</td>\n      <td>1994</td>\n      <td>50639</td>\n      <td>榆树</td>\n      <td>113.0</td>\n      <td>267.0</td>\n      <td>18.433334</td>\n      <td>161.400002</td>\n      <td>675.214142</td>\n      <td>245.332647</td>\n    </tr>\n    <tr>\n      <th>12</th>\n      <td>12</td>\n      <td>1995</td>\n      <td>50639</td>\n      <td>榆树</td>\n      <td>115.0</td>\n      <td>281.0</td>\n      <td>17.366667</td>\n      <td>91.700001</td>\n      <td>694.045502</td>\n      <td>184.549042</td>\n    </tr>\n    <tr>\n      <th>13</th>\n      <td>13</td>\n      <td>1996</td>\n      <td>50639</td>\n      <td>榆树</td>\n      <td>125.0</td>\n      <td>277.0</td>\n      <td>17.333334</td>\n      <td>91.100001</td>\n      <td>661.987473</td>\n      <td>222.739100</td>\n    </tr>\n    <tr>\n      <th>14</th>\n      <td>14</td>\n      <td>1997</td>\n      <td>50639</td>\n      <td>榆树</td>\n      <td>121.0</td>\n      <td>280.0</td>\n      <td>17.633334</td>\n      <td>198.899998</td>\n      <td>647.282974</td>\n      <td>176.569270</td>\n    </tr>\n    <tr>\n      <th>15</th>\n      <td>15</td>\n      <td>1998</td>\n      <td>50639</td>\n      <td>榆树</td>\n      <td>123.0</td>\n      <td>275.0</td>\n      <td>18.333334</td>\n      <td>244.300007</td>\n      <td>613.653946</td>\n      <td>282.293966</td>\n    </tr>\n    <tr>\n      <th>16</th>\n      <td>16</td>\n      <td>1999</td>\n      <td>50639</td>\n      <td>榆树</td>\n      <td>123.0</td>\n      <td>276.0</td>\n      <td>18.100001</td>\n      <td>149.200010</td>\n      <td>663.024063</td>\n      <td>247.237478</td>\n    </tr>\n    <tr>\n      <th>17</th>\n      <td>17</td>\n      <td>2000</td>\n      <td>50639</td>\n      <td>榆树</td>\n      <td>121.0</td>\n      <td>275.0</td>\n      <td>19.333334</td>\n      <td>84.000002</td>\n      <td>677.816696</td>\n      <td>195.275243</td>\n    </tr>\n    <tr>\n      <th>18</th>\n      <td>18</td>\n      <td>2001</td>\n      <td>50639</td>\n      <td>榆树</td>\n      <td>126.0</td>\n      <td>276.0</td>\n      <td>18.500000</td>\n      <td>63.000001</td>\n      <td>672.271652</td>\n      <td>157.325729</td>\n    </tr>\n    <tr>\n      <th>19</th>\n      <td>19</td>\n      <td>2002</td>\n      <td>50639</td>\n      <td>榆树</td>\n      <td>117.0</td>\n      <td>270.0</td>\n      <td>18.500000</td>\n      <td>76.600003</td>\n      <td>682.406769</td>\n      <td>162.178396</td>\n    </tr>\n    <tr>\n      <th>20</th>\n      <td>20</td>\n      <td>2003</td>\n      <td>50639</td>\n      <td>榆树</td>\n      <td>121.0</td>\n      <td>278.0</td>\n      <td>17.066667</td>\n      <td>195.100002</td>\n      <td>630.749481</td>\n      <td>280.211726</td>\n    </tr>\n    <tr>\n      <th>21</th>\n      <td>21</td>\n      <td>2004</td>\n      <td>50639</td>\n      <td>榆树</td>\n      <td>124.0</td>\n      <td>284.0</td>\n      <td>18.300000</td>\n      <td>128.199999</td>\n      <td>673.504379</td>\n      <td>179.803136</td>\n    </tr>\n    <tr>\n      <th>22</th>\n      <td>22</td>\n      <td>2005</td>\n      <td>50639</td>\n      <td>榆树</td>\n      <td>130.0</td>\n      <td>281.0</td>\n      <td>18.433333</td>\n      <td>78.500002</td>\n      <td>645.645721</td>\n      <td>226.537130</td>\n    </tr>\n  </tbody>\n</table>\n</div>"
     },
     "execution_count": 96,
     "metadata": {},
     "output_type": "execute_result"
    }
   ],
   "source": [
    "phen_path = '/data/shuping/data/china_phenology/partial_corr/woody/highest_corr_cliamte_series/50639_榆树.csv'\n",
    "phen_df = pd.read_csv(phen_path)\n",
    "phen_df"
   ],
   "metadata": {
    "collapsed": false,
    "pycharm": {
     "name": "#%%\n"
    }
   }
  },
  {
   "cell_type": "code",
   "execution_count": 205,
   "outputs": [],
   "source": [
    "def get_site_gpp(file_dir, site_lat_lon_path, out_dir):\n",
    "    time_series = np.linspace(15, 345, 12)\n",
    "    site_lat_lon = pd.read_csv(site_lat_lon_path)\n",
    "    site_lat_lon = site_lat_lon.drop(['Unnamed: 0'], axis=1)\n",
    "    files = sorted(os.listdir(file_dir))\n",
    "    for k in range(len(files)):\n",
    "        csv_path = file_dir + files[k]\n",
    "        df = pd.read_csv(csv_path)\n",
    "        df = df.drop(['Unnamed: 0'], axis=1)\n",
    "        df['gpp'] = ''\n",
    "        a = df.shape[0]\n",
    "        start_year = df.year[0]\n",
    "        end_year = df.year[a-1]\n",
    "        row = site_lat_lon.row[k]\n",
    "        col = site_lat_lon.col[k]\n",
    "        for i in range(start_year, end_year+1):\n",
    "            GPP_time_series = gpp_datasets[i-1982][:, row, col]\n",
    "            b = np.isnan(GPP_time_series).sum()\n",
    "            sos_day = df.sos[i-start_year]\n",
    "            eos_day = df.eos[i-start_year]\n",
    "            if b == 0 and sos_day<eos_day:\n",
    "                tck = interpolate.splrep(time_series, GPP_time_series, s=0)\n",
    "                time_series_new = np.linspace(sos_day, eos_day, 1000)#xnew\n",
    "                GPP_time_series_ynew = interpolate.splev(time_series_new, tck, der=0)#ynew\n",
    "                area = np.trapz(y=GPP_time_series_ynew, x=time_series_new)\n",
    "                df.gpp[i-start_year] = area\n",
    "\n",
    "        out_path = out_dir + '/' + files[k]\n",
    "        df.to_csv(out_path, encoding='utf_8_sig')"
   ],
   "metadata": {
    "collapsed": false,
    "pycharm": {
     "name": "#%%\n"
    }
   }
  },
  {
   "cell_type": "code",
   "source": [
    "file_dir = '/data/shuping/data/china_phenology/partial_corr/woody/highest_corr_cliamte_series/'\n",
    "site_lat_lon_path = '/data/shuping/data/china_phenology/partial_corr/woody/site_lat_lon_multi_eos_match_climate.csv'\n",
    "out_dir = '/data/shuping/data/china_phenology/partial_corr/woody/highest_corr_climate_series_with_gpp'\n",
    "get_site_gpp(file_dir, site_lat_lon_path, out_dir)"
   ],
   "metadata": {
    "collapsed": false,
    "pycharm": {
     "name": "#%%\n"
    }
   },
   "execution_count": 206,
   "outputs": [
    {
     "name": "stderr",
     "output_type": "stream",
     "text": [
      "/home/sdu-w-001/anaconda3/envs/jsp_gdal/lib/python3.7/site-packages/ipykernel_launcher.py:26: SettingWithCopyWarning: \n",
      "A value is trying to be set on a copy of a slice from a DataFrame\n",
      "\n",
      "See the caveats in the documentation: https://pandas.pydata.org/pandas-docs/stable/user_guide/indexing.html#returning-a-view-versus-a-copy\n"
     ]
    }
   ]
  },
  {
   "cell_type": "markdown",
   "source": [
    "##herb"
   ],
   "metadata": {
    "collapsed": false,
    "pycharm": {
     "name": "#%% md\n"
    }
   }
  },
  {
   "cell_type": "code",
   "execution_count": 177,
   "outputs": [
    {
     "data": {
      "text/plain": "      site  veg_type  multi_sos  multi_eos    lat     lon  col  row  flag\n0    50353         7          4          9  51.72  126.65  613   76     0\n1    50425        33          4          9  50.25  120.18  600   79     0\n2    50425        36          4          8  50.25  120.18  600   79     0\n3    50425        42          4          9  50.25  120.18  600   79     0\n4    50425        48          4          9  50.25  120.18  600   79     0\n..     ...       ...        ...        ...    ...     ...  ...  ...   ...\n378  58208         7          2         10  32.16  115.66  591  115     0\n377  58208        32          3         10  32.16  115.66  591  115     0\n379  58269        32          3         10  31.80  121.66  603  116     0\n380  58319         7          2          8  31.06  116.95  593  117     0\n381  58346        45          2         11  31.36  119.81  599  117     0\n\n[382 rows x 9 columns]",
      "text/html": "<div>\n<style scoped>\n    .dataframe tbody tr th:only-of-type {\n        vertical-align: middle;\n    }\n\n    .dataframe tbody tr th {\n        vertical-align: top;\n    }\n\n    .dataframe thead th {\n        text-align: right;\n    }\n</style>\n<table border=\"1\" class=\"dataframe\">\n  <thead>\n    <tr style=\"text-align: right;\">\n      <th></th>\n      <th>site</th>\n      <th>veg_type</th>\n      <th>multi_sos</th>\n      <th>multi_eos</th>\n      <th>lat</th>\n      <th>lon</th>\n      <th>col</th>\n      <th>row</th>\n      <th>flag</th>\n    </tr>\n  </thead>\n  <tbody>\n    <tr>\n      <th>0</th>\n      <td>50353</td>\n      <td>7</td>\n      <td>4</td>\n      <td>9</td>\n      <td>51.72</td>\n      <td>126.65</td>\n      <td>613</td>\n      <td>76</td>\n      <td>0</td>\n    </tr>\n    <tr>\n      <th>1</th>\n      <td>50425</td>\n      <td>33</td>\n      <td>4</td>\n      <td>9</td>\n      <td>50.25</td>\n      <td>120.18</td>\n      <td>600</td>\n      <td>79</td>\n      <td>0</td>\n    </tr>\n    <tr>\n      <th>2</th>\n      <td>50425</td>\n      <td>36</td>\n      <td>4</td>\n      <td>8</td>\n      <td>50.25</td>\n      <td>120.18</td>\n      <td>600</td>\n      <td>79</td>\n      <td>0</td>\n    </tr>\n    <tr>\n      <th>3</th>\n      <td>50425</td>\n      <td>42</td>\n      <td>4</td>\n      <td>9</td>\n      <td>50.25</td>\n      <td>120.18</td>\n      <td>600</td>\n      <td>79</td>\n      <td>0</td>\n    </tr>\n    <tr>\n      <th>4</th>\n      <td>50425</td>\n      <td>48</td>\n      <td>4</td>\n      <td>9</td>\n      <td>50.25</td>\n      <td>120.18</td>\n      <td>600</td>\n      <td>79</td>\n      <td>0</td>\n    </tr>\n    <tr>\n      <th>...</th>\n      <td>...</td>\n      <td>...</td>\n      <td>...</td>\n      <td>...</td>\n      <td>...</td>\n      <td>...</td>\n      <td>...</td>\n      <td>...</td>\n      <td>...</td>\n    </tr>\n    <tr>\n      <th>378</th>\n      <td>58208</td>\n      <td>7</td>\n      <td>2</td>\n      <td>10</td>\n      <td>32.16</td>\n      <td>115.66</td>\n      <td>591</td>\n      <td>115</td>\n      <td>0</td>\n    </tr>\n    <tr>\n      <th>377</th>\n      <td>58208</td>\n      <td>32</td>\n      <td>3</td>\n      <td>10</td>\n      <td>32.16</td>\n      <td>115.66</td>\n      <td>591</td>\n      <td>115</td>\n      <td>0</td>\n    </tr>\n    <tr>\n      <th>379</th>\n      <td>58269</td>\n      <td>32</td>\n      <td>3</td>\n      <td>10</td>\n      <td>31.80</td>\n      <td>121.66</td>\n      <td>603</td>\n      <td>116</td>\n      <td>0</td>\n    </tr>\n    <tr>\n      <th>380</th>\n      <td>58319</td>\n      <td>7</td>\n      <td>2</td>\n      <td>8</td>\n      <td>31.06</td>\n      <td>116.95</td>\n      <td>593</td>\n      <td>117</td>\n      <td>0</td>\n    </tr>\n    <tr>\n      <th>381</th>\n      <td>58346</td>\n      <td>45</td>\n      <td>2</td>\n      <td>11</td>\n      <td>31.36</td>\n      <td>119.81</td>\n      <td>599</td>\n      <td>117</td>\n      <td>0</td>\n    </tr>\n  </tbody>\n</table>\n<p>382 rows × 9 columns</p>\n</div>"
     },
     "execution_count": 177,
     "metadata": {},
     "output_type": "execute_result"
    }
   ],
   "source": [
    "path = '/data/shuping/data/china_phenology/partial_corr/herb/site_lat_lon_multi_eos.csv'\n",
    "df = pd.read_csv(path)\n",
    "df = df.drop(['Unnamed: 0'], axis=1)\n",
    "df = df.sort_values(by=['site'], ascending=True)\n",
    "df['flag'] = 0\n",
    "df"
   ],
   "metadata": {
    "collapsed": false,
    "pycharm": {
     "name": "#%%\n"
    }
   }
  },
  {
   "cell_type": "code",
   "execution_count": 178,
   "outputs": [
    {
     "name": "stderr",
     "output_type": "stream",
     "text": [
      "/home/sdu-w-001/anaconda3/envs/jsp_gdal/lib/python3.7/site-packages/ipykernel_launcher.py:16: SettingWithCopyWarning: \n",
      "A value is trying to be set on a copy of a slice from a DataFrame\n",
      "\n",
      "See the caveats in the documentation: https://pandas.pydata.org/pandas-docs/stable/user_guide/indexing.html#returning-a-view-versus-a-copy\n",
      "  app.launch_new_instance()\n"
     ]
    },
    {
     "name": "stdout",
     "output_type": "stream",
     "text": [
      "                0 veg_type   site\n",
      "0    50655_36.csv       36  50655\n",
      "1    50871_36.csv       36  50871\n",
      "2    50873_36.csv       36  50873\n",
      "3    50892_36.csv       36  50892\n",
      "4     50964_7.csv        7  50964\n",
      "..            ...      ...    ...\n",
      "104   58002_6.csv        6  58002\n",
      "105  58049_32.csv       32  58049\n",
      "106  58269_32.csv       32  58269\n",
      "107   58319_7.csv        7  58319\n",
      "108  58346_45.csv       45  58346\n",
      "\n",
      "[109 rows x 3 columns]       site  veg_type  multi_sos  multi_eos    lat     lon  col  row  flag\n",
      "22   50655        36          4         10  48.50  126.18  612   83     1\n",
      "27   50871        36          4          9  46.73  129.88  619   86     1\n",
      "28   50873        36          3          9  46.81  130.28  620   86     1\n",
      "32   50892        36          3          6  46.80  134.00  628   86     1\n",
      "47   50964         7          4          9  45.83  128.80  617   88     1\n",
      "..     ...       ...        ...        ...    ...     ...  ...  ...   ...\n",
      "370  58002         6          3         10  34.81  115.55  591  110     1\n",
      "376  58049        32          2         10  34.03  119.81  599  111     1\n",
      "379  58269        32          3         10  31.80  121.66  603  116     1\n",
      "380  58319         7          2          8  31.06  116.95  593  117     1\n",
      "381  58346        45          2         11  31.36  119.81  599  117     1\n",
      "\n",
      "[109 rows x 9 columns]\n"
     ]
    }
   ],
   "source": [
    "dir = '/data/shuping/data/china_phenology/partial_corr/herb/highest_corr_climate_series'\n",
    "files = sorted(os.listdir(dir))\n",
    "files_df = DataFrame(files)\n",
    "files_df['veg_type'] = ''\n",
    "files_df['site'] = ''\n",
    "num=0\n",
    "for file in files:\n",
    "    (name, ext) = os.path.splitext(file)\n",
    "    id = name[0:5]\n",
    "    species = name[6:8]\n",
    "    files_df['veg_type'][num] = species\n",
    "    files_df['site'][num] = id\n",
    "    num +=1\n",
    "    for j in range(382):\n",
    "        if int(df.site[j]) == int(id) and int(df.veg_type[j]) == int(species):\n",
    "            df.flag[j] = 1\n",
    "df = df[df['flag'] == 1]"
   ],
   "metadata": {
    "collapsed": false,
    "pycharm": {
     "name": "#%%\n"
    }
   }
  },
  {
   "cell_type": "code",
   "execution_count": 188,
   "outputs": [
    {
     "data": {
      "text/plain": "                0\n0    50655_36.csv\n1    50871_36.csv\n2    50873_36.csv\n3    50892_36.csv\n4     50964_7.csv\n..            ...\n104   58002_6.csv\n105  58049_32.csv\n106  58269_32.csv\n107   58319_7.csv\n108  58346_45.csv\n\n[109 rows x 1 columns]",
      "text/html": "<div>\n<style scoped>\n    .dataframe tbody tr th:only-of-type {\n        vertical-align: middle;\n    }\n\n    .dataframe tbody tr th {\n        vertical-align: top;\n    }\n\n    .dataframe thead th {\n        text-align: right;\n    }\n</style>\n<table border=\"1\" class=\"dataframe\">\n  <thead>\n    <tr style=\"text-align: right;\">\n      <th></th>\n      <th>0</th>\n    </tr>\n  </thead>\n  <tbody>\n    <tr>\n      <th>0</th>\n      <td>50655_36.csv</td>\n    </tr>\n    <tr>\n      <th>1</th>\n      <td>50871_36.csv</td>\n    </tr>\n    <tr>\n      <th>2</th>\n      <td>50873_36.csv</td>\n    </tr>\n    <tr>\n      <th>3</th>\n      <td>50892_36.csv</td>\n    </tr>\n    <tr>\n      <th>4</th>\n      <td>50964_7.csv</td>\n    </tr>\n    <tr>\n      <th>...</th>\n      <td>...</td>\n    </tr>\n    <tr>\n      <th>104</th>\n      <td>58002_6.csv</td>\n    </tr>\n    <tr>\n      <th>105</th>\n      <td>58049_32.csv</td>\n    </tr>\n    <tr>\n      <th>106</th>\n      <td>58269_32.csv</td>\n    </tr>\n    <tr>\n      <th>107</th>\n      <td>58319_7.csv</td>\n    </tr>\n    <tr>\n      <th>108</th>\n      <td>58346_45.csv</td>\n    </tr>\n  </tbody>\n</table>\n<p>109 rows × 1 columns</p>\n</div>"
     },
     "execution_count": 188,
     "metadata": {},
     "output_type": "execute_result"
    }
   ],
   "source": [
    "files_df[['veg_type']] = files_df[['veg_type']].astype(int)\n",
    "files_df = files_df.sort_values(by=['site','veg_type'], ascending=True)\n",
    "files_df = files_df.reset_index(drop=True)\n",
    "files_df = files_df.drop(['veg_type', 'site'], axis=1)\n",
    "files_df"
   ],
   "metadata": {
    "collapsed": false,
    "pycharm": {
     "name": "#%%\n"
    }
   }
  },
  {
   "cell_type": "code",
   "execution_count": 190,
   "outputs": [
    {
     "data": {
      "text/plain": "[['50655_36.csv'],\n ['50871_36.csv'],\n ['50873_36.csv'],\n ['50892_36.csv'],\n ['50964_7.csv'],\n ['51931_5.csv'],\n ['51931_24.csv'],\n ['51931_35.csv'],\n ['52101_33.csv'],\n ['52203_25.csv'],\n ['52203_33.csv'],\n ['52203_36.csv'],\n ['52656_7.csv'],\n ['52656_33.csv'],\n ['52656_36.csv'],\n ['52737_5.csv'],\n ['52825_32.csv'],\n ['52855_32.csv'],\n ['52855_33.csv'],\n ['52895_33.csv'],\n ['52895_36.csv'],\n ['52984_7.csv'],\n ['52984_36.csv'],\n ['52984_37.csv'],\n ['52995_7.csv'],\n ['52995_36.csv'],\n ['53611_32.csv'],\n ['53674_7.csv'],\n ['53704_7.csv'],\n ['53704_25.csv'],\n ['53723_28.csv'],\n ['53769_7.csv'],\n ['53817_7.csv'],\n ['53817_36.csv'],\n ['53821_9.csv'],\n ['53845_7.csv'],\n ['53863_7.csv'],\n ['53868_28.csv'],\n ['53868_36.csv'],\n ['53877_7.csv'],\n ['53877_36.csv'],\n ['53942_7.csv'],\n ['53956_7.csv'],\n ['53959_28.csv'],\n ['53991_7.csv'],\n ['53991_28.csv'],\n ['54049_36.csv'],\n ['54154_7.csv'],\n ['54154_36.csv'],\n ['54165_7.csv'],\n ['54186_36.csv'],\n ['54237_6.csv'],\n ['54260_7.csv'],\n ['54260_36.csv'],\n ['54266_36.csv'],\n ['54333_33.csv'],\n ['54362_7.csv'],\n ['54714_3.csv'],\n ['54714_6.csv'],\n ['54714_7.csv'],\n ['54714_36.csv'],\n ['54725_6.csv'],\n ['54764_6.csv'],\n ['54764_7.csv'],\n ['54764_36.csv'],\n ['54777_6.csv'],\n ['54777_28.csv'],\n ['54821_6.csv'],\n ['54821_7.csv'],\n ['54827_7.csv'],\n ['54827_28.csv'],\n ['54830_7.csv'],\n ['54843_7.csv'],\n ['54843_28.csv'],\n ['54843_36.csv'],\n ['54849_7.csv'],\n ['54849_28.csv'],\n ['54849_36.csv'],\n ['54900_35.csv'],\n ['54936_6.csv'],\n ['54938_37.csv'],\n ['56045_16.csv'],\n ['56074_36.csv'],\n ['56079_7.csv'],\n ['56079_36.csv'],\n ['57043_28.csv'],\n ['57043_36.csv'],\n ['57048_6.csv'],\n ['57048_36.csv'],\n ['57067_6.csv'],\n ['57067_7.csv'],\n ['57075_7.csv'],\n ['57096_20.csv'],\n ['57102_7.csv'],\n ['57102_29.csv'],\n ['57178_7.csv'],\n ['57297_6.csv'],\n ['57297_7.csv'],\n ['57297_45.csv'],\n ['57381_29.csv'],\n ['57482_29.csv'],\n ['57483_7.csv'],\n ['57483_29.csv'],\n ['57483_36.csv'],\n ['58002_6.csv'],\n ['58049_32.csv'],\n ['58269_32.csv'],\n ['58319_7.csv'],\n ['58346_45.csv']]"
     },
     "execution_count": 190,
     "metadata": {},
     "output_type": "execute_result"
    }
   ],
   "source": [
    "import numpy as np\n",
    "files_df_array = np.array(files_df)\n",
    "files_list =files_df_array.tolist()\n",
    "files = files_list\n",
    "files"
   ],
   "metadata": {
    "collapsed": false,
    "pycharm": {
     "name": "#%%\n"
    }
   }
  },
  {
   "cell_type": "code",
   "execution_count": 187,
   "outputs": [
    {
     "data": {
      "text/plain": "      site  veg_type  multi_sos  multi_eos    lat     lon  col  row  flag\n0    50655        36          4         10  48.50  126.18  612   83     1\n1    50871        36          4          9  46.73  129.88  619   86     1\n2    50873        36          3          9  46.81  130.28  620   86     1\n3    50892        36          3          6  46.80  134.00  628   86     1\n4    50964         7          4          9  45.83  128.80  617   88     1\n..     ...       ...        ...        ...    ...     ...  ...  ...   ...\n104  58002         6          3         10  34.81  115.55  591  110     1\n105  58049        32          2         10  34.03  119.81  599  111     1\n106  58269        32          3         10  31.80  121.66  603  116     1\n107  58319         7          2          8  31.06  116.95  593  117     1\n108  58346        45          2         11  31.36  119.81  599  117     1\n\n[109 rows x 9 columns]",
      "text/html": "<div>\n<style scoped>\n    .dataframe tbody tr th:only-of-type {\n        vertical-align: middle;\n    }\n\n    .dataframe tbody tr th {\n        vertical-align: top;\n    }\n\n    .dataframe thead th {\n        text-align: right;\n    }\n</style>\n<table border=\"1\" class=\"dataframe\">\n  <thead>\n    <tr style=\"text-align: right;\">\n      <th></th>\n      <th>site</th>\n      <th>veg_type</th>\n      <th>multi_sos</th>\n      <th>multi_eos</th>\n      <th>lat</th>\n      <th>lon</th>\n      <th>col</th>\n      <th>row</th>\n      <th>flag</th>\n    </tr>\n  </thead>\n  <tbody>\n    <tr>\n      <th>0</th>\n      <td>50655</td>\n      <td>36</td>\n      <td>4</td>\n      <td>10</td>\n      <td>48.50</td>\n      <td>126.18</td>\n      <td>612</td>\n      <td>83</td>\n      <td>1</td>\n    </tr>\n    <tr>\n      <th>1</th>\n      <td>50871</td>\n      <td>36</td>\n      <td>4</td>\n      <td>9</td>\n      <td>46.73</td>\n      <td>129.88</td>\n      <td>619</td>\n      <td>86</td>\n      <td>1</td>\n    </tr>\n    <tr>\n      <th>2</th>\n      <td>50873</td>\n      <td>36</td>\n      <td>3</td>\n      <td>9</td>\n      <td>46.81</td>\n      <td>130.28</td>\n      <td>620</td>\n      <td>86</td>\n      <td>1</td>\n    </tr>\n    <tr>\n      <th>3</th>\n      <td>50892</td>\n      <td>36</td>\n      <td>3</td>\n      <td>6</td>\n      <td>46.80</td>\n      <td>134.00</td>\n      <td>628</td>\n      <td>86</td>\n      <td>1</td>\n    </tr>\n    <tr>\n      <th>4</th>\n      <td>50964</td>\n      <td>7</td>\n      <td>4</td>\n      <td>9</td>\n      <td>45.83</td>\n      <td>128.80</td>\n      <td>617</td>\n      <td>88</td>\n      <td>1</td>\n    </tr>\n    <tr>\n      <th>...</th>\n      <td>...</td>\n      <td>...</td>\n      <td>...</td>\n      <td>...</td>\n      <td>...</td>\n      <td>...</td>\n      <td>...</td>\n      <td>...</td>\n      <td>...</td>\n    </tr>\n    <tr>\n      <th>104</th>\n      <td>58002</td>\n      <td>6</td>\n      <td>3</td>\n      <td>10</td>\n      <td>34.81</td>\n      <td>115.55</td>\n      <td>591</td>\n      <td>110</td>\n      <td>1</td>\n    </tr>\n    <tr>\n      <th>105</th>\n      <td>58049</td>\n      <td>32</td>\n      <td>2</td>\n      <td>10</td>\n      <td>34.03</td>\n      <td>119.81</td>\n      <td>599</td>\n      <td>111</td>\n      <td>1</td>\n    </tr>\n    <tr>\n      <th>106</th>\n      <td>58269</td>\n      <td>32</td>\n      <td>3</td>\n      <td>10</td>\n      <td>31.80</td>\n      <td>121.66</td>\n      <td>603</td>\n      <td>116</td>\n      <td>1</td>\n    </tr>\n    <tr>\n      <th>107</th>\n      <td>58319</td>\n      <td>7</td>\n      <td>2</td>\n      <td>8</td>\n      <td>31.06</td>\n      <td>116.95</td>\n      <td>593</td>\n      <td>117</td>\n      <td>1</td>\n    </tr>\n    <tr>\n      <th>108</th>\n      <td>58346</td>\n      <td>45</td>\n      <td>2</td>\n      <td>11</td>\n      <td>31.36</td>\n      <td>119.81</td>\n      <td>599</td>\n      <td>117</td>\n      <td>1</td>\n    </tr>\n  </tbody>\n</table>\n<p>109 rows × 9 columns</p>\n</div>"
     },
     "execution_count": 187,
     "metadata": {},
     "output_type": "execute_result"
    }
   ],
   "source": [
    "df = df.sort_values(by=['site','veg_type'], ascending=True)\n",
    "df = df.reset_index(drop=True)\n",
    "df"
   ],
   "metadata": {
    "collapsed": false,
    "pycharm": {
     "name": "#%%\n"
    }
   }
  },
  {
   "cell_type": "code",
   "execution_count": 198,
   "outputs": [
    {
     "data": {
      "text/plain": "['50873_36.csv']"
     },
     "execution_count": 198,
     "metadata": {},
     "output_type": "execute_result"
    }
   ],
   "source": [
    "files[2]"
   ],
   "metadata": {
    "collapsed": false,
    "pycharm": {
     "name": "#%%\n"
    }
   }
  },
  {
   "cell_type": "code",
   "execution_count": 195,
   "outputs": [
    {
     "data": {
      "text/plain": "      site  veg_type  multi_sos  multi_eos    lat     lon  col  row\n0    50655        36          4         10  48.50  126.18  612   83\n1    50871        36          4          9  46.73  129.88  619   86\n2    50873        36          3          9  46.81  130.28  620   86\n3    50892        36          3          6  46.80  134.00  628   86\n4    50964         7          4          9  45.83  128.80  617   88\n..     ...       ...        ...        ...    ...     ...  ...  ...\n104  58002         6          3         10  34.81  115.55  591  110\n105  58049        32          2         10  34.03  119.81  599  111\n106  58269        32          3         10  31.80  121.66  603  116\n107  58319         7          2          8  31.06  116.95  593  117\n108  58346        45          2         11  31.36  119.81  599  117\n\n[109 rows x 8 columns]",
      "text/html": "<div>\n<style scoped>\n    .dataframe tbody tr th:only-of-type {\n        vertical-align: middle;\n    }\n\n    .dataframe tbody tr th {\n        vertical-align: top;\n    }\n\n    .dataframe thead th {\n        text-align: right;\n    }\n</style>\n<table border=\"1\" class=\"dataframe\">\n  <thead>\n    <tr style=\"text-align: right;\">\n      <th></th>\n      <th>site</th>\n      <th>veg_type</th>\n      <th>multi_sos</th>\n      <th>multi_eos</th>\n      <th>lat</th>\n      <th>lon</th>\n      <th>col</th>\n      <th>row</th>\n    </tr>\n  </thead>\n  <tbody>\n    <tr>\n      <th>0</th>\n      <td>50655</td>\n      <td>36</td>\n      <td>4</td>\n      <td>10</td>\n      <td>48.50</td>\n      <td>126.18</td>\n      <td>612</td>\n      <td>83</td>\n    </tr>\n    <tr>\n      <th>1</th>\n      <td>50871</td>\n      <td>36</td>\n      <td>4</td>\n      <td>9</td>\n      <td>46.73</td>\n      <td>129.88</td>\n      <td>619</td>\n      <td>86</td>\n    </tr>\n    <tr>\n      <th>2</th>\n      <td>50873</td>\n      <td>36</td>\n      <td>3</td>\n      <td>9</td>\n      <td>46.81</td>\n      <td>130.28</td>\n      <td>620</td>\n      <td>86</td>\n    </tr>\n    <tr>\n      <th>3</th>\n      <td>50892</td>\n      <td>36</td>\n      <td>3</td>\n      <td>6</td>\n      <td>46.80</td>\n      <td>134.00</td>\n      <td>628</td>\n      <td>86</td>\n    </tr>\n    <tr>\n      <th>4</th>\n      <td>50964</td>\n      <td>7</td>\n      <td>4</td>\n      <td>9</td>\n      <td>45.83</td>\n      <td>128.80</td>\n      <td>617</td>\n      <td>88</td>\n    </tr>\n    <tr>\n      <th>...</th>\n      <td>...</td>\n      <td>...</td>\n      <td>...</td>\n      <td>...</td>\n      <td>...</td>\n      <td>...</td>\n      <td>...</td>\n      <td>...</td>\n    </tr>\n    <tr>\n      <th>104</th>\n      <td>58002</td>\n      <td>6</td>\n      <td>3</td>\n      <td>10</td>\n      <td>34.81</td>\n      <td>115.55</td>\n      <td>591</td>\n      <td>110</td>\n    </tr>\n    <tr>\n      <th>105</th>\n      <td>58049</td>\n      <td>32</td>\n      <td>2</td>\n      <td>10</td>\n      <td>34.03</td>\n      <td>119.81</td>\n      <td>599</td>\n      <td>111</td>\n    </tr>\n    <tr>\n      <th>106</th>\n      <td>58269</td>\n      <td>32</td>\n      <td>3</td>\n      <td>10</td>\n      <td>31.80</td>\n      <td>121.66</td>\n      <td>603</td>\n      <td>116</td>\n    </tr>\n    <tr>\n      <th>107</th>\n      <td>58319</td>\n      <td>7</td>\n      <td>2</td>\n      <td>8</td>\n      <td>31.06</td>\n      <td>116.95</td>\n      <td>593</td>\n      <td>117</td>\n    </tr>\n    <tr>\n      <th>108</th>\n      <td>58346</td>\n      <td>45</td>\n      <td>2</td>\n      <td>11</td>\n      <td>31.36</td>\n      <td>119.81</td>\n      <td>599</td>\n      <td>117</td>\n    </tr>\n  </tbody>\n</table>\n<p>109 rows × 8 columns</p>\n</div>"
     },
     "execution_count": 195,
     "metadata": {},
     "output_type": "execute_result"
    }
   ],
   "source": [
    "df = df.drop(['flag'], axis = 1)"
   ],
   "metadata": {
    "collapsed": false,
    "pycharm": {
     "name": "#%%\n"
    }
   }
  },
  {
   "cell_type": "code",
   "execution_count": 199,
   "outputs": [],
   "source": [
    "df.to_csv('/data/shuping/data/china_phenology/partial_corr/herb/site_lat_lon_multi_eos_match_climate.csv')"
   ],
   "metadata": {
    "collapsed": false,
    "pycharm": {
     "name": "#%%\n"
    }
   }
  },
  {
   "cell_type": "code",
   "execution_count": 201,
   "outputs": [
    {
     "name": "stderr",
     "output_type": "stream",
     "text": [
      "/home/sdu-w-001/anaconda3/envs/jsp_gdal/lib/python3.7/site-packages/ipykernel_launcher.py:26: SettingWithCopyWarning: \n",
      "A value is trying to be set on a copy of a slice from a DataFrame\n",
      "\n",
      "See the caveats in the documentation: https://pandas.pydata.org/pandas-docs/stable/user_guide/indexing.html#returning-a-view-versus-a-copy\n"
     ]
    }
   ],
   "source": [
    "file_dir = '/data/shuping/data/china_phenology/partial_corr/herb/highest_corr_climate_series/'\n",
    "site_lat_lon_path = '/data/shuping/data/china_phenology/partial_corr/herb/site_lat_lon_multi_eos_match_climate.csv'\n",
    "out_dir = '/data/shuping/data/china_phenology/partial_corr/herb/highest_corr_climate_series_with_gpp'\n",
    "get_site_gpp(file_dir, site_lat_lon_path, out_dir)"
   ],
   "metadata": {
    "collapsed": false,
    "pycharm": {
     "name": "#%%\n"
    }
   }
  },
  {
   "cell_type": "markdown",
   "source": [
    "#5 偏相关(有gpp)"
   ],
   "metadata": {
    "collapsed": false,
    "pycharm": {
     "name": "#%% md\n"
    }
   }
  },
  {
   "cell_type": "code",
   "execution_count": 202,
   "outputs": [],
   "source": [
    "import pingouin as pg\n",
    "import pandas as pd"
   ],
   "metadata": {
    "collapsed": false,
    "pycharm": {
     "name": "#%%\n"
    }
   }
  },
  {
   "cell_type": "markdown",
   "source": [
    "##woody"
   ],
   "metadata": {
    "collapsed": false,
    "pycharm": {
     "name": "#%% md\n"
    }
   }
  },
  {
   "cell_type": "code",
   "execution_count": 207,
   "outputs": [
    {
     "data": {
      "text/plain": "['50639_榆树.csv',\n '50655_中东杨.csv',\n '50756_小叶杨.csv',\n '50756_紫丁香.csv',\n '50788_小叶杨.csv',\n '50788_紫丁香.csv',\n '50844_小叶杨.csv',\n '50844_榆树.csv',\n '50851_榆树.csv',\n '50871_紫丁香.csv',\n '50873_旱柳.csv',\n '50928_加拿大杨.csv',\n '50928_小叶杨.csv',\n '50928_旱柳.csv',\n '50934_榆树.csv',\n '50949_小叶杨.csv',\n '50964_垂柳.csv',\n '50983_小叶杨.csv',\n '51076_加拿大杨.csv',\n '51076_榆树.csv',\n '51133_冬苹果.csv',\n '51133_夏苹果.csv',\n '51133_杨树.csv',\n '51133_榆树.csv',\n '51238_榆树.csv',\n '51238_沙枣.csv',\n '51358_新疆杨.csv',\n '51358_箭杆杨.csv',\n '51368_沙枣.csv',\n '51368_钻天杨.csv',\n '51431_榆树.csv',\n '51436_杏树.csv',\n '51436_柳树.csv',\n '51573_桃树.csv',\n '51573_榆树.csv',\n '51656_新疆杨.csv',\n '51656_杏树.csv',\n '51656_桑树.csv',\n '51656_榆树.csv',\n '51656_葡萄.csv',\n '51656_钻天杨.csv',\n '51656_香梨.csv',\n '51709_柳树.csv',\n '51709_榆树.csv',\n '51709_苹果.csv',\n '51716_新疆杨.csv',\n '51716_杏树.csv',\n '51716_梨树.csv',\n '51716_沙枣.csv',\n '51716_苹果.csv',\n '51777_新疆杨.csv',\n '51777_柳树.csv',\n '51777_榆树.csv',\n '51811_杏树.csv',\n '51811_梨树.csv',\n '51811_沙枣.csv',\n '51811_葡萄.csv',\n '51828_新疆杨.csv',\n '51828_杏树.csv',\n '51828_核桃树.csv',\n '51828_桑树.csv',\n '51828_苹果.csv',\n '51828_钻天杨.csv',\n '51828_银白杨.csv',\n '51931_新疆杨.csv',\n '51931_旱柳.csv',\n '51931_桃树.csv',\n '51931_沙枣.csv',\n '51931_苹果.csv',\n '52101_榆树.csv',\n '52203_旱柳.csv',\n '52203_杏树.csv',\n '52203_枣树.csv',\n '52203_葡萄.csv',\n '52418_加拿大杨.csv',\n '52737_小叶杨.csv',\n '52737_旱柳.csv',\n '52825_枸杞.csv',\n '52825_苹果.csv',\n '52855_小叶杨.csv',\n '52855_苹果.csv',\n '52863_青海大叶杨.csv',\n '52876_杏.csv',\n '52876_榆树.csv',\n '52876_苹果.csv',\n '52895_刺槐.csv',\n '52984_小叶杨.csv',\n '52984_旱柳.csv',\n '52984_牡丹.csv',\n '52995_旱柳.csv',\n '52995_榆树.csv',\n '52995_牡丹.csv',\n '53433_旱柳.csv',\n '53513_旱柳.csv',\n '53513_榆树.csv',\n '53547_榆树.csv',\n '53564_加拿大杨.csv',\n '53594_旱柳.csv',\n '53594_杏树.csv',\n '53611_枣树.csv',\n '53754_刺槐.csv',\n '53754_枣树.csv',\n '53754_榆树.csv',\n '53754_毛白杨.csv',\n '53769_小叶杨.csv',\n '53775_垂柳.csv',\n '53775_小叶杨.csv',\n '53775_紫丁香.csv',\n '53845_榆树.csv',\n '53853_刺槐.csv',\n '53863_旱柳.csv',\n '53868_合欢.csv',\n '53877_核桃树.csv',\n '53877_毛白杨.csv',\n '53908_牡丹.csv',\n '53908_白杨.csv',\n '53923_苹果.csv',\n '53948_葡萄.csv',\n '53956_泡桐.csv',\n '53959_毛白杨.csv',\n '53976_刺槐.csv',\n '53976_泡桐.csv',\n '53986_枣树.csv',\n '53986_榆树.csv',\n '53986_苹果.csv',\n '53991_刺槐.csv',\n '53991_泡桐.csv',\n '54064_榆树.csv',\n '54076_加拿大杨.csv',\n '54076_紫丁香.csv',\n '54098_垂柳.csv',\n '54154_加拿大杨.csv',\n '54171_123苹果.csv',\n '54186_榆树.csv',\n '54243_小叶杨.csv',\n '54292_紫丁香.csv',\n '54324_刺槐.csv',\n '54324_旱柳.csv',\n '54324_榆树.csv',\n '54337_刺槐.csv',\n '54349_加拿大杨.csv',\n '54349_旱柳.csv',\n '54416_玉兰.csv',\n '54470_小叶杨.csv',\n '54472_刺槐.csv',\n '54474_苹果.csv',\n '54525_柳树.csv',\n '54525_榆树.csv',\n '54619_合欢.csv',\n '54619_旱柳.csv',\n '54619_泡桐.csv',\n '54714_槐树.csv',\n '54714_白蜡.csv',\n '54725_刺槐.csv',\n '54725_枣树.csv',\n '54725_泡桐.csv',\n '54749_合欢.csv',\n '54749_垂柳.csv',\n '54749_槐树.csv',\n '54749_毛白杨.csv',\n '54749_泡桐.csv',\n '54777_刺槐.csv',\n '54777_合欢.csv',\n '54777_垂柳.csv',\n '54777_旱柳.csv',\n '54777_榆树.csv',\n '54777_毛白杨.csv',\n '54777_紫穗槐.csv',\n '54806_旱柳.csv',\n '54806_槐树.csv',\n '54806_毛白杨.csv',\n '54806_泡桐.csv',\n '54821_刺槐.csv',\n '54821_小叶杨.csv',\n '54821_枣树.csv',\n '54821_榆树.csv',\n '54827_泡桐.csv',\n '54827_苹果.csv',\n '54830_刺槐.csv',\n '54830_垂柳.csv',\n '54830_小叶杨.csv',\n '54830_旱柳.csv',\n '54830_槐树.csv',\n '54830_毛白杨.csv',\n '54830_皂荚.csv',\n '54830_紫薇.csv',\n '54843_刺槐.csv',\n '54843_合欢.csv',\n '54843_垂柳.csv',\n '54843_枣树.csv',\n '54843_毛白杨.csv',\n '54843_泡桐.csv',\n '54843_白丁香.csv',\n '54843_紫穗槐.csv',\n '54843_紫薇.csv',\n '54843_葡萄.csv',\n '54849_合欢.csv',\n '54849_垂柳.csv',\n '54849_毛白杨.csv',\n '54849_紫丁香.csv',\n '54849_葡萄.csv',\n '54852_刺槐.csv',\n '54852_旱柳.csv',\n '54852_榆树.csv',\n '54852_毛白杨.csv',\n '54852_泡桐.csv',\n '54900_榆树.csv',\n '54906_刺槐.csv',\n '54906_榆树.csv',\n '54906_毛白杨.csv',\n '54915_刺槐.csv',\n '54915_合欢.csv',\n '54915_垂柳.csv',\n '54915_枣树.csv',\n '54915_梧桐.csv',\n '54915_楝树.csv',\n '54915_槐树.csv',\n '54915_毛白杨.csv',\n '54915_泡桐.csv',\n '54938_合欢.csv',\n '54938_旱柳.csv',\n '54938_榆树.csv',\n '54938_毛白杨.csv',\n '56074_高山柳.csv',\n '56093_小白杨.csv',\n '56093_旱柳.csv',\n '56093_杏.csv',\n '56093_榆树.csv',\n '56093_白梨.csv',\n '56192_苹果.csv',\n '57025_杏树.csv',\n '57034_小叶杨.csv',\n '57043_泡桐.csv',\n '57048_毛白杨.csv',\n '57048_泡桐.csv',\n '57067_小叶杨.csv',\n '57075_枣树.csv',\n '57075_楝树.csv',\n '57083_垂柳.csv',\n '57083_楝树.csv',\n '57083_毛白杨.csv',\n '57089_刺槐.csv',\n '57096_刺槐.csv',\n '57102_泡桐.csv',\n '57102_紫薇.csv',\n '57102_葡萄.csv',\n '57169_榆树.csv',\n '57178_枣树.csv',\n '57178_毛白杨.csv',\n '57178_白榆.csv',\n '57290_楝树.csv',\n '57297_刺槐.csv',\n '57297_合欢.csv',\n '57297_垂柳.csv',\n '57297_楝树.csv',\n '57297_榆树.csv',\n '58002_刺槐.csv',\n '58002_枣树.csv',\n '58002_楝树.csv',\n '58002_榆树.csv',\n '58002_槐树.csv',\n '58005_柿树.csv',\n '58005_毛白杨.csv',\n '58012_旱柳.csv',\n '58012_毛白杨.csv',\n '58049_刺槐.csv',\n '58102_悬铃木.csv',\n '58102_楝树.csv',\n '58122_刺槐.csv',\n '58122_悬铃木.csv',\n '58122_楝树.csv',\n '58141_水杉.csv',\n '58141_泡桐.csv',\n '58158_楝树.csv',\n '58208_法国梧桐.csv',\n '58215_悬铃木.csv',\n '58222_刺槐.csv',\n '58236_楝树.csv',\n '58252_楝树.csv',\n '58252_玉兰.csv',\n '58255_桃树.csv',\n '58255_楝树.csv',\n '58255_银杏.csv',\n '58269_楝树.csv',\n '58269_银杏.csv',\n '58311_悬铃木.csv',\n '58319_刺槐.csv',\n '58319_悬铃木.csv',\n '58321_刺槐.csv',\n '58321_合欢.csv',\n '58339_楝树.csv',\n '58346_梧桐.csv',\n '58356_水杉.csv',\n '58433_刺槐.csv',\n '58433_楝树.csv']"
     },
     "execution_count": 207,
     "metadata": {},
     "output_type": "execute_result"
    }
   ],
   "source": [
    "file_path = '/data/shuping/data/china_phenology/partial_corr/woody/highest_corr_climate_series_with_gpp/'\n",
    "files = sorted(os.listdir(file_path))\n",
    "files"
   ],
   "metadata": {
    "collapsed": false,
    "pycharm": {
     "name": "#%%\n"
    }
   }
  },
  {
   "cell_type": "code",
   "execution_count": 219,
   "outputs": [
    {
     "data": {
      "text/plain": "    year   site species    sos    eos      tmean         pre        solr  \\\n0   1983  50639      榆树  135.0  277.0  17.233334  115.799999  645.546280   \n1   1984  50639      榆树  135.0  254.0  17.000001  165.200001  647.832962   \n2   1985  50639      榆树  126.0  278.0  16.833333  231.800003  647.405380   \n3   1986  50639      榆树  126.0  288.0  17.166667  115.500000  659.189575   \n4   1987  50639      榆树  128.0  291.0  16.866667  214.700005  644.391266   \n5   1988  50639      榆树  131.0  280.0  18.100000  136.600002  657.287521   \n6   1989  50639      榆树  123.0  275.0  17.000000  104.500000  678.293991   \n7   1990  50639      榆树  118.0  272.0  17.166667  180.900002  660.897598   \n8   1991  50639      榆树  119.0  284.0  17.400000  140.500004  655.922714   \n9   1992  50639      榆树  118.0  271.0  16.700001  152.800003  675.155487   \n10  1993  50639      榆树  115.0  269.0  17.433334  169.600002  642.854233   \n11  1994  50639      榆树  113.0  267.0  18.433334  161.400002  675.214142   \n12  1995  50639      榆树  115.0  281.0  17.366667   91.700001  694.045502   \n13  1996  50639      榆树  125.0  277.0  17.333334   91.100001  661.987473   \n14  1997  50639      榆树  121.0  280.0  17.633334  198.899998  647.282974   \n15  1998  50639      榆树  123.0  275.0  18.333334  244.300007  613.653946   \n16  1999  50639      榆树  123.0  276.0  18.100001  149.200010  663.024063   \n17  2000  50639      榆树  121.0  275.0  19.333334   84.000002  677.816696   \n18  2001  50639      榆树  126.0  276.0  18.500000   63.000001  672.271652   \n19  2002  50639      榆树  117.0  270.0  18.500000   76.600003  682.406769   \n20  2003  50639      榆树  121.0  278.0  17.066667  195.100002  630.749481   \n21  2004  50639      榆树  124.0  284.0  18.300000  128.199999  673.504379   \n22  2005  50639      榆树  130.0  281.0  18.433333   78.500002  645.645721   \n\n            sm         gpp  \n0   270.523234  588.914634  \n1   250.370326  544.670118  \n2   256.032837  665.589869  \n3   289.029714  618.929876  \n4   218.578237  634.080594  \n5   297.282237  634.650892  \n6   265.660772  580.264681  \n7   264.429260  694.918906  \n8   299.025991  636.772331  \n9   204.532079  559.819256  \n10  288.362813  690.440367  \n11  245.332647  596.813329  \n12  184.549042  630.265641  \n13  222.739100  754.523233  \n14  176.569270  578.004448  \n15  282.293966  536.150491  \n16  247.237478  593.029467  \n17  195.275243  574.765247  \n18  157.325729  479.020082  \n19  162.178396  607.458775  \n20  280.211726  532.797126  \n21  179.803136  529.748960  \n22  226.537130  653.300594  ",
      "text/html": "<div>\n<style scoped>\n    .dataframe tbody tr th:only-of-type {\n        vertical-align: middle;\n    }\n\n    .dataframe tbody tr th {\n        vertical-align: top;\n    }\n\n    .dataframe thead th {\n        text-align: right;\n    }\n</style>\n<table border=\"1\" class=\"dataframe\">\n  <thead>\n    <tr style=\"text-align: right;\">\n      <th></th>\n      <th>year</th>\n      <th>site</th>\n      <th>species</th>\n      <th>sos</th>\n      <th>eos</th>\n      <th>tmean</th>\n      <th>pre</th>\n      <th>solr</th>\n      <th>sm</th>\n      <th>gpp</th>\n    </tr>\n  </thead>\n  <tbody>\n    <tr>\n      <th>0</th>\n      <td>1983</td>\n      <td>50639</td>\n      <td>榆树</td>\n      <td>135.0</td>\n      <td>277.0</td>\n      <td>17.233334</td>\n      <td>115.799999</td>\n      <td>645.546280</td>\n      <td>270.523234</td>\n      <td>588.914634</td>\n    </tr>\n    <tr>\n      <th>1</th>\n      <td>1984</td>\n      <td>50639</td>\n      <td>榆树</td>\n      <td>135.0</td>\n      <td>254.0</td>\n      <td>17.000001</td>\n      <td>165.200001</td>\n      <td>647.832962</td>\n      <td>250.370326</td>\n      <td>544.670118</td>\n    </tr>\n    <tr>\n      <th>2</th>\n      <td>1985</td>\n      <td>50639</td>\n      <td>榆树</td>\n      <td>126.0</td>\n      <td>278.0</td>\n      <td>16.833333</td>\n      <td>231.800003</td>\n      <td>647.405380</td>\n      <td>256.032837</td>\n      <td>665.589869</td>\n    </tr>\n    <tr>\n      <th>3</th>\n      <td>1986</td>\n      <td>50639</td>\n      <td>榆树</td>\n      <td>126.0</td>\n      <td>288.0</td>\n      <td>17.166667</td>\n      <td>115.500000</td>\n      <td>659.189575</td>\n      <td>289.029714</td>\n      <td>618.929876</td>\n    </tr>\n    <tr>\n      <th>4</th>\n      <td>1987</td>\n      <td>50639</td>\n      <td>榆树</td>\n      <td>128.0</td>\n      <td>291.0</td>\n      <td>16.866667</td>\n      <td>214.700005</td>\n      <td>644.391266</td>\n      <td>218.578237</td>\n      <td>634.080594</td>\n    </tr>\n    <tr>\n      <th>5</th>\n      <td>1988</td>\n      <td>50639</td>\n      <td>榆树</td>\n      <td>131.0</td>\n      <td>280.0</td>\n      <td>18.100000</td>\n      <td>136.600002</td>\n      <td>657.287521</td>\n      <td>297.282237</td>\n      <td>634.650892</td>\n    </tr>\n    <tr>\n      <th>6</th>\n      <td>1989</td>\n      <td>50639</td>\n      <td>榆树</td>\n      <td>123.0</td>\n      <td>275.0</td>\n      <td>17.000000</td>\n      <td>104.500000</td>\n      <td>678.293991</td>\n      <td>265.660772</td>\n      <td>580.264681</td>\n    </tr>\n    <tr>\n      <th>7</th>\n      <td>1990</td>\n      <td>50639</td>\n      <td>榆树</td>\n      <td>118.0</td>\n      <td>272.0</td>\n      <td>17.166667</td>\n      <td>180.900002</td>\n      <td>660.897598</td>\n      <td>264.429260</td>\n      <td>694.918906</td>\n    </tr>\n    <tr>\n      <th>8</th>\n      <td>1991</td>\n      <td>50639</td>\n      <td>榆树</td>\n      <td>119.0</td>\n      <td>284.0</td>\n      <td>17.400000</td>\n      <td>140.500004</td>\n      <td>655.922714</td>\n      <td>299.025991</td>\n      <td>636.772331</td>\n    </tr>\n    <tr>\n      <th>9</th>\n      <td>1992</td>\n      <td>50639</td>\n      <td>榆树</td>\n      <td>118.0</td>\n      <td>271.0</td>\n      <td>16.700001</td>\n      <td>152.800003</td>\n      <td>675.155487</td>\n      <td>204.532079</td>\n      <td>559.819256</td>\n    </tr>\n    <tr>\n      <th>10</th>\n      <td>1993</td>\n      <td>50639</td>\n      <td>榆树</td>\n      <td>115.0</td>\n      <td>269.0</td>\n      <td>17.433334</td>\n      <td>169.600002</td>\n      <td>642.854233</td>\n      <td>288.362813</td>\n      <td>690.440367</td>\n    </tr>\n    <tr>\n      <th>11</th>\n      <td>1994</td>\n      <td>50639</td>\n      <td>榆树</td>\n      <td>113.0</td>\n      <td>267.0</td>\n      <td>18.433334</td>\n      <td>161.400002</td>\n      <td>675.214142</td>\n      <td>245.332647</td>\n      <td>596.813329</td>\n    </tr>\n    <tr>\n      <th>12</th>\n      <td>1995</td>\n      <td>50639</td>\n      <td>榆树</td>\n      <td>115.0</td>\n      <td>281.0</td>\n      <td>17.366667</td>\n      <td>91.700001</td>\n      <td>694.045502</td>\n      <td>184.549042</td>\n      <td>630.265641</td>\n    </tr>\n    <tr>\n      <th>13</th>\n      <td>1996</td>\n      <td>50639</td>\n      <td>榆树</td>\n      <td>125.0</td>\n      <td>277.0</td>\n      <td>17.333334</td>\n      <td>91.100001</td>\n      <td>661.987473</td>\n      <td>222.739100</td>\n      <td>754.523233</td>\n    </tr>\n    <tr>\n      <th>14</th>\n      <td>1997</td>\n      <td>50639</td>\n      <td>榆树</td>\n      <td>121.0</td>\n      <td>280.0</td>\n      <td>17.633334</td>\n      <td>198.899998</td>\n      <td>647.282974</td>\n      <td>176.569270</td>\n      <td>578.004448</td>\n    </tr>\n    <tr>\n      <th>15</th>\n      <td>1998</td>\n      <td>50639</td>\n      <td>榆树</td>\n      <td>123.0</td>\n      <td>275.0</td>\n      <td>18.333334</td>\n      <td>244.300007</td>\n      <td>613.653946</td>\n      <td>282.293966</td>\n      <td>536.150491</td>\n    </tr>\n    <tr>\n      <th>16</th>\n      <td>1999</td>\n      <td>50639</td>\n      <td>榆树</td>\n      <td>123.0</td>\n      <td>276.0</td>\n      <td>18.100001</td>\n      <td>149.200010</td>\n      <td>663.024063</td>\n      <td>247.237478</td>\n      <td>593.029467</td>\n    </tr>\n    <tr>\n      <th>17</th>\n      <td>2000</td>\n      <td>50639</td>\n      <td>榆树</td>\n      <td>121.0</td>\n      <td>275.0</td>\n      <td>19.333334</td>\n      <td>84.000002</td>\n      <td>677.816696</td>\n      <td>195.275243</td>\n      <td>574.765247</td>\n    </tr>\n    <tr>\n      <th>18</th>\n      <td>2001</td>\n      <td>50639</td>\n      <td>榆树</td>\n      <td>126.0</td>\n      <td>276.0</td>\n      <td>18.500000</td>\n      <td>63.000001</td>\n      <td>672.271652</td>\n      <td>157.325729</td>\n      <td>479.020082</td>\n    </tr>\n    <tr>\n      <th>19</th>\n      <td>2002</td>\n      <td>50639</td>\n      <td>榆树</td>\n      <td>117.0</td>\n      <td>270.0</td>\n      <td>18.500000</td>\n      <td>76.600003</td>\n      <td>682.406769</td>\n      <td>162.178396</td>\n      <td>607.458775</td>\n    </tr>\n    <tr>\n      <th>20</th>\n      <td>2003</td>\n      <td>50639</td>\n      <td>榆树</td>\n      <td>121.0</td>\n      <td>278.0</td>\n      <td>17.066667</td>\n      <td>195.100002</td>\n      <td>630.749481</td>\n      <td>280.211726</td>\n      <td>532.797126</td>\n    </tr>\n    <tr>\n      <th>21</th>\n      <td>2004</td>\n      <td>50639</td>\n      <td>榆树</td>\n      <td>124.0</td>\n      <td>284.0</td>\n      <td>18.300000</td>\n      <td>128.199999</td>\n      <td>673.504379</td>\n      <td>179.803136</td>\n      <td>529.748960</td>\n    </tr>\n    <tr>\n      <th>22</th>\n      <td>2005</td>\n      <td>50639</td>\n      <td>榆树</td>\n      <td>130.0</td>\n      <td>281.0</td>\n      <td>18.433333</td>\n      <td>78.500002</td>\n      <td>645.645721</td>\n      <td>226.537130</td>\n      <td>653.300594</td>\n    </tr>\n  </tbody>\n</table>\n</div>"
     },
     "execution_count": 219,
     "metadata": {},
     "output_type": "execute_result"
    }
   ],
   "source": [
    "csv_path = '/data/shuping/data/china_phenology/partial_corr/woody/highest_corr_climate_series_with_gpp/50639_榆树.csv'\n",
    "df = pd.read_csv(csv_path)\n",
    "df = df.dropna()\n",
    "df = df.drop(['Unnamed: 0'], axis=1)\n",
    "df"
   ],
   "metadata": {
    "collapsed": false,
    "pycharm": {
     "name": "#%%\n"
    }
   }
  },
  {
   "cell_type": "code",
   "execution_count": 224,
   "outputs": [
    {
     "data": {
      "text/plain": "'榆树'"
     },
     "execution_count": 224,
     "metadata": {},
     "output_type": "execute_result"
    }
   ],
   "source": [
    "df.iloc[0,2]"
   ],
   "metadata": {
    "collapsed": false,
    "pycharm": {
     "name": "#%%\n"
    }
   }
  },
  {
   "cell_type": "code",
   "execution_count": 225,
   "outputs": [
    {
     "name": "stderr",
     "output_type": "stream",
     "text": [
      "/home/sdu-w-001/anaconda3/envs/jsp_gdal/lib/python3.7/site-packages/pingouin/correlation.py:830: RuntimeWarning: divide by zero encountered in true_divide\n",
      "  D = np.diag(np.sqrt(1 / Vi_diag))\n",
      "/home/sdu-w-001/anaconda3/envs/jsp_gdal/lib/python3.7/site-packages/pingouin/correlation.py:831: RuntimeWarning: invalid value encountered in matmul\n",
      "  pcor = -1 * (D @ Vi @ D)  # Partial correlation matrix\n"
     ]
    }
   ],
   "source": [
    "woody_partial_corr = pd.DataFrame(columns=['site', 'species', 'eos-sos-r', 'eos-sos-p_val', 'eos-gpp-r', 'eos-gpp-p_val',\n",
    "                                                            'eos-tmean-r', 'eos-tmean-p_val', 'eos-pre-r', 'eos-pre-p_val',\n",
    "                                                            'eos-solr-r', 'eos-solr-p_val', 'eos-sm-r', 'eos-sm-p_val'])\n",
    "for k in range(len(files)):\n",
    "    csv_path = file_path + files[k]\n",
    "    df = pd.read_csv(csv_path)\n",
    "    df = df.dropna()\n",
    "    df = df.drop(['Unnamed: 0'], axis=1)\n",
    "    if df.shape[0]>6:\n",
    "        eos_sos = pg.partial_corr(data= df, x='sos', y= 'eos', covar=['tmean', 'pre','solr', 'sm', 'gpp'], method='spearman').round(5)\n",
    "        eos_sos.columns  = ['n', 'r', 'CI95%','p']\n",
    "        eos_gpp = pg.partial_corr(data= df, x='gpp', y= 'eos', covar=['tmean', 'pre','solr', 'sm', 'sos'], method='spearman').round(5)\n",
    "        eos_gpp.columns  = ['n', 'r', 'CI95%','p']\n",
    "        eos_tmean = pg.partial_corr(data= df, x='tmean', y= 'eos', covar=['sos', 'pre','solr', 'sm', 'gpp'], method='spearman').round(5)\n",
    "        eos_tmean.columns  = ['n', 'r', 'CI95%','p']\n",
    "        eos_pre = pg.partial_corr(data= df, x='pre', y= 'eos', covar=['sos', 'tmean','solr', 'sm', 'gpp'], method='spearman').round(5)\n",
    "        eos_pre.columns  = ['n', 'r', 'CI95%','p']\n",
    "        eos_solr = pg.partial_corr(data= df, x='solr', y= 'eos', covar=['sos', 'tmean','pre', 'sm', 'gpp'], method='spearman').round(5)\n",
    "        eos_solr.columns  = ['n', 'r', 'CI95%','p']\n",
    "        eos_sm = pg.partial_corr(data= df, x='sm', y= 'eos', covar=['sos', 'tmean','pre', 'solr', 'gpp'], method='spearman').round(5)\n",
    "        eos_sm.columns  = ['n', 'r', 'CI95%','p']\n",
    "        woody_partial_corr = woody_partial_corr.append(pd.DataFrame({'site':[df.iloc[0,1]],'species':[df.iloc[0,2]], 'eos-sos-r':[eos_sos.r[0]],\n",
    "                                                                       'eos-sos-p_val': [eos_sos.p[0]], 'eos-gpp-r': [eos_gpp.r[0]],\n",
    "                                                                       'eos-gpp-p_val': [eos_gpp.p[0]], 'eos-tmean-r': [eos_tmean.r[0]],\n",
    "                                                                       'eos-tmean-p_val': [eos_tmean.p[0]], 'eos-pre-r': [eos_pre.r[0]],\n",
    "                                                                       'eos-pre-p_val': [eos_pre.p[0]], 'eos-solr-r': [eos_solr.r[0]],\n",
    "                                                                       'eos-solr-p_val': [eos_solr.p[0]], 'eos-sm-r': [eos_sm.r[0]],\n",
    "                                                                       'eos-sm-p_val': [eos_sm.p[0]]\n",
    "                                                                   }), ignore_index=True)\n",
    "\n",
    "woody_partial_corr.to_csv('/data/shuping/data/china_phenology/results/partial_corr_results_with_gpp/woody_partial_corr.csv', encoding='utf_8_sig')"
   ],
   "metadata": {
    "collapsed": false,
    "pycharm": {
     "name": "#%%\n"
    }
   }
  },
  {
   "cell_type": "markdown",
   "source": [
    "##herb"
   ],
   "metadata": {
    "collapsed": false,
    "pycharm": {
     "name": "#%% md\n"
    }
   }
  },
  {
   "cell_type": "code",
   "execution_count": 226,
   "outputs": [
    {
     "data": {
      "text/plain": "['50655_36.csv',\n '50871_36.csv',\n '50873_36.csv',\n '50892_36.csv',\n '50964_7.csv',\n '51931_24.csv',\n '51931_35.csv',\n '51931_5.csv',\n '52101_33.csv',\n '52203_25.csv',\n '52203_33.csv',\n '52203_36.csv',\n '52656_33.csv',\n '52656_36.csv',\n '52656_7.csv',\n '52737_5.csv',\n '52825_32.csv',\n '52855_32.csv',\n '52855_33.csv',\n '52895_33.csv',\n '52895_36.csv',\n '52984_36.csv',\n '52984_37.csv',\n '52984_7.csv',\n '52995_36.csv',\n '52995_7.csv',\n '53611_32.csv',\n '53674_7.csv',\n '53704_25.csv',\n '53704_7.csv',\n '53723_28.csv',\n '53769_7.csv',\n '53817_36.csv',\n '53817_7.csv',\n '53821_9.csv',\n '53845_7.csv',\n '53863_7.csv',\n '53868_28.csv',\n '53868_36.csv',\n '53877_36.csv',\n '53877_7.csv',\n '53942_7.csv',\n '53956_7.csv',\n '53959_28.csv',\n '53991_28.csv',\n '53991_7.csv',\n '54049_36.csv',\n '54154_36.csv',\n '54154_7.csv',\n '54165_7.csv',\n '54186_36.csv',\n '54237_6.csv',\n '54260_36.csv',\n '54260_7.csv',\n '54266_36.csv',\n '54333_33.csv',\n '54362_7.csv',\n '54714_3.csv',\n '54714_36.csv',\n '54714_6.csv',\n '54714_7.csv',\n '54725_6.csv',\n '54764_36.csv',\n '54764_6.csv',\n '54764_7.csv',\n '54777_28.csv',\n '54777_6.csv',\n '54821_6.csv',\n '54821_7.csv',\n '54827_28.csv',\n '54827_7.csv',\n '54830_7.csv',\n '54843_28.csv',\n '54843_36.csv',\n '54843_7.csv',\n '54849_28.csv',\n '54849_36.csv',\n '54849_7.csv',\n '54900_35.csv',\n '54936_6.csv',\n '54938_37.csv',\n '56045_16.csv',\n '56074_36.csv',\n '56079_36.csv',\n '56079_7.csv',\n '57043_28.csv',\n '57043_36.csv',\n '57048_36.csv',\n '57048_6.csv',\n '57067_6.csv',\n '57067_7.csv',\n '57075_7.csv',\n '57096_20.csv',\n '57102_29.csv',\n '57102_7.csv',\n '57178_7.csv',\n '57297_45.csv',\n '57297_6.csv',\n '57297_7.csv',\n '57381_29.csv',\n '57482_29.csv',\n '57483_29.csv',\n '57483_36.csv',\n '57483_7.csv',\n '58002_6.csv',\n '58049_32.csv',\n '58269_32.csv',\n '58319_7.csv',\n '58346_45.csv']"
     },
     "execution_count": 226,
     "metadata": {},
     "output_type": "execute_result"
    }
   ],
   "source": [
    "file_path = '/data/shuping/data/china_phenology/partial_corr/herb/highest_corr_climate_series_with_gpp/'\n",
    "files = sorted(os.listdir(file_path))\n",
    "files"
   ],
   "metadata": {
    "collapsed": false,
    "pycharm": {
     "name": "#%%\n"
    }
   }
  },
  {
   "cell_type": "code",
   "execution_count": 227,
   "outputs": [
    {
     "data": {
      "text/plain": "    year   site  species    sos    eos  tmean         pre        solr  \\\n0   1996  50655       36  107.0  280.0    2.0  449.100007  317.326645   \n1   1997  50655       36  105.0  289.0    1.4  446.100004  302.143738   \n2   1998  50655       36   99.0  290.0    5.1  598.099995  299.763321   \n3   1999  50655       36  107.0  283.0    1.7  411.600019  313.273514   \n4   2000  50655       36  111.0  284.0    2.5  329.200008  314.397934   \n5   2001  50655       36  114.0  285.0    4.5  254.900005  322.643997   \n6   2002  50655       36  106.0  284.0    1.3  376.800010  317.559738   \n7   2003  50655       36  106.0  284.0    4.2  611.500010  309.037323   \n8   2004  50655       36  109.0  285.0    5.1  297.199999  303.276154   \n9   2005  50655       36  113.0  285.0    4.7  325.300009  313.278656   \n10  2006  50655       36  114.0  285.0    4.2  438.600007  319.492157   \n11  2007  50655       36  110.0  285.0    4.0  231.700006  311.164673   \n12  2008  50655       36  106.0  286.0    4.9  311.000000  312.312851   \n13  2009  50655       36  108.0  285.0    4.0  487.600014  311.412354   \n14  2010  50655       36  121.0  286.0    3.3  340.900007  318.349640   \n15  2011  50655       36  113.0  287.0    5.6  338.500000  312.801697   \n\n            sm         gpp  \n0   201.329276  736.384503  \n1   187.070380  770.271492  \n2   272.688370  741.418310  \n3   291.945663  681.598674  \n4   188.669803  747.438287  \n5   144.046335  714.083090  \n6   150.857321  763.939005  \n7   285.762723  610.431187  \n8   178.319604  639.359371  \n9   168.793668  679.368884  \n10  240.744501  675.823381  \n11  144.169981  669.633588  \n12  136.958371  683.183288  \n13  214.809348  707.878492  \n14  228.923914  712.594256  \n15  209.292575  783.905644  ",
      "text/html": "<div>\n<style scoped>\n    .dataframe tbody tr th:only-of-type {\n        vertical-align: middle;\n    }\n\n    .dataframe tbody tr th {\n        vertical-align: top;\n    }\n\n    .dataframe thead th {\n        text-align: right;\n    }\n</style>\n<table border=\"1\" class=\"dataframe\">\n  <thead>\n    <tr style=\"text-align: right;\">\n      <th></th>\n      <th>year</th>\n      <th>site</th>\n      <th>species</th>\n      <th>sos</th>\n      <th>eos</th>\n      <th>tmean</th>\n      <th>pre</th>\n      <th>solr</th>\n      <th>sm</th>\n      <th>gpp</th>\n    </tr>\n  </thead>\n  <tbody>\n    <tr>\n      <th>0</th>\n      <td>1996</td>\n      <td>50655</td>\n      <td>36</td>\n      <td>107.0</td>\n      <td>280.0</td>\n      <td>2.0</td>\n      <td>449.100007</td>\n      <td>317.326645</td>\n      <td>201.329276</td>\n      <td>736.384503</td>\n    </tr>\n    <tr>\n      <th>1</th>\n      <td>1997</td>\n      <td>50655</td>\n      <td>36</td>\n      <td>105.0</td>\n      <td>289.0</td>\n      <td>1.4</td>\n      <td>446.100004</td>\n      <td>302.143738</td>\n      <td>187.070380</td>\n      <td>770.271492</td>\n    </tr>\n    <tr>\n      <th>2</th>\n      <td>1998</td>\n      <td>50655</td>\n      <td>36</td>\n      <td>99.0</td>\n      <td>290.0</td>\n      <td>5.1</td>\n      <td>598.099995</td>\n      <td>299.763321</td>\n      <td>272.688370</td>\n      <td>741.418310</td>\n    </tr>\n    <tr>\n      <th>3</th>\n      <td>1999</td>\n      <td>50655</td>\n      <td>36</td>\n      <td>107.0</td>\n      <td>283.0</td>\n      <td>1.7</td>\n      <td>411.600019</td>\n      <td>313.273514</td>\n      <td>291.945663</td>\n      <td>681.598674</td>\n    </tr>\n    <tr>\n      <th>4</th>\n      <td>2000</td>\n      <td>50655</td>\n      <td>36</td>\n      <td>111.0</td>\n      <td>284.0</td>\n      <td>2.5</td>\n      <td>329.200008</td>\n      <td>314.397934</td>\n      <td>188.669803</td>\n      <td>747.438287</td>\n    </tr>\n    <tr>\n      <th>5</th>\n      <td>2001</td>\n      <td>50655</td>\n      <td>36</td>\n      <td>114.0</td>\n      <td>285.0</td>\n      <td>4.5</td>\n      <td>254.900005</td>\n      <td>322.643997</td>\n      <td>144.046335</td>\n      <td>714.083090</td>\n    </tr>\n    <tr>\n      <th>6</th>\n      <td>2002</td>\n      <td>50655</td>\n      <td>36</td>\n      <td>106.0</td>\n      <td>284.0</td>\n      <td>1.3</td>\n      <td>376.800010</td>\n      <td>317.559738</td>\n      <td>150.857321</td>\n      <td>763.939005</td>\n    </tr>\n    <tr>\n      <th>7</th>\n      <td>2003</td>\n      <td>50655</td>\n      <td>36</td>\n      <td>106.0</td>\n      <td>284.0</td>\n      <td>4.2</td>\n      <td>611.500010</td>\n      <td>309.037323</td>\n      <td>285.762723</td>\n      <td>610.431187</td>\n    </tr>\n    <tr>\n      <th>8</th>\n      <td>2004</td>\n      <td>50655</td>\n      <td>36</td>\n      <td>109.0</td>\n      <td>285.0</td>\n      <td>5.1</td>\n      <td>297.199999</td>\n      <td>303.276154</td>\n      <td>178.319604</td>\n      <td>639.359371</td>\n    </tr>\n    <tr>\n      <th>9</th>\n      <td>2005</td>\n      <td>50655</td>\n      <td>36</td>\n      <td>113.0</td>\n      <td>285.0</td>\n      <td>4.7</td>\n      <td>325.300009</td>\n      <td>313.278656</td>\n      <td>168.793668</td>\n      <td>679.368884</td>\n    </tr>\n    <tr>\n      <th>10</th>\n      <td>2006</td>\n      <td>50655</td>\n      <td>36</td>\n      <td>114.0</td>\n      <td>285.0</td>\n      <td>4.2</td>\n      <td>438.600007</td>\n      <td>319.492157</td>\n      <td>240.744501</td>\n      <td>675.823381</td>\n    </tr>\n    <tr>\n      <th>11</th>\n      <td>2007</td>\n      <td>50655</td>\n      <td>36</td>\n      <td>110.0</td>\n      <td>285.0</td>\n      <td>4.0</td>\n      <td>231.700006</td>\n      <td>311.164673</td>\n      <td>144.169981</td>\n      <td>669.633588</td>\n    </tr>\n    <tr>\n      <th>12</th>\n      <td>2008</td>\n      <td>50655</td>\n      <td>36</td>\n      <td>106.0</td>\n      <td>286.0</td>\n      <td>4.9</td>\n      <td>311.000000</td>\n      <td>312.312851</td>\n      <td>136.958371</td>\n      <td>683.183288</td>\n    </tr>\n    <tr>\n      <th>13</th>\n      <td>2009</td>\n      <td>50655</td>\n      <td>36</td>\n      <td>108.0</td>\n      <td>285.0</td>\n      <td>4.0</td>\n      <td>487.600014</td>\n      <td>311.412354</td>\n      <td>214.809348</td>\n      <td>707.878492</td>\n    </tr>\n    <tr>\n      <th>14</th>\n      <td>2010</td>\n      <td>50655</td>\n      <td>36</td>\n      <td>121.0</td>\n      <td>286.0</td>\n      <td>3.3</td>\n      <td>340.900007</td>\n      <td>318.349640</td>\n      <td>228.923914</td>\n      <td>712.594256</td>\n    </tr>\n    <tr>\n      <th>15</th>\n      <td>2011</td>\n      <td>50655</td>\n      <td>36</td>\n      <td>113.0</td>\n      <td>287.0</td>\n      <td>5.6</td>\n      <td>338.500000</td>\n      <td>312.801697</td>\n      <td>209.292575</td>\n      <td>783.905644</td>\n    </tr>\n  </tbody>\n</table>\n</div>"
     },
     "execution_count": 227,
     "metadata": {},
     "output_type": "execute_result"
    }
   ],
   "source": [
    "csv_path = '/data/shuping/data/china_phenology/partial_corr/herb/highest_corr_climate_series_with_gpp/50655_36.csv'\n",
    "df = pd.read_csv(csv_path)\n",
    "df = df.dropna()\n",
    "df = df.drop(['Unnamed: 0'], axis=1)\n",
    "df"
   ],
   "metadata": {
    "collapsed": false,
    "pycharm": {
     "name": "#%%\n"
    }
   }
  },
  {
   "cell_type": "code",
   "execution_count": 228,
   "outputs": [],
   "source": [
    "herb_partial_corr = pd.DataFrame(columns=['site', 'species', 'eos-sos-r', 'eos-sos-p_val', 'eos-gpp-r', 'eos-gpp-p_val',\n",
    "                                                            'eos-tmean-r', 'eos-tmean-p_val', 'eos-pre-r', 'eos-pre-p_val',\n",
    "                                                            'eos-solr-r', 'eos-solr-p_val', 'eos-sm-r', 'eos-sm-p_val'])\n",
    "for k in range(len(files)):\n",
    "    csv_path = file_path + files[k]\n",
    "    df = pd.read_csv(csv_path)\n",
    "    df = df.dropna()\n",
    "    df = df.drop(['Unnamed: 0'], axis=1)\n",
    "    if df.shape[0]>6:\n",
    "        eos_sos = pg.partial_corr(data= df, x='sos', y= 'eos', covar=['tmean', 'pre','solr', 'sm', 'gpp'], method='spearman').round(5)\n",
    "        eos_sos.columns  = ['n', 'r', 'CI95%','p']\n",
    "        eos_gpp = pg.partial_corr(data= df, x='gpp', y= 'eos', covar=['tmean', 'pre','solr', 'sm', 'sos'], method='spearman').round(5)\n",
    "        eos_gpp.columns  = ['n', 'r', 'CI95%','p']\n",
    "        eos_tmean = pg.partial_corr(data= df, x='tmean', y= 'eos', covar=['sos', 'pre','solr', 'sm', 'gpp'], method='spearman').round(5)\n",
    "        eos_tmean.columns  = ['n', 'r', 'CI95%','p']\n",
    "        eos_pre = pg.partial_corr(data= df, x='pre', y= 'eos', covar=['sos', 'tmean','solr', 'sm', 'gpp'], method='spearman').round(5)\n",
    "        eos_pre.columns  = ['n', 'r', 'CI95%','p']\n",
    "        eos_solr = pg.partial_corr(data= df, x='solr', y= 'eos', covar=['sos', 'tmean','pre', 'sm', 'gpp'], method='spearman').round(5)\n",
    "        eos_solr.columns  = ['n', 'r', 'CI95%','p']\n",
    "        eos_sm = pg.partial_corr(data= df, x='sm', y= 'eos', covar=['sos', 'tmean','pre', 'solr', 'gpp'], method='spearman').round(5)\n",
    "        eos_sm.columns  = ['n', 'r', 'CI95%','p']\n",
    "        herb_partial_corr = herb_partial_corr.append(pd.DataFrame({'site':[df.iloc[0,1]],'species':[df.iloc[0,2]], 'eos-sos-r':[eos_sos.r[0]],\n",
    "                                                                       'eos-sos-p_val': [eos_sos.p[0]], 'eos-gpp-r': [eos_gpp.r[0]],\n",
    "                                                                       'eos-gpp-p_val': [eos_gpp.p[0]], 'eos-tmean-r': [eos_tmean.r[0]],\n",
    "                                                                       'eos-tmean-p_val': [eos_tmean.p[0]], 'eos-pre-r': [eos_pre.r[0]],\n",
    "                                                                       'eos-pre-p_val': [eos_pre.p[0]], 'eos-solr-r': [eos_solr.r[0]],\n",
    "                                                                       'eos-solr-p_val': [eos_solr.p[0]], 'eos-sm-r': [eos_sm.r[0]],\n",
    "                                                                       'eos-sm-p_val': [eos_sm.p[0]]\n",
    "                                                                   }), ignore_index=True)\n",
    "\n",
    "herb_partial_corr.to_csv('/data/shuping/data/china_phenology/results/partial_corr_results_with_gpp/herb_partial_corr_with_gpp.csv')"
   ],
   "metadata": {
    "collapsed": false,
    "pycharm": {
     "name": "#%%\n"
    }
   }
  },
  {
   "cell_type": "markdown",
   "source": [
    "# 6 寻找最大偏相关并返回气候变量"
   ],
   "metadata": {
    "collapsed": false,
    "pycharm": {
     "name": "#%% md\n"
    }
   }
  },
  {
   "cell_type": "markdown",
   "source": [
    "##woody"
   ],
   "metadata": {
    "collapsed": false,
    "pycharm": {
     "name": "#%% md\n"
    }
   }
  },
  {
   "cell_type": "code",
   "execution_count": 229,
   "outputs": [
    {
     "data": {
      "text/plain": "      site species  eos-sos-r  eos-sos-p_val  eos-gpp-r  eos-gpp-p_val  \\\n0    50639      榆树    0.21600        0.38932    0.17182        0.49541   \n1    50655     中东杨    0.10658        0.72892    0.17874        0.55906   \n2    50756     小叶杨    0.12968        0.70392   -0.10526        0.75808   \n3    50756     紫丁香    0.19219        0.57129    0.08909        0.79449   \n4    50788     小叶杨    0.12266        0.71937    0.49894        0.11821   \n..     ...     ...        ...            ...        ...            ...   \n278  58339      楝树   -0.17741        0.62390   -0.11935        0.74260   \n279  58346      梧桐    0.36301        0.16699    0.52838        0.03537   \n280  58356      水杉   -0.05896        0.86328   -0.27116        0.41993   \n281  58433      刺槐    0.26940        0.19282    0.53025        0.00640   \n282  58433      楝树    0.36754        0.07068    0.56017        0.00359   \n\n     eos-tmean-r  eos-tmean-p_val  eos-pre-r  eos-pre-p_val  eos-solr-r  \\\n0       -0.08853          0.72685   -0.12437        0.62292    -0.15655   \n1        0.42800          0.14457    0.10857        0.72404     0.28210   \n2        0.05870          0.86387    0.08984        0.79280    -0.17384   \n3        0.20572          0.54395   -0.04518        0.89506    -0.14016   \n4        0.22930          0.49762    0.29193        0.38371    -0.23286   \n..           ...              ...        ...            ...         ...   \n278      0.20172          0.57627    0.44149        0.20149    -0.08744   \n279      0.10591          0.69626   -0.37121        0.15691    -0.41030   \n280      0.33134          0.31956   -0.11905        0.72735     0.36693   \n281      0.35800          0.07890    0.39226        0.05245     0.05430   \n282      0.26383          0.20255   -0.34603        0.09019    -0.32204   \n\n     eos-solr-p_val  eos-sm-r  eos-sm-p_val  \n0           0.53504  -0.10994       0.66410  \n1           0.35040  -0.14348       0.64005  \n2           0.60921  -0.32573       0.32831  \n3           0.68105   0.07955       0.81615  \n4           0.49078   0.26885       0.42405  \n..              ...       ...           ...  \n278         0.81017  -0.61509       0.05840  \n279         0.11445  -0.39275       0.13237  \n280         0.26700  -0.09787       0.77466  \n281         0.79658   0.02980       0.88754  \n282         0.11644  -0.19844       0.34165  \n\n[283 rows x 14 columns]",
      "text/html": "<div>\n<style scoped>\n    .dataframe tbody tr th:only-of-type {\n        vertical-align: middle;\n    }\n\n    .dataframe tbody tr th {\n        vertical-align: top;\n    }\n\n    .dataframe thead th {\n        text-align: right;\n    }\n</style>\n<table border=\"1\" class=\"dataframe\">\n  <thead>\n    <tr style=\"text-align: right;\">\n      <th></th>\n      <th>site</th>\n      <th>species</th>\n      <th>eos-sos-r</th>\n      <th>eos-sos-p_val</th>\n      <th>eos-gpp-r</th>\n      <th>eos-gpp-p_val</th>\n      <th>eos-tmean-r</th>\n      <th>eos-tmean-p_val</th>\n      <th>eos-pre-r</th>\n      <th>eos-pre-p_val</th>\n      <th>eos-solr-r</th>\n      <th>eos-solr-p_val</th>\n      <th>eos-sm-r</th>\n      <th>eos-sm-p_val</th>\n    </tr>\n  </thead>\n  <tbody>\n    <tr>\n      <th>0</th>\n      <td>50639</td>\n      <td>榆树</td>\n      <td>0.21600</td>\n      <td>0.38932</td>\n      <td>0.17182</td>\n      <td>0.49541</td>\n      <td>-0.08853</td>\n      <td>0.72685</td>\n      <td>-0.12437</td>\n      <td>0.62292</td>\n      <td>-0.15655</td>\n      <td>0.53504</td>\n      <td>-0.10994</td>\n      <td>0.66410</td>\n    </tr>\n    <tr>\n      <th>1</th>\n      <td>50655</td>\n      <td>中东杨</td>\n      <td>0.10658</td>\n      <td>0.72892</td>\n      <td>0.17874</td>\n      <td>0.55906</td>\n      <td>0.42800</td>\n      <td>0.14457</td>\n      <td>0.10857</td>\n      <td>0.72404</td>\n      <td>0.28210</td>\n      <td>0.35040</td>\n      <td>-0.14348</td>\n      <td>0.64005</td>\n    </tr>\n    <tr>\n      <th>2</th>\n      <td>50756</td>\n      <td>小叶杨</td>\n      <td>0.12968</td>\n      <td>0.70392</td>\n      <td>-0.10526</td>\n      <td>0.75808</td>\n      <td>0.05870</td>\n      <td>0.86387</td>\n      <td>0.08984</td>\n      <td>0.79280</td>\n      <td>-0.17384</td>\n      <td>0.60921</td>\n      <td>-0.32573</td>\n      <td>0.32831</td>\n    </tr>\n    <tr>\n      <th>3</th>\n      <td>50756</td>\n      <td>紫丁香</td>\n      <td>0.19219</td>\n      <td>0.57129</td>\n      <td>0.08909</td>\n      <td>0.79449</td>\n      <td>0.20572</td>\n      <td>0.54395</td>\n      <td>-0.04518</td>\n      <td>0.89506</td>\n      <td>-0.14016</td>\n      <td>0.68105</td>\n      <td>0.07955</td>\n      <td>0.81615</td>\n    </tr>\n    <tr>\n      <th>4</th>\n      <td>50788</td>\n      <td>小叶杨</td>\n      <td>0.12266</td>\n      <td>0.71937</td>\n      <td>0.49894</td>\n      <td>0.11821</td>\n      <td>0.22930</td>\n      <td>0.49762</td>\n      <td>0.29193</td>\n      <td>0.38371</td>\n      <td>-0.23286</td>\n      <td>0.49078</td>\n      <td>0.26885</td>\n      <td>0.42405</td>\n    </tr>\n    <tr>\n      <th>...</th>\n      <td>...</td>\n      <td>...</td>\n      <td>...</td>\n      <td>...</td>\n      <td>...</td>\n      <td>...</td>\n      <td>...</td>\n      <td>...</td>\n      <td>...</td>\n      <td>...</td>\n      <td>...</td>\n      <td>...</td>\n      <td>...</td>\n      <td>...</td>\n    </tr>\n    <tr>\n      <th>278</th>\n      <td>58339</td>\n      <td>楝树</td>\n      <td>-0.17741</td>\n      <td>0.62390</td>\n      <td>-0.11935</td>\n      <td>0.74260</td>\n      <td>0.20172</td>\n      <td>0.57627</td>\n      <td>0.44149</td>\n      <td>0.20149</td>\n      <td>-0.08744</td>\n      <td>0.81017</td>\n      <td>-0.61509</td>\n      <td>0.05840</td>\n    </tr>\n    <tr>\n      <th>279</th>\n      <td>58346</td>\n      <td>梧桐</td>\n      <td>0.36301</td>\n      <td>0.16699</td>\n      <td>0.52838</td>\n      <td>0.03537</td>\n      <td>0.10591</td>\n      <td>0.69626</td>\n      <td>-0.37121</td>\n      <td>0.15691</td>\n      <td>-0.41030</td>\n      <td>0.11445</td>\n      <td>-0.39275</td>\n      <td>0.13237</td>\n    </tr>\n    <tr>\n      <th>280</th>\n      <td>58356</td>\n      <td>水杉</td>\n      <td>-0.05896</td>\n      <td>0.86328</td>\n      <td>-0.27116</td>\n      <td>0.41993</td>\n      <td>0.33134</td>\n      <td>0.31956</td>\n      <td>-0.11905</td>\n      <td>0.72735</td>\n      <td>0.36693</td>\n      <td>0.26700</td>\n      <td>-0.09787</td>\n      <td>0.77466</td>\n    </tr>\n    <tr>\n      <th>281</th>\n      <td>58433</td>\n      <td>刺槐</td>\n      <td>0.26940</td>\n      <td>0.19282</td>\n      <td>0.53025</td>\n      <td>0.00640</td>\n      <td>0.35800</td>\n      <td>0.07890</td>\n      <td>0.39226</td>\n      <td>0.05245</td>\n      <td>0.05430</td>\n      <td>0.79658</td>\n      <td>0.02980</td>\n      <td>0.88754</td>\n    </tr>\n    <tr>\n      <th>282</th>\n      <td>58433</td>\n      <td>楝树</td>\n      <td>0.36754</td>\n      <td>0.07068</td>\n      <td>0.56017</td>\n      <td>0.00359</td>\n      <td>0.26383</td>\n      <td>0.20255</td>\n      <td>-0.34603</td>\n      <td>0.09019</td>\n      <td>-0.32204</td>\n      <td>0.11644</td>\n      <td>-0.19844</td>\n      <td>0.34165</td>\n    </tr>\n  </tbody>\n</table>\n<p>283 rows × 14 columns</p>\n</div>"
     },
     "execution_count": 229,
     "metadata": {},
     "output_type": "execute_result"
    }
   ],
   "source": [
    "csv_path = '/data/shuping/data/china_phenology/results/partial_corr_results_with_gpp/woody_partial_corr_with_gpp.csv'\n",
    "df = pd.read_csv(csv_path)\n",
    "df = df.drop(['Unnamed: 0'], axis=1)\n",
    "df"
   ],
   "metadata": {
    "collapsed": false,
    "pycharm": {
     "name": "#%%\n"
    }
   }
  },
  {
   "cell_type": "code",
   "execution_count": 230,
   "outputs": [
    {
     "data": {
      "text/plain": "         sos      gpp    tmean      pre     solr       sm\n0    0.21600  0.17182 -0.08853 -0.12437 -0.15655 -0.10994\n1    0.10658  0.17874  0.42800  0.10857  0.28210 -0.14348\n2    0.12968 -0.10526  0.05870  0.08984 -0.17384 -0.32573\n3    0.19219  0.08909  0.20572 -0.04518 -0.14016  0.07955\n4    0.12266  0.49894  0.22930  0.29193 -0.23286  0.26885\n..       ...      ...      ...      ...      ...      ...\n278 -0.17741 -0.11935  0.20172  0.44149 -0.08744 -0.61509\n279  0.36301  0.52838  0.10591 -0.37121 -0.41030 -0.39275\n280 -0.05896 -0.27116  0.33134 -0.11905  0.36693 -0.09787\n281  0.26940  0.53025  0.35800  0.39226  0.05430  0.02980\n282  0.36754  0.56017  0.26383 -0.34603 -0.32204 -0.19844\n\n[283 rows x 6 columns]",
      "text/html": "<div>\n<style scoped>\n    .dataframe tbody tr th:only-of-type {\n        vertical-align: middle;\n    }\n\n    .dataframe tbody tr th {\n        vertical-align: top;\n    }\n\n    .dataframe thead th {\n        text-align: right;\n    }\n</style>\n<table border=\"1\" class=\"dataframe\">\n  <thead>\n    <tr style=\"text-align: right;\">\n      <th></th>\n      <th>sos</th>\n      <th>gpp</th>\n      <th>tmean</th>\n      <th>pre</th>\n      <th>solr</th>\n      <th>sm</th>\n    </tr>\n  </thead>\n  <tbody>\n    <tr>\n      <th>0</th>\n      <td>0.21600</td>\n      <td>0.17182</td>\n      <td>-0.08853</td>\n      <td>-0.12437</td>\n      <td>-0.15655</td>\n      <td>-0.10994</td>\n    </tr>\n    <tr>\n      <th>1</th>\n      <td>0.10658</td>\n      <td>0.17874</td>\n      <td>0.42800</td>\n      <td>0.10857</td>\n      <td>0.28210</td>\n      <td>-0.14348</td>\n    </tr>\n    <tr>\n      <th>2</th>\n      <td>0.12968</td>\n      <td>-0.10526</td>\n      <td>0.05870</td>\n      <td>0.08984</td>\n      <td>-0.17384</td>\n      <td>-0.32573</td>\n    </tr>\n    <tr>\n      <th>3</th>\n      <td>0.19219</td>\n      <td>0.08909</td>\n      <td>0.20572</td>\n      <td>-0.04518</td>\n      <td>-0.14016</td>\n      <td>0.07955</td>\n    </tr>\n    <tr>\n      <th>4</th>\n      <td>0.12266</td>\n      <td>0.49894</td>\n      <td>0.22930</td>\n      <td>0.29193</td>\n      <td>-0.23286</td>\n      <td>0.26885</td>\n    </tr>\n    <tr>\n      <th>...</th>\n      <td>...</td>\n      <td>...</td>\n      <td>...</td>\n      <td>...</td>\n      <td>...</td>\n      <td>...</td>\n    </tr>\n    <tr>\n      <th>278</th>\n      <td>-0.17741</td>\n      <td>-0.11935</td>\n      <td>0.20172</td>\n      <td>0.44149</td>\n      <td>-0.08744</td>\n      <td>-0.61509</td>\n    </tr>\n    <tr>\n      <th>279</th>\n      <td>0.36301</td>\n      <td>0.52838</td>\n      <td>0.10591</td>\n      <td>-0.37121</td>\n      <td>-0.41030</td>\n      <td>-0.39275</td>\n    </tr>\n    <tr>\n      <th>280</th>\n      <td>-0.05896</td>\n      <td>-0.27116</td>\n      <td>0.33134</td>\n      <td>-0.11905</td>\n      <td>0.36693</td>\n      <td>-0.09787</td>\n    </tr>\n    <tr>\n      <th>281</th>\n      <td>0.26940</td>\n      <td>0.53025</td>\n      <td>0.35800</td>\n      <td>0.39226</td>\n      <td>0.05430</td>\n      <td>0.02980</td>\n    </tr>\n    <tr>\n      <th>282</th>\n      <td>0.36754</td>\n      <td>0.56017</td>\n      <td>0.26383</td>\n      <td>-0.34603</td>\n      <td>-0.32204</td>\n      <td>-0.19844</td>\n    </tr>\n  </tbody>\n</table>\n<p>283 rows × 6 columns</p>\n</div>"
     },
     "execution_count": 230,
     "metadata": {},
     "output_type": "execute_result"
    }
   ],
   "source": [
    "df_only_r = df[['eos-sos-r', 'eos-gpp-r', 'eos-tmean-r', 'eos-pre-r', 'eos-solr-r', 'eos-sm-r']]\n",
    "df_only_r.columns = ['sos', 'gpp', 'tmean', 'pre', 'solr', 'sm']\n",
    "df_only_r"
   ],
   "metadata": {
    "collapsed": false,
    "pycharm": {
     "name": "#%%\n"
    }
   }
  },
  {
   "cell_type": "code",
   "execution_count": 231,
   "outputs": [
    {
     "data": {
      "text/plain": "         sos      gpp    tmean      pre     solr       sm\n0    0.21600  0.17182  0.08853  0.12437  0.15655  0.10994\n1    0.10658  0.17874  0.42800  0.10857  0.28210  0.14348\n2    0.12968  0.10526  0.05870  0.08984  0.17384  0.32573\n3    0.19219  0.08909  0.20572  0.04518  0.14016  0.07955\n4    0.12266  0.49894  0.22930  0.29193  0.23286  0.26885\n..       ...      ...      ...      ...      ...      ...\n278  0.17741  0.11935  0.20172  0.44149  0.08744  0.61509\n279  0.36301  0.52838  0.10591  0.37121  0.41030  0.39275\n280  0.05896  0.27116  0.33134  0.11905  0.36693  0.09787\n281  0.26940  0.53025  0.35800  0.39226  0.05430  0.02980\n282  0.36754  0.56017  0.26383  0.34603  0.32204  0.19844\n\n[283 rows x 6 columns]",
      "text/html": "<div>\n<style scoped>\n    .dataframe tbody tr th:only-of-type {\n        vertical-align: middle;\n    }\n\n    .dataframe tbody tr th {\n        vertical-align: top;\n    }\n\n    .dataframe thead th {\n        text-align: right;\n    }\n</style>\n<table border=\"1\" class=\"dataframe\">\n  <thead>\n    <tr style=\"text-align: right;\">\n      <th></th>\n      <th>sos</th>\n      <th>gpp</th>\n      <th>tmean</th>\n      <th>pre</th>\n      <th>solr</th>\n      <th>sm</th>\n    </tr>\n  </thead>\n  <tbody>\n    <tr>\n      <th>0</th>\n      <td>0.21600</td>\n      <td>0.17182</td>\n      <td>0.08853</td>\n      <td>0.12437</td>\n      <td>0.15655</td>\n      <td>0.10994</td>\n    </tr>\n    <tr>\n      <th>1</th>\n      <td>0.10658</td>\n      <td>0.17874</td>\n      <td>0.42800</td>\n      <td>0.10857</td>\n      <td>0.28210</td>\n      <td>0.14348</td>\n    </tr>\n    <tr>\n      <th>2</th>\n      <td>0.12968</td>\n      <td>0.10526</td>\n      <td>0.05870</td>\n      <td>0.08984</td>\n      <td>0.17384</td>\n      <td>0.32573</td>\n    </tr>\n    <tr>\n      <th>3</th>\n      <td>0.19219</td>\n      <td>0.08909</td>\n      <td>0.20572</td>\n      <td>0.04518</td>\n      <td>0.14016</td>\n      <td>0.07955</td>\n    </tr>\n    <tr>\n      <th>4</th>\n      <td>0.12266</td>\n      <td>0.49894</td>\n      <td>0.22930</td>\n      <td>0.29193</td>\n      <td>0.23286</td>\n      <td>0.26885</td>\n    </tr>\n    <tr>\n      <th>...</th>\n      <td>...</td>\n      <td>...</td>\n      <td>...</td>\n      <td>...</td>\n      <td>...</td>\n      <td>...</td>\n    </tr>\n    <tr>\n      <th>278</th>\n      <td>0.17741</td>\n      <td>0.11935</td>\n      <td>0.20172</td>\n      <td>0.44149</td>\n      <td>0.08744</td>\n      <td>0.61509</td>\n    </tr>\n    <tr>\n      <th>279</th>\n      <td>0.36301</td>\n      <td>0.52838</td>\n      <td>0.10591</td>\n      <td>0.37121</td>\n      <td>0.41030</td>\n      <td>0.39275</td>\n    </tr>\n    <tr>\n      <th>280</th>\n      <td>0.05896</td>\n      <td>0.27116</td>\n      <td>0.33134</td>\n      <td>0.11905</td>\n      <td>0.36693</td>\n      <td>0.09787</td>\n    </tr>\n    <tr>\n      <th>281</th>\n      <td>0.26940</td>\n      <td>0.53025</td>\n      <td>0.35800</td>\n      <td>0.39226</td>\n      <td>0.05430</td>\n      <td>0.02980</td>\n    </tr>\n    <tr>\n      <th>282</th>\n      <td>0.36754</td>\n      <td>0.56017</td>\n      <td>0.26383</td>\n      <td>0.34603</td>\n      <td>0.32204</td>\n      <td>0.19844</td>\n    </tr>\n  </tbody>\n</table>\n<p>283 rows × 6 columns</p>\n</div>"
     },
     "execution_count": 231,
     "metadata": {},
     "output_type": "execute_result"
    }
   ],
   "source": [
    "df_only_r = df_only_r.abs()\n",
    "df_only_r"
   ],
   "metadata": {
    "collapsed": false,
    "pycharm": {
     "name": "#%%\n"
    }
   }
  },
  {
   "cell_type": "code",
   "execution_count": 232,
   "outputs": [
    {
     "data": {
      "text/plain": "         sos      gpp    tmean      pre     solr       sm  abs-max-r max_index\n0    0.21600  0.17182  0.08853  0.12437  0.15655  0.10994    0.21600       sos\n1    0.10658  0.17874  0.42800  0.10857  0.28210  0.14348    0.42800     tmean\n2    0.12968  0.10526  0.05870  0.08984  0.17384  0.32573    0.32573        sm\n3    0.19219  0.08909  0.20572  0.04518  0.14016  0.07955    0.20572     tmean\n4    0.12266  0.49894  0.22930  0.29193  0.23286  0.26885    0.49894       gpp\n..       ...      ...      ...      ...      ...      ...        ...       ...\n278  0.17741  0.11935  0.20172  0.44149  0.08744  0.61509    0.61509        sm\n279  0.36301  0.52838  0.10591  0.37121  0.41030  0.39275    0.52838       gpp\n280  0.05896  0.27116  0.33134  0.11905  0.36693  0.09787    0.36693      solr\n281  0.26940  0.53025  0.35800  0.39226  0.05430  0.02980    0.53025       gpp\n282  0.36754  0.56017  0.26383  0.34603  0.32204  0.19844    0.56017       gpp\n\n[283 rows x 8 columns]",
      "text/html": "<div>\n<style scoped>\n    .dataframe tbody tr th:only-of-type {\n        vertical-align: middle;\n    }\n\n    .dataframe tbody tr th {\n        vertical-align: top;\n    }\n\n    .dataframe thead th {\n        text-align: right;\n    }\n</style>\n<table border=\"1\" class=\"dataframe\">\n  <thead>\n    <tr style=\"text-align: right;\">\n      <th></th>\n      <th>sos</th>\n      <th>gpp</th>\n      <th>tmean</th>\n      <th>pre</th>\n      <th>solr</th>\n      <th>sm</th>\n      <th>abs-max-r</th>\n      <th>max_index</th>\n    </tr>\n  </thead>\n  <tbody>\n    <tr>\n      <th>0</th>\n      <td>0.21600</td>\n      <td>0.17182</td>\n      <td>0.08853</td>\n      <td>0.12437</td>\n      <td>0.15655</td>\n      <td>0.10994</td>\n      <td>0.21600</td>\n      <td>sos</td>\n    </tr>\n    <tr>\n      <th>1</th>\n      <td>0.10658</td>\n      <td>0.17874</td>\n      <td>0.42800</td>\n      <td>0.10857</td>\n      <td>0.28210</td>\n      <td>0.14348</td>\n      <td>0.42800</td>\n      <td>tmean</td>\n    </tr>\n    <tr>\n      <th>2</th>\n      <td>0.12968</td>\n      <td>0.10526</td>\n      <td>0.05870</td>\n      <td>0.08984</td>\n      <td>0.17384</td>\n      <td>0.32573</td>\n      <td>0.32573</td>\n      <td>sm</td>\n    </tr>\n    <tr>\n      <th>3</th>\n      <td>0.19219</td>\n      <td>0.08909</td>\n      <td>0.20572</td>\n      <td>0.04518</td>\n      <td>0.14016</td>\n      <td>0.07955</td>\n      <td>0.20572</td>\n      <td>tmean</td>\n    </tr>\n    <tr>\n      <th>4</th>\n      <td>0.12266</td>\n      <td>0.49894</td>\n      <td>0.22930</td>\n      <td>0.29193</td>\n      <td>0.23286</td>\n      <td>0.26885</td>\n      <td>0.49894</td>\n      <td>gpp</td>\n    </tr>\n    <tr>\n      <th>...</th>\n      <td>...</td>\n      <td>...</td>\n      <td>...</td>\n      <td>...</td>\n      <td>...</td>\n      <td>...</td>\n      <td>...</td>\n      <td>...</td>\n    </tr>\n    <tr>\n      <th>278</th>\n      <td>0.17741</td>\n      <td>0.11935</td>\n      <td>0.20172</td>\n      <td>0.44149</td>\n      <td>0.08744</td>\n      <td>0.61509</td>\n      <td>0.61509</td>\n      <td>sm</td>\n    </tr>\n    <tr>\n      <th>279</th>\n      <td>0.36301</td>\n      <td>0.52838</td>\n      <td>0.10591</td>\n      <td>0.37121</td>\n      <td>0.41030</td>\n      <td>0.39275</td>\n      <td>0.52838</td>\n      <td>gpp</td>\n    </tr>\n    <tr>\n      <th>280</th>\n      <td>0.05896</td>\n      <td>0.27116</td>\n      <td>0.33134</td>\n      <td>0.11905</td>\n      <td>0.36693</td>\n      <td>0.09787</td>\n      <td>0.36693</td>\n      <td>solr</td>\n    </tr>\n    <tr>\n      <th>281</th>\n      <td>0.26940</td>\n      <td>0.53025</td>\n      <td>0.35800</td>\n      <td>0.39226</td>\n      <td>0.05430</td>\n      <td>0.02980</td>\n      <td>0.53025</td>\n      <td>gpp</td>\n    </tr>\n    <tr>\n      <th>282</th>\n      <td>0.36754</td>\n      <td>0.56017</td>\n      <td>0.26383</td>\n      <td>0.34603</td>\n      <td>0.32204</td>\n      <td>0.19844</td>\n      <td>0.56017</td>\n      <td>gpp</td>\n    </tr>\n  </tbody>\n</table>\n<p>283 rows × 8 columns</p>\n</div>"
     },
     "execution_count": 232,
     "metadata": {},
     "output_type": "execute_result"
    }
   ],
   "source": [
    "df_only_r['abs-max-r'] = df_only_r.max(axis=1)\n",
    "df_only_r['max_index']= df_only_r.idxmax(1)\n",
    "df_only_r"
   ],
   "metadata": {
    "collapsed": false,
    "pycharm": {
     "name": "#%%\n"
    }
   }
  },
  {
   "cell_type": "code",
   "execution_count": 233,
   "outputs": [
    {
     "data": {
      "text/plain": "      site species  eos-sos-r  eos-sos-p_val  eos-gpp-r  eos-gpp-p_val  \\\n0    50639      榆树    0.21600        0.38932    0.17182        0.49541   \n1    50655     中东杨    0.10658        0.72892    0.17874        0.55906   \n2    50756     小叶杨    0.12968        0.70392   -0.10526        0.75808   \n3    50756     紫丁香    0.19219        0.57129    0.08909        0.79449   \n4    50788     小叶杨    0.12266        0.71937    0.49894        0.11821   \n..     ...     ...        ...            ...        ...            ...   \n278  58339      楝树   -0.17741        0.62390   -0.11935        0.74260   \n279  58346      梧桐    0.36301        0.16699    0.52838        0.03537   \n280  58356      水杉   -0.05896        0.86328   -0.27116        0.41993   \n281  58433      刺槐    0.26940        0.19282    0.53025        0.00640   \n282  58433      楝树    0.36754        0.07068    0.56017        0.00359   \n\n     eos-tmean-r  eos-tmean-p_val  eos-pre-r  eos-pre-p_val  eos-solr-r  \\\n0       -0.08853          0.72685   -0.12437        0.62292    -0.15655   \n1        0.42800          0.14457    0.10857        0.72404     0.28210   \n2        0.05870          0.86387    0.08984        0.79280    -0.17384   \n3        0.20572          0.54395   -0.04518        0.89506    -0.14016   \n4        0.22930          0.49762    0.29193        0.38371    -0.23286   \n..           ...              ...        ...            ...         ...   \n278      0.20172          0.57627    0.44149        0.20149    -0.08744   \n279      0.10591          0.69626   -0.37121        0.15691    -0.41030   \n280      0.33134          0.31956   -0.11905        0.72735     0.36693   \n281      0.35800          0.07890    0.39226        0.05245     0.05430   \n282      0.26383          0.20255   -0.34603        0.09019    -0.32204   \n\n     eos-solr-p_val  eos-sm-r  eos-sm-p_val  abs-max-r control_variable  \n0           0.53504  -0.10994       0.66410    0.21600              sos  \n1           0.35040  -0.14348       0.64005    0.42800            tmean  \n2           0.60921  -0.32573       0.32831    0.32573               sm  \n3           0.68105   0.07955       0.81615    0.20572            tmean  \n4           0.49078   0.26885       0.42405    0.49894              gpp  \n..              ...       ...           ...        ...              ...  \n278         0.81017  -0.61509       0.05840    0.61509               sm  \n279         0.11445  -0.39275       0.13237    0.52838              gpp  \n280         0.26700  -0.09787       0.77466    0.36693             solr  \n281         0.79658   0.02980       0.88754    0.53025              gpp  \n282         0.11644  -0.19844       0.34165    0.56017              gpp  \n\n[283 rows x 16 columns]",
      "text/html": "<div>\n<style scoped>\n    .dataframe tbody tr th:only-of-type {\n        vertical-align: middle;\n    }\n\n    .dataframe tbody tr th {\n        vertical-align: top;\n    }\n\n    .dataframe thead th {\n        text-align: right;\n    }\n</style>\n<table border=\"1\" class=\"dataframe\">\n  <thead>\n    <tr style=\"text-align: right;\">\n      <th></th>\n      <th>site</th>\n      <th>species</th>\n      <th>eos-sos-r</th>\n      <th>eos-sos-p_val</th>\n      <th>eos-gpp-r</th>\n      <th>eos-gpp-p_val</th>\n      <th>eos-tmean-r</th>\n      <th>eos-tmean-p_val</th>\n      <th>eos-pre-r</th>\n      <th>eos-pre-p_val</th>\n      <th>eos-solr-r</th>\n      <th>eos-solr-p_val</th>\n      <th>eos-sm-r</th>\n      <th>eos-sm-p_val</th>\n      <th>abs-max-r</th>\n      <th>control_variable</th>\n    </tr>\n  </thead>\n  <tbody>\n    <tr>\n      <th>0</th>\n      <td>50639</td>\n      <td>榆树</td>\n      <td>0.21600</td>\n      <td>0.38932</td>\n      <td>0.17182</td>\n      <td>0.49541</td>\n      <td>-0.08853</td>\n      <td>0.72685</td>\n      <td>-0.12437</td>\n      <td>0.62292</td>\n      <td>-0.15655</td>\n      <td>0.53504</td>\n      <td>-0.10994</td>\n      <td>0.66410</td>\n      <td>0.21600</td>\n      <td>sos</td>\n    </tr>\n    <tr>\n      <th>1</th>\n      <td>50655</td>\n      <td>中东杨</td>\n      <td>0.10658</td>\n      <td>0.72892</td>\n      <td>0.17874</td>\n      <td>0.55906</td>\n      <td>0.42800</td>\n      <td>0.14457</td>\n      <td>0.10857</td>\n      <td>0.72404</td>\n      <td>0.28210</td>\n      <td>0.35040</td>\n      <td>-0.14348</td>\n      <td>0.64005</td>\n      <td>0.42800</td>\n      <td>tmean</td>\n    </tr>\n    <tr>\n      <th>2</th>\n      <td>50756</td>\n      <td>小叶杨</td>\n      <td>0.12968</td>\n      <td>0.70392</td>\n      <td>-0.10526</td>\n      <td>0.75808</td>\n      <td>0.05870</td>\n      <td>0.86387</td>\n      <td>0.08984</td>\n      <td>0.79280</td>\n      <td>-0.17384</td>\n      <td>0.60921</td>\n      <td>-0.32573</td>\n      <td>0.32831</td>\n      <td>0.32573</td>\n      <td>sm</td>\n    </tr>\n    <tr>\n      <th>3</th>\n      <td>50756</td>\n      <td>紫丁香</td>\n      <td>0.19219</td>\n      <td>0.57129</td>\n      <td>0.08909</td>\n      <td>0.79449</td>\n      <td>0.20572</td>\n      <td>0.54395</td>\n      <td>-0.04518</td>\n      <td>0.89506</td>\n      <td>-0.14016</td>\n      <td>0.68105</td>\n      <td>0.07955</td>\n      <td>0.81615</td>\n      <td>0.20572</td>\n      <td>tmean</td>\n    </tr>\n    <tr>\n      <th>4</th>\n      <td>50788</td>\n      <td>小叶杨</td>\n      <td>0.12266</td>\n      <td>0.71937</td>\n      <td>0.49894</td>\n      <td>0.11821</td>\n      <td>0.22930</td>\n      <td>0.49762</td>\n      <td>0.29193</td>\n      <td>0.38371</td>\n      <td>-0.23286</td>\n      <td>0.49078</td>\n      <td>0.26885</td>\n      <td>0.42405</td>\n      <td>0.49894</td>\n      <td>gpp</td>\n    </tr>\n    <tr>\n      <th>...</th>\n      <td>...</td>\n      <td>...</td>\n      <td>...</td>\n      <td>...</td>\n      <td>...</td>\n      <td>...</td>\n      <td>...</td>\n      <td>...</td>\n      <td>...</td>\n      <td>...</td>\n      <td>...</td>\n      <td>...</td>\n      <td>...</td>\n      <td>...</td>\n      <td>...</td>\n      <td>...</td>\n    </tr>\n    <tr>\n      <th>278</th>\n      <td>58339</td>\n      <td>楝树</td>\n      <td>-0.17741</td>\n      <td>0.62390</td>\n      <td>-0.11935</td>\n      <td>0.74260</td>\n      <td>0.20172</td>\n      <td>0.57627</td>\n      <td>0.44149</td>\n      <td>0.20149</td>\n      <td>-0.08744</td>\n      <td>0.81017</td>\n      <td>-0.61509</td>\n      <td>0.05840</td>\n      <td>0.61509</td>\n      <td>sm</td>\n    </tr>\n    <tr>\n      <th>279</th>\n      <td>58346</td>\n      <td>梧桐</td>\n      <td>0.36301</td>\n      <td>0.16699</td>\n      <td>0.52838</td>\n      <td>0.03537</td>\n      <td>0.10591</td>\n      <td>0.69626</td>\n      <td>-0.37121</td>\n      <td>0.15691</td>\n      <td>-0.41030</td>\n      <td>0.11445</td>\n      <td>-0.39275</td>\n      <td>0.13237</td>\n      <td>0.52838</td>\n      <td>gpp</td>\n    </tr>\n    <tr>\n      <th>280</th>\n      <td>58356</td>\n      <td>水杉</td>\n      <td>-0.05896</td>\n      <td>0.86328</td>\n      <td>-0.27116</td>\n      <td>0.41993</td>\n      <td>0.33134</td>\n      <td>0.31956</td>\n      <td>-0.11905</td>\n      <td>0.72735</td>\n      <td>0.36693</td>\n      <td>0.26700</td>\n      <td>-0.09787</td>\n      <td>0.77466</td>\n      <td>0.36693</td>\n      <td>solr</td>\n    </tr>\n    <tr>\n      <th>281</th>\n      <td>58433</td>\n      <td>刺槐</td>\n      <td>0.26940</td>\n      <td>0.19282</td>\n      <td>0.53025</td>\n      <td>0.00640</td>\n      <td>0.35800</td>\n      <td>0.07890</td>\n      <td>0.39226</td>\n      <td>0.05245</td>\n      <td>0.05430</td>\n      <td>0.79658</td>\n      <td>0.02980</td>\n      <td>0.88754</td>\n      <td>0.53025</td>\n      <td>gpp</td>\n    </tr>\n    <tr>\n      <th>282</th>\n      <td>58433</td>\n      <td>楝树</td>\n      <td>0.36754</td>\n      <td>0.07068</td>\n      <td>0.56017</td>\n      <td>0.00359</td>\n      <td>0.26383</td>\n      <td>0.20255</td>\n      <td>-0.34603</td>\n      <td>0.09019</td>\n      <td>-0.32204</td>\n      <td>0.11644</td>\n      <td>-0.19844</td>\n      <td>0.34165</td>\n      <td>0.56017</td>\n      <td>gpp</td>\n    </tr>\n  </tbody>\n</table>\n<p>283 rows × 16 columns</p>\n</div>"
     },
     "execution_count": 233,
     "metadata": {},
     "output_type": "execute_result"
    }
   ],
   "source": [
    "df['abs-max-r'] = df_only_r['abs-max-r']\n",
    "df['control_variable'] = df_only_r['max_index']\n",
    "df.to_csv('/data/shuping/data/china_phenology/results/max_r/woody_max_r.csv', encoding='utf_8_sig')\n",
    "df"
   ],
   "metadata": {
    "collapsed": false,
    "pycharm": {
     "name": "#%%\n"
    }
   }
  },
  {
   "cell_type": "code",
   "execution_count": 234,
   "outputs": [
    {
     "name": "stdout",
     "output_type": "stream",
     "text": [
      "gpp_control: 23.32155477031802\n",
      "sos_control: 13.780918727915195\n",
      "tmean_control: 22.261484098939928\n",
      "pre_control: 13.780918727915195\n",
      "solr_control: 19.081272084805654\n",
      "sm_control: 7.773851590106007\n"
     ]
    }
   ],
   "source": [
    "df_gpp = df[df['control_variable'] == 'gpp']\n",
    "df_sos = df[df['control_variable'] == 'sos']\n",
    "df_tmean = df[df['control_variable'] == 'tmean']\n",
    "df_pre = df[df['control_variable'] == 'pre']\n",
    "df_solr = df[df['control_variable'] == 'solr']\n",
    "df_sm = df[df['control_variable'] == 'sm']\n",
    "print('gpp_control:', (df_gpp.shape[0]/df.shape[0]*100))\n",
    "print('sos_control:', (df_sos.shape[0]/df.shape[0]*100))\n",
    "print('tmean_control:', (df_tmean.shape[0]/df.shape[0]*100))\n",
    "print('pre_control:', (df_pre.shape[0]/df.shape[0]*100))\n",
    "print('solr_control:', (df_solr.shape[0]/df.shape[0]*100))\n",
    "print('sm_control:', (df_sm.shape[0]/df.shape[0]*100))"
   ],
   "metadata": {
    "collapsed": false,
    "pycharm": {
     "name": "#%%\n"
    }
   }
  },
  {
   "cell_type": "markdown",
   "source": [
    "##herb"
   ],
   "metadata": {
    "collapsed": false,
    "pycharm": {
     "name": "#%% md\n"
    }
   }
  },
  {
   "cell_type": "code",
   "execution_count": 235,
   "outputs": [
    {
     "data": {
      "text/plain": "      site  species  eos-sos-r  eos-sos-p_val  eos-gpp-r  eos-gpp-p_val  \\\n0    50655       36    0.36569        0.26873    0.55241        0.07803   \n1    50871       36    0.05452        0.83536    0.15349        0.55643   \n2    50873       36   -0.14406        0.58120    0.27657        0.28255   \n3    50892       36   -0.11724        0.66543    0.85276        0.00003   \n4    50964        7   -0.25875        0.31596    0.44584        0.07287   \n..     ...      ...        ...            ...        ...            ...   \n103  57483        7    0.22683        0.38130    0.05074        0.84666   \n104  58002        6    0.30921        0.30395    0.48058        0.09644   \n105  58049       32    0.12165        0.57123    0.19876        0.35180   \n106  58319        7    0.19174        0.40505    0.94148        0.00000   \n107  58346       45    0.43283        0.13960    0.05265        0.86436   \n\n     eos-tmean-r  eos-tmean-p_val  eos-pre-r  eos-pre-p_val  eos-solr-r  \\\n0        0.43969          0.17599    0.18187        0.59251    -0.50938   \n1       -0.04091          0.87613    0.35504        0.16198     0.32817   \n2       -0.02443          0.92586   -0.04711        0.85751    -0.66728   \n3       -0.01507          0.95582   -0.16892        0.53171    -0.19370   \n4        0.29565          0.24927   -0.10750        0.68132    -0.13021   \n..           ...              ...        ...            ...         ...   \n103     -0.04250          0.87135    0.37822        0.13442     0.23154   \n104      0.35461          0.23449   -0.17769        0.56140    -0.50920   \n105      0.12728          0.55339    0.24698        0.24462    -0.20889   \n106      0.23371          0.30790    0.18643        0.41843     0.12734   \n107     -0.07131          0.81693    0.41245        0.16134     0.14511   \n\n     eos-solr-p_val  eos-sm-r  eos-sm-p_val  \n0           0.10950  -0.21519       0.52513  \n1           0.19844   0.44964       0.07016  \n2           0.00343   0.22151       0.39286  \n3           0.47226   0.06546       0.80967  \n4           0.61840  -0.19421       0.45512  \n..              ...       ...           ...  \n103         0.37122  -0.03062       0.90714  \n104         0.07552  -0.22726       0.45526  \n105         0.32730  -0.04705       0.82720  \n106         0.58227  -0.06204       0.78935  \n107         0.63620  -0.12991       0.67229  \n\n[108 rows x 14 columns]",
      "text/html": "<div>\n<style scoped>\n    .dataframe tbody tr th:only-of-type {\n        vertical-align: middle;\n    }\n\n    .dataframe tbody tr th {\n        vertical-align: top;\n    }\n\n    .dataframe thead th {\n        text-align: right;\n    }\n</style>\n<table border=\"1\" class=\"dataframe\">\n  <thead>\n    <tr style=\"text-align: right;\">\n      <th></th>\n      <th>site</th>\n      <th>species</th>\n      <th>eos-sos-r</th>\n      <th>eos-sos-p_val</th>\n      <th>eos-gpp-r</th>\n      <th>eos-gpp-p_val</th>\n      <th>eos-tmean-r</th>\n      <th>eos-tmean-p_val</th>\n      <th>eos-pre-r</th>\n      <th>eos-pre-p_val</th>\n      <th>eos-solr-r</th>\n      <th>eos-solr-p_val</th>\n      <th>eos-sm-r</th>\n      <th>eos-sm-p_val</th>\n    </tr>\n  </thead>\n  <tbody>\n    <tr>\n      <th>0</th>\n      <td>50655</td>\n      <td>36</td>\n      <td>0.36569</td>\n      <td>0.26873</td>\n      <td>0.55241</td>\n      <td>0.07803</td>\n      <td>0.43969</td>\n      <td>0.17599</td>\n      <td>0.18187</td>\n      <td>0.59251</td>\n      <td>-0.50938</td>\n      <td>0.10950</td>\n      <td>-0.21519</td>\n      <td>0.52513</td>\n    </tr>\n    <tr>\n      <th>1</th>\n      <td>50871</td>\n      <td>36</td>\n      <td>0.05452</td>\n      <td>0.83536</td>\n      <td>0.15349</td>\n      <td>0.55643</td>\n      <td>-0.04091</td>\n      <td>0.87613</td>\n      <td>0.35504</td>\n      <td>0.16198</td>\n      <td>0.32817</td>\n      <td>0.19844</td>\n      <td>0.44964</td>\n      <td>0.07016</td>\n    </tr>\n    <tr>\n      <th>2</th>\n      <td>50873</td>\n      <td>36</td>\n      <td>-0.14406</td>\n      <td>0.58120</td>\n      <td>0.27657</td>\n      <td>0.28255</td>\n      <td>-0.02443</td>\n      <td>0.92586</td>\n      <td>-0.04711</td>\n      <td>0.85751</td>\n      <td>-0.66728</td>\n      <td>0.00343</td>\n      <td>0.22151</td>\n      <td>0.39286</td>\n    </tr>\n    <tr>\n      <th>3</th>\n      <td>50892</td>\n      <td>36</td>\n      <td>-0.11724</td>\n      <td>0.66543</td>\n      <td>0.85276</td>\n      <td>0.00003</td>\n      <td>-0.01507</td>\n      <td>0.95582</td>\n      <td>-0.16892</td>\n      <td>0.53171</td>\n      <td>-0.19370</td>\n      <td>0.47226</td>\n      <td>0.06546</td>\n      <td>0.80967</td>\n    </tr>\n    <tr>\n      <th>4</th>\n      <td>50964</td>\n      <td>7</td>\n      <td>-0.25875</td>\n      <td>0.31596</td>\n      <td>0.44584</td>\n      <td>0.07287</td>\n      <td>0.29565</td>\n      <td>0.24927</td>\n      <td>-0.10750</td>\n      <td>0.68132</td>\n      <td>-0.13021</td>\n      <td>0.61840</td>\n      <td>-0.19421</td>\n      <td>0.45512</td>\n    </tr>\n    <tr>\n      <th>...</th>\n      <td>...</td>\n      <td>...</td>\n      <td>...</td>\n      <td>...</td>\n      <td>...</td>\n      <td>...</td>\n      <td>...</td>\n      <td>...</td>\n      <td>...</td>\n      <td>...</td>\n      <td>...</td>\n      <td>...</td>\n      <td>...</td>\n      <td>...</td>\n    </tr>\n    <tr>\n      <th>103</th>\n      <td>57483</td>\n      <td>7</td>\n      <td>0.22683</td>\n      <td>0.38130</td>\n      <td>0.05074</td>\n      <td>0.84666</td>\n      <td>-0.04250</td>\n      <td>0.87135</td>\n      <td>0.37822</td>\n      <td>0.13442</td>\n      <td>0.23154</td>\n      <td>0.37122</td>\n      <td>-0.03062</td>\n      <td>0.90714</td>\n    </tr>\n    <tr>\n      <th>104</th>\n      <td>58002</td>\n      <td>6</td>\n      <td>0.30921</td>\n      <td>0.30395</td>\n      <td>0.48058</td>\n      <td>0.09644</td>\n      <td>0.35461</td>\n      <td>0.23449</td>\n      <td>-0.17769</td>\n      <td>0.56140</td>\n      <td>-0.50920</td>\n      <td>0.07552</td>\n      <td>-0.22726</td>\n      <td>0.45526</td>\n    </tr>\n    <tr>\n      <th>105</th>\n      <td>58049</td>\n      <td>32</td>\n      <td>0.12165</td>\n      <td>0.57123</td>\n      <td>0.19876</td>\n      <td>0.35180</td>\n      <td>0.12728</td>\n      <td>0.55339</td>\n      <td>0.24698</td>\n      <td>0.24462</td>\n      <td>-0.20889</td>\n      <td>0.32730</td>\n      <td>-0.04705</td>\n      <td>0.82720</td>\n    </tr>\n    <tr>\n      <th>106</th>\n      <td>58319</td>\n      <td>7</td>\n      <td>0.19174</td>\n      <td>0.40505</td>\n      <td>0.94148</td>\n      <td>0.00000</td>\n      <td>0.23371</td>\n      <td>0.30790</td>\n      <td>0.18643</td>\n      <td>0.41843</td>\n      <td>0.12734</td>\n      <td>0.58227</td>\n      <td>-0.06204</td>\n      <td>0.78935</td>\n    </tr>\n    <tr>\n      <th>107</th>\n      <td>58346</td>\n      <td>45</td>\n      <td>0.43283</td>\n      <td>0.13960</td>\n      <td>0.05265</td>\n      <td>0.86436</td>\n      <td>-0.07131</td>\n      <td>0.81693</td>\n      <td>0.41245</td>\n      <td>0.16134</td>\n      <td>0.14511</td>\n      <td>0.63620</td>\n      <td>-0.12991</td>\n      <td>0.67229</td>\n    </tr>\n  </tbody>\n</table>\n<p>108 rows × 14 columns</p>\n</div>"
     },
     "execution_count": 235,
     "metadata": {},
     "output_type": "execute_result"
    }
   ],
   "source": [
    "csv_path = '/data/shuping/data/china_phenology/results/partial_corr_results_with_gpp/herb_partial_corr_with_gpp.csv'\n",
    "df = pd.read_csv(csv_path)\n",
    "df = df.drop(['Unnamed: 0'], axis=1)\n",
    "df"
   ],
   "metadata": {
    "collapsed": false,
    "pycharm": {
     "name": "#%%\n"
    }
   }
  },
  {
   "cell_type": "code",
   "execution_count": 236,
   "outputs": [
    {
     "data": {
      "text/plain": "         sos      gpp    tmean      pre     solr       sm\n0    0.36569  0.55241  0.43969  0.18187 -0.50938 -0.21519\n1    0.05452  0.15349 -0.04091  0.35504  0.32817  0.44964\n2   -0.14406  0.27657 -0.02443 -0.04711 -0.66728  0.22151\n3   -0.11724  0.85276 -0.01507 -0.16892 -0.19370  0.06546\n4   -0.25875  0.44584  0.29565 -0.10750 -0.13021 -0.19421\n..       ...      ...      ...      ...      ...      ...\n103  0.22683  0.05074 -0.04250  0.37822  0.23154 -0.03062\n104  0.30921  0.48058  0.35461 -0.17769 -0.50920 -0.22726\n105  0.12165  0.19876  0.12728  0.24698 -0.20889 -0.04705\n106  0.19174  0.94148  0.23371  0.18643  0.12734 -0.06204\n107  0.43283  0.05265 -0.07131  0.41245  0.14511 -0.12991\n\n[108 rows x 6 columns]",
      "text/html": "<div>\n<style scoped>\n    .dataframe tbody tr th:only-of-type {\n        vertical-align: middle;\n    }\n\n    .dataframe tbody tr th {\n        vertical-align: top;\n    }\n\n    .dataframe thead th {\n        text-align: right;\n    }\n</style>\n<table border=\"1\" class=\"dataframe\">\n  <thead>\n    <tr style=\"text-align: right;\">\n      <th></th>\n      <th>sos</th>\n      <th>gpp</th>\n      <th>tmean</th>\n      <th>pre</th>\n      <th>solr</th>\n      <th>sm</th>\n    </tr>\n  </thead>\n  <tbody>\n    <tr>\n      <th>0</th>\n      <td>0.36569</td>\n      <td>0.55241</td>\n      <td>0.43969</td>\n      <td>0.18187</td>\n      <td>-0.50938</td>\n      <td>-0.21519</td>\n    </tr>\n    <tr>\n      <th>1</th>\n      <td>0.05452</td>\n      <td>0.15349</td>\n      <td>-0.04091</td>\n      <td>0.35504</td>\n      <td>0.32817</td>\n      <td>0.44964</td>\n    </tr>\n    <tr>\n      <th>2</th>\n      <td>-0.14406</td>\n      <td>0.27657</td>\n      <td>-0.02443</td>\n      <td>-0.04711</td>\n      <td>-0.66728</td>\n      <td>0.22151</td>\n    </tr>\n    <tr>\n      <th>3</th>\n      <td>-0.11724</td>\n      <td>0.85276</td>\n      <td>-0.01507</td>\n      <td>-0.16892</td>\n      <td>-0.19370</td>\n      <td>0.06546</td>\n    </tr>\n    <tr>\n      <th>4</th>\n      <td>-0.25875</td>\n      <td>0.44584</td>\n      <td>0.29565</td>\n      <td>-0.10750</td>\n      <td>-0.13021</td>\n      <td>-0.19421</td>\n    </tr>\n    <tr>\n      <th>...</th>\n      <td>...</td>\n      <td>...</td>\n      <td>...</td>\n      <td>...</td>\n      <td>...</td>\n      <td>...</td>\n    </tr>\n    <tr>\n      <th>103</th>\n      <td>0.22683</td>\n      <td>0.05074</td>\n      <td>-0.04250</td>\n      <td>0.37822</td>\n      <td>0.23154</td>\n      <td>-0.03062</td>\n    </tr>\n    <tr>\n      <th>104</th>\n      <td>0.30921</td>\n      <td>0.48058</td>\n      <td>0.35461</td>\n      <td>-0.17769</td>\n      <td>-0.50920</td>\n      <td>-0.22726</td>\n    </tr>\n    <tr>\n      <th>105</th>\n      <td>0.12165</td>\n      <td>0.19876</td>\n      <td>0.12728</td>\n      <td>0.24698</td>\n      <td>-0.20889</td>\n      <td>-0.04705</td>\n    </tr>\n    <tr>\n      <th>106</th>\n      <td>0.19174</td>\n      <td>0.94148</td>\n      <td>0.23371</td>\n      <td>0.18643</td>\n      <td>0.12734</td>\n      <td>-0.06204</td>\n    </tr>\n    <tr>\n      <th>107</th>\n      <td>0.43283</td>\n      <td>0.05265</td>\n      <td>-0.07131</td>\n      <td>0.41245</td>\n      <td>0.14511</td>\n      <td>-0.12991</td>\n    </tr>\n  </tbody>\n</table>\n<p>108 rows × 6 columns</p>\n</div>"
     },
     "execution_count": 236,
     "metadata": {},
     "output_type": "execute_result"
    }
   ],
   "source": [
    "df_only_r = df[['eos-sos-r', 'eos-gpp-r', 'eos-tmean-r', 'eos-pre-r', 'eos-solr-r', 'eos-sm-r']]\n",
    "df_only_r.columns = ['sos', 'gpp', 'tmean', 'pre', 'solr', 'sm']\n",
    "df_only_r"
   ],
   "metadata": {
    "collapsed": false,
    "pycharm": {
     "name": "#%%\n"
    }
   }
  },
  {
   "cell_type": "code",
   "execution_count": 237,
   "outputs": [
    {
     "data": {
      "text/plain": "         sos      gpp    tmean      pre     solr       sm\n0    0.36569  0.55241  0.43969  0.18187  0.50938  0.21519\n1    0.05452  0.15349  0.04091  0.35504  0.32817  0.44964\n2    0.14406  0.27657  0.02443  0.04711  0.66728  0.22151\n3    0.11724  0.85276  0.01507  0.16892  0.19370  0.06546\n4    0.25875  0.44584  0.29565  0.10750  0.13021  0.19421\n..       ...      ...      ...      ...      ...      ...\n103  0.22683  0.05074  0.04250  0.37822  0.23154  0.03062\n104  0.30921  0.48058  0.35461  0.17769  0.50920  0.22726\n105  0.12165  0.19876  0.12728  0.24698  0.20889  0.04705\n106  0.19174  0.94148  0.23371  0.18643  0.12734  0.06204\n107  0.43283  0.05265  0.07131  0.41245  0.14511  0.12991\n\n[108 rows x 6 columns]",
      "text/html": "<div>\n<style scoped>\n    .dataframe tbody tr th:only-of-type {\n        vertical-align: middle;\n    }\n\n    .dataframe tbody tr th {\n        vertical-align: top;\n    }\n\n    .dataframe thead th {\n        text-align: right;\n    }\n</style>\n<table border=\"1\" class=\"dataframe\">\n  <thead>\n    <tr style=\"text-align: right;\">\n      <th></th>\n      <th>sos</th>\n      <th>gpp</th>\n      <th>tmean</th>\n      <th>pre</th>\n      <th>solr</th>\n      <th>sm</th>\n    </tr>\n  </thead>\n  <tbody>\n    <tr>\n      <th>0</th>\n      <td>0.36569</td>\n      <td>0.55241</td>\n      <td>0.43969</td>\n      <td>0.18187</td>\n      <td>0.50938</td>\n      <td>0.21519</td>\n    </tr>\n    <tr>\n      <th>1</th>\n      <td>0.05452</td>\n      <td>0.15349</td>\n      <td>0.04091</td>\n      <td>0.35504</td>\n      <td>0.32817</td>\n      <td>0.44964</td>\n    </tr>\n    <tr>\n      <th>2</th>\n      <td>0.14406</td>\n      <td>0.27657</td>\n      <td>0.02443</td>\n      <td>0.04711</td>\n      <td>0.66728</td>\n      <td>0.22151</td>\n    </tr>\n    <tr>\n      <th>3</th>\n      <td>0.11724</td>\n      <td>0.85276</td>\n      <td>0.01507</td>\n      <td>0.16892</td>\n      <td>0.19370</td>\n      <td>0.06546</td>\n    </tr>\n    <tr>\n      <th>4</th>\n      <td>0.25875</td>\n      <td>0.44584</td>\n      <td>0.29565</td>\n      <td>0.10750</td>\n      <td>0.13021</td>\n      <td>0.19421</td>\n    </tr>\n    <tr>\n      <th>...</th>\n      <td>...</td>\n      <td>...</td>\n      <td>...</td>\n      <td>...</td>\n      <td>...</td>\n      <td>...</td>\n    </tr>\n    <tr>\n      <th>103</th>\n      <td>0.22683</td>\n      <td>0.05074</td>\n      <td>0.04250</td>\n      <td>0.37822</td>\n      <td>0.23154</td>\n      <td>0.03062</td>\n    </tr>\n    <tr>\n      <th>104</th>\n      <td>0.30921</td>\n      <td>0.48058</td>\n      <td>0.35461</td>\n      <td>0.17769</td>\n      <td>0.50920</td>\n      <td>0.22726</td>\n    </tr>\n    <tr>\n      <th>105</th>\n      <td>0.12165</td>\n      <td>0.19876</td>\n      <td>0.12728</td>\n      <td>0.24698</td>\n      <td>0.20889</td>\n      <td>0.04705</td>\n    </tr>\n    <tr>\n      <th>106</th>\n      <td>0.19174</td>\n      <td>0.94148</td>\n      <td>0.23371</td>\n      <td>0.18643</td>\n      <td>0.12734</td>\n      <td>0.06204</td>\n    </tr>\n    <tr>\n      <th>107</th>\n      <td>0.43283</td>\n      <td>0.05265</td>\n      <td>0.07131</td>\n      <td>0.41245</td>\n      <td>0.14511</td>\n      <td>0.12991</td>\n    </tr>\n  </tbody>\n</table>\n<p>108 rows × 6 columns</p>\n</div>"
     },
     "execution_count": 237,
     "metadata": {},
     "output_type": "execute_result"
    }
   ],
   "source": [
    "df_only_r = df_only_r.abs()\n",
    "df_only_r"
   ],
   "metadata": {
    "collapsed": false,
    "pycharm": {
     "name": "#%%\n"
    }
   }
  },
  {
   "cell_type": "code",
   "execution_count": 238,
   "outputs": [
    {
     "data": {
      "text/plain": "         sos      gpp    tmean      pre     solr       sm  abs-max-r max_index\n0    0.36569  0.55241  0.43969  0.18187  0.50938  0.21519    0.55241       gpp\n1    0.05452  0.15349  0.04091  0.35504  0.32817  0.44964    0.44964        sm\n2    0.14406  0.27657  0.02443  0.04711  0.66728  0.22151    0.66728      solr\n3    0.11724  0.85276  0.01507  0.16892  0.19370  0.06546    0.85276       gpp\n4    0.25875  0.44584  0.29565  0.10750  0.13021  0.19421    0.44584       gpp\n..       ...      ...      ...      ...      ...      ...        ...       ...\n103  0.22683  0.05074  0.04250  0.37822  0.23154  0.03062    0.37822       pre\n104  0.30921  0.48058  0.35461  0.17769  0.50920  0.22726    0.50920      solr\n105  0.12165  0.19876  0.12728  0.24698  0.20889  0.04705    0.24698       pre\n106  0.19174  0.94148  0.23371  0.18643  0.12734  0.06204    0.94148       gpp\n107  0.43283  0.05265  0.07131  0.41245  0.14511  0.12991    0.43283       sos\n\n[108 rows x 8 columns]",
      "text/html": "<div>\n<style scoped>\n    .dataframe tbody tr th:only-of-type {\n        vertical-align: middle;\n    }\n\n    .dataframe tbody tr th {\n        vertical-align: top;\n    }\n\n    .dataframe thead th {\n        text-align: right;\n    }\n</style>\n<table border=\"1\" class=\"dataframe\">\n  <thead>\n    <tr style=\"text-align: right;\">\n      <th></th>\n      <th>sos</th>\n      <th>gpp</th>\n      <th>tmean</th>\n      <th>pre</th>\n      <th>solr</th>\n      <th>sm</th>\n      <th>abs-max-r</th>\n      <th>max_index</th>\n    </tr>\n  </thead>\n  <tbody>\n    <tr>\n      <th>0</th>\n      <td>0.36569</td>\n      <td>0.55241</td>\n      <td>0.43969</td>\n      <td>0.18187</td>\n      <td>0.50938</td>\n      <td>0.21519</td>\n      <td>0.55241</td>\n      <td>gpp</td>\n    </tr>\n    <tr>\n      <th>1</th>\n      <td>0.05452</td>\n      <td>0.15349</td>\n      <td>0.04091</td>\n      <td>0.35504</td>\n      <td>0.32817</td>\n      <td>0.44964</td>\n      <td>0.44964</td>\n      <td>sm</td>\n    </tr>\n    <tr>\n      <th>2</th>\n      <td>0.14406</td>\n      <td>0.27657</td>\n      <td>0.02443</td>\n      <td>0.04711</td>\n      <td>0.66728</td>\n      <td>0.22151</td>\n      <td>0.66728</td>\n      <td>solr</td>\n    </tr>\n    <tr>\n      <th>3</th>\n      <td>0.11724</td>\n      <td>0.85276</td>\n      <td>0.01507</td>\n      <td>0.16892</td>\n      <td>0.19370</td>\n      <td>0.06546</td>\n      <td>0.85276</td>\n      <td>gpp</td>\n    </tr>\n    <tr>\n      <th>4</th>\n      <td>0.25875</td>\n      <td>0.44584</td>\n      <td>0.29565</td>\n      <td>0.10750</td>\n      <td>0.13021</td>\n      <td>0.19421</td>\n      <td>0.44584</td>\n      <td>gpp</td>\n    </tr>\n    <tr>\n      <th>...</th>\n      <td>...</td>\n      <td>...</td>\n      <td>...</td>\n      <td>...</td>\n      <td>...</td>\n      <td>...</td>\n      <td>...</td>\n      <td>...</td>\n    </tr>\n    <tr>\n      <th>103</th>\n      <td>0.22683</td>\n      <td>0.05074</td>\n      <td>0.04250</td>\n      <td>0.37822</td>\n      <td>0.23154</td>\n      <td>0.03062</td>\n      <td>0.37822</td>\n      <td>pre</td>\n    </tr>\n    <tr>\n      <th>104</th>\n      <td>0.30921</td>\n      <td>0.48058</td>\n      <td>0.35461</td>\n      <td>0.17769</td>\n      <td>0.50920</td>\n      <td>0.22726</td>\n      <td>0.50920</td>\n      <td>solr</td>\n    </tr>\n    <tr>\n      <th>105</th>\n      <td>0.12165</td>\n      <td>0.19876</td>\n      <td>0.12728</td>\n      <td>0.24698</td>\n      <td>0.20889</td>\n      <td>0.04705</td>\n      <td>0.24698</td>\n      <td>pre</td>\n    </tr>\n    <tr>\n      <th>106</th>\n      <td>0.19174</td>\n      <td>0.94148</td>\n      <td>0.23371</td>\n      <td>0.18643</td>\n      <td>0.12734</td>\n      <td>0.06204</td>\n      <td>0.94148</td>\n      <td>gpp</td>\n    </tr>\n    <tr>\n      <th>107</th>\n      <td>0.43283</td>\n      <td>0.05265</td>\n      <td>0.07131</td>\n      <td>0.41245</td>\n      <td>0.14511</td>\n      <td>0.12991</td>\n      <td>0.43283</td>\n      <td>sos</td>\n    </tr>\n  </tbody>\n</table>\n<p>108 rows × 8 columns</p>\n</div>"
     },
     "execution_count": 238,
     "metadata": {},
     "output_type": "execute_result"
    }
   ],
   "source": [
    "df_only_r['abs-max-r'] = df_only_r.max(axis=1)\n",
    "df_only_r['max_index']= df_only_r.idxmax(1)\n",
    "df_only_r"
   ],
   "metadata": {
    "collapsed": false,
    "pycharm": {
     "name": "#%%\n"
    }
   }
  },
  {
   "cell_type": "code",
   "execution_count": 239,
   "outputs": [
    {
     "data": {
      "text/plain": "      site  species  eos-sos-r  eos-sos-p_val  eos-gpp-r  eos-gpp-p_val  \\\n0    50655       36    0.36569        0.26873    0.55241        0.07803   \n1    50871       36    0.05452        0.83536    0.15349        0.55643   \n2    50873       36   -0.14406        0.58120    0.27657        0.28255   \n3    50892       36   -0.11724        0.66543    0.85276        0.00003   \n4    50964        7   -0.25875        0.31596    0.44584        0.07287   \n..     ...      ...        ...            ...        ...            ...   \n103  57483        7    0.22683        0.38130    0.05074        0.84666   \n104  58002        6    0.30921        0.30395    0.48058        0.09644   \n105  58049       32    0.12165        0.57123    0.19876        0.35180   \n106  58319        7    0.19174        0.40505    0.94148        0.00000   \n107  58346       45    0.43283        0.13960    0.05265        0.86436   \n\n     eos-tmean-r  eos-tmean-p_val  eos-pre-r  eos-pre-p_val  eos-solr-r  \\\n0        0.43969          0.17599    0.18187        0.59251    -0.50938   \n1       -0.04091          0.87613    0.35504        0.16198     0.32817   \n2       -0.02443          0.92586   -0.04711        0.85751    -0.66728   \n3       -0.01507          0.95582   -0.16892        0.53171    -0.19370   \n4        0.29565          0.24927   -0.10750        0.68132    -0.13021   \n..           ...              ...        ...            ...         ...   \n103     -0.04250          0.87135    0.37822        0.13442     0.23154   \n104      0.35461          0.23449   -0.17769        0.56140    -0.50920   \n105      0.12728          0.55339    0.24698        0.24462    -0.20889   \n106      0.23371          0.30790    0.18643        0.41843     0.12734   \n107     -0.07131          0.81693    0.41245        0.16134     0.14511   \n\n     eos-solr-p_val  eos-sm-r  eos-sm-p_val  abs-max-r control_variable  \n0           0.10950  -0.21519       0.52513    0.55241              gpp  \n1           0.19844   0.44964       0.07016    0.44964               sm  \n2           0.00343   0.22151       0.39286    0.66728             solr  \n3           0.47226   0.06546       0.80967    0.85276              gpp  \n4           0.61840  -0.19421       0.45512    0.44584              gpp  \n..              ...       ...           ...        ...              ...  \n103         0.37122  -0.03062       0.90714    0.37822              pre  \n104         0.07552  -0.22726       0.45526    0.50920             solr  \n105         0.32730  -0.04705       0.82720    0.24698              pre  \n106         0.58227  -0.06204       0.78935    0.94148              gpp  \n107         0.63620  -0.12991       0.67229    0.43283              sos  \n\n[108 rows x 16 columns]",
      "text/html": "<div>\n<style scoped>\n    .dataframe tbody tr th:only-of-type {\n        vertical-align: middle;\n    }\n\n    .dataframe tbody tr th {\n        vertical-align: top;\n    }\n\n    .dataframe thead th {\n        text-align: right;\n    }\n</style>\n<table border=\"1\" class=\"dataframe\">\n  <thead>\n    <tr style=\"text-align: right;\">\n      <th></th>\n      <th>site</th>\n      <th>species</th>\n      <th>eos-sos-r</th>\n      <th>eos-sos-p_val</th>\n      <th>eos-gpp-r</th>\n      <th>eos-gpp-p_val</th>\n      <th>eos-tmean-r</th>\n      <th>eos-tmean-p_val</th>\n      <th>eos-pre-r</th>\n      <th>eos-pre-p_val</th>\n      <th>eos-solr-r</th>\n      <th>eos-solr-p_val</th>\n      <th>eos-sm-r</th>\n      <th>eos-sm-p_val</th>\n      <th>abs-max-r</th>\n      <th>control_variable</th>\n    </tr>\n  </thead>\n  <tbody>\n    <tr>\n      <th>0</th>\n      <td>50655</td>\n      <td>36</td>\n      <td>0.36569</td>\n      <td>0.26873</td>\n      <td>0.55241</td>\n      <td>0.07803</td>\n      <td>0.43969</td>\n      <td>0.17599</td>\n      <td>0.18187</td>\n      <td>0.59251</td>\n      <td>-0.50938</td>\n      <td>0.10950</td>\n      <td>-0.21519</td>\n      <td>0.52513</td>\n      <td>0.55241</td>\n      <td>gpp</td>\n    </tr>\n    <tr>\n      <th>1</th>\n      <td>50871</td>\n      <td>36</td>\n      <td>0.05452</td>\n      <td>0.83536</td>\n      <td>0.15349</td>\n      <td>0.55643</td>\n      <td>-0.04091</td>\n      <td>0.87613</td>\n      <td>0.35504</td>\n      <td>0.16198</td>\n      <td>0.32817</td>\n      <td>0.19844</td>\n      <td>0.44964</td>\n      <td>0.07016</td>\n      <td>0.44964</td>\n      <td>sm</td>\n    </tr>\n    <tr>\n      <th>2</th>\n      <td>50873</td>\n      <td>36</td>\n      <td>-0.14406</td>\n      <td>0.58120</td>\n      <td>0.27657</td>\n      <td>0.28255</td>\n      <td>-0.02443</td>\n      <td>0.92586</td>\n      <td>-0.04711</td>\n      <td>0.85751</td>\n      <td>-0.66728</td>\n      <td>0.00343</td>\n      <td>0.22151</td>\n      <td>0.39286</td>\n      <td>0.66728</td>\n      <td>solr</td>\n    </tr>\n    <tr>\n      <th>3</th>\n      <td>50892</td>\n      <td>36</td>\n      <td>-0.11724</td>\n      <td>0.66543</td>\n      <td>0.85276</td>\n      <td>0.00003</td>\n      <td>-0.01507</td>\n      <td>0.95582</td>\n      <td>-0.16892</td>\n      <td>0.53171</td>\n      <td>-0.19370</td>\n      <td>0.47226</td>\n      <td>0.06546</td>\n      <td>0.80967</td>\n      <td>0.85276</td>\n      <td>gpp</td>\n    </tr>\n    <tr>\n      <th>4</th>\n      <td>50964</td>\n      <td>7</td>\n      <td>-0.25875</td>\n      <td>0.31596</td>\n      <td>0.44584</td>\n      <td>0.07287</td>\n      <td>0.29565</td>\n      <td>0.24927</td>\n      <td>-0.10750</td>\n      <td>0.68132</td>\n      <td>-0.13021</td>\n      <td>0.61840</td>\n      <td>-0.19421</td>\n      <td>0.45512</td>\n      <td>0.44584</td>\n      <td>gpp</td>\n    </tr>\n    <tr>\n      <th>...</th>\n      <td>...</td>\n      <td>...</td>\n      <td>...</td>\n      <td>...</td>\n      <td>...</td>\n      <td>...</td>\n      <td>...</td>\n      <td>...</td>\n      <td>...</td>\n      <td>...</td>\n      <td>...</td>\n      <td>...</td>\n      <td>...</td>\n      <td>...</td>\n      <td>...</td>\n      <td>...</td>\n    </tr>\n    <tr>\n      <th>103</th>\n      <td>57483</td>\n      <td>7</td>\n      <td>0.22683</td>\n      <td>0.38130</td>\n      <td>0.05074</td>\n      <td>0.84666</td>\n      <td>-0.04250</td>\n      <td>0.87135</td>\n      <td>0.37822</td>\n      <td>0.13442</td>\n      <td>0.23154</td>\n      <td>0.37122</td>\n      <td>-0.03062</td>\n      <td>0.90714</td>\n      <td>0.37822</td>\n      <td>pre</td>\n    </tr>\n    <tr>\n      <th>104</th>\n      <td>58002</td>\n      <td>6</td>\n      <td>0.30921</td>\n      <td>0.30395</td>\n      <td>0.48058</td>\n      <td>0.09644</td>\n      <td>0.35461</td>\n      <td>0.23449</td>\n      <td>-0.17769</td>\n      <td>0.56140</td>\n      <td>-0.50920</td>\n      <td>0.07552</td>\n      <td>-0.22726</td>\n      <td>0.45526</td>\n      <td>0.50920</td>\n      <td>solr</td>\n    </tr>\n    <tr>\n      <th>105</th>\n      <td>58049</td>\n      <td>32</td>\n      <td>0.12165</td>\n      <td>0.57123</td>\n      <td>0.19876</td>\n      <td>0.35180</td>\n      <td>0.12728</td>\n      <td>0.55339</td>\n      <td>0.24698</td>\n      <td>0.24462</td>\n      <td>-0.20889</td>\n      <td>0.32730</td>\n      <td>-0.04705</td>\n      <td>0.82720</td>\n      <td>0.24698</td>\n      <td>pre</td>\n    </tr>\n    <tr>\n      <th>106</th>\n      <td>58319</td>\n      <td>7</td>\n      <td>0.19174</td>\n      <td>0.40505</td>\n      <td>0.94148</td>\n      <td>0.00000</td>\n      <td>0.23371</td>\n      <td>0.30790</td>\n      <td>0.18643</td>\n      <td>0.41843</td>\n      <td>0.12734</td>\n      <td>0.58227</td>\n      <td>-0.06204</td>\n      <td>0.78935</td>\n      <td>0.94148</td>\n      <td>gpp</td>\n    </tr>\n    <tr>\n      <th>107</th>\n      <td>58346</td>\n      <td>45</td>\n      <td>0.43283</td>\n      <td>0.13960</td>\n      <td>0.05265</td>\n      <td>0.86436</td>\n      <td>-0.07131</td>\n      <td>0.81693</td>\n      <td>0.41245</td>\n      <td>0.16134</td>\n      <td>0.14511</td>\n      <td>0.63620</td>\n      <td>-0.12991</td>\n      <td>0.67229</td>\n      <td>0.43283</td>\n      <td>sos</td>\n    </tr>\n  </tbody>\n</table>\n<p>108 rows × 16 columns</p>\n</div>"
     },
     "execution_count": 239,
     "metadata": {},
     "output_type": "execute_result"
    }
   ],
   "source": [
    "df['abs-max-r'] = df_only_r['abs-max-r']\n",
    "df['control_variable'] = df_only_r['max_index']\n",
    "df.to_csv('/data/shuping/data/china_phenology/results/max_r/herb_max_r.csv')\n",
    "df"
   ],
   "metadata": {
    "collapsed": false,
    "pycharm": {
     "name": "#%%\n"
    }
   }
  },
  {
   "cell_type": "code",
   "execution_count": 240,
   "outputs": [
    {
     "name": "stdout",
     "output_type": "stream",
     "text": [
      "gpp_control: 28.703703703703702\n",
      "sos_control: 15.74074074074074\n",
      "tmean_control: 12.962962962962962\n",
      "pre_control: 13.88888888888889\n",
      "solr_control: 21.296296296296298\n",
      "sm_control: 7.4074074074074066\n"
     ]
    }
   ],
   "source": [
    "df_gpp = df[df['control_variable'] == 'gpp']\n",
    "df_sos = df[df['control_variable'] == 'sos']\n",
    "df_tmean = df[df['control_variable'] == 'tmean']\n",
    "df_pre = df[df['control_variable'] == 'pre']\n",
    "df_solr = df[df['control_variable'] == 'solr']\n",
    "df_sm = df[df['control_variable'] == 'sm']\n",
    "print('gpp_control:', (df_gpp.shape[0]/df.shape[0]*100))\n",
    "print('sos_control:', (df_sos.shape[0]/df.shape[0]*100))\n",
    "print('tmean_control:', (df_tmean.shape[0]/df.shape[0]*100))\n",
    "print('pre_control:', (df_pre.shape[0]/df.shape[0]*100))\n",
    "print('solr_control:', (df_solr.shape[0]/df.shape[0]*100))\n",
    "print('sm_control:', (df_sm.shape[0]/df.shape[0]*100))"
   ],
   "metadata": {
    "collapsed": false,
    "pycharm": {
     "name": "#%%\n"
    }
   }
  },
  {
   "cell_type": "markdown",
   "source": [
    "##all"
   ],
   "metadata": {
    "collapsed": false,
    "pycharm": {
     "name": "#%% md\n"
    }
   }
  },
  {
   "cell_type": "code",
   "execution_count": 241,
   "outputs": [],
   "source": [
    "import os"
   ],
   "metadata": {
    "collapsed": false,
    "pycharm": {
     "name": "#%%\n"
    }
   }
  },
  {
   "cell_type": "code",
   "execution_count": 243,
   "outputs": [
    {
     "data": {
      "text/plain": "      site species  eos-sos-r  eos-sos-p_val  eos-gpp-r  eos-gpp-p_val  \\\n0    50655      36    0.36569        0.26873    0.55241        0.07803   \n1    50871      36    0.05452        0.83536    0.15349        0.55643   \n2    50873      36   -0.14406        0.58120    0.27657        0.28255   \n3    50892      36   -0.11724        0.66543    0.85276        0.00003   \n4    50964       7   -0.25875        0.31596    0.44584        0.07287   \n..     ...     ...        ...            ...        ...            ...   \n278  58339      楝树   -0.17741        0.62390   -0.11935        0.74260   \n279  58346      梧桐    0.36301        0.16699    0.52838        0.03537   \n280  58356      水杉   -0.05896        0.86328   -0.27116        0.41993   \n281  58433      刺槐    0.26940        0.19282    0.53025        0.00640   \n282  58433      楝树    0.36754        0.07068    0.56017        0.00359   \n\n     eos-tmean-r  eos-tmean-p_val  eos-pre-r  eos-pre-p_val  eos-solr-r  \\\n0        0.43969          0.17599    0.18187        0.59251    -0.50938   \n1       -0.04091          0.87613    0.35504        0.16198     0.32817   \n2       -0.02443          0.92586   -0.04711        0.85751    -0.66728   \n3       -0.01507          0.95582   -0.16892        0.53171    -0.19370   \n4        0.29565          0.24927   -0.10750        0.68132    -0.13021   \n..           ...              ...        ...            ...         ...   \n278      0.20172          0.57627    0.44149        0.20149    -0.08744   \n279      0.10591          0.69626   -0.37121        0.15691    -0.41030   \n280      0.33134          0.31956   -0.11905        0.72735     0.36693   \n281      0.35800          0.07890    0.39226        0.05245     0.05430   \n282      0.26383          0.20255   -0.34603        0.09019    -0.32204   \n\n     eos-solr-p_val  eos-sm-r  eos-sm-p_val  abs-max-r control_variable  \n0           0.10950  -0.21519       0.52513    0.55241              gpp  \n1           0.19844   0.44964       0.07016    0.44964               sm  \n2           0.00343   0.22151       0.39286    0.66728             solr  \n3           0.47226   0.06546       0.80967    0.85276              gpp  \n4           0.61840  -0.19421       0.45512    0.44584              gpp  \n..              ...       ...           ...        ...              ...  \n278         0.81017  -0.61509       0.05840    0.61509               sm  \n279         0.11445  -0.39275       0.13237    0.52838              gpp  \n280         0.26700  -0.09787       0.77466    0.36693             solr  \n281         0.79658   0.02980       0.88754    0.53025              gpp  \n282         0.11644  -0.19844       0.34165    0.56017              gpp  \n\n[391 rows x 16 columns]",
      "text/html": "<div>\n<style scoped>\n    .dataframe tbody tr th:only-of-type {\n        vertical-align: middle;\n    }\n\n    .dataframe tbody tr th {\n        vertical-align: top;\n    }\n\n    .dataframe thead th {\n        text-align: right;\n    }\n</style>\n<table border=\"1\" class=\"dataframe\">\n  <thead>\n    <tr style=\"text-align: right;\">\n      <th></th>\n      <th>site</th>\n      <th>species</th>\n      <th>eos-sos-r</th>\n      <th>eos-sos-p_val</th>\n      <th>eos-gpp-r</th>\n      <th>eos-gpp-p_val</th>\n      <th>eos-tmean-r</th>\n      <th>eos-tmean-p_val</th>\n      <th>eos-pre-r</th>\n      <th>eos-pre-p_val</th>\n      <th>eos-solr-r</th>\n      <th>eos-solr-p_val</th>\n      <th>eos-sm-r</th>\n      <th>eos-sm-p_val</th>\n      <th>abs-max-r</th>\n      <th>control_variable</th>\n    </tr>\n  </thead>\n  <tbody>\n    <tr>\n      <th>0</th>\n      <td>50655</td>\n      <td>36</td>\n      <td>0.36569</td>\n      <td>0.26873</td>\n      <td>0.55241</td>\n      <td>0.07803</td>\n      <td>0.43969</td>\n      <td>0.17599</td>\n      <td>0.18187</td>\n      <td>0.59251</td>\n      <td>-0.50938</td>\n      <td>0.10950</td>\n      <td>-0.21519</td>\n      <td>0.52513</td>\n      <td>0.55241</td>\n      <td>gpp</td>\n    </tr>\n    <tr>\n      <th>1</th>\n      <td>50871</td>\n      <td>36</td>\n      <td>0.05452</td>\n      <td>0.83536</td>\n      <td>0.15349</td>\n      <td>0.55643</td>\n      <td>-0.04091</td>\n      <td>0.87613</td>\n      <td>0.35504</td>\n      <td>0.16198</td>\n      <td>0.32817</td>\n      <td>0.19844</td>\n      <td>0.44964</td>\n      <td>0.07016</td>\n      <td>0.44964</td>\n      <td>sm</td>\n    </tr>\n    <tr>\n      <th>2</th>\n      <td>50873</td>\n      <td>36</td>\n      <td>-0.14406</td>\n      <td>0.58120</td>\n      <td>0.27657</td>\n      <td>0.28255</td>\n      <td>-0.02443</td>\n      <td>0.92586</td>\n      <td>-0.04711</td>\n      <td>0.85751</td>\n      <td>-0.66728</td>\n      <td>0.00343</td>\n      <td>0.22151</td>\n      <td>0.39286</td>\n      <td>0.66728</td>\n      <td>solr</td>\n    </tr>\n    <tr>\n      <th>3</th>\n      <td>50892</td>\n      <td>36</td>\n      <td>-0.11724</td>\n      <td>0.66543</td>\n      <td>0.85276</td>\n      <td>0.00003</td>\n      <td>-0.01507</td>\n      <td>0.95582</td>\n      <td>-0.16892</td>\n      <td>0.53171</td>\n      <td>-0.19370</td>\n      <td>0.47226</td>\n      <td>0.06546</td>\n      <td>0.80967</td>\n      <td>0.85276</td>\n      <td>gpp</td>\n    </tr>\n    <tr>\n      <th>4</th>\n      <td>50964</td>\n      <td>7</td>\n      <td>-0.25875</td>\n      <td>0.31596</td>\n      <td>0.44584</td>\n      <td>0.07287</td>\n      <td>0.29565</td>\n      <td>0.24927</td>\n      <td>-0.10750</td>\n      <td>0.68132</td>\n      <td>-0.13021</td>\n      <td>0.61840</td>\n      <td>-0.19421</td>\n      <td>0.45512</td>\n      <td>0.44584</td>\n      <td>gpp</td>\n    </tr>\n    <tr>\n      <th>...</th>\n      <td>...</td>\n      <td>...</td>\n      <td>...</td>\n      <td>...</td>\n      <td>...</td>\n      <td>...</td>\n      <td>...</td>\n      <td>...</td>\n      <td>...</td>\n      <td>...</td>\n      <td>...</td>\n      <td>...</td>\n      <td>...</td>\n      <td>...</td>\n      <td>...</td>\n      <td>...</td>\n    </tr>\n    <tr>\n      <th>278</th>\n      <td>58339</td>\n      <td>楝树</td>\n      <td>-0.17741</td>\n      <td>0.62390</td>\n      <td>-0.11935</td>\n      <td>0.74260</td>\n      <td>0.20172</td>\n      <td>0.57627</td>\n      <td>0.44149</td>\n      <td>0.20149</td>\n      <td>-0.08744</td>\n      <td>0.81017</td>\n      <td>-0.61509</td>\n      <td>0.05840</td>\n      <td>0.61509</td>\n      <td>sm</td>\n    </tr>\n    <tr>\n      <th>279</th>\n      <td>58346</td>\n      <td>梧桐</td>\n      <td>0.36301</td>\n      <td>0.16699</td>\n      <td>0.52838</td>\n      <td>0.03537</td>\n      <td>0.10591</td>\n      <td>0.69626</td>\n      <td>-0.37121</td>\n      <td>0.15691</td>\n      <td>-0.41030</td>\n      <td>0.11445</td>\n      <td>-0.39275</td>\n      <td>0.13237</td>\n      <td>0.52838</td>\n      <td>gpp</td>\n    </tr>\n    <tr>\n      <th>280</th>\n      <td>58356</td>\n      <td>水杉</td>\n      <td>-0.05896</td>\n      <td>0.86328</td>\n      <td>-0.27116</td>\n      <td>0.41993</td>\n      <td>0.33134</td>\n      <td>0.31956</td>\n      <td>-0.11905</td>\n      <td>0.72735</td>\n      <td>0.36693</td>\n      <td>0.26700</td>\n      <td>-0.09787</td>\n      <td>0.77466</td>\n      <td>0.36693</td>\n      <td>solr</td>\n    </tr>\n    <tr>\n      <th>281</th>\n      <td>58433</td>\n      <td>刺槐</td>\n      <td>0.26940</td>\n      <td>0.19282</td>\n      <td>0.53025</td>\n      <td>0.00640</td>\n      <td>0.35800</td>\n      <td>0.07890</td>\n      <td>0.39226</td>\n      <td>0.05245</td>\n      <td>0.05430</td>\n      <td>0.79658</td>\n      <td>0.02980</td>\n      <td>0.88754</td>\n      <td>0.53025</td>\n      <td>gpp</td>\n    </tr>\n    <tr>\n      <th>282</th>\n      <td>58433</td>\n      <td>楝树</td>\n      <td>0.36754</td>\n      <td>0.07068</td>\n      <td>0.56017</td>\n      <td>0.00359</td>\n      <td>0.26383</td>\n      <td>0.20255</td>\n      <td>-0.34603</td>\n      <td>0.09019</td>\n      <td>-0.32204</td>\n      <td>0.11644</td>\n      <td>-0.19844</td>\n      <td>0.34165</td>\n      <td>0.56017</td>\n      <td>gpp</td>\n    </tr>\n  </tbody>\n</table>\n<p>391 rows × 16 columns</p>\n</div>"
     },
     "execution_count": 243,
     "metadata": {},
     "output_type": "execute_result"
    }
   ],
   "source": [
    "dir = '/data/shuping/data/china_phenology/results/max_r'\n",
    "data = pd.DataFrame(columns=['site', 'species', 'eos-sos-r', 'eos-sos-p_val', 'eos-gpp-r',\n",
    "       'eos-gpp-p_val', 'eos-tmean-r', 'eos-tmean-p_val', 'eos-pre-r',\n",
    "       'eos-pre-p_val', 'eos-solr-r', 'eos-solr-p_val', 'eos-sm-r',\n",
    "       'eos-sm-p_val', 'abs-max-r', 'control_variable'])\n",
    "files = sorted(os.listdir(dir))\n",
    "for file in files:\n",
    "    phen = pd.read_csv(os.path.join(dir, file))\n",
    "    phen = phen.drop(['Unnamed: 0'], axis=1)\n",
    "    data = pd.concat([data, phen], axis=0)\n",
    "data"
   ],
   "metadata": {
    "collapsed": false,
    "pycharm": {
     "name": "#%%\n"
    }
   }
  },
  {
   "cell_type": "code",
   "execution_count": 244,
   "outputs": [
    {
     "name": "stdout",
     "output_type": "stream",
     "text": [
      "gpp_control: 24.808184143222505\n",
      "sos_control: 14.322250639386189\n",
      "tmean_control: 19.69309462915601\n",
      "pre_control: 13.810741687979538\n",
      "solr_control: 19.69309462915601\n",
      "sm_control: 7.672634271099745\n"
     ]
    }
   ],
   "source": [
    "df_gpp = data[data['control_variable'] == 'gpp']\n",
    "df_sos = data[data['control_variable'] == 'sos']\n",
    "df_tmean = data[data['control_variable'] == 'tmean']\n",
    "df_pre = data[data['control_variable'] == 'pre']\n",
    "df_solr = data[data['control_variable'] == 'solr']\n",
    "df_sm = data[data['control_variable'] == 'sm']\n",
    "print('gpp_control:', (df_gpp.shape[0]/data.shape[0]*100))\n",
    "print('sos_control:', (df_sos.shape[0]/data.shape[0]*100))\n",
    "print('tmean_control:', (df_tmean.shape[0]/data.shape[0]*100))\n",
    "print('pre_control:', (df_pre.shape[0]/data.shape[0]*100))\n",
    "print('solr_control:', (df_solr.shape[0]/data.shape[0]*100))\n",
    "print('sm_control:', (df_sm.shape[0]/data.shape[0]*100))"
   ],
   "metadata": {
    "collapsed": false,
    "pycharm": {
     "name": "#%%\n"
    }
   }
  },
  {
   "cell_type": "markdown",
   "source": [
    "# 7 Mean_partial_correlation_coefficient"
   ],
   "metadata": {
    "collapsed": false,
    "pycharm": {
     "name": "#%% md\n"
    }
   }
  },
  {
   "cell_type": "markdown",
   "source": [
    "## woody"
   ],
   "metadata": {
    "collapsed": false,
    "pycharm": {
     "name": "#%% md\n"
    }
   }
  },
  {
   "cell_type": "code",
   "execution_count": 247,
   "outputs": [
    {
     "data": {
      "text/plain": "     eos-sos-r  eos-gpp-r  eos-tmean-r  eos-pre-r  eos-solr-r  eos-sm-r\n0      0.21600    0.17182     -0.08853   -0.12437    -0.15655  -0.10994\n1      0.10658    0.17874      0.42800    0.10857     0.28210  -0.14348\n2      0.12968   -0.10526      0.05870    0.08984    -0.17384  -0.32573\n3      0.19219    0.08909      0.20572   -0.04518    -0.14016   0.07955\n4      0.12266    0.49894      0.22930    0.29193    -0.23286   0.26885\n..         ...        ...          ...        ...         ...       ...\n278   -0.17741   -0.11935      0.20172    0.44149    -0.08744  -0.61509\n279    0.36301    0.52838      0.10591   -0.37121    -0.41030  -0.39275\n280   -0.05896   -0.27116      0.33134   -0.11905     0.36693  -0.09787\n281    0.26940    0.53025      0.35800    0.39226     0.05430   0.02980\n282    0.36754    0.56017      0.26383   -0.34603    -0.32204  -0.19844\n\n[283 rows x 6 columns]",
      "text/html": "<div>\n<style scoped>\n    .dataframe tbody tr th:only-of-type {\n        vertical-align: middle;\n    }\n\n    .dataframe tbody tr th {\n        vertical-align: top;\n    }\n\n    .dataframe thead th {\n        text-align: right;\n    }\n</style>\n<table border=\"1\" class=\"dataframe\">\n  <thead>\n    <tr style=\"text-align: right;\">\n      <th></th>\n      <th>eos-sos-r</th>\n      <th>eos-gpp-r</th>\n      <th>eos-tmean-r</th>\n      <th>eos-pre-r</th>\n      <th>eos-solr-r</th>\n      <th>eos-sm-r</th>\n    </tr>\n  </thead>\n  <tbody>\n    <tr>\n      <th>0</th>\n      <td>0.21600</td>\n      <td>0.17182</td>\n      <td>-0.08853</td>\n      <td>-0.12437</td>\n      <td>-0.15655</td>\n      <td>-0.10994</td>\n    </tr>\n    <tr>\n      <th>1</th>\n      <td>0.10658</td>\n      <td>0.17874</td>\n      <td>0.42800</td>\n      <td>0.10857</td>\n      <td>0.28210</td>\n      <td>-0.14348</td>\n    </tr>\n    <tr>\n      <th>2</th>\n      <td>0.12968</td>\n      <td>-0.10526</td>\n      <td>0.05870</td>\n      <td>0.08984</td>\n      <td>-0.17384</td>\n      <td>-0.32573</td>\n    </tr>\n    <tr>\n      <th>3</th>\n      <td>0.19219</td>\n      <td>0.08909</td>\n      <td>0.20572</td>\n      <td>-0.04518</td>\n      <td>-0.14016</td>\n      <td>0.07955</td>\n    </tr>\n    <tr>\n      <th>4</th>\n      <td>0.12266</td>\n      <td>0.49894</td>\n      <td>0.22930</td>\n      <td>0.29193</td>\n      <td>-0.23286</td>\n      <td>0.26885</td>\n    </tr>\n    <tr>\n      <th>...</th>\n      <td>...</td>\n      <td>...</td>\n      <td>...</td>\n      <td>...</td>\n      <td>...</td>\n      <td>...</td>\n    </tr>\n    <tr>\n      <th>278</th>\n      <td>-0.17741</td>\n      <td>-0.11935</td>\n      <td>0.20172</td>\n      <td>0.44149</td>\n      <td>-0.08744</td>\n      <td>-0.61509</td>\n    </tr>\n    <tr>\n      <th>279</th>\n      <td>0.36301</td>\n      <td>0.52838</td>\n      <td>0.10591</td>\n      <td>-0.37121</td>\n      <td>-0.41030</td>\n      <td>-0.39275</td>\n    </tr>\n    <tr>\n      <th>280</th>\n      <td>-0.05896</td>\n      <td>-0.27116</td>\n      <td>0.33134</td>\n      <td>-0.11905</td>\n      <td>0.36693</td>\n      <td>-0.09787</td>\n    </tr>\n    <tr>\n      <th>281</th>\n      <td>0.26940</td>\n      <td>0.53025</td>\n      <td>0.35800</td>\n      <td>0.39226</td>\n      <td>0.05430</td>\n      <td>0.02980</td>\n    </tr>\n    <tr>\n      <th>282</th>\n      <td>0.36754</td>\n      <td>0.56017</td>\n      <td>0.26383</td>\n      <td>-0.34603</td>\n      <td>-0.32204</td>\n      <td>-0.19844</td>\n    </tr>\n  </tbody>\n</table>\n<p>283 rows × 6 columns</p>\n</div>"
     },
     "execution_count": 247,
     "metadata": {},
     "output_type": "execute_result"
    }
   ],
   "source": [
    "csv_path = '/data/shuping/data/china_phenology/results/partial_corr_results_with_gpp/woody_partial_corr_with_gpp.csv'\n",
    "df = pd.read_csv(csv_path)\n",
    "df = df.drop(['Unnamed: 0'], axis=1)\n",
    "df = df.drop(['site', 'species', 'eos-sos-p_val', 'eos-gpp-p_val', 'eos-tmean-p_val', 'eos-pre-p_val',\n",
    "              'eos-solr-p_val', 'eos-sm-p_val'], axis = 1)\n",
    "df"
   ],
   "metadata": {
    "collapsed": false,
    "pycharm": {
     "name": "#%%\n"
    }
   }
  },
  {
   "cell_type": "code",
   "execution_count": 248,
   "outputs": [
    {
     "data": {
      "text/plain": "        eos-sos-r   eos-gpp-r  eos-tmean-r   eos-pre-r  eos-solr-r    eos-sm-r\ncount  283.000000  283.000000   283.000000  282.000000  283.000000  283.000000\nmean     0.121938    0.197816     0.135913   -0.012064   -0.115866   -0.055897\nstd      0.305812    0.315308     0.340617    0.325076    0.340229    0.283999\nmin     -0.788000   -0.621190    -0.789830   -0.731800   -0.805840   -0.880840\n25%     -0.090695   -0.041155    -0.106745   -0.255245   -0.388600   -0.255970\n50%      0.141000    0.222800     0.173560   -0.032790   -0.173840   -0.069860\n75%      0.343795    0.431040     0.413380    0.232162    0.147400    0.128845\nmax      0.915920    0.889110     0.937340    0.809500    0.774490    0.718240",
      "text/html": "<div>\n<style scoped>\n    .dataframe tbody tr th:only-of-type {\n        vertical-align: middle;\n    }\n\n    .dataframe tbody tr th {\n        vertical-align: top;\n    }\n\n    .dataframe thead th {\n        text-align: right;\n    }\n</style>\n<table border=\"1\" class=\"dataframe\">\n  <thead>\n    <tr style=\"text-align: right;\">\n      <th></th>\n      <th>eos-sos-r</th>\n      <th>eos-gpp-r</th>\n      <th>eos-tmean-r</th>\n      <th>eos-pre-r</th>\n      <th>eos-solr-r</th>\n      <th>eos-sm-r</th>\n    </tr>\n  </thead>\n  <tbody>\n    <tr>\n      <th>count</th>\n      <td>283.000000</td>\n      <td>283.000000</td>\n      <td>283.000000</td>\n      <td>282.000000</td>\n      <td>283.000000</td>\n      <td>283.000000</td>\n    </tr>\n    <tr>\n      <th>mean</th>\n      <td>0.121938</td>\n      <td>0.197816</td>\n      <td>0.135913</td>\n      <td>-0.012064</td>\n      <td>-0.115866</td>\n      <td>-0.055897</td>\n    </tr>\n    <tr>\n      <th>std</th>\n      <td>0.305812</td>\n      <td>0.315308</td>\n      <td>0.340617</td>\n      <td>0.325076</td>\n      <td>0.340229</td>\n      <td>0.283999</td>\n    </tr>\n    <tr>\n      <th>min</th>\n      <td>-0.788000</td>\n      <td>-0.621190</td>\n      <td>-0.789830</td>\n      <td>-0.731800</td>\n      <td>-0.805840</td>\n      <td>-0.880840</td>\n    </tr>\n    <tr>\n      <th>25%</th>\n      <td>-0.090695</td>\n      <td>-0.041155</td>\n      <td>-0.106745</td>\n      <td>-0.255245</td>\n      <td>-0.388600</td>\n      <td>-0.255970</td>\n    </tr>\n    <tr>\n      <th>50%</th>\n      <td>0.141000</td>\n      <td>0.222800</td>\n      <td>0.173560</td>\n      <td>-0.032790</td>\n      <td>-0.173840</td>\n      <td>-0.069860</td>\n    </tr>\n    <tr>\n      <th>75%</th>\n      <td>0.343795</td>\n      <td>0.431040</td>\n      <td>0.413380</td>\n      <td>0.232162</td>\n      <td>0.147400</td>\n      <td>0.128845</td>\n    </tr>\n    <tr>\n      <th>max</th>\n      <td>0.915920</td>\n      <td>0.889110</td>\n      <td>0.937340</td>\n      <td>0.809500</td>\n      <td>0.774490</td>\n      <td>0.718240</td>\n    </tr>\n  </tbody>\n</table>\n</div>"
     },
     "execution_count": 248,
     "metadata": {},
     "output_type": "execute_result"
    }
   ],
   "source": [
    "stas_df = df.describe()\n",
    "stas_df.to_csv('/data/shuping/data/china_phenology/results/mean_partial_correlation_coefficient/woody_mean_parcorr.csv')\n",
    "stas_df"
   ],
   "metadata": {
    "collapsed": false,
    "pycharm": {
     "name": "#%%\n"
    }
   }
  },
  {
   "cell_type": "markdown",
   "source": [
    "##herb"
   ],
   "metadata": {
    "collapsed": false,
    "pycharm": {
     "name": "#%% md\n"
    }
   }
  },
  {
   "cell_type": "code",
   "execution_count": 249,
   "outputs": [
    {
     "data": {
      "text/plain": "     eos-sos-r  eos-gpp-r  eos-tmean-r  eos-pre-r  eos-solr-r  eos-sm-r\n0      0.36569    0.55241      0.43969    0.18187    -0.50938  -0.21519\n1      0.05452    0.15349     -0.04091    0.35504     0.32817   0.44964\n2     -0.14406    0.27657     -0.02443   -0.04711    -0.66728   0.22151\n3     -0.11724    0.85276     -0.01507   -0.16892    -0.19370   0.06546\n4     -0.25875    0.44584      0.29565   -0.10750    -0.13021  -0.19421\n..         ...        ...          ...        ...         ...       ...\n103    0.22683    0.05074     -0.04250    0.37822     0.23154  -0.03062\n104    0.30921    0.48058      0.35461   -0.17769    -0.50920  -0.22726\n105    0.12165    0.19876      0.12728    0.24698    -0.20889  -0.04705\n106    0.19174    0.94148      0.23371    0.18643     0.12734  -0.06204\n107    0.43283    0.05265     -0.07131    0.41245     0.14511  -0.12991\n\n[108 rows x 6 columns]",
      "text/html": "<div>\n<style scoped>\n    .dataframe tbody tr th:only-of-type {\n        vertical-align: middle;\n    }\n\n    .dataframe tbody tr th {\n        vertical-align: top;\n    }\n\n    .dataframe thead th {\n        text-align: right;\n    }\n</style>\n<table border=\"1\" class=\"dataframe\">\n  <thead>\n    <tr style=\"text-align: right;\">\n      <th></th>\n      <th>eos-sos-r</th>\n      <th>eos-gpp-r</th>\n      <th>eos-tmean-r</th>\n      <th>eos-pre-r</th>\n      <th>eos-solr-r</th>\n      <th>eos-sm-r</th>\n    </tr>\n  </thead>\n  <tbody>\n    <tr>\n      <th>0</th>\n      <td>0.36569</td>\n      <td>0.55241</td>\n      <td>0.43969</td>\n      <td>0.18187</td>\n      <td>-0.50938</td>\n      <td>-0.21519</td>\n    </tr>\n    <tr>\n      <th>1</th>\n      <td>0.05452</td>\n      <td>0.15349</td>\n      <td>-0.04091</td>\n      <td>0.35504</td>\n      <td>0.32817</td>\n      <td>0.44964</td>\n    </tr>\n    <tr>\n      <th>2</th>\n      <td>-0.14406</td>\n      <td>0.27657</td>\n      <td>-0.02443</td>\n      <td>-0.04711</td>\n      <td>-0.66728</td>\n      <td>0.22151</td>\n    </tr>\n    <tr>\n      <th>3</th>\n      <td>-0.11724</td>\n      <td>0.85276</td>\n      <td>-0.01507</td>\n      <td>-0.16892</td>\n      <td>-0.19370</td>\n      <td>0.06546</td>\n    </tr>\n    <tr>\n      <th>4</th>\n      <td>-0.25875</td>\n      <td>0.44584</td>\n      <td>0.29565</td>\n      <td>-0.10750</td>\n      <td>-0.13021</td>\n      <td>-0.19421</td>\n    </tr>\n    <tr>\n      <th>...</th>\n      <td>...</td>\n      <td>...</td>\n      <td>...</td>\n      <td>...</td>\n      <td>...</td>\n      <td>...</td>\n    </tr>\n    <tr>\n      <th>103</th>\n      <td>0.22683</td>\n      <td>0.05074</td>\n      <td>-0.04250</td>\n      <td>0.37822</td>\n      <td>0.23154</td>\n      <td>-0.03062</td>\n    </tr>\n    <tr>\n      <th>104</th>\n      <td>0.30921</td>\n      <td>0.48058</td>\n      <td>0.35461</td>\n      <td>-0.17769</td>\n      <td>-0.50920</td>\n      <td>-0.22726</td>\n    </tr>\n    <tr>\n      <th>105</th>\n      <td>0.12165</td>\n      <td>0.19876</td>\n      <td>0.12728</td>\n      <td>0.24698</td>\n      <td>-0.20889</td>\n      <td>-0.04705</td>\n    </tr>\n    <tr>\n      <th>106</th>\n      <td>0.19174</td>\n      <td>0.94148</td>\n      <td>0.23371</td>\n      <td>0.18643</td>\n      <td>0.12734</td>\n      <td>-0.06204</td>\n    </tr>\n    <tr>\n      <th>107</th>\n      <td>0.43283</td>\n      <td>0.05265</td>\n      <td>-0.07131</td>\n      <td>0.41245</td>\n      <td>0.14511</td>\n      <td>-0.12991</td>\n    </tr>\n  </tbody>\n</table>\n<p>108 rows × 6 columns</p>\n</div>"
     },
     "execution_count": 249,
     "metadata": {},
     "output_type": "execute_result"
    }
   ],
   "source": [
    "# herb\n",
    "csv_path = '/data/shuping/data/china_phenology/results/partial_corr_results_with_gpp/herb_partial_corr_with_gpp.csv'\n",
    "df = pd.read_csv(csv_path)\n",
    "df = df.drop(['Unnamed: 0'], axis=1)\n",
    "df = df.drop(['site', 'species', 'eos-sos-p_val', 'eos-gpp-p_val', 'eos-tmean-p_val', 'eos-pre-p_val',\n",
    "              'eos-solr-p_val', 'eos-sm-p_val'], axis = 1)\n",
    "df"
   ],
   "metadata": {
    "collapsed": false,
    "pycharm": {
     "name": "#%%\n"
    }
   }
  },
  {
   "cell_type": "code",
   "execution_count": 250,
   "outputs": [
    {
     "data": {
      "text/plain": "        eos-sos-r   eos-gpp-r  eos-tmean-r   eos-pre-r  eos-solr-r    eos-sm-r\ncount  108.000000  108.000000   108.000000  108.000000  108.000000  108.000000\nmean     0.132868    0.241886     0.045642   -0.016971   -0.092306    0.004077\nstd      0.275331    0.310714     0.305062    0.296200    0.296856    0.256262\nmin     -0.523980   -0.601650    -0.638790   -0.755330   -0.668460   -0.541430\n25%     -0.073645    0.032708    -0.186805   -0.242165   -0.334738   -0.170643\n50%      0.125865    0.246665     0.089005   -0.025710   -0.093795   -0.053435\n75%      0.328080    0.434107     0.288310    0.231220    0.117813    0.215143\nmax      0.829310    0.969840     0.721230    0.660110    0.555660    0.713520",
      "text/html": "<div>\n<style scoped>\n    .dataframe tbody tr th:only-of-type {\n        vertical-align: middle;\n    }\n\n    .dataframe tbody tr th {\n        vertical-align: top;\n    }\n\n    .dataframe thead th {\n        text-align: right;\n    }\n</style>\n<table border=\"1\" class=\"dataframe\">\n  <thead>\n    <tr style=\"text-align: right;\">\n      <th></th>\n      <th>eos-sos-r</th>\n      <th>eos-gpp-r</th>\n      <th>eos-tmean-r</th>\n      <th>eos-pre-r</th>\n      <th>eos-solr-r</th>\n      <th>eos-sm-r</th>\n    </tr>\n  </thead>\n  <tbody>\n    <tr>\n      <th>count</th>\n      <td>108.000000</td>\n      <td>108.000000</td>\n      <td>108.000000</td>\n      <td>108.000000</td>\n      <td>108.000000</td>\n      <td>108.000000</td>\n    </tr>\n    <tr>\n      <th>mean</th>\n      <td>0.132868</td>\n      <td>0.241886</td>\n      <td>0.045642</td>\n      <td>-0.016971</td>\n      <td>-0.092306</td>\n      <td>0.004077</td>\n    </tr>\n    <tr>\n      <th>std</th>\n      <td>0.275331</td>\n      <td>0.310714</td>\n      <td>0.305062</td>\n      <td>0.296200</td>\n      <td>0.296856</td>\n      <td>0.256262</td>\n    </tr>\n    <tr>\n      <th>min</th>\n      <td>-0.523980</td>\n      <td>-0.601650</td>\n      <td>-0.638790</td>\n      <td>-0.755330</td>\n      <td>-0.668460</td>\n      <td>-0.541430</td>\n    </tr>\n    <tr>\n      <th>25%</th>\n      <td>-0.073645</td>\n      <td>0.032708</td>\n      <td>-0.186805</td>\n      <td>-0.242165</td>\n      <td>-0.334738</td>\n      <td>-0.170643</td>\n    </tr>\n    <tr>\n      <th>50%</th>\n      <td>0.125865</td>\n      <td>0.246665</td>\n      <td>0.089005</td>\n      <td>-0.025710</td>\n      <td>-0.093795</td>\n      <td>-0.053435</td>\n    </tr>\n    <tr>\n      <th>75%</th>\n      <td>0.328080</td>\n      <td>0.434107</td>\n      <td>0.288310</td>\n      <td>0.231220</td>\n      <td>0.117813</td>\n      <td>0.215143</td>\n    </tr>\n    <tr>\n      <th>max</th>\n      <td>0.829310</td>\n      <td>0.969840</td>\n      <td>0.721230</td>\n      <td>0.660110</td>\n      <td>0.555660</td>\n      <td>0.713520</td>\n    </tr>\n  </tbody>\n</table>\n</div>"
     },
     "execution_count": 250,
     "metadata": {},
     "output_type": "execute_result"
    }
   ],
   "source": [
    "stas_df = df.describe()\n",
    "stas_df.to_csv('/data/shuping/data/china_phenology/results/mean_partial_correlation_coefficient/herb_mean_parcorr.csv')\n",
    "stas_df"
   ],
   "metadata": {
    "collapsed": false,
    "pycharm": {
     "name": "#%%\n"
    }
   }
  },
  {
   "cell_type": "markdown",
   "source": [
    "## all"
   ],
   "metadata": {
    "collapsed": false,
    "pycharm": {
     "name": "#%% md\n"
    }
   }
  },
  {
   "cell_type": "code",
   "execution_count": 254,
   "outputs": [
    {
     "data": {
      "text/plain": "      site species  eos-sos-r  eos-sos-p_val  eos-gpp-r  eos-gpp-p_val  \\\n0    50655      36    0.36569        0.26873    0.55241        0.07803   \n1    50871      36    0.05452        0.83536    0.15349        0.55643   \n2    50873      36   -0.14406        0.58120    0.27657        0.28255   \n3    50892      36   -0.11724        0.66543    0.85276        0.00003   \n4    50964       7   -0.25875        0.31596    0.44584        0.07287   \n..     ...     ...        ...            ...        ...            ...   \n278  58339      楝树   -0.17741        0.62390   -0.11935        0.74260   \n279  58346      梧桐    0.36301        0.16699    0.52838        0.03537   \n280  58356      水杉   -0.05896        0.86328   -0.27116        0.41993   \n281  58433      刺槐    0.26940        0.19282    0.53025        0.00640   \n282  58433      楝树    0.36754        0.07068    0.56017        0.00359   \n\n     eos-tmean-r  eos-tmean-p_val  eos-pre-r  eos-pre-p_val  eos-solr-r  \\\n0        0.43969          0.17599    0.18187        0.59251    -0.50938   \n1       -0.04091          0.87613    0.35504        0.16198     0.32817   \n2       -0.02443          0.92586   -0.04711        0.85751    -0.66728   \n3       -0.01507          0.95582   -0.16892        0.53171    -0.19370   \n4        0.29565          0.24927   -0.10750        0.68132    -0.13021   \n..           ...              ...        ...            ...         ...   \n278      0.20172          0.57627    0.44149        0.20149    -0.08744   \n279      0.10591          0.69626   -0.37121        0.15691    -0.41030   \n280      0.33134          0.31956   -0.11905        0.72735     0.36693   \n281      0.35800          0.07890    0.39226        0.05245     0.05430   \n282      0.26383          0.20255   -0.34603        0.09019    -0.32204   \n\n     eos-solr-p_val  eos-sm-r  eos-sm-p_val  \n0           0.10950  -0.21519       0.52513  \n1           0.19844   0.44964       0.07016  \n2           0.00343   0.22151       0.39286  \n3           0.47226   0.06546       0.80967  \n4           0.61840  -0.19421       0.45512  \n..              ...       ...           ...  \n278         0.81017  -0.61509       0.05840  \n279         0.11445  -0.39275       0.13237  \n280         0.26700  -0.09787       0.77466  \n281         0.79658   0.02980       0.88754  \n282         0.11644  -0.19844       0.34165  \n\n[391 rows x 14 columns]",
      "text/html": "<div>\n<style scoped>\n    .dataframe tbody tr th:only-of-type {\n        vertical-align: middle;\n    }\n\n    .dataframe tbody tr th {\n        vertical-align: top;\n    }\n\n    .dataframe thead th {\n        text-align: right;\n    }\n</style>\n<table border=\"1\" class=\"dataframe\">\n  <thead>\n    <tr style=\"text-align: right;\">\n      <th></th>\n      <th>site</th>\n      <th>species</th>\n      <th>eos-sos-r</th>\n      <th>eos-sos-p_val</th>\n      <th>eos-gpp-r</th>\n      <th>eos-gpp-p_val</th>\n      <th>eos-tmean-r</th>\n      <th>eos-tmean-p_val</th>\n      <th>eos-pre-r</th>\n      <th>eos-pre-p_val</th>\n      <th>eos-solr-r</th>\n      <th>eos-solr-p_val</th>\n      <th>eos-sm-r</th>\n      <th>eos-sm-p_val</th>\n    </tr>\n  </thead>\n  <tbody>\n    <tr>\n      <th>0</th>\n      <td>50655</td>\n      <td>36</td>\n      <td>0.36569</td>\n      <td>0.26873</td>\n      <td>0.55241</td>\n      <td>0.07803</td>\n      <td>0.43969</td>\n      <td>0.17599</td>\n      <td>0.18187</td>\n      <td>0.59251</td>\n      <td>-0.50938</td>\n      <td>0.10950</td>\n      <td>-0.21519</td>\n      <td>0.52513</td>\n    </tr>\n    <tr>\n      <th>1</th>\n      <td>50871</td>\n      <td>36</td>\n      <td>0.05452</td>\n      <td>0.83536</td>\n      <td>0.15349</td>\n      <td>0.55643</td>\n      <td>-0.04091</td>\n      <td>0.87613</td>\n      <td>0.35504</td>\n      <td>0.16198</td>\n      <td>0.32817</td>\n      <td>0.19844</td>\n      <td>0.44964</td>\n      <td>0.07016</td>\n    </tr>\n    <tr>\n      <th>2</th>\n      <td>50873</td>\n      <td>36</td>\n      <td>-0.14406</td>\n      <td>0.58120</td>\n      <td>0.27657</td>\n      <td>0.28255</td>\n      <td>-0.02443</td>\n      <td>0.92586</td>\n      <td>-0.04711</td>\n      <td>0.85751</td>\n      <td>-0.66728</td>\n      <td>0.00343</td>\n      <td>0.22151</td>\n      <td>0.39286</td>\n    </tr>\n    <tr>\n      <th>3</th>\n      <td>50892</td>\n      <td>36</td>\n      <td>-0.11724</td>\n      <td>0.66543</td>\n      <td>0.85276</td>\n      <td>0.00003</td>\n      <td>-0.01507</td>\n      <td>0.95582</td>\n      <td>-0.16892</td>\n      <td>0.53171</td>\n      <td>-0.19370</td>\n      <td>0.47226</td>\n      <td>0.06546</td>\n      <td>0.80967</td>\n    </tr>\n    <tr>\n      <th>4</th>\n      <td>50964</td>\n      <td>7</td>\n      <td>-0.25875</td>\n      <td>0.31596</td>\n      <td>0.44584</td>\n      <td>0.07287</td>\n      <td>0.29565</td>\n      <td>0.24927</td>\n      <td>-0.10750</td>\n      <td>0.68132</td>\n      <td>-0.13021</td>\n      <td>0.61840</td>\n      <td>-0.19421</td>\n      <td>0.45512</td>\n    </tr>\n    <tr>\n      <th>...</th>\n      <td>...</td>\n      <td>...</td>\n      <td>...</td>\n      <td>...</td>\n      <td>...</td>\n      <td>...</td>\n      <td>...</td>\n      <td>...</td>\n      <td>...</td>\n      <td>...</td>\n      <td>...</td>\n      <td>...</td>\n      <td>...</td>\n      <td>...</td>\n    </tr>\n    <tr>\n      <th>278</th>\n      <td>58339</td>\n      <td>楝树</td>\n      <td>-0.17741</td>\n      <td>0.62390</td>\n      <td>-0.11935</td>\n      <td>0.74260</td>\n      <td>0.20172</td>\n      <td>0.57627</td>\n      <td>0.44149</td>\n      <td>0.20149</td>\n      <td>-0.08744</td>\n      <td>0.81017</td>\n      <td>-0.61509</td>\n      <td>0.05840</td>\n    </tr>\n    <tr>\n      <th>279</th>\n      <td>58346</td>\n      <td>梧桐</td>\n      <td>0.36301</td>\n      <td>0.16699</td>\n      <td>0.52838</td>\n      <td>0.03537</td>\n      <td>0.10591</td>\n      <td>0.69626</td>\n      <td>-0.37121</td>\n      <td>0.15691</td>\n      <td>-0.41030</td>\n      <td>0.11445</td>\n      <td>-0.39275</td>\n      <td>0.13237</td>\n    </tr>\n    <tr>\n      <th>280</th>\n      <td>58356</td>\n      <td>水杉</td>\n      <td>-0.05896</td>\n      <td>0.86328</td>\n      <td>-0.27116</td>\n      <td>0.41993</td>\n      <td>0.33134</td>\n      <td>0.31956</td>\n      <td>-0.11905</td>\n      <td>0.72735</td>\n      <td>0.36693</td>\n      <td>0.26700</td>\n      <td>-0.09787</td>\n      <td>0.77466</td>\n    </tr>\n    <tr>\n      <th>281</th>\n      <td>58433</td>\n      <td>刺槐</td>\n      <td>0.26940</td>\n      <td>0.19282</td>\n      <td>0.53025</td>\n      <td>0.00640</td>\n      <td>0.35800</td>\n      <td>0.07890</td>\n      <td>0.39226</td>\n      <td>0.05245</td>\n      <td>0.05430</td>\n      <td>0.79658</td>\n      <td>0.02980</td>\n      <td>0.88754</td>\n    </tr>\n    <tr>\n      <th>282</th>\n      <td>58433</td>\n      <td>楝树</td>\n      <td>0.36754</td>\n      <td>0.07068</td>\n      <td>0.56017</td>\n      <td>0.00359</td>\n      <td>0.26383</td>\n      <td>0.20255</td>\n      <td>-0.34603</td>\n      <td>0.09019</td>\n      <td>-0.32204</td>\n      <td>0.11644</td>\n      <td>-0.19844</td>\n      <td>0.34165</td>\n    </tr>\n  </tbody>\n</table>\n<p>391 rows × 14 columns</p>\n</div>"
     },
     "execution_count": 254,
     "metadata": {},
     "output_type": "execute_result"
    }
   ],
   "source": [
    "# all\n",
    "dir = '/data/shuping/data/china_phenology/results/partial_corr_results_with_gpp'\n",
    "data = pd.DataFrame(columns=['site', 'species', 'eos-sos-r', 'eos-sos-p_val',\n",
    "       'eos-gpp-r', 'eos-gpp-p_val', 'eos-tmean-r', 'eos-tmean-p_val',\n",
    "       'eos-pre-r', 'eos-pre-p_val', 'eos-solr-r', 'eos-solr-p_val',\n",
    "       'eos-sm-r', 'eos-sm-p_val'])\n",
    "files = sorted(os.listdir(dir))\n",
    "for file in files:\n",
    "    phen = pd.read_csv(os.path.join(dir, file))\n",
    "    phen = phen.drop(['Unnamed: 0'], axis=1)\n",
    "    data = pd.concat([data, phen], axis=0)\n",
    "data"
   ],
   "metadata": {
    "collapsed": false,
    "pycharm": {
     "name": "#%%\n"
    }
   }
  },
  {
   "cell_type": "code",
   "execution_count": 255,
   "outputs": [
    {
     "data": {
      "text/plain": "     eos-sos-r  eos-gpp-r  eos-tmean-r  eos-pre-r  eos-solr-r  eos-sm-r\n0      0.36569    0.55241      0.43969    0.18187    -0.50938  -0.21519\n1      0.05452    0.15349     -0.04091    0.35504     0.32817   0.44964\n2     -0.14406    0.27657     -0.02443   -0.04711    -0.66728   0.22151\n3     -0.11724    0.85276     -0.01507   -0.16892    -0.19370   0.06546\n4     -0.25875    0.44584      0.29565   -0.10750    -0.13021  -0.19421\n..         ...        ...          ...        ...         ...       ...\n278   -0.17741   -0.11935      0.20172    0.44149    -0.08744  -0.61509\n279    0.36301    0.52838      0.10591   -0.37121    -0.41030  -0.39275\n280   -0.05896   -0.27116      0.33134   -0.11905     0.36693  -0.09787\n281    0.26940    0.53025      0.35800    0.39226     0.05430   0.02980\n282    0.36754    0.56017      0.26383   -0.34603    -0.32204  -0.19844\n\n[391 rows x 6 columns]",
      "text/html": "<div>\n<style scoped>\n    .dataframe tbody tr th:only-of-type {\n        vertical-align: middle;\n    }\n\n    .dataframe tbody tr th {\n        vertical-align: top;\n    }\n\n    .dataframe thead th {\n        text-align: right;\n    }\n</style>\n<table border=\"1\" class=\"dataframe\">\n  <thead>\n    <tr style=\"text-align: right;\">\n      <th></th>\n      <th>eos-sos-r</th>\n      <th>eos-gpp-r</th>\n      <th>eos-tmean-r</th>\n      <th>eos-pre-r</th>\n      <th>eos-solr-r</th>\n      <th>eos-sm-r</th>\n    </tr>\n  </thead>\n  <tbody>\n    <tr>\n      <th>0</th>\n      <td>0.36569</td>\n      <td>0.55241</td>\n      <td>0.43969</td>\n      <td>0.18187</td>\n      <td>-0.50938</td>\n      <td>-0.21519</td>\n    </tr>\n    <tr>\n      <th>1</th>\n      <td>0.05452</td>\n      <td>0.15349</td>\n      <td>-0.04091</td>\n      <td>0.35504</td>\n      <td>0.32817</td>\n      <td>0.44964</td>\n    </tr>\n    <tr>\n      <th>2</th>\n      <td>-0.14406</td>\n      <td>0.27657</td>\n      <td>-0.02443</td>\n      <td>-0.04711</td>\n      <td>-0.66728</td>\n      <td>0.22151</td>\n    </tr>\n    <tr>\n      <th>3</th>\n      <td>-0.11724</td>\n      <td>0.85276</td>\n      <td>-0.01507</td>\n      <td>-0.16892</td>\n      <td>-0.19370</td>\n      <td>0.06546</td>\n    </tr>\n    <tr>\n      <th>4</th>\n      <td>-0.25875</td>\n      <td>0.44584</td>\n      <td>0.29565</td>\n      <td>-0.10750</td>\n      <td>-0.13021</td>\n      <td>-0.19421</td>\n    </tr>\n    <tr>\n      <th>...</th>\n      <td>...</td>\n      <td>...</td>\n      <td>...</td>\n      <td>...</td>\n      <td>...</td>\n      <td>...</td>\n    </tr>\n    <tr>\n      <th>278</th>\n      <td>-0.17741</td>\n      <td>-0.11935</td>\n      <td>0.20172</td>\n      <td>0.44149</td>\n      <td>-0.08744</td>\n      <td>-0.61509</td>\n    </tr>\n    <tr>\n      <th>279</th>\n      <td>0.36301</td>\n      <td>0.52838</td>\n      <td>0.10591</td>\n      <td>-0.37121</td>\n      <td>-0.41030</td>\n      <td>-0.39275</td>\n    </tr>\n    <tr>\n      <th>280</th>\n      <td>-0.05896</td>\n      <td>-0.27116</td>\n      <td>0.33134</td>\n      <td>-0.11905</td>\n      <td>0.36693</td>\n      <td>-0.09787</td>\n    </tr>\n    <tr>\n      <th>281</th>\n      <td>0.26940</td>\n      <td>0.53025</td>\n      <td>0.35800</td>\n      <td>0.39226</td>\n      <td>0.05430</td>\n      <td>0.02980</td>\n    </tr>\n    <tr>\n      <th>282</th>\n      <td>0.36754</td>\n      <td>0.56017</td>\n      <td>0.26383</td>\n      <td>-0.34603</td>\n      <td>-0.32204</td>\n      <td>-0.19844</td>\n    </tr>\n  </tbody>\n</table>\n<p>391 rows × 6 columns</p>\n</div>"
     },
     "execution_count": 255,
     "metadata": {},
     "output_type": "execute_result"
    }
   ],
   "source": [
    "df = data.drop(['site', 'species', 'eos-sos-p_val', 'eos-gpp-p_val', 'eos-tmean-p_val', 'eos-pre-p_val',\n",
    "              'eos-solr-p_val', 'eos-sm-p_val'], axis = 1)\n",
    "df"
   ],
   "metadata": {
    "collapsed": false,
    "pycharm": {
     "name": "#%%\n"
    }
   }
  },
  {
   "cell_type": "code",
   "execution_count": 256,
   "outputs": [
    {
     "data": {
      "text/plain": "        eos-sos-r   eos-gpp-r  eos-tmean-r   eos-pre-r  eos-solr-r    eos-sm-r\ncount  391.000000  391.000000   391.000000  390.000000  391.000000  391.000000\nmean     0.124957    0.209989     0.110979   -0.013423   -0.109358   -0.039331\nstd      0.297397    0.314268     0.333252    0.316974    0.328617    0.277594\nmin     -0.788000   -0.621190    -0.789830   -0.755330   -0.805840   -0.880840\n25%     -0.085360   -0.018635    -0.157935   -0.255245   -0.378325   -0.215590\n50%      0.137360    0.230110     0.154220   -0.031875   -0.144850   -0.062960\n75%      0.341530    0.431720     0.375365    0.232162    0.141655    0.150175\nmax      0.915920    0.969840     0.937340    0.809500    0.774490    0.718240",
      "text/html": "<div>\n<style scoped>\n    .dataframe tbody tr th:only-of-type {\n        vertical-align: middle;\n    }\n\n    .dataframe tbody tr th {\n        vertical-align: top;\n    }\n\n    .dataframe thead th {\n        text-align: right;\n    }\n</style>\n<table border=\"1\" class=\"dataframe\">\n  <thead>\n    <tr style=\"text-align: right;\">\n      <th></th>\n      <th>eos-sos-r</th>\n      <th>eos-gpp-r</th>\n      <th>eos-tmean-r</th>\n      <th>eos-pre-r</th>\n      <th>eos-solr-r</th>\n      <th>eos-sm-r</th>\n    </tr>\n  </thead>\n  <tbody>\n    <tr>\n      <th>count</th>\n      <td>391.000000</td>\n      <td>391.000000</td>\n      <td>391.000000</td>\n      <td>390.000000</td>\n      <td>391.000000</td>\n      <td>391.000000</td>\n    </tr>\n    <tr>\n      <th>mean</th>\n      <td>0.124957</td>\n      <td>0.209989</td>\n      <td>0.110979</td>\n      <td>-0.013423</td>\n      <td>-0.109358</td>\n      <td>-0.039331</td>\n    </tr>\n    <tr>\n      <th>std</th>\n      <td>0.297397</td>\n      <td>0.314268</td>\n      <td>0.333252</td>\n      <td>0.316974</td>\n      <td>0.328617</td>\n      <td>0.277594</td>\n    </tr>\n    <tr>\n      <th>min</th>\n      <td>-0.788000</td>\n      <td>-0.621190</td>\n      <td>-0.789830</td>\n      <td>-0.755330</td>\n      <td>-0.805840</td>\n      <td>-0.880840</td>\n    </tr>\n    <tr>\n      <th>25%</th>\n      <td>-0.085360</td>\n      <td>-0.018635</td>\n      <td>-0.157935</td>\n      <td>-0.255245</td>\n      <td>-0.378325</td>\n      <td>-0.215590</td>\n    </tr>\n    <tr>\n      <th>50%</th>\n      <td>0.137360</td>\n      <td>0.230110</td>\n      <td>0.154220</td>\n      <td>-0.031875</td>\n      <td>-0.144850</td>\n      <td>-0.062960</td>\n    </tr>\n    <tr>\n      <th>75%</th>\n      <td>0.341530</td>\n      <td>0.431720</td>\n      <td>0.375365</td>\n      <td>0.232162</td>\n      <td>0.141655</td>\n      <td>0.150175</td>\n    </tr>\n    <tr>\n      <th>max</th>\n      <td>0.915920</td>\n      <td>0.969840</td>\n      <td>0.937340</td>\n      <td>0.809500</td>\n      <td>0.774490</td>\n      <td>0.718240</td>\n    </tr>\n  </tbody>\n</table>\n</div>"
     },
     "execution_count": 256,
     "metadata": {},
     "output_type": "execute_result"
    }
   ],
   "source": [
    "stas_df = df.describe()\n",
    "stas_df.to_csv('/data/shuping/data/china_phenology/results/mean_partial_correlation_coefficient/all_species_mean_parcorr.csv')\n",
    "stas_df"
   ],
   "metadata": {
    "collapsed": false,
    "pycharm": {
     "name": "#%%\n"
    }
   }
  },
  {
   "cell_type": "markdown",
   "source": [
    "##分物种平均偏相关"
   ],
   "metadata": {
    "collapsed": false,
    "pycharm": {
     "name": "#%% md\n"
    }
   }
  },
  {
   "cell_type": "code",
   "execution_count": 1,
   "outputs": [],
   "source": [
    "import pandas as pd"
   ],
   "metadata": {
    "collapsed": false,
    "pycharm": {
     "name": "#%%\n"
    }
   }
  },
  {
   "cell_type": "code",
   "execution_count": 5,
   "outputs": [
    {
     "data": {
      "text/plain": "      site species  eos-sos-r  eos-gpp-r  eos-tmean-r  eos-pre-r  eos-solr-r  \\\n0    50639      榆树    0.21600    0.17182     -0.08853   -0.12437    -0.15655   \n1    50655     中东杨    0.10658    0.17874      0.42800    0.10857     0.28210   \n2    50756     小叶杨    0.12968   -0.10526      0.05870    0.08984    -0.17384   \n3    50756     紫丁香    0.19219    0.08909      0.20572   -0.04518    -0.14016   \n4    50788     小叶杨    0.12266    0.49894      0.22930    0.29193    -0.23286   \n..     ...     ...        ...        ...          ...        ...         ...   \n278  58339      楝树   -0.17741   -0.11935      0.20172    0.44149    -0.08744   \n279  58346      梧桐    0.36301    0.52838      0.10591   -0.37121    -0.41030   \n280  58356      水杉   -0.05896   -0.27116      0.33134   -0.11905     0.36693   \n281  58433      刺槐    0.26940    0.53025      0.35800    0.39226     0.05430   \n282  58433      楝树    0.36754    0.56017      0.26383   -0.34603    -0.32204   \n\n     eos-sm-r  \n0    -0.10994  \n1    -0.14348  \n2    -0.32573  \n3     0.07955  \n4     0.26885  \n..        ...  \n278  -0.61509  \n279  -0.39275  \n280  -0.09787  \n281   0.02980  \n282  -0.19844  \n\n[283 rows x 8 columns]",
      "text/html": "<div>\n<style scoped>\n    .dataframe tbody tr th:only-of-type {\n        vertical-align: middle;\n    }\n\n    .dataframe tbody tr th {\n        vertical-align: top;\n    }\n\n    .dataframe thead th {\n        text-align: right;\n    }\n</style>\n<table border=\"1\" class=\"dataframe\">\n  <thead>\n    <tr style=\"text-align: right;\">\n      <th></th>\n      <th>site</th>\n      <th>species</th>\n      <th>eos-sos-r</th>\n      <th>eos-gpp-r</th>\n      <th>eos-tmean-r</th>\n      <th>eos-pre-r</th>\n      <th>eos-solr-r</th>\n      <th>eos-sm-r</th>\n    </tr>\n  </thead>\n  <tbody>\n    <tr>\n      <th>0</th>\n      <td>50639</td>\n      <td>榆树</td>\n      <td>0.21600</td>\n      <td>0.17182</td>\n      <td>-0.08853</td>\n      <td>-0.12437</td>\n      <td>-0.15655</td>\n      <td>-0.10994</td>\n    </tr>\n    <tr>\n      <th>1</th>\n      <td>50655</td>\n      <td>中东杨</td>\n      <td>0.10658</td>\n      <td>0.17874</td>\n      <td>0.42800</td>\n      <td>0.10857</td>\n      <td>0.28210</td>\n      <td>-0.14348</td>\n    </tr>\n    <tr>\n      <th>2</th>\n      <td>50756</td>\n      <td>小叶杨</td>\n      <td>0.12968</td>\n      <td>-0.10526</td>\n      <td>0.05870</td>\n      <td>0.08984</td>\n      <td>-0.17384</td>\n      <td>-0.32573</td>\n    </tr>\n    <tr>\n      <th>3</th>\n      <td>50756</td>\n      <td>紫丁香</td>\n      <td>0.19219</td>\n      <td>0.08909</td>\n      <td>0.20572</td>\n      <td>-0.04518</td>\n      <td>-0.14016</td>\n      <td>0.07955</td>\n    </tr>\n    <tr>\n      <th>4</th>\n      <td>50788</td>\n      <td>小叶杨</td>\n      <td>0.12266</td>\n      <td>0.49894</td>\n      <td>0.22930</td>\n      <td>0.29193</td>\n      <td>-0.23286</td>\n      <td>0.26885</td>\n    </tr>\n    <tr>\n      <th>...</th>\n      <td>...</td>\n      <td>...</td>\n      <td>...</td>\n      <td>...</td>\n      <td>...</td>\n      <td>...</td>\n      <td>...</td>\n      <td>...</td>\n    </tr>\n    <tr>\n      <th>278</th>\n      <td>58339</td>\n      <td>楝树</td>\n      <td>-0.17741</td>\n      <td>-0.11935</td>\n      <td>0.20172</td>\n      <td>0.44149</td>\n      <td>-0.08744</td>\n      <td>-0.61509</td>\n    </tr>\n    <tr>\n      <th>279</th>\n      <td>58346</td>\n      <td>梧桐</td>\n      <td>0.36301</td>\n      <td>0.52838</td>\n      <td>0.10591</td>\n      <td>-0.37121</td>\n      <td>-0.41030</td>\n      <td>-0.39275</td>\n    </tr>\n    <tr>\n      <th>280</th>\n      <td>58356</td>\n      <td>水杉</td>\n      <td>-0.05896</td>\n      <td>-0.27116</td>\n      <td>0.33134</td>\n      <td>-0.11905</td>\n      <td>0.36693</td>\n      <td>-0.09787</td>\n    </tr>\n    <tr>\n      <th>281</th>\n      <td>58433</td>\n      <td>刺槐</td>\n      <td>0.26940</td>\n      <td>0.53025</td>\n      <td>0.35800</td>\n      <td>0.39226</td>\n      <td>0.05430</td>\n      <td>0.02980</td>\n    </tr>\n    <tr>\n      <th>282</th>\n      <td>58433</td>\n      <td>楝树</td>\n      <td>0.36754</td>\n      <td>0.56017</td>\n      <td>0.26383</td>\n      <td>-0.34603</td>\n      <td>-0.32204</td>\n      <td>-0.19844</td>\n    </tr>\n  </tbody>\n</table>\n<p>283 rows × 8 columns</p>\n</div>"
     },
     "execution_count": 5,
     "metadata": {},
     "output_type": "execute_result"
    }
   ],
   "source": [
    "# woody\n",
    "csv_path = '/data/shuping/data/china_phenology/results/partial_corr_results_with_gpp/woody_partial_corr_with_gpp.csv'\n",
    "df = pd.read_csv(csv_path)\n",
    "df = df.drop(['Unnamed: 0'], axis=1)\n",
    "df = df.drop(['eos-sos-p_val', 'eos-gpp-p_val', 'eos-tmean-p_val', 'eos-pre-p_val',\n",
    "              'eos-solr-p_val', 'eos-sm-p_val'], axis = 1)\n",
    "df"
   ],
   "metadata": {
    "collapsed": false,
    "pycharm": {
     "name": "#%%\n"
    }
   }
  },
  {
   "cell_type": "code",
   "execution_count": 6,
   "outputs": [
    {
     "name": "stdout",
     "output_type": "stream",
     "text": [
      "['榆树' '中东杨' '小叶杨' '紫丁香' '旱柳' '加拿大杨' '垂柳' '冬苹果' '夏苹果' '杨树' '沙枣' '新疆杨' '箭杆杨'\n",
      " '钻天杨' '杏树' '柳树' '桃树' '桑树' '葡萄' '香梨' '苹果' '梨树' '核桃树' '银白杨' '枣树' '枸杞'\n",
      " '青海大叶杨' '杏' '刺槐' '牡丹' '毛白杨' '合欢' '白杨' '泡桐' '123苹果' '玉兰' '槐树' '白蜡' '紫穗槐'\n",
      " '皂荚' '紫薇' '白丁香' '梧桐' '楝树' '高山柳' '小白杨' '白梨' '白榆' '柿树' '悬铃木' '水杉' '法国梧桐'\n",
      " '银杏']\n"
     ]
    }
   ],
   "source": [
    "all_species = df['species'].unique()\n",
    "print(all_species)"
   ],
   "metadata": {
    "collapsed": false,
    "pycharm": {
     "name": "#%%\n"
    }
   }
  },
  {
   "cell_type": "code",
   "execution_count": 7,
   "outputs": [
    {
     "name": "stdout",
     "output_type": "stream",
     "text": [
      "site           53421.529412\n",
      "eos-sos-r          0.122661\n",
      "eos-gpp-r          0.244717\n",
      "eos-tmean-r        0.203239\n",
      "eos-pre-r          0.057496\n",
      "eos-solr-r        -0.139034\n",
      "eos-sm-r          -0.054842\n",
      "dtype: float64\n",
      "site           50655.00000\n",
      "eos-sos-r          0.10658\n",
      "eos-gpp-r          0.17874\n",
      "eos-tmean-r        0.42800\n",
      "eos-pre-r          0.10857\n",
      "eos-solr-r         0.28210\n",
      "eos-sm-r          -0.14348\n",
      "dtype: float64\n",
      "site           53166.647059\n",
      "eos-sos-r          0.160996\n",
      "eos-gpp-r          0.248776\n",
      "eos-tmean-r        0.124019\n",
      "eos-pre-r         -0.040936\n",
      "eos-solr-r        -0.014050\n",
      "eos-sm-r          -0.059089\n",
      "dtype: float64\n",
      "site           52772.428571\n",
      "eos-sos-r          0.164813\n",
      "eos-gpp-r          0.160837\n",
      "eos-tmean-r       -0.056341\n",
      "eos-pre-r          0.339473\n",
      "eos-solr-r        -0.100233\n",
      "eos-sm-r           0.181924\n",
      "dtype: float64\n",
      "site           53840.666667\n",
      "eos-sos-r          0.047468\n",
      "eos-gpp-r          0.115320\n",
      "eos-tmean-r        0.154789\n",
      "eos-pre-r         -0.026805\n",
      "eos-solr-r        -0.202064\n",
      "eos-sm-r          -0.066804\n",
      "dtype: float64\n",
      "site           52937.857143\n",
      "eos-sos-r         -0.059357\n",
      "eos-gpp-r          0.165036\n",
      "eos-tmean-r        0.234816\n",
      "eos-pre-r         -0.061783\n",
      "eos-solr-r        -0.134947\n",
      "eos-sm-r          -0.057016\n",
      "dtype: float64\n",
      "site           54743.100000\n",
      "eos-sos-r          0.172931\n",
      "eos-gpp-r          0.198277\n",
      "eos-tmean-r        0.280029\n",
      "eos-pre-r          0.060888\n",
      "eos-solr-r        -0.252930\n",
      "eos-sm-r          -0.051654\n",
      "dtype: float64\n",
      "site           51133.00000\n",
      "eos-sos-r          0.29208\n",
      "eos-gpp-r         -0.07181\n",
      "eos-tmean-r        0.54963\n",
      "eos-pre-r          0.39216\n",
      "eos-solr-r        -0.24453\n",
      "eos-sm-r          -0.11818\n",
      "dtype: float64\n",
      "site           51133.00000\n",
      "eos-sos-r          0.17540\n",
      "eos-gpp-r          0.17319\n",
      "eos-tmean-r        0.51589\n",
      "eos-pre-r          0.50461\n",
      "eos-solr-r        -0.54458\n",
      "eos-sm-r          -0.30438\n",
      "dtype: float64\n",
      "site           51133.00000\n",
      "eos-sos-r          0.41554\n",
      "eos-gpp-r          0.19354\n",
      "eos-tmean-r        0.30513\n",
      "eos-pre-r         -0.33135\n",
      "eos-solr-r         0.44745\n",
      "eos-sm-r          -0.06127\n",
      "dtype: float64\n",
      "site           51587.000000\n",
      "eos-sos-r          0.180443\n",
      "eos-gpp-r         -0.093337\n",
      "eos-tmean-r        0.024652\n",
      "eos-pre-r         -0.158340\n",
      "eos-solr-r        -0.097477\n",
      "eos-sm-r           0.142705\n",
      "dtype: float64\n",
      "site           51710.000000\n",
      "eos-sos-r          0.216562\n",
      "eos-gpp-r          0.137950\n",
      "eos-tmean-r       -0.094204\n",
      "eos-pre-r          0.111438\n",
      "eos-solr-r        -0.016144\n",
      "eos-sm-r           0.033556\n",
      "dtype: float64\n",
      "site           51358.00000\n",
      "eos-sos-r          0.34980\n",
      "eos-gpp-r         -0.01653\n",
      "eos-tmean-r        0.13763\n",
      "eos-pre-r         -0.03975\n",
      "eos-solr-r        -0.19668\n",
      "eos-sm-r          -0.30799\n",
      "dtype: float64\n",
      "site           51617.333333\n",
      "eos-sos-r          0.022440\n",
      "eos-gpp-r          0.142193\n",
      "eos-tmean-r        0.103863\n",
      "eos-pre-r         -0.043967\n",
      "eos-solr-r        -0.007517\n",
      "eos-sm-r           0.014203\n",
      "dtype: float64\n",
      "site           52793.285714\n",
      "eos-sos-r         -0.007783\n",
      "eos-gpp-r          0.133210\n",
      "eos-tmean-r       -0.000071\n",
      "eos-pre-r         -0.003523\n",
      "eos-solr-r        -0.135130\n",
      "eos-sm-r          -0.049501\n",
      "dtype: float64\n",
      "site           52361.750000\n",
      "eos-sos-r         -0.014135\n",
      "eos-gpp-r          0.171060\n",
      "eos-tmean-r        0.042385\n",
      "eos-pre-r         -0.366095\n",
      "eos-solr-r         0.019720\n",
      "eos-sm-r           0.190868\n",
      "dtype: float64\n",
      "site           53919.666667\n",
      "eos-sos-r          0.108580\n",
      "eos-gpp-r          0.462300\n",
      "eos-tmean-r        0.196877\n",
      "eos-pre-r         -0.038940\n",
      "eos-solr-r        -0.549943\n",
      "eos-sm-r           0.233673\n",
      "dtype: float64\n",
      "site           51742.000000\n",
      "eos-sos-r          0.487665\n",
      "eos-gpp-r          0.309770\n",
      "eos-tmean-r        0.468485\n",
      "eos-pre-r          0.052345\n",
      "eos-solr-r        -0.262210\n",
      "eos-sm-r           0.019310\n",
      "dtype: float64\n",
      "site           53773.142857\n",
      "eos-sos-r          0.114044\n",
      "eos-gpp-r          0.174481\n",
      "eos-tmean-r       -0.023231\n",
      "eos-pre-r         -0.005231\n",
      "eos-solr-r        -0.049147\n",
      "eos-sm-r           0.029906\n",
      "dtype: float64\n",
      "site           51656.00000\n",
      "eos-sos-r         -0.19964\n",
      "eos-gpp-r         -0.04800\n",
      "eos-tmean-r       -0.34626\n",
      "eos-pre-r          0.45893\n",
      "eos-solr-r         0.02548\n",
      "eos-sm-r           0.19399\n",
      "dtype: float64\n",
      "site           53402.363636\n",
      "eos-sos-r         -0.023548\n",
      "eos-gpp-r          0.125283\n",
      "eos-tmean-r        0.106368\n",
      "eos-pre-r         -0.055661\n",
      "eos-solr-r        -0.241574\n",
      "eos-sm-r           0.002925\n",
      "dtype: float64\n",
      "site           51811.00000\n",
      "eos-sos-r         -0.17710\n",
      "eos-gpp-r         -0.52472\n",
      "eos-tmean-r        0.08930\n",
      "eos-pre-r         -0.25361\n",
      "eos-solr-r        -0.30903\n",
      "eos-sm-r           0.16929\n",
      "dtype: float64\n",
      "site           52852.500000\n",
      "eos-sos-r          0.440635\n",
      "eos-gpp-r          0.060345\n",
      "eos-tmean-r        0.021730\n",
      "eos-pre-r          0.044845\n",
      "eos-solr-r         0.052220\n",
      "eos-sm-r           0.079725\n",
      "dtype: float64\n",
      "site           51828.00000\n",
      "eos-sos-r         -0.18494\n",
      "eos-gpp-r          0.23893\n",
      "eos-tmean-r        0.14820\n",
      "eos-pre-r         -0.18343\n",
      "eos-solr-r        -0.36197\n",
      "eos-sm-r          -0.08723\n",
      "dtype: float64\n",
      "site           55010.272727\n",
      "eos-sos-r          0.115188\n",
      "eos-gpp-r          0.278105\n",
      "eos-tmean-r        0.056726\n",
      "eos-pre-r         -0.058307\n",
      "eos-solr-r        -0.191567\n",
      "eos-sm-r          -0.218958\n",
      "dtype: float64\n",
      "site           52825.00000\n",
      "eos-sos-r          0.19426\n",
      "eos-gpp-r          0.29510\n",
      "eos-tmean-r        0.43079\n",
      "eos-pre-r         -0.08946\n",
      "eos-solr-r         0.27895\n",
      "eos-sm-r          -0.13669\n",
      "dtype: float64\n",
      "site           52863.00000\n",
      "eos-sos-r          0.34331\n",
      "eos-gpp-r          0.49571\n",
      "eos-tmean-r        0.12024\n",
      "eos-pre-r          0.33179\n",
      "eos-solr-r         0.01977\n",
      "eos-sm-r           0.25494\n",
      "dtype: float64\n",
      "site           54484.500000\n",
      "eos-sos-r          0.002415\n",
      "eos-gpp-r         -0.244750\n",
      "eos-tmean-r        0.300050\n",
      "eos-pre-r         -0.131795\n",
      "eos-solr-r        -0.499990\n",
      "eos-sm-r           0.094205\n",
      "dtype: float64\n",
      "site           55739.269231\n",
      "eos-sos-r          0.220297\n",
      "eos-gpp-r          0.262692\n",
      "eos-tmean-r        0.048863\n",
      "eos-pre-r         -0.061347\n",
      "eos-solr-r        -0.026528\n",
      "eos-sm-r          -0.038217\n",
      "dtype: float64\n",
      "site           53295.666667\n",
      "eos-sos-r          0.193647\n",
      "eos-gpp-r         -0.005230\n",
      "eos-tmean-r        0.151373\n",
      "eos-pre-r         -0.337587\n",
      "eos-solr-r         0.226480\n",
      "eos-sm-r           0.224303\n",
      "dtype: float64\n",
      "site           55448.941176\n",
      "eos-sos-r          0.138447\n",
      "eos-gpp-r          0.295542\n",
      "eos-tmean-r        0.042574\n",
      "eos-pre-r         -0.048130\n",
      "eos-solr-r        -0.167152\n",
      "eos-sm-r          -0.163419\n",
      "dtype: float64\n",
      "site           55380.777778\n",
      "eos-sos-r          0.110506\n",
      "eos-gpp-r          0.062728\n",
      "eos-tmean-r        0.177696\n",
      "eos-pre-r          0.004412\n",
      "eos-solr-r        -0.124941\n",
      "eos-sm-r           0.026043\n",
      "dtype: float64\n",
      "site           53908.00000\n",
      "eos-sos-r          0.28023\n",
      "eos-gpp-r          0.09027\n",
      "eos-tmean-r        0.19221\n",
      "eos-pre-r         -0.37378\n",
      "eos-solr-r        -0.45650\n",
      "eos-sm-r           0.23033\n",
      "dtype: float64\n",
      "site           55346.000000\n",
      "eos-sos-r          0.151488\n",
      "eos-gpp-r          0.275048\n",
      "eos-tmean-r        0.280551\n",
      "eos-pre-r          0.021554\n",
      "eos-solr-r        -0.211467\n",
      "eos-sm-r          -0.101764\n",
      "dtype: float64\n",
      "site           54171.00000\n",
      "eos-sos-r         -0.39911\n",
      "eos-gpp-r         -0.62119\n",
      "eos-tmean-r        0.63190\n",
      "eos-pre-r         -0.67091\n",
      "eos-solr-r        -0.52082\n",
      "eos-sm-r          -0.16890\n",
      "dtype: float64\n",
      "site           56334.000000\n",
      "eos-sos-r         -0.365045\n",
      "eos-gpp-r         -0.261040\n",
      "eos-tmean-r       -0.209120\n",
      "eos-pre-r          0.352060\n",
      "eos-solr-r         0.158110\n",
      "eos-sm-r           0.087710\n",
      "dtype: float64\n",
      "site           55453.400000\n",
      "eos-sos-r          0.087022\n",
      "eos-gpp-r          0.271888\n",
      "eos-tmean-r        0.043856\n",
      "eos-pre-r         -0.021684\n",
      "eos-solr-r        -0.220318\n",
      "eos-sm-r          -0.297478\n",
      "dtype: float64\n",
      "site           54714.00000\n",
      "eos-sos-r          0.27607\n",
      "eos-gpp-r          0.24971\n",
      "eos-tmean-r       -0.16061\n",
      "eos-pre-r         -0.51862\n",
      "eos-solr-r         0.47750\n",
      "eos-sm-r          -0.27864\n",
      "dtype: float64\n",
      "site           54810.000000\n",
      "eos-sos-r          0.376530\n",
      "eos-gpp-r          0.455590\n",
      "eos-tmean-r       -0.012065\n",
      "eos-pre-r          0.327880\n",
      "eos-solr-r         0.083165\n",
      "eos-sm-r          -0.249280\n",
      "dtype: float64\n",
      "site           54830.00000\n",
      "eos-sos-r          0.07265\n",
      "eos-gpp-r          0.20490\n",
      "eos-tmean-r        0.20978\n",
      "eos-pre-r         -0.33004\n",
      "eos-solr-r         0.08374\n",
      "eos-sm-r          -0.20965\n",
      "dtype: float64\n",
      "site           55591.666667\n",
      "eos-sos-r          0.180217\n",
      "eos-gpp-r          0.555313\n",
      "eos-tmean-r        0.116903\n",
      "eos-pre-r         -0.196340\n",
      "eos-solr-r        -0.013687\n",
      "eos-sm-r          -0.331003\n",
      "dtype: float64\n",
      "site           54843.00000\n",
      "eos-sos-r          0.25140\n",
      "eos-gpp-r         -0.06199\n",
      "eos-tmean-r        0.46968\n",
      "eos-pre-r         -0.31923\n",
      "eos-solr-r         0.23118\n",
      "eos-sm-r          -0.11548\n",
      "dtype: float64\n",
      "site           56630.500000\n",
      "eos-sos-r          0.403370\n",
      "eos-gpp-r          0.546610\n",
      "eos-tmean-r       -0.092045\n",
      "eos-pre-r          0.003395\n",
      "eos-solr-r        -0.001710\n",
      "eos-sm-r          -0.468795\n",
      "dtype: float64\n",
      "site           57682.785714\n",
      "eos-sos-r          0.110588\n",
      "eos-gpp-r          0.059975\n",
      "eos-tmean-r        0.271752\n",
      "eos-pre-r         -0.004111\n",
      "eos-solr-r        -0.041858\n",
      "eos-sm-r          -0.157250\n",
      "dtype: float64\n",
      "site           56074.00000\n",
      "eos-sos-r          0.56223\n",
      "eos-gpp-r          0.63599\n",
      "eos-tmean-r       -0.00601\n",
      "eos-pre-r          0.16470\n",
      "eos-solr-r         0.29187\n",
      "eos-sm-r           0.05604\n",
      "dtype: float64\n",
      "site           56093.00000\n",
      "eos-sos-r         -0.08877\n",
      "eos-gpp-r          0.23449\n",
      "eos-tmean-r        0.41753\n",
      "eos-pre-r          0.16010\n",
      "eos-solr-r        -0.37785\n",
      "eos-sm-r          -0.17891\n",
      "dtype: float64\n",
      "site           56093.00000\n",
      "eos-sos-r          0.59707\n",
      "eos-gpp-r          0.31814\n",
      "eos-tmean-r        0.11604\n",
      "eos-pre-r          0.27397\n",
      "eos-solr-r        -0.67403\n",
      "eos-sm-r          -0.08914\n",
      "dtype: float64\n",
      "site           57178.00000\n",
      "eos-sos-r         -0.00341\n",
      "eos-gpp-r          0.41092\n",
      "eos-tmean-r       -0.21376\n",
      "eos-pre-r          0.00533\n",
      "eos-solr-r        -0.27048\n",
      "eos-sm-r           0.06302\n",
      "dtype: float64\n",
      "site           58005.00000\n",
      "eos-sos-r         -0.25027\n",
      "eos-gpp-r         -0.03228\n",
      "eos-tmean-r        0.12030\n",
      "eos-pre-r         -0.07263\n",
      "eos-solr-r        -0.19537\n",
      "eos-sm-r          -0.10559\n",
      "dtype: float64\n",
      "site           58213.800000\n",
      "eos-sos-r          0.195222\n",
      "eos-gpp-r          0.558200\n",
      "eos-tmean-r        0.231106\n",
      "eos-pre-r          0.162918\n",
      "eos-solr-r         0.186616\n",
      "eos-sm-r          -0.095842\n",
      "dtype: float64\n",
      "site           58248.500000\n",
      "eos-sos-r         -0.003480\n",
      "eos-gpp-r          0.137490\n",
      "eos-tmean-r        0.236970\n",
      "eos-pre-r         -0.423905\n",
      "eos-solr-r        -0.039005\n",
      "eos-sm-r           0.259135\n",
      "dtype: float64\n",
      "site           58208.00000\n",
      "eos-sos-r          0.20998\n",
      "eos-gpp-r          0.31569\n",
      "eos-tmean-r        0.24243\n",
      "eos-pre-r         -0.10854\n",
      "eos-solr-r        -0.44880\n",
      "eos-sm-r           0.05893\n",
      "dtype: float64\n",
      "site           58255.00000\n",
      "eos-sos-r         -0.54148\n",
      "eos-gpp-r         -0.23507\n",
      "eos-tmean-r        0.48301\n",
      "eos-pre-r         -0.14189\n",
      "eos-solr-r        -0.07252\n",
      "eos-sm-r          -0.55152\n",
      "dtype: float64\n"
     ]
    },
    {
     "name": "stderr",
     "output_type": "stream",
     "text": [
      "/home/sdu-w-001/anaconda3/envs/jsp_gdal/lib/python3.7/site-packages/ipykernel_launcher.py:4: FutureWarning: Dropping of nuisance columns in DataFrame reductions (with 'numeric_only=None') is deprecated; in a future version this will raise TypeError.  Select only valid columns before calling the reduction.\n",
      "  after removing the cwd from sys.path.\n"
     ]
    }
   ],
   "source": [
    "mean_partial_corr = pd.DataFrame(columns=['species', 'eos-sos-r', 'eos-gpp-r', 'eos-tmean-r', 'eos-pre-r', 'eos-solr-r', 'eos-sm-r'])\n",
    "for i in range(len(all_species)):\n",
    "    single_species = df[df.species == all_species[i]]\n",
    "    mean_corr = single_species.mean()\n",
    "    mean_partial_corr = mean_partial_corr.append(pd.DataFrame({'species':[str(all_species[i])], 'eos-sos-r':[mean_corr[1]], 'eos-gpp-r':[mean_corr[2]],\n",
    "                                                       'eos-tmean-r':[mean_corr[3]],'eos-pre-r':[mean_corr[4]],'eos-solr-r':[mean_corr[5]],\n",
    "                                                               'eos-sm-r':[mean_corr[6]],\n",
    "                                                               }), ignore_index=True)\n",
    "mean_partial_corr.to_csv('/data/shuping/data/china_phenology/results/woody_mean_partial_corr.csv', encoding='utf_8_sig')"
   ],
   "metadata": {
    "collapsed": false,
    "pycharm": {
     "name": "#%%\n"
    }
   }
  },
  {
   "cell_type": "code",
   "execution_count": 56,
   "outputs": [
    {
     "data": {
      "text/plain": "   species  eos-sos-r  eos-gpp-r  eos-tmean-r  eos-pre-r  eos-solr-r  eos-sm-r\n0       榆树   0.122661   0.244717     0.203239   0.057496   -0.139034 -0.054842\n1      中东杨   0.106580   0.178740     0.428000   0.108570    0.282100 -0.143480\n2      小叶杨   0.160996   0.248776     0.124019  -0.040936   -0.014050 -0.059089\n3      紫丁香   0.164813   0.160837    -0.056341   0.339473   -0.100233  0.181924\n4       旱柳   0.047468   0.115320     0.154789  -0.026805   -0.202064 -0.066804\n5     加拿大杨  -0.059357   0.165036     0.234816  -0.061783   -0.134947 -0.057016\n6       垂柳   0.172931   0.198277     0.280029   0.060888   -0.252930 -0.051654\n7      冬苹果   0.292080  -0.071810     0.549630   0.392160   -0.244530 -0.118180\n8      夏苹果   0.175400   0.173190     0.515890   0.504610   -0.544580 -0.304380\n9       杨树   0.415540   0.193540     0.305130  -0.331350    0.447450 -0.061270\n10      沙枣   0.180443  -0.093337     0.024652  -0.158340   -0.097477  0.142705\n11     新疆杨   0.216562   0.137950    -0.094204   0.111438   -0.016144  0.033556\n12     箭杆杨   0.349800  -0.016530     0.137630  -0.039750   -0.196680 -0.307990\n13     钻天杨   0.022440   0.142193     0.103863  -0.043967   -0.007517  0.014203\n14      杏树  -0.007783   0.133210    -0.000071  -0.003523   -0.135130 -0.049501\n15      柳树  -0.014135   0.171060     0.042385  -0.366095    0.019720  0.190868\n16      桃树   0.108580   0.462300     0.196877  -0.038940   -0.549943  0.233673\n17      桑树   0.487665   0.309770     0.468485   0.052345   -0.262210  0.019310\n18      葡萄   0.114044   0.174481    -0.023231  -0.005231   -0.049147  0.029906\n19      香梨  -0.199640  -0.048000    -0.346260   0.458930    0.025480  0.193990\n20      苹果  -0.023548   0.125283     0.106368  -0.055661   -0.241574  0.002925\n21      梨树  -0.177100  -0.524720     0.089300  -0.253610   -0.309030  0.169290\n22     核桃树   0.440635   0.060345     0.021730   0.044845    0.052220  0.079725\n23     银白杨  -0.184940   0.238930     0.148200  -0.183430   -0.361970 -0.087230\n24      枣树   0.115188   0.278105     0.056726  -0.058307   -0.191567 -0.218958\n25      枸杞   0.194260   0.295100     0.430790  -0.089460    0.278950 -0.136690\n26   青海大叶杨   0.343310   0.495710     0.120240   0.331790    0.019770  0.254940\n27       杏   0.002415  -0.244750     0.300050  -0.131795   -0.499990  0.094205\n28      刺槐   0.220297   0.262692     0.048863  -0.061347   -0.026528 -0.038217\n29      牡丹   0.193647  -0.005230     0.151373  -0.337587    0.226480  0.224303\n30     毛白杨   0.138447   0.295542     0.042574  -0.048130   -0.167152 -0.163419\n31      合欢   0.110506   0.062728     0.177696   0.004412   -0.124941  0.026043\n32      白杨   0.280230   0.090270     0.192210  -0.373780   -0.456500  0.230330\n33      泡桐   0.151488   0.275048     0.280551   0.021554   -0.211467 -0.101764\n34   123苹果  -0.399110  -0.621190     0.631900  -0.670910   -0.520820 -0.168900\n35      玉兰  -0.365045  -0.261040    -0.209120   0.352060    0.158110  0.087710\n36      槐树   0.087022   0.271888     0.043856  -0.021684   -0.220318 -0.297478\n37      白蜡   0.276070   0.249710    -0.160610  -0.518620    0.477500 -0.278640\n38     紫穗槐   0.376530   0.455590    -0.012065   0.327880    0.083165 -0.249280\n39      皂荚   0.072650   0.204900     0.209780  -0.330040    0.083740 -0.209650\n40      紫薇   0.180217   0.555313     0.116903  -0.196340   -0.013687 -0.331003\n41     白丁香   0.251400  -0.061990     0.469680  -0.319230    0.231180 -0.115480\n42      梧桐   0.403370   0.546610    -0.092045   0.003395   -0.001710 -0.468795\n43      楝树   0.110588   0.059975     0.271752  -0.004111   -0.041858 -0.157250\n44     高山柳   0.562230   0.635990    -0.006010   0.164700    0.291870  0.056040\n45     小白杨  -0.088770   0.234490     0.417530   0.160100   -0.377850 -0.178910\n46      白梨   0.597070   0.318140     0.116040   0.273970   -0.674030 -0.089140\n47      白榆  -0.003410   0.410920    -0.213760   0.005330   -0.270480  0.063020\n48      柿树  -0.250270  -0.032280     0.120300  -0.072630   -0.195370 -0.105590\n49     悬铃木   0.195222   0.558200     0.231106   0.162918    0.186616 -0.095842\n50      水杉  -0.003480   0.137490     0.236970  -0.423905   -0.039005  0.259135\n51    法国梧桐   0.209980   0.315690     0.242430  -0.108540   -0.448800  0.058930\n52      银杏  -0.541480  -0.235070     0.483010  -0.141890   -0.072520 -0.551520",
      "text/html": "<div>\n<style scoped>\n    .dataframe tbody tr th:only-of-type {\n        vertical-align: middle;\n    }\n\n    .dataframe tbody tr th {\n        vertical-align: top;\n    }\n\n    .dataframe thead th {\n        text-align: right;\n    }\n</style>\n<table border=\"1\" class=\"dataframe\">\n  <thead>\n    <tr style=\"text-align: right;\">\n      <th></th>\n      <th>species</th>\n      <th>eos-sos-r</th>\n      <th>eos-gpp-r</th>\n      <th>eos-tmean-r</th>\n      <th>eos-pre-r</th>\n      <th>eos-solr-r</th>\n      <th>eos-sm-r</th>\n    </tr>\n  </thead>\n  <tbody>\n    <tr>\n      <th>0</th>\n      <td>榆树</td>\n      <td>0.122661</td>\n      <td>0.244717</td>\n      <td>0.203239</td>\n      <td>0.057496</td>\n      <td>-0.139034</td>\n      <td>-0.054842</td>\n    </tr>\n    <tr>\n      <th>1</th>\n      <td>中东杨</td>\n      <td>0.106580</td>\n      <td>0.178740</td>\n      <td>0.428000</td>\n      <td>0.108570</td>\n      <td>0.282100</td>\n      <td>-0.143480</td>\n    </tr>\n    <tr>\n      <th>2</th>\n      <td>小叶杨</td>\n      <td>0.160996</td>\n      <td>0.248776</td>\n      <td>0.124019</td>\n      <td>-0.040936</td>\n      <td>-0.014050</td>\n      <td>-0.059089</td>\n    </tr>\n    <tr>\n      <th>3</th>\n      <td>紫丁香</td>\n      <td>0.164813</td>\n      <td>0.160837</td>\n      <td>-0.056341</td>\n      <td>0.339473</td>\n      <td>-0.100233</td>\n      <td>0.181924</td>\n    </tr>\n    <tr>\n      <th>4</th>\n      <td>旱柳</td>\n      <td>0.047468</td>\n      <td>0.115320</td>\n      <td>0.154789</td>\n      <td>-0.026805</td>\n      <td>-0.202064</td>\n      <td>-0.066804</td>\n    </tr>\n    <tr>\n      <th>5</th>\n      <td>加拿大杨</td>\n      <td>-0.059357</td>\n      <td>0.165036</td>\n      <td>0.234816</td>\n      <td>-0.061783</td>\n      <td>-0.134947</td>\n      <td>-0.057016</td>\n    </tr>\n    <tr>\n      <th>6</th>\n      <td>垂柳</td>\n      <td>0.172931</td>\n      <td>0.198277</td>\n      <td>0.280029</td>\n      <td>0.060888</td>\n      <td>-0.252930</td>\n      <td>-0.051654</td>\n    </tr>\n    <tr>\n      <th>7</th>\n      <td>冬苹果</td>\n      <td>0.292080</td>\n      <td>-0.071810</td>\n      <td>0.549630</td>\n      <td>0.392160</td>\n      <td>-0.244530</td>\n      <td>-0.118180</td>\n    </tr>\n    <tr>\n      <th>8</th>\n      <td>夏苹果</td>\n      <td>0.175400</td>\n      <td>0.173190</td>\n      <td>0.515890</td>\n      <td>0.504610</td>\n      <td>-0.544580</td>\n      <td>-0.304380</td>\n    </tr>\n    <tr>\n      <th>9</th>\n      <td>杨树</td>\n      <td>0.415540</td>\n      <td>0.193540</td>\n      <td>0.305130</td>\n      <td>-0.331350</td>\n      <td>0.447450</td>\n      <td>-0.061270</td>\n    </tr>\n    <tr>\n      <th>10</th>\n      <td>沙枣</td>\n      <td>0.180443</td>\n      <td>-0.093337</td>\n      <td>0.024652</td>\n      <td>-0.158340</td>\n      <td>-0.097477</td>\n      <td>0.142705</td>\n    </tr>\n    <tr>\n      <th>11</th>\n      <td>新疆杨</td>\n      <td>0.216562</td>\n      <td>0.137950</td>\n      <td>-0.094204</td>\n      <td>0.111438</td>\n      <td>-0.016144</td>\n      <td>0.033556</td>\n    </tr>\n    <tr>\n      <th>12</th>\n      <td>箭杆杨</td>\n      <td>0.349800</td>\n      <td>-0.016530</td>\n      <td>0.137630</td>\n      <td>-0.039750</td>\n      <td>-0.196680</td>\n      <td>-0.307990</td>\n    </tr>\n    <tr>\n      <th>13</th>\n      <td>钻天杨</td>\n      <td>0.022440</td>\n      <td>0.142193</td>\n      <td>0.103863</td>\n      <td>-0.043967</td>\n      <td>-0.007517</td>\n      <td>0.014203</td>\n    </tr>\n    <tr>\n      <th>14</th>\n      <td>杏树</td>\n      <td>-0.007783</td>\n      <td>0.133210</td>\n      <td>-0.000071</td>\n      <td>-0.003523</td>\n      <td>-0.135130</td>\n      <td>-0.049501</td>\n    </tr>\n    <tr>\n      <th>15</th>\n      <td>柳树</td>\n      <td>-0.014135</td>\n      <td>0.171060</td>\n      <td>0.042385</td>\n      <td>-0.366095</td>\n      <td>0.019720</td>\n      <td>0.190868</td>\n    </tr>\n    <tr>\n      <th>16</th>\n      <td>桃树</td>\n      <td>0.108580</td>\n      <td>0.462300</td>\n      <td>0.196877</td>\n      <td>-0.038940</td>\n      <td>-0.549943</td>\n      <td>0.233673</td>\n    </tr>\n    <tr>\n      <th>17</th>\n      <td>桑树</td>\n      <td>0.487665</td>\n      <td>0.309770</td>\n      <td>0.468485</td>\n      <td>0.052345</td>\n      <td>-0.262210</td>\n      <td>0.019310</td>\n    </tr>\n    <tr>\n      <th>18</th>\n      <td>葡萄</td>\n      <td>0.114044</td>\n      <td>0.174481</td>\n      <td>-0.023231</td>\n      <td>-0.005231</td>\n      <td>-0.049147</td>\n      <td>0.029906</td>\n    </tr>\n    <tr>\n      <th>19</th>\n      <td>香梨</td>\n      <td>-0.199640</td>\n      <td>-0.048000</td>\n      <td>-0.346260</td>\n      <td>0.458930</td>\n      <td>0.025480</td>\n      <td>0.193990</td>\n    </tr>\n    <tr>\n      <th>20</th>\n      <td>苹果</td>\n      <td>-0.023548</td>\n      <td>0.125283</td>\n      <td>0.106368</td>\n      <td>-0.055661</td>\n      <td>-0.241574</td>\n      <td>0.002925</td>\n    </tr>\n    <tr>\n      <th>21</th>\n      <td>梨树</td>\n      <td>-0.177100</td>\n      <td>-0.524720</td>\n      <td>0.089300</td>\n      <td>-0.253610</td>\n      <td>-0.309030</td>\n      <td>0.169290</td>\n    </tr>\n    <tr>\n      <th>22</th>\n      <td>核桃树</td>\n      <td>0.440635</td>\n      <td>0.060345</td>\n      <td>0.021730</td>\n      <td>0.044845</td>\n      <td>0.052220</td>\n      <td>0.079725</td>\n    </tr>\n    <tr>\n      <th>23</th>\n      <td>银白杨</td>\n      <td>-0.184940</td>\n      <td>0.238930</td>\n      <td>0.148200</td>\n      <td>-0.183430</td>\n      <td>-0.361970</td>\n      <td>-0.087230</td>\n    </tr>\n    <tr>\n      <th>24</th>\n      <td>枣树</td>\n      <td>0.115188</td>\n      <td>0.278105</td>\n      <td>0.056726</td>\n      <td>-0.058307</td>\n      <td>-0.191567</td>\n      <td>-0.218958</td>\n    </tr>\n    <tr>\n      <th>25</th>\n      <td>枸杞</td>\n      <td>0.194260</td>\n      <td>0.295100</td>\n      <td>0.430790</td>\n      <td>-0.089460</td>\n      <td>0.278950</td>\n      <td>-0.136690</td>\n    </tr>\n    <tr>\n      <th>26</th>\n      <td>青海大叶杨</td>\n      <td>0.343310</td>\n      <td>0.495710</td>\n      <td>0.120240</td>\n      <td>0.331790</td>\n      <td>0.019770</td>\n      <td>0.254940</td>\n    </tr>\n    <tr>\n      <th>27</th>\n      <td>杏</td>\n      <td>0.002415</td>\n      <td>-0.244750</td>\n      <td>0.300050</td>\n      <td>-0.131795</td>\n      <td>-0.499990</td>\n      <td>0.094205</td>\n    </tr>\n    <tr>\n      <th>28</th>\n      <td>刺槐</td>\n      <td>0.220297</td>\n      <td>0.262692</td>\n      <td>0.048863</td>\n      <td>-0.061347</td>\n      <td>-0.026528</td>\n      <td>-0.038217</td>\n    </tr>\n    <tr>\n      <th>29</th>\n      <td>牡丹</td>\n      <td>0.193647</td>\n      <td>-0.005230</td>\n      <td>0.151373</td>\n      <td>-0.337587</td>\n      <td>0.226480</td>\n      <td>0.224303</td>\n    </tr>\n    <tr>\n      <th>30</th>\n      <td>毛白杨</td>\n      <td>0.138447</td>\n      <td>0.295542</td>\n      <td>0.042574</td>\n      <td>-0.048130</td>\n      <td>-0.167152</td>\n      <td>-0.163419</td>\n    </tr>\n    <tr>\n      <th>31</th>\n      <td>合欢</td>\n      <td>0.110506</td>\n      <td>0.062728</td>\n      <td>0.177696</td>\n      <td>0.004412</td>\n      <td>-0.124941</td>\n      <td>0.026043</td>\n    </tr>\n    <tr>\n      <th>32</th>\n      <td>白杨</td>\n      <td>0.280230</td>\n      <td>0.090270</td>\n      <td>0.192210</td>\n      <td>-0.373780</td>\n      <td>-0.456500</td>\n      <td>0.230330</td>\n    </tr>\n    <tr>\n      <th>33</th>\n      <td>泡桐</td>\n      <td>0.151488</td>\n      <td>0.275048</td>\n      <td>0.280551</td>\n      <td>0.021554</td>\n      <td>-0.211467</td>\n      <td>-0.101764</td>\n    </tr>\n    <tr>\n      <th>34</th>\n      <td>123苹果</td>\n      <td>-0.399110</td>\n      <td>-0.621190</td>\n      <td>0.631900</td>\n      <td>-0.670910</td>\n      <td>-0.520820</td>\n      <td>-0.168900</td>\n    </tr>\n    <tr>\n      <th>35</th>\n      <td>玉兰</td>\n      <td>-0.365045</td>\n      <td>-0.261040</td>\n      <td>-0.209120</td>\n      <td>0.352060</td>\n      <td>0.158110</td>\n      <td>0.087710</td>\n    </tr>\n    <tr>\n      <th>36</th>\n      <td>槐树</td>\n      <td>0.087022</td>\n      <td>0.271888</td>\n      <td>0.043856</td>\n      <td>-0.021684</td>\n      <td>-0.220318</td>\n      <td>-0.297478</td>\n    </tr>\n    <tr>\n      <th>37</th>\n      <td>白蜡</td>\n      <td>0.276070</td>\n      <td>0.249710</td>\n      <td>-0.160610</td>\n      <td>-0.518620</td>\n      <td>0.477500</td>\n      <td>-0.278640</td>\n    </tr>\n    <tr>\n      <th>38</th>\n      <td>紫穗槐</td>\n      <td>0.376530</td>\n      <td>0.455590</td>\n      <td>-0.012065</td>\n      <td>0.327880</td>\n      <td>0.083165</td>\n      <td>-0.249280</td>\n    </tr>\n    <tr>\n      <th>39</th>\n      <td>皂荚</td>\n      <td>0.072650</td>\n      <td>0.204900</td>\n      <td>0.209780</td>\n      <td>-0.330040</td>\n      <td>0.083740</td>\n      <td>-0.209650</td>\n    </tr>\n    <tr>\n      <th>40</th>\n      <td>紫薇</td>\n      <td>0.180217</td>\n      <td>0.555313</td>\n      <td>0.116903</td>\n      <td>-0.196340</td>\n      <td>-0.013687</td>\n      <td>-0.331003</td>\n    </tr>\n    <tr>\n      <th>41</th>\n      <td>白丁香</td>\n      <td>0.251400</td>\n      <td>-0.061990</td>\n      <td>0.469680</td>\n      <td>-0.319230</td>\n      <td>0.231180</td>\n      <td>-0.115480</td>\n    </tr>\n    <tr>\n      <th>42</th>\n      <td>梧桐</td>\n      <td>0.403370</td>\n      <td>0.546610</td>\n      <td>-0.092045</td>\n      <td>0.003395</td>\n      <td>-0.001710</td>\n      <td>-0.468795</td>\n    </tr>\n    <tr>\n      <th>43</th>\n      <td>楝树</td>\n      <td>0.110588</td>\n      <td>0.059975</td>\n      <td>0.271752</td>\n      <td>-0.004111</td>\n      <td>-0.041858</td>\n      <td>-0.157250</td>\n    </tr>\n    <tr>\n      <th>44</th>\n      <td>高山柳</td>\n      <td>0.562230</td>\n      <td>0.635990</td>\n      <td>-0.006010</td>\n      <td>0.164700</td>\n      <td>0.291870</td>\n      <td>0.056040</td>\n    </tr>\n    <tr>\n      <th>45</th>\n      <td>小白杨</td>\n      <td>-0.088770</td>\n      <td>0.234490</td>\n      <td>0.417530</td>\n      <td>0.160100</td>\n      <td>-0.377850</td>\n      <td>-0.178910</td>\n    </tr>\n    <tr>\n      <th>46</th>\n      <td>白梨</td>\n      <td>0.597070</td>\n      <td>0.318140</td>\n      <td>0.116040</td>\n      <td>0.273970</td>\n      <td>-0.674030</td>\n      <td>-0.089140</td>\n    </tr>\n    <tr>\n      <th>47</th>\n      <td>白榆</td>\n      <td>-0.003410</td>\n      <td>0.410920</td>\n      <td>-0.213760</td>\n      <td>0.005330</td>\n      <td>-0.270480</td>\n      <td>0.063020</td>\n    </tr>\n    <tr>\n      <th>48</th>\n      <td>柿树</td>\n      <td>-0.250270</td>\n      <td>-0.032280</td>\n      <td>0.120300</td>\n      <td>-0.072630</td>\n      <td>-0.195370</td>\n      <td>-0.105590</td>\n    </tr>\n    <tr>\n      <th>49</th>\n      <td>悬铃木</td>\n      <td>0.195222</td>\n      <td>0.558200</td>\n      <td>0.231106</td>\n      <td>0.162918</td>\n      <td>0.186616</td>\n      <td>-0.095842</td>\n    </tr>\n    <tr>\n      <th>50</th>\n      <td>水杉</td>\n      <td>-0.003480</td>\n      <td>0.137490</td>\n      <td>0.236970</td>\n      <td>-0.423905</td>\n      <td>-0.039005</td>\n      <td>0.259135</td>\n    </tr>\n    <tr>\n      <th>51</th>\n      <td>法国梧桐</td>\n      <td>0.209980</td>\n      <td>0.315690</td>\n      <td>0.242430</td>\n      <td>-0.108540</td>\n      <td>-0.448800</td>\n      <td>0.058930</td>\n    </tr>\n    <tr>\n      <th>52</th>\n      <td>银杏</td>\n      <td>-0.541480</td>\n      <td>-0.235070</td>\n      <td>0.483010</td>\n      <td>-0.141890</td>\n      <td>-0.072520</td>\n      <td>-0.551520</td>\n    </tr>\n  </tbody>\n</table>\n</div>"
     },
     "execution_count": 56,
     "metadata": {},
     "output_type": "execute_result"
    }
   ],
   "source": [
    "mean_partial_corr"
   ],
   "metadata": {
    "collapsed": false,
    "pycharm": {
     "name": "#%%\n"
    }
   }
  },
  {
   "cell_type": "code",
   "execution_count": 10,
   "outputs": [
    {
     "data": {
      "text/plain": "      site  species  eos-sos-r  eos-gpp-r  eos-tmean-r  eos-pre-r  eos-solr-r  \\\n0    50655       36    0.36569    0.55241      0.43969    0.18187    -0.50938   \n1    50871       36    0.05452    0.15349     -0.04091    0.35504     0.32817   \n2    50873       36   -0.14406    0.27657     -0.02443   -0.04711    -0.66728   \n3    50892       36   -0.11724    0.85276     -0.01507   -0.16892    -0.19370   \n4    50964        7   -0.25875    0.44584      0.29565   -0.10750    -0.13021   \n..     ...      ...        ...        ...          ...        ...         ...   \n103  57483        7    0.22683    0.05074     -0.04250    0.37822     0.23154   \n104  58002        6    0.30921    0.48058      0.35461   -0.17769    -0.50920   \n105  58049       32    0.12165    0.19876      0.12728    0.24698    -0.20889   \n106  58319        7    0.19174    0.94148      0.23371    0.18643     0.12734   \n107  58346       45    0.43283    0.05265     -0.07131    0.41245     0.14511   \n\n     eos-sm-r  \n0    -0.21519  \n1     0.44964  \n2     0.22151  \n3     0.06546  \n4    -0.19421  \n..        ...  \n103  -0.03062  \n104  -0.22726  \n105  -0.04705  \n106  -0.06204  \n107  -0.12991  \n\n[108 rows x 8 columns]",
      "text/html": "<div>\n<style scoped>\n    .dataframe tbody tr th:only-of-type {\n        vertical-align: middle;\n    }\n\n    .dataframe tbody tr th {\n        vertical-align: top;\n    }\n\n    .dataframe thead th {\n        text-align: right;\n    }\n</style>\n<table border=\"1\" class=\"dataframe\">\n  <thead>\n    <tr style=\"text-align: right;\">\n      <th></th>\n      <th>site</th>\n      <th>species</th>\n      <th>eos-sos-r</th>\n      <th>eos-gpp-r</th>\n      <th>eos-tmean-r</th>\n      <th>eos-pre-r</th>\n      <th>eos-solr-r</th>\n      <th>eos-sm-r</th>\n    </tr>\n  </thead>\n  <tbody>\n    <tr>\n      <th>0</th>\n      <td>50655</td>\n      <td>36</td>\n      <td>0.36569</td>\n      <td>0.55241</td>\n      <td>0.43969</td>\n      <td>0.18187</td>\n      <td>-0.50938</td>\n      <td>-0.21519</td>\n    </tr>\n    <tr>\n      <th>1</th>\n      <td>50871</td>\n      <td>36</td>\n      <td>0.05452</td>\n      <td>0.15349</td>\n      <td>-0.04091</td>\n      <td>0.35504</td>\n      <td>0.32817</td>\n      <td>0.44964</td>\n    </tr>\n    <tr>\n      <th>2</th>\n      <td>50873</td>\n      <td>36</td>\n      <td>-0.14406</td>\n      <td>0.27657</td>\n      <td>-0.02443</td>\n      <td>-0.04711</td>\n      <td>-0.66728</td>\n      <td>0.22151</td>\n    </tr>\n    <tr>\n      <th>3</th>\n      <td>50892</td>\n      <td>36</td>\n      <td>-0.11724</td>\n      <td>0.85276</td>\n      <td>-0.01507</td>\n      <td>-0.16892</td>\n      <td>-0.19370</td>\n      <td>0.06546</td>\n    </tr>\n    <tr>\n      <th>4</th>\n      <td>50964</td>\n      <td>7</td>\n      <td>-0.25875</td>\n      <td>0.44584</td>\n      <td>0.29565</td>\n      <td>-0.10750</td>\n      <td>-0.13021</td>\n      <td>-0.19421</td>\n    </tr>\n    <tr>\n      <th>...</th>\n      <td>...</td>\n      <td>...</td>\n      <td>...</td>\n      <td>...</td>\n      <td>...</td>\n      <td>...</td>\n      <td>...</td>\n      <td>...</td>\n    </tr>\n    <tr>\n      <th>103</th>\n      <td>57483</td>\n      <td>7</td>\n      <td>0.22683</td>\n      <td>0.05074</td>\n      <td>-0.04250</td>\n      <td>0.37822</td>\n      <td>0.23154</td>\n      <td>-0.03062</td>\n    </tr>\n    <tr>\n      <th>104</th>\n      <td>58002</td>\n      <td>6</td>\n      <td>0.30921</td>\n      <td>0.48058</td>\n      <td>0.35461</td>\n      <td>-0.17769</td>\n      <td>-0.50920</td>\n      <td>-0.22726</td>\n    </tr>\n    <tr>\n      <th>105</th>\n      <td>58049</td>\n      <td>32</td>\n      <td>0.12165</td>\n      <td>0.19876</td>\n      <td>0.12728</td>\n      <td>0.24698</td>\n      <td>-0.20889</td>\n      <td>-0.04705</td>\n    </tr>\n    <tr>\n      <th>106</th>\n      <td>58319</td>\n      <td>7</td>\n      <td>0.19174</td>\n      <td>0.94148</td>\n      <td>0.23371</td>\n      <td>0.18643</td>\n      <td>0.12734</td>\n      <td>-0.06204</td>\n    </tr>\n    <tr>\n      <th>107</th>\n      <td>58346</td>\n      <td>45</td>\n      <td>0.43283</td>\n      <td>0.05265</td>\n      <td>-0.07131</td>\n      <td>0.41245</td>\n      <td>0.14511</td>\n      <td>-0.12991</td>\n    </tr>\n  </tbody>\n</table>\n<p>108 rows × 8 columns</p>\n</div>"
     },
     "execution_count": 10,
     "metadata": {},
     "output_type": "execute_result"
    }
   ],
   "source": [
    "# herb\n",
    "csv_path = '/data/shuping/data/china_phenology/results/partial_corr_results_with_gpp/herb_partial_corr_with_gpp.csv'\n",
    "df = pd.read_csv(csv_path)\n",
    "df = df.drop(['Unnamed: 0'], axis=1)\n",
    "df = df.drop(['eos-sos-p_val', 'eos-gpp-p_val', 'eos-tmean-p_val', 'eos-pre-p_val',\n",
    "              'eos-solr-p_val', 'eos-sm-p_val'], axis = 1)\n",
    "df"
   ],
   "metadata": {
    "collapsed": false,
    "pycharm": {
     "name": "#%%\n"
    }
   }
  },
  {
   "cell_type": "code",
   "execution_count": 11,
   "outputs": [
    {
     "name": "stdout",
     "output_type": "stream",
     "text": [
      "[36  7 24 35  5 33 25 32 37 28  9  6  3 16 20 29 45]\n"
     ]
    }
   ],
   "source": [
    "all_species = df['species'].unique()\n",
    "print(all_species)"
   ],
   "metadata": {
    "collapsed": false,
    "pycharm": {
     "name": "#%%\n"
    }
   }
  },
  {
   "cell_type": "code",
   "execution_count": 12,
   "outputs": [],
   "source": [
    "mean_partial_corr = pd.DataFrame(columns=['species', 'eos-sos-r', 'eos-gpp-r', 'eos-tmean-r', 'eos-pre-r', 'eos-solr-r', 'eos-sm-r'])\n",
    "for i in range(len(all_species)):\n",
    "    single_species = df[df.species == all_species[i]]\n",
    "    mean_corr = single_species.mean()\n",
    "    mean_partial_corr = mean_partial_corr.append(pd.DataFrame({'species':[str(all_species[i])], 'eos-sos-r':[mean_corr[2]], 'eos-gpp-r':[mean_corr[3]],\n",
    "                                                       'eos-tmean-r':[mean_corr[4]],'eos-pre-r':[mean_corr[5]],'eos-solr-r':[mean_corr[6]],\n",
    "                                                               'eos-sm-r':[mean_corr[7]],\n",
    "                                                               }), ignore_index=True)\n",
    "mean_partial_corr.to_csv('/data/shuping/data/china_phenology/results/herb_mean_partial_corr.csv', encoding='utf_8_sig')"
   ],
   "metadata": {
    "collapsed": false,
    "pycharm": {
     "name": "#%%\n"
    }
   }
  },
  {
   "cell_type": "code",
   "execution_count": 13,
   "outputs": [
    {
     "data": {
      "text/plain": "   species  eos-sos-r  eos-gpp-r  eos-tmean-r  eos-pre-r  eos-solr-r  eos-sm-r\n0       36   0.157678   0.216219     0.042123  -0.094576   -0.153872  0.028640\n1        7   0.063276   0.267781     0.050006  -0.046741   -0.049550 -0.013590\n2       24   0.528780   0.585650    -0.377470  -0.510180   -0.003280  0.218120\n3       35   0.259705   0.067605    -0.039095  -0.081570   -0.039210  0.007690\n4        5   0.466385   0.243125     0.109845   0.212900   -0.236295  0.180435\n5       33  -0.077403   0.089195    -0.108962  -0.087247   -0.187043  0.124148\n6       25   0.479550   0.209440     0.607440  -0.534605   -0.234725  0.455870\n7       32   0.163407   0.181608     0.042193   0.139838   -0.032582 -0.089925\n8       37   0.032665   0.258940     0.344330  -0.140010   -0.222295 -0.076245\n9       28   0.215629   0.339724     0.036550   0.153313   -0.119793 -0.107558\n10       9  -0.126170  -0.017660     0.060050  -0.586910   -0.388200  0.256480\n11       6   0.076052   0.208244     0.018481   0.108496    0.048064 -0.106870\n12       3   0.066210   0.031680     0.388450   0.056250   -0.199050 -0.156350\n13      16   0.749130   0.163470    -0.155260  -0.463700   -0.448160  0.713520\n14      20   0.037730   0.829310    -0.262340   0.395540    0.201390 -0.088990\n15      29   0.248195   0.533110     0.109998   0.186603   -0.182165 -0.012002\n16      45   0.235245  -0.113850    -0.000875   0.504260    0.249890 -0.063865",
      "text/html": "<div>\n<style scoped>\n    .dataframe tbody tr th:only-of-type {\n        vertical-align: middle;\n    }\n\n    .dataframe tbody tr th {\n        vertical-align: top;\n    }\n\n    .dataframe thead th {\n        text-align: right;\n    }\n</style>\n<table border=\"1\" class=\"dataframe\">\n  <thead>\n    <tr style=\"text-align: right;\">\n      <th></th>\n      <th>species</th>\n      <th>eos-sos-r</th>\n      <th>eos-gpp-r</th>\n      <th>eos-tmean-r</th>\n      <th>eos-pre-r</th>\n      <th>eos-solr-r</th>\n      <th>eos-sm-r</th>\n    </tr>\n  </thead>\n  <tbody>\n    <tr>\n      <th>0</th>\n      <td>36</td>\n      <td>0.157678</td>\n      <td>0.216219</td>\n      <td>0.042123</td>\n      <td>-0.094576</td>\n      <td>-0.153872</td>\n      <td>0.028640</td>\n    </tr>\n    <tr>\n      <th>1</th>\n      <td>7</td>\n      <td>0.063276</td>\n      <td>0.267781</td>\n      <td>0.050006</td>\n      <td>-0.046741</td>\n      <td>-0.049550</td>\n      <td>-0.013590</td>\n    </tr>\n    <tr>\n      <th>2</th>\n      <td>24</td>\n      <td>0.528780</td>\n      <td>0.585650</td>\n      <td>-0.377470</td>\n      <td>-0.510180</td>\n      <td>-0.003280</td>\n      <td>0.218120</td>\n    </tr>\n    <tr>\n      <th>3</th>\n      <td>35</td>\n      <td>0.259705</td>\n      <td>0.067605</td>\n      <td>-0.039095</td>\n      <td>-0.081570</td>\n      <td>-0.039210</td>\n      <td>0.007690</td>\n    </tr>\n    <tr>\n      <th>4</th>\n      <td>5</td>\n      <td>0.466385</td>\n      <td>0.243125</td>\n      <td>0.109845</td>\n      <td>0.212900</td>\n      <td>-0.236295</td>\n      <td>0.180435</td>\n    </tr>\n    <tr>\n      <th>5</th>\n      <td>33</td>\n      <td>-0.077403</td>\n      <td>0.089195</td>\n      <td>-0.108962</td>\n      <td>-0.087247</td>\n      <td>-0.187043</td>\n      <td>0.124148</td>\n    </tr>\n    <tr>\n      <th>6</th>\n      <td>25</td>\n      <td>0.479550</td>\n      <td>0.209440</td>\n      <td>0.607440</td>\n      <td>-0.534605</td>\n      <td>-0.234725</td>\n      <td>0.455870</td>\n    </tr>\n    <tr>\n      <th>7</th>\n      <td>32</td>\n      <td>0.163407</td>\n      <td>0.181608</td>\n      <td>0.042193</td>\n      <td>0.139838</td>\n      <td>-0.032582</td>\n      <td>-0.089925</td>\n    </tr>\n    <tr>\n      <th>8</th>\n      <td>37</td>\n      <td>0.032665</td>\n      <td>0.258940</td>\n      <td>0.344330</td>\n      <td>-0.140010</td>\n      <td>-0.222295</td>\n      <td>-0.076245</td>\n    </tr>\n    <tr>\n      <th>9</th>\n      <td>28</td>\n      <td>0.215629</td>\n      <td>0.339724</td>\n      <td>0.036550</td>\n      <td>0.153313</td>\n      <td>-0.119793</td>\n      <td>-0.107558</td>\n    </tr>\n    <tr>\n      <th>10</th>\n      <td>9</td>\n      <td>-0.126170</td>\n      <td>-0.017660</td>\n      <td>0.060050</td>\n      <td>-0.586910</td>\n      <td>-0.388200</td>\n      <td>0.256480</td>\n    </tr>\n    <tr>\n      <th>11</th>\n      <td>6</td>\n      <td>0.076052</td>\n      <td>0.208244</td>\n      <td>0.018481</td>\n      <td>0.108496</td>\n      <td>0.048064</td>\n      <td>-0.106870</td>\n    </tr>\n    <tr>\n      <th>12</th>\n      <td>3</td>\n      <td>0.066210</td>\n      <td>0.031680</td>\n      <td>0.388450</td>\n      <td>0.056250</td>\n      <td>-0.199050</td>\n      <td>-0.156350</td>\n    </tr>\n    <tr>\n      <th>13</th>\n      <td>16</td>\n      <td>0.749130</td>\n      <td>0.163470</td>\n      <td>-0.155260</td>\n      <td>-0.463700</td>\n      <td>-0.448160</td>\n      <td>0.713520</td>\n    </tr>\n    <tr>\n      <th>14</th>\n      <td>20</td>\n      <td>0.037730</td>\n      <td>0.829310</td>\n      <td>-0.262340</td>\n      <td>0.395540</td>\n      <td>0.201390</td>\n      <td>-0.088990</td>\n    </tr>\n    <tr>\n      <th>15</th>\n      <td>29</td>\n      <td>0.248195</td>\n      <td>0.533110</td>\n      <td>0.109998</td>\n      <td>0.186603</td>\n      <td>-0.182165</td>\n      <td>-0.012002</td>\n    </tr>\n    <tr>\n      <th>16</th>\n      <td>45</td>\n      <td>0.235245</td>\n      <td>-0.113850</td>\n      <td>-0.000875</td>\n      <td>0.504260</td>\n      <td>0.249890</td>\n      <td>-0.063865</td>\n    </tr>\n  </tbody>\n</table>\n</div>"
     },
     "execution_count": 13,
     "metadata": {},
     "output_type": "execute_result"
    }
   ],
   "source": [
    "mean_partial_corr"
   ],
   "metadata": {
    "collapsed": false,
    "pycharm": {
     "name": "#%%\n"
    }
   }
  },
  {
   "cell_type": "code",
   "execution_count": 2,
   "outputs": [
    {
     "data": {
      "text/plain": "      site species  eos-sos-r  eos-gpp-r  eos-tmean-r  eos-pre-r  eos-solr-r  \\\n0    50639      榆树    0.21600    0.17182     -0.08853   -0.12437    -0.15655   \n1    50655     中东杨    0.10658    0.17874      0.42800    0.10857     0.28210   \n2    50756     小叶杨    0.12968   -0.10526      0.05870    0.08984    -0.17384   \n3    50756     紫丁香    0.19219    0.08909      0.20572   -0.04518    -0.14016   \n4    50788     小叶杨    0.12266    0.49894      0.22930    0.29193    -0.23286   \n..     ...     ...        ...        ...          ...        ...         ...   \n227  58339       楝   -0.17741   -0.11935      0.20172    0.44149    -0.08744   \n228  58346      梧桐    0.36301    0.52838      0.10591   -0.37121    -0.41030   \n229  58356      水杉   -0.05896   -0.27116      0.33134   -0.11905     0.36693   \n230  58433      刺槐    0.26940    0.53025      0.35800    0.39226     0.05430   \n231  58433       楝    0.36754    0.56017      0.26383   -0.34603    -0.32204   \n\n     eos-sm-r  \n0    -0.10994  \n1    -0.14348  \n2    -0.32573  \n3     0.07955  \n4     0.26885  \n..        ...  \n227  -0.61509  \n228  -0.39275  \n229  -0.09787  \n230   0.02980  \n231  -0.19844  \n\n[232 rows x 8 columns]",
      "text/html": "<div>\n<style scoped>\n    .dataframe tbody tr th:only-of-type {\n        vertical-align: middle;\n    }\n\n    .dataframe tbody tr th {\n        vertical-align: top;\n    }\n\n    .dataframe thead th {\n        text-align: right;\n    }\n</style>\n<table border=\"1\" class=\"dataframe\">\n  <thead>\n    <tr style=\"text-align: right;\">\n      <th></th>\n      <th>site</th>\n      <th>species</th>\n      <th>eos-sos-r</th>\n      <th>eos-gpp-r</th>\n      <th>eos-tmean-r</th>\n      <th>eos-pre-r</th>\n      <th>eos-solr-r</th>\n      <th>eos-sm-r</th>\n    </tr>\n  </thead>\n  <tbody>\n    <tr>\n      <th>0</th>\n      <td>50639</td>\n      <td>榆树</td>\n      <td>0.21600</td>\n      <td>0.17182</td>\n      <td>-0.08853</td>\n      <td>-0.12437</td>\n      <td>-0.15655</td>\n      <td>-0.10994</td>\n    </tr>\n    <tr>\n      <th>1</th>\n      <td>50655</td>\n      <td>中东杨</td>\n      <td>0.10658</td>\n      <td>0.17874</td>\n      <td>0.42800</td>\n      <td>0.10857</td>\n      <td>0.28210</td>\n      <td>-0.14348</td>\n    </tr>\n    <tr>\n      <th>2</th>\n      <td>50756</td>\n      <td>小叶杨</td>\n      <td>0.12968</td>\n      <td>-0.10526</td>\n      <td>0.05870</td>\n      <td>0.08984</td>\n      <td>-0.17384</td>\n      <td>-0.32573</td>\n    </tr>\n    <tr>\n      <th>3</th>\n      <td>50756</td>\n      <td>紫丁香</td>\n      <td>0.19219</td>\n      <td>0.08909</td>\n      <td>0.20572</td>\n      <td>-0.04518</td>\n      <td>-0.14016</td>\n      <td>0.07955</td>\n    </tr>\n    <tr>\n      <th>4</th>\n      <td>50788</td>\n      <td>小叶杨</td>\n      <td>0.12266</td>\n      <td>0.49894</td>\n      <td>0.22930</td>\n      <td>0.29193</td>\n      <td>-0.23286</td>\n      <td>0.26885</td>\n    </tr>\n    <tr>\n      <th>...</th>\n      <td>...</td>\n      <td>...</td>\n      <td>...</td>\n      <td>...</td>\n      <td>...</td>\n      <td>...</td>\n      <td>...</td>\n      <td>...</td>\n    </tr>\n    <tr>\n      <th>227</th>\n      <td>58339</td>\n      <td>楝</td>\n      <td>-0.17741</td>\n      <td>-0.11935</td>\n      <td>0.20172</td>\n      <td>0.44149</td>\n      <td>-0.08744</td>\n      <td>-0.61509</td>\n    </tr>\n    <tr>\n      <th>228</th>\n      <td>58346</td>\n      <td>梧桐</td>\n      <td>0.36301</td>\n      <td>0.52838</td>\n      <td>0.10591</td>\n      <td>-0.37121</td>\n      <td>-0.41030</td>\n      <td>-0.39275</td>\n    </tr>\n    <tr>\n      <th>229</th>\n      <td>58356</td>\n      <td>水杉</td>\n      <td>-0.05896</td>\n      <td>-0.27116</td>\n      <td>0.33134</td>\n      <td>-0.11905</td>\n      <td>0.36693</td>\n      <td>-0.09787</td>\n    </tr>\n    <tr>\n      <th>230</th>\n      <td>58433</td>\n      <td>刺槐</td>\n      <td>0.26940</td>\n      <td>0.53025</td>\n      <td>0.35800</td>\n      <td>0.39226</td>\n      <td>0.05430</td>\n      <td>0.02980</td>\n    </tr>\n    <tr>\n      <th>231</th>\n      <td>58433</td>\n      <td>楝</td>\n      <td>0.36754</td>\n      <td>0.56017</td>\n      <td>0.26383</td>\n      <td>-0.34603</td>\n      <td>-0.32204</td>\n      <td>-0.19844</td>\n    </tr>\n  </tbody>\n</table>\n<p>232 rows × 8 columns</p>\n</div>"
     },
     "execution_count": 2,
     "metadata": {},
     "output_type": "execute_result"
    }
   ],
   "source": [
    "# woody rename\n",
    "csv_path = '/data/shuping/data/china_phenology/results/partial_corr_results_with_gpp/woody_partial_corr_with_gpp_heatmap_rename.csv'\n",
    "df = pd.read_csv(csv_path)\n",
    "df = df.drop(['Unnamed: 0'], axis=1)\n",
    "df = df.drop(['eos-sos-p_val', 'eos-gpp-p_val', 'eos-tmean-p_val', 'eos-pre-p_val',\n",
    "              'eos-solr-p_val', 'eos-sm-p_val'], axis = 1)\n",
    "df"
   ],
   "metadata": {
    "collapsed": false,
    "pycharm": {
     "name": "#%%\n"
    }
   }
  },
  {
   "cell_type": "code",
   "execution_count": 5,
   "outputs": [
    {
     "name": "stdout",
     "output_type": "stream",
     "text": [
      "['榆树' '中东杨' '小叶杨' '紫丁香' '旱柳' '加拿大杨' '垂柳' '青甘杨' '黑杨' '银白杨' '桑树' '白花泡桐' '胡桃'\n",
      " '枣树' '大叶杨' '刺槐' '毛白杨' '合欢' '玉兰' '白蜡' '槐' '紫穗槐' '皂荚' '紫薇' '楝' '梧桐' '高山柳'\n",
      " '水杉' '三球悬铃木' '银杏']\n"
     ]
    }
   ],
   "source": [
    "all_species = df['species'].unique()\n",
    "print(all_species)"
   ],
   "metadata": {
    "collapsed": false,
    "pycharm": {
     "name": "#%%\n"
    }
   }
  },
  {
   "cell_type": "code",
   "execution_count": 6,
   "outputs": [
    {
     "name": "stderr",
     "output_type": "stream",
     "text": [
      "/home/sdu-w-001/anaconda3/envs/jsp_gdal/lib/python3.7/site-packages/ipykernel_launcher.py:4: FutureWarning: Dropping of nuisance columns in DataFrame reductions (with 'numeric_only=None') is deprecated; in a future version this will raise TypeError.  Select only valid columns before calling the reduction.\n",
      "  after removing the cwd from sys.path.\n"
     ]
    }
   ],
   "source": [
    "mean_partial_corr = pd.DataFrame(columns=['species', 'eos-sos-r', 'eos-gpp-r', 'eos-tmean-r', 'eos-pre-r', 'eos-solr-r', 'eos-sm-r'])\n",
    "for i in range(len(all_species)):\n",
    "    single_species = df[df.species == all_species[i]]\n",
    "    mean_corr = single_species.mean()\n",
    "    mean_partial_corr = mean_partial_corr.append(pd.DataFrame({'species':[str(all_species[i])], 'eos-sos-r':[mean_corr[1]], 'eos-gpp-r':[mean_corr[2]],\n",
    "                                                       'eos-tmean-r':[mean_corr[3]],'eos-pre-r':[mean_corr[4]],'eos-solr-r':[mean_corr[5]],\n",
    "                                                               'eos-sm-r':[mean_corr[6]],\n",
    "                                                               }), ignore_index=True)\n",
    "mean_partial_corr.to_csv('/data/shuping/data/china_phenology/results/woody_mean_partial_corr_heatmap_rename.csv', encoding='utf_8_sig')"
   ],
   "metadata": {
    "collapsed": false,
    "pycharm": {
     "name": "#%%\n"
    }
   }
  },
  {
   "cell_type": "code",
   "execution_count": 7,
   "outputs": [
    {
     "data": {
      "text/plain": "   species  eos-sos-r  eos-gpp-r  eos-tmean-r  eos-pre-r  eos-solr-r  eos-sm-r\n0       榆树   0.119059   0.249465     0.191325   0.056005   -0.142789 -0.051474\n1      中东杨   0.106580   0.178740     0.428000   0.108570    0.282100 -0.143480\n2      小叶杨   0.160996   0.248776     0.124019  -0.040936   -0.014050 -0.059089\n3      紫丁香   0.175636   0.132984     0.009411   0.257135   -0.058806  0.144749\n4       旱柳   0.047468   0.115320     0.154789  -0.026805   -0.202064 -0.066804\n5     加拿大杨  -0.059357   0.165036     0.234816  -0.061783   -0.134947 -0.057016\n6       垂柳   0.119484   0.190501     0.212131  -0.061107   -0.175030  0.017638\n7      青甘杨   0.415540   0.193540     0.305130  -0.331350    0.447450 -0.061270\n8       黑杨   0.104280   0.102513     0.112305  -0.042913   -0.054808 -0.066345\n9      银白杨   0.149645   0.154780    -0.053803   0.062293   -0.073782  0.013425\n10      桑树   0.487665   0.309770     0.468485   0.052345   -0.262210  0.019310\n11    白花泡桐   0.136149   0.250394     0.294641   0.038621   -0.215220 -0.114609\n12      胡桃   0.440635   0.060345     0.021730   0.044845    0.052220  0.079725\n13      枣树   0.115188   0.278105     0.056726  -0.058307   -0.191567 -0.218958\n14     大叶杨   0.343310   0.495710     0.120240   0.331790    0.019770  0.254940\n15      刺槐   0.220297   0.262692     0.048863  -0.061347   -0.026528 -0.038217\n16     毛白杨   0.138447   0.295542     0.042574  -0.048130   -0.167152 -0.163419\n17      合欢   0.110506   0.062728     0.177696   0.004412   -0.124941  0.026043\n18      玉兰  -0.365045  -0.261040    -0.209120   0.352060    0.158110  0.087710\n19      白蜡   0.276070   0.249710    -0.160610  -0.518620    0.477500 -0.278640\n20       槐   0.087022   0.271888     0.043856  -0.021684   -0.220318 -0.297478\n21     紫穗槐   0.376530   0.455590    -0.012065   0.327880    0.083165 -0.249280\n22      皂荚   0.072650   0.204900     0.209780  -0.330040    0.083740 -0.209650\n23      紫薇   0.180217   0.555313     0.116903  -0.196340   -0.013687 -0.331003\n24       楝   0.110588   0.059975     0.271752  -0.004111   -0.041858 -0.157250\n25      梧桐   0.403370   0.546610    -0.092045   0.003395   -0.001710 -0.468795\n26     高山柳   0.562230   0.635990    -0.006010   0.164700    0.291870  0.056040\n27      水杉  -0.003480   0.137490     0.236970  -0.423905   -0.039005  0.259135\n28   三球悬铃木   0.209980   0.315690     0.242430  -0.108540   -0.448800  0.058930\n29      银杏  -0.541480  -0.235070     0.483010  -0.141890   -0.072520 -0.551520",
      "text/html": "<div>\n<style scoped>\n    .dataframe tbody tr th:only-of-type {\n        vertical-align: middle;\n    }\n\n    .dataframe tbody tr th {\n        vertical-align: top;\n    }\n\n    .dataframe thead th {\n        text-align: right;\n    }\n</style>\n<table border=\"1\" class=\"dataframe\">\n  <thead>\n    <tr style=\"text-align: right;\">\n      <th></th>\n      <th>species</th>\n      <th>eos-sos-r</th>\n      <th>eos-gpp-r</th>\n      <th>eos-tmean-r</th>\n      <th>eos-pre-r</th>\n      <th>eos-solr-r</th>\n      <th>eos-sm-r</th>\n    </tr>\n  </thead>\n  <tbody>\n    <tr>\n      <th>0</th>\n      <td>榆树</td>\n      <td>0.119059</td>\n      <td>0.249465</td>\n      <td>0.191325</td>\n      <td>0.056005</td>\n      <td>-0.142789</td>\n      <td>-0.051474</td>\n    </tr>\n    <tr>\n      <th>1</th>\n      <td>中东杨</td>\n      <td>0.106580</td>\n      <td>0.178740</td>\n      <td>0.428000</td>\n      <td>0.108570</td>\n      <td>0.282100</td>\n      <td>-0.143480</td>\n    </tr>\n    <tr>\n      <th>2</th>\n      <td>小叶杨</td>\n      <td>0.160996</td>\n      <td>0.248776</td>\n      <td>0.124019</td>\n      <td>-0.040936</td>\n      <td>-0.014050</td>\n      <td>-0.059089</td>\n    </tr>\n    <tr>\n      <th>3</th>\n      <td>紫丁香</td>\n      <td>0.175636</td>\n      <td>0.132984</td>\n      <td>0.009411</td>\n      <td>0.257135</td>\n      <td>-0.058806</td>\n      <td>0.144749</td>\n    </tr>\n    <tr>\n      <th>4</th>\n      <td>旱柳</td>\n      <td>0.047468</td>\n      <td>0.115320</td>\n      <td>0.154789</td>\n      <td>-0.026805</td>\n      <td>-0.202064</td>\n      <td>-0.066804</td>\n    </tr>\n    <tr>\n      <th>5</th>\n      <td>加拿大杨</td>\n      <td>-0.059357</td>\n      <td>0.165036</td>\n      <td>0.234816</td>\n      <td>-0.061783</td>\n      <td>-0.134947</td>\n      <td>-0.057016</td>\n    </tr>\n    <tr>\n      <th>6</th>\n      <td>垂柳</td>\n      <td>0.119484</td>\n      <td>0.190501</td>\n      <td>0.212131</td>\n      <td>-0.061107</td>\n      <td>-0.175030</td>\n      <td>0.017638</td>\n    </tr>\n    <tr>\n      <th>7</th>\n      <td>青甘杨</td>\n      <td>0.415540</td>\n      <td>0.193540</td>\n      <td>0.305130</td>\n      <td>-0.331350</td>\n      <td>0.447450</td>\n      <td>-0.061270</td>\n    </tr>\n    <tr>\n      <th>8</th>\n      <td>黑杨</td>\n      <td>0.104280</td>\n      <td>0.102513</td>\n      <td>0.112305</td>\n      <td>-0.042913</td>\n      <td>-0.054808</td>\n      <td>-0.066345</td>\n    </tr>\n    <tr>\n      <th>9</th>\n      <td>银白杨</td>\n      <td>0.149645</td>\n      <td>0.154780</td>\n      <td>-0.053803</td>\n      <td>0.062293</td>\n      <td>-0.073782</td>\n      <td>0.013425</td>\n    </tr>\n    <tr>\n      <th>10</th>\n      <td>桑树</td>\n      <td>0.487665</td>\n      <td>0.309770</td>\n      <td>0.468485</td>\n      <td>0.052345</td>\n      <td>-0.262210</td>\n      <td>0.019310</td>\n    </tr>\n    <tr>\n      <th>11</th>\n      <td>白花泡桐</td>\n      <td>0.136149</td>\n      <td>0.250394</td>\n      <td>0.294641</td>\n      <td>0.038621</td>\n      <td>-0.215220</td>\n      <td>-0.114609</td>\n    </tr>\n    <tr>\n      <th>12</th>\n      <td>胡桃</td>\n      <td>0.440635</td>\n      <td>0.060345</td>\n      <td>0.021730</td>\n      <td>0.044845</td>\n      <td>0.052220</td>\n      <td>0.079725</td>\n    </tr>\n    <tr>\n      <th>13</th>\n      <td>枣树</td>\n      <td>0.115188</td>\n      <td>0.278105</td>\n      <td>0.056726</td>\n      <td>-0.058307</td>\n      <td>-0.191567</td>\n      <td>-0.218958</td>\n    </tr>\n    <tr>\n      <th>14</th>\n      <td>大叶杨</td>\n      <td>0.343310</td>\n      <td>0.495710</td>\n      <td>0.120240</td>\n      <td>0.331790</td>\n      <td>0.019770</td>\n      <td>0.254940</td>\n    </tr>\n    <tr>\n      <th>15</th>\n      <td>刺槐</td>\n      <td>0.220297</td>\n      <td>0.262692</td>\n      <td>0.048863</td>\n      <td>-0.061347</td>\n      <td>-0.026528</td>\n      <td>-0.038217</td>\n    </tr>\n    <tr>\n      <th>16</th>\n      <td>毛白杨</td>\n      <td>0.138447</td>\n      <td>0.295542</td>\n      <td>0.042574</td>\n      <td>-0.048130</td>\n      <td>-0.167152</td>\n      <td>-0.163419</td>\n    </tr>\n    <tr>\n      <th>17</th>\n      <td>合欢</td>\n      <td>0.110506</td>\n      <td>0.062728</td>\n      <td>0.177696</td>\n      <td>0.004412</td>\n      <td>-0.124941</td>\n      <td>0.026043</td>\n    </tr>\n    <tr>\n      <th>18</th>\n      <td>玉兰</td>\n      <td>-0.365045</td>\n      <td>-0.261040</td>\n      <td>-0.209120</td>\n      <td>0.352060</td>\n      <td>0.158110</td>\n      <td>0.087710</td>\n    </tr>\n    <tr>\n      <th>19</th>\n      <td>白蜡</td>\n      <td>0.276070</td>\n      <td>0.249710</td>\n      <td>-0.160610</td>\n      <td>-0.518620</td>\n      <td>0.477500</td>\n      <td>-0.278640</td>\n    </tr>\n    <tr>\n      <th>20</th>\n      <td>槐</td>\n      <td>0.087022</td>\n      <td>0.271888</td>\n      <td>0.043856</td>\n      <td>-0.021684</td>\n      <td>-0.220318</td>\n      <td>-0.297478</td>\n    </tr>\n    <tr>\n      <th>21</th>\n      <td>紫穗槐</td>\n      <td>0.376530</td>\n      <td>0.455590</td>\n      <td>-0.012065</td>\n      <td>0.327880</td>\n      <td>0.083165</td>\n      <td>-0.249280</td>\n    </tr>\n    <tr>\n      <th>22</th>\n      <td>皂荚</td>\n      <td>0.072650</td>\n      <td>0.204900</td>\n      <td>0.209780</td>\n      <td>-0.330040</td>\n      <td>0.083740</td>\n      <td>-0.209650</td>\n    </tr>\n    <tr>\n      <th>23</th>\n      <td>紫薇</td>\n      <td>0.180217</td>\n      <td>0.555313</td>\n      <td>0.116903</td>\n      <td>-0.196340</td>\n      <td>-0.013687</td>\n      <td>-0.331003</td>\n    </tr>\n    <tr>\n      <th>24</th>\n      <td>楝</td>\n      <td>0.110588</td>\n      <td>0.059975</td>\n      <td>0.271752</td>\n      <td>-0.004111</td>\n      <td>-0.041858</td>\n      <td>-0.157250</td>\n    </tr>\n    <tr>\n      <th>25</th>\n      <td>梧桐</td>\n      <td>0.403370</td>\n      <td>0.546610</td>\n      <td>-0.092045</td>\n      <td>0.003395</td>\n      <td>-0.001710</td>\n      <td>-0.468795</td>\n    </tr>\n    <tr>\n      <th>26</th>\n      <td>高山柳</td>\n      <td>0.562230</td>\n      <td>0.635990</td>\n      <td>-0.006010</td>\n      <td>0.164700</td>\n      <td>0.291870</td>\n      <td>0.056040</td>\n    </tr>\n    <tr>\n      <th>27</th>\n      <td>水杉</td>\n      <td>-0.003480</td>\n      <td>0.137490</td>\n      <td>0.236970</td>\n      <td>-0.423905</td>\n      <td>-0.039005</td>\n      <td>0.259135</td>\n    </tr>\n    <tr>\n      <th>28</th>\n      <td>三球悬铃木</td>\n      <td>0.209980</td>\n      <td>0.315690</td>\n      <td>0.242430</td>\n      <td>-0.108540</td>\n      <td>-0.448800</td>\n      <td>0.058930</td>\n    </tr>\n    <tr>\n      <th>29</th>\n      <td>银杏</td>\n      <td>-0.541480</td>\n      <td>-0.235070</td>\n      <td>0.483010</td>\n      <td>-0.141890</td>\n      <td>-0.072520</td>\n      <td>-0.551520</td>\n    </tr>\n  </tbody>\n</table>\n</div>"
     },
     "execution_count": 7,
     "metadata": {},
     "output_type": "execute_result"
    }
   ],
   "source": [
    "mean_partial_corr"
   ],
   "metadata": {
    "collapsed": false,
    "pycharm": {
     "name": "#%%\n"
    }
   }
  },
  {
   "cell_type": "markdown",
   "source": [],
   "metadata": {
    "collapsed": false
   }
  }
 ],
 "metadata": {
  "kernelspec": {
   "name": "conda-env-jsp-py",
   "language": "python",
   "display_name": "Python [conda env:jsp] *"
  },
  "language_info": {
   "codemirror_mode": {
    "name": "ipython",
    "version": 2
   },
   "file_extension": ".py",
   "mimetype": "text/x-python",
   "name": "python",
   "nbconvert_exporter": "python",
   "pygments_lexer": "ipython2",
   "version": "2.7.6"
  }
 },
 "nbformat": 4,
 "nbformat_minor": 0
}