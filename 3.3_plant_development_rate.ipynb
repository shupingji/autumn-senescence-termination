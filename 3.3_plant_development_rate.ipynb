{
 "cells": [
  {
   "cell_type": "markdown",
   "id": "e9f069cd",
   "metadata": {},
   "source": [
    "# 3.3 plant development rate"
   ]
  },
  {
   "cell_type": "code",
   "execution_count": null,
   "id": "2be43a36",
   "metadata": {},
   "outputs": [],
   "source": [
    "# sensitivity"
   ]
  },
  {
   "cell_type": "code",
   "execution_count": null,
   "id": "07611724",
   "metadata": {},
   "outputs": [],
   "source": [
    "import pandas as pd\n",
    "import statsmodels.api as sm\n",
    "import os"
   ]
  },
  {
   "cell_type": "code",
   "execution_count": null,
   "id": "9e060b95",
   "metadata": {},
   "outputs": [],
   "source": [
    "pep_dir = '/data/shuping/data/pep/'\n",
    "out_dir = '/data/shuping/data/sensitivity/pep'\n",
    "files = sorted(os.listdir(pep_dir))\n",
    "for i in range(len(files)):\n",
    "    species_dir = os.path.join(pep_dir, files[i])\n",
    "    sensitivity = pd.DataFrame(columns=['PEP_ID', 'year', \n",
    "                                        'eos-GDDpre-r', 'eos-GDDpre-p_val',\n",
    "                                        'eos-GDDpost-r', 'eos-GDDpost-p_val',\n",
    "                                        ])\n",
    "    species_files = sorted(os.listdir(species_dir))\n",
    "    for k in range(len(species_files)):\n",
    "        csv_path = os.path.join(species_dir, species_files[k])\n",
    "        df = pd.read_csv(csv_path)\n",
    "        df = df.dropna()\n",
    "        df = df.drop(['Unnamed: 0'], axis=1)\n",
    "        if df.shape[0]>15:\n",
    "            start_year = df.iloc[0, 1]\n",
    "            end_year = df.iloc[df.shape[0]-1, 1]\n",
    "            if start_year + 14 <= end_year:\n",
    "                for j in range(start_year, end_year-13):\n",
    "                    data = df[(df['year'] < j +15) & (df['year'] >= j)]\n",
    "                    X = data[['sos','pre_sum_tem', 'post_sum_tem', 'pre', 'solr', 'sm', 'gpp']]\n",
    "                    X = sm.add_constant(X)\n",
    "                    Y = data['eos']\n",
    "                    model = sm.OLS(Y, X).fit()\n",
    "                    sensitivity = sensitivity.append(pd.DataFrame({'PEP_ID':[df.PEP_ID[0]], 'year':[j+7],\n",
    "                                                                   'eos-GDDpre-r':[model.params[2]],'eos-GDDpre-p_val': [model.pvalues[2]],\n",
    "                                                                   'eos-GDDpost-r':[model.params[3]],'eos-GDDpost-p_val': [model.pvalues[3]],\n",
    "\n",
    "                                                                   }), ignore_index=True)\n",
    "    sensitivity.to_csv(os.path.join(out_dir, files[i] +'.csv'))"
   ]
  },
  {
   "cell_type": "code",
   "execution_count": null,
   "id": "be0db3ee",
   "metadata": {},
   "outputs": [],
   "source": []
  }
 ],
 "metadata": {
  "language_info": {
   "name": "python"
  }
 },
 "nbformat": 4,
 "nbformat_minor": 5
}
