{
 "cells": [
  {
   "cell_type": "markdown",
   "id": "a85b5c04",
   "metadata": {},
   "source": [
    "# partial correlation analysis "
   ]
  },
  {
   "cell_type": "code",
   "execution_count": null,
   "id": "be9f1df6",
   "metadata": {},
   "outputs": [],
   "source": [
    "import pingouin as pg\n",
    "import pandas as pd"
   ]
  },
  {
   "cell_type": "code",
   "execution_count": null,
   "id": "9a2fee51",
   "metadata": {},
   "outputs": [],
   "source": [
    "# Here, we use PEP data as an example and provide key sample code."
   ]
  },
  {
   "cell_type": "code",
   "execution_count": null,
   "id": "984fa80c",
   "metadata": {},
   "outputs": [],
   "source": [
    "def par_corr(file_path, out_path):\n",
    "    partial_corr = pd.DataFrame(columns=['PEP_ID', 'eos-sos-r', 'eos-sos-p_val', 'eos-gpp-r', 'eos-gpp-p_val',\n",
    "                                            'eos-tmax-r', 'eos-tmax-p_val', 'eos-tmin-r', 'eos-tmin-p_val', 'eos-pre-r',\n",
    "                                           'eos-pre-p_val', 'eos-solr-r', 'eos-solr-p_val', 'eos-sm-r', 'eos-sm-p_val'])\n",
    "    files = sorted(os.listdir(file_path))\n",
    "    for k in range(len(files)):\n",
    "        csv_path = file_path + files[k]\n",
    "        df = pd.read_csv(csv_path)\n",
    "        df = df.dropna()\n",
    "        df = df.drop(['Unnamed: 0'], axis=1)\n",
    "        if df.shape[0]>15:\n",
    "            eos_sos = pg.partial_corr(data= df, x='sos', y= 'eos', covar=['gpp_whole', 'pre','solr', 'sm', 'tmin', 'tmax'], method='spearman').round(5)\n",
    "            eos_sos.columns  = ['n', 'r', 'CI95%','p']\n",
    "            eos_gpp = pg.partial_corr(data= df, x='gpp_whole', y= 'eos', covar=['sos', 'tmin', 'pre','solr', 'sm', 'tmax'], method='spearman').round(5)\n",
    "            eos_gpp.columns  = ['n', 'r', 'CI95%','p']\n",
    "            eos_tmax = pg.partial_corr(data= df, x='tmax', y= 'eos', covar=['sos', 'tmin', 'pre','solr', 'sm', 'gpp_whole'], method='spearman').round(5)\n",
    "            eos_tmax.columns  = ['n', 'r', 'CI95%','p']\n",
    "            eos_tmin = pg.partial_corr(data= df, x='tmin', y= 'eos', covar=['sos', 'tmax', 'pre','solr', 'sm', 'gpp_whole'], method='spearman').round(5)\n",
    "            eos_tmin.columns  = ['n', 'r', 'CI95%','p']            \n",
    "            eos_pre = pg.partial_corr(data= df, x='pre', y= 'eos', covar=['sos', 'tmax', 'tmin', 'solr', 'sm', 'gpp_whole'], method='spearman').round(5)\n",
    "            eos_pre.columns  = ['n', 'r', 'CI95%','p']\n",
    "            eos_solr = pg.partial_corr(data= df, x='solr', y= 'eos', covar=['sos', 'tmax', 'tmin', 'pre', 'sm', 'gpp_whole'], method='spearman').round(5)\n",
    "            eos_solr.columns  = ['n', 'r', 'CI95%','p']\n",
    "            eos_sm = pg.partial_corr(data= df, x='sm', y= 'eos', covar=['sos', 'tmax', 'tmin', 'pre', 'solr', 'gpp_whole'], method='spearman').round(5)\n",
    "            eos_sm.columns  = ['n', 'r', 'CI95%','p']\n",
    "            partial_corr = partial_corr.append(pd.DataFrame({'PEP_ID':[df.PEP_ID[0]],\n",
    "                                                             'eos-sos-r':[eos_sos.r[0]], 'eos-sos-p_val': [eos_sos.p[0]],\n",
    "                                                             'eos-gpp-r': [eos_gpp.r[0]], 'eos-gpp-p_val': [eos_gpp.p[0]],\n",
    "                                                             'eos-tmax-r': [eos_tmax.r[0]], 'eos-tmax-p_val': [eos_tmax.p[0]], \n",
    "                                                             'eos-tmin-r': [eos_tmin.r[0]], 'eos-tmin-p_val': [eos_tmin.p[0]],\n",
    "                                                             'eos-pre-r': [eos_pre.r[0]], 'eos-pre-p_val': [eos_pre.p[0]],\n",
    "                                                             'eos-solr-r': [eos_solr.r[0]], 'eos-solr-p_val': [eos_solr.p[0]],\n",
    "                                                             'eos-sm-r': [eos_sm.r[0]], 'eos-sm-p_val': [eos_sm.p[0]]\n",
    "                                                            }), ignore_index=True)\n",
    "    partial_corr.to_csv(out_path)"
   ]
  }
 ],
 "metadata": {
  "language_info": {
   "name": "python"
  }
 },
 "nbformat": 4,
 "nbformat_minor": 5
}
