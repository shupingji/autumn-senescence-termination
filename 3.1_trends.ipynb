{
 "cells": [
  {
   "cell_type": "markdown",
   "id": "95c2129c",
   "metadata": {},
   "source": [
    "# 3.1 Trends "
   ]
  },
  {
   "cell_type": "code",
   "execution_count": null,
   "id": "dd052dd7",
   "metadata": {},
   "outputs": [],
   "source": [
    "# Here, we use the calculation of temperature trends as an example and provide key sample code."
   ]
  },
  {
   "cell_type": "code",
   "execution_count": null,
   "id": "87853bec",
   "metadata": {},
   "outputs": [],
   "source": [
    "import numpy as np\n",
    "from osgeo import gdal\n",
    "import os\n",
    "import pandas as pd\n",
    "import pymannkendall as mk"
   ]
  },
  {
   "cell_type": "code",
   "execution_count": null,
   "id": "d11cb84f",
   "metadata": {},
   "outputs": [],
   "source": [
    "def writeTif(tif_data, tif_geotrans, tif_proj, save_path):\n",
    "    driver = gdal.GetDriverByName(\"GTiff\")\n",
    "    cols = tif_data.shape[1]  # 矩阵列数\n",
    "    rows = tif_data.shape[0]  # 矩阵行数\n",
    "    dataset = driver.Create(save_path, cols, rows, 1, gdal.GDT_Float32)\n",
    "    dataset.SetGeoTransform(tif_geotrans)\n",
    "\n",
    "    dataset.SetProjection(tif_proj)\n",
    "    dataset.GetRasterBand(1).WriteArray(tif_data)\n",
    "    del dataset"
   ]
  },
  {
   "cell_type": "code",
   "execution_count": null,
   "id": "cd7577c2",
   "metadata": {},
   "outputs": [],
   "source": [
    "def readTif(fileName):\n",
    "    dataset = gdal.Open(fileName)\n",
    "    if dataset == None:\n",
    "        print(fileName+\"文件无法打开\")\n",
    "    return dataset"
   ]
  },
  {
   "cell_type": "code",
   "execution_count": null,
   "id": "67784ed5",
   "metadata": {},
   "outputs": [],
   "source": [
    "year_range = np.linspace(1982, 2014, 33, dtype = int)"
   ]
  },
  {
   "cell_type": "code",
   "execution_count": null,
   "id": "7b717a0b",
   "metadata": {},
   "outputs": [],
   "source": [
    "# Tmin变化趋势\n",
    "\n",
    "tem_dir = '/data/shuping/data/climate_data/CRU TS V4.01/tif/tmn/'\n",
    "trend_data = np.full((120,720), np.nan)\n",
    "trend_p_data = np.full((120,720), np.nan)\n",
    "trend_pass_test_data = np.full((120,720), np.nan)\n",
    "for j in range(12):\n",
    "    tmean_month_datasat = np.zeros((33, 120, 720))\n",
    "    for i in range(len(year_range)):\n",
    "        files = sorted(os.listdir(os.path.join(tem_dir, str(year_range[i]))))\n",
    "        tem_data = readTif(os.path.join(tem_dir, str(year_range[i]), files[j]))\n",
    "        tem = tem_data.ReadAsArray()\n",
    "        tmean_month_datasat[i] = tem\n",
    "    for k in range(120):\n",
    "        for g in range(720):\n",
    "            time_series = tmean_month_datasat[:, k, g]\n",
    "            a = np.isnan(time_series).sum()\n",
    "            if a == 0:\n",
    "                trend, h, p, z, Tau, s, var_s, slope, intercept = mk.original_test(time_series)\n",
    "                trend_data[k, g] = slope\n",
    "                trend_p_data[k, g] = p\n",
    "                if trend_p_data[k, g] <= 0.05:\n",
    "                    trend_pass_test_data[k, g] = slope\n",
    "    writeTif(trend_data, tif_geotrans, tif_proj, os.path.join('/data/shuping/data/tmin', str(j+1) + '_tmin.tif'))\n",
    "    writeTif(trend_pass_test_data, tif_geotrans, tif_proj, os.path.join(\n",
    "             '/data/shuping/data/tmin', str(j+1) + '_tmin_pass_test.tif'))\n",
    "    print(j)"
   ]
  }
 ],
 "metadata": {
  "language_info": {
   "name": "python"
  }
 },
 "nbformat": 4,
 "nbformat_minor": 5
}
